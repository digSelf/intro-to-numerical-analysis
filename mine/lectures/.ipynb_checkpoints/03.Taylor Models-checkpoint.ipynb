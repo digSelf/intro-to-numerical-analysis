{
 "cells": [
  {
   "cell_type": "markdown",
   "id": "d7b5c519",
   "metadata": {},
   "source": [
    "# Taylor Models\n",
    "\n",
    "- **Taylor model** $\\equiv$ **Taylor polynomial** + **interval bound** of truncation error *and* rounding error\n",
    "\n",
    "- https://github.com/JuliaIntervals/TaylorModels.jl"
   ]
  },
  {
   "cell_type": "code",
   "execution_count": 1,
   "id": "09b37f1c",
   "metadata": {},
   "outputs": [],
   "source": [
    "using TaylorModels"
   ]
  },
  {
   "cell_type": "code",
   "execution_count": 2,
   "id": "2ab4a11d",
   "metadata": {},
   "outputs": [
    {
     "data": {
      "text/plain": [
       "f (generic function with 1 method)"
      ]
     },
     "execution_count": 2,
     "metadata": {},
     "output_type": "execute_result"
    }
   ],
   "source": [
    "# Define the target function\n",
    "f(x) = x * (x-1.1) * (x+2) * (x+2.2) * (x+2.5) * (x+3) * sin(1.7*x+0.5)"
   ]
  },
  {
   "cell_type": "code",
   "execution_count": 3,
   "id": "b692ee80",
   "metadata": {},
   "outputs": [
    {
     "data": {
      "text/plain": [
       "[-0.5, 1]"
      ]
     },
     "execution_count": 3,
     "metadata": {},
     "output_type": "execute_result"
    }
   ],
   "source": [
    "# give an expansion point and the interval nearing the expansion point.\n",
    "a = -.5 .. 1 "
   ]
  },
  {
   "cell_type": "code",
   "execution_count": 4,
   "id": "1da09a15",
   "metadata": {},
   "outputs": [
    {
     "data": {
      "text/plain": [
       "[-0.5, 1]"
      ]
     },
     "execution_count": 4,
     "metadata": {},
     "output_type": "execute_result"
    }
   ],
   "source": [
    "# or use function interval\n",
    "a = interval(-.5, 1)"
   ]
  },
  {
   "cell_type": "code",
   "execution_count": 5,
   "id": "0e114e1e",
   "metadata": {},
   "outputs": [
    {
     "name": "stdout",
     "output_type": "stream",
     "text": [
      "search: \u001b[0m\u001b[1mi\u001b[22m\u001b[0m\u001b[1mn\u001b[22m\u001b[0m\u001b[1mt\u001b[22m\u001b[0m\u001b[1me\u001b[22m\u001b[0m\u001b[1mr\u001b[22m\u001b[0m\u001b[1mv\u001b[22m\u001b[0m\u001b[1ma\u001b[22m\u001b[0m\u001b[1ml\u001b[22m \u001b[0m\u001b[1mI\u001b[22m\u001b[0m\u001b[1mn\u001b[22m\u001b[0m\u001b[1mt\u001b[22m\u001b[0m\u001b[1me\u001b[22m\u001b[0m\u001b[1mr\u001b[22m\u001b[0m\u001b[1mv\u001b[22m\u001b[0m\u001b[1ma\u001b[22m\u001b[0m\u001b[1ml\u001b[22m \u001b[0m\u001b[1mI\u001b[22m\u001b[0m\u001b[1mn\u001b[22m\u001b[0m\u001b[1mt\u001b[22m\u001b[0m\u001b[1me\u001b[22m\u001b[0m\u001b[1mr\u001b[22m\u001b[0m\u001b[1mv\u001b[22m\u001b[0m\u001b[1ma\u001b[22m\u001b[0m\u001b[1ml\u001b[22mBox \u001b[0m\u001b[1mi\u001b[22m\u001b[0m\u001b[1mn\u001b[22m\u001b[0m\u001b[1mt\u001b[22m\u001b[0m\u001b[1me\u001b[22m\u001b[0m\u001b[1mr\u001b[22m\u001b[0m\u001b[1mv\u001b[22m\u001b[0m\u001b[1ma\u001b[22m\u001b[0m\u001b[1ml\u001b[22m_part \u001b[0m\u001b[1mI\u001b[22m\u001b[0m\u001b[1mn\u001b[22m\u001b[0m\u001b[1mt\u001b[22m\u001b[0m\u001b[1me\u001b[22m\u001b[0m\u001b[1mr\u001b[22m\u001b[0m\u001b[1mv\u001b[22m\u001b[0m\u001b[1ma\u001b[22m\u001b[0m\u001b[1ml\u001b[22mArithmetic\n",
      "\n"
     ]
    },
    {
     "data": {
      "text/latex": [
       "\\begin{verbatim}\n",
       "interval(a, b)\n",
       "\\end{verbatim}\n",
       "\\texttt{interval(a, b)} checks whether [a, b] is a valid \\texttt{Interval}, using the (non-exported) \\texttt{is\\_valid\\_interval} function. If so, then an \\texttt{Interval(a, b)} object is returned; if not, a warning is printed and the empty interval is returned.\n",
       "\n"
      ],
      "text/markdown": [
       "```\n",
       "interval(a, b)\n",
       "```\n",
       "\n",
       "`interval(a, b)` checks whether [a, b] is a valid `Interval`, using the (non-exported) `is_valid_interval` function. If so, then an `Interval(a, b)` object is returned; if not, a warning is printed and the empty interval is returned.\n"
      ],
      "text/plain": [
       "\u001b[36m  interval(a, b)\u001b[39m\n",
       "\n",
       "  \u001b[36minterval(a, b)\u001b[39m checks whether [a, b] is a valid \u001b[36mInterval\u001b[39m, using the\n",
       "  (non-exported) \u001b[36mis_valid_interval\u001b[39m function. If so, then an \u001b[36mInterval(a, b)\u001b[39m\n",
       "  object is returned; if not, a warning is printed and the empty interval is\n",
       "  returned."
      ]
     },
     "execution_count": 5,
     "metadata": {},
     "output_type": "execute_result"
    }
   ],
   "source": [
    "?interval"
   ]
  },
  {
   "cell_type": "code",
   "execution_count": 6,
   "id": "ad15b756",
   "metadata": {},
   "outputs": [
    {
     "data": {
      "text/plain": [
       "0.25"
      ]
     },
     "execution_count": 6,
     "metadata": {},
     "output_type": "execute_result"
    }
   ],
   "source": [
    "# because the target function is a smooth function in the given interval, we can use taylor series to approximate it\n",
    "n = 3  # the degree of the polynomials\n",
    "x0 = mid(a)  # given the expansion point"
   ]
  },
  {
   "cell_type": "code",
   "execution_count": 7,
   "id": "69349181",
   "metadata": {},
   "outputs": [
    {
     "name": "stdout",
     "output_type": "stream",
     "text": [
      "search: \u001b[0m\u001b[1mT\u001b[22m\u001b[0m\u001b[1ma\u001b[22m\u001b[0m\u001b[1my\u001b[22m\u001b[0m\u001b[1ml\u001b[22m\u001b[0m\u001b[1mo\u001b[22m\u001b[0m\u001b[1mr\u001b[22m\u001b[0m\u001b[1mM\u001b[22m\u001b[0m\u001b[1mo\u001b[22m\u001b[0m\u001b[1md\u001b[22m\u001b[0m\u001b[1me\u001b[22m\u001b[0m\u001b[1ml\u001b[22m\u001b[0m\u001b[1m1\u001b[22m R\u001b[0m\u001b[1mT\u001b[22m\u001b[0m\u001b[1ma\u001b[22m\u001b[0m\u001b[1my\u001b[22m\u001b[0m\u001b[1ml\u001b[22m\u001b[0m\u001b[1mo\u001b[22m\u001b[0m\u001b[1mr\u001b[22m\u001b[0m\u001b[1mM\u001b[22m\u001b[0m\u001b[1mo\u001b[22m\u001b[0m\u001b[1md\u001b[22m\u001b[0m\u001b[1me\u001b[22m\u001b[0m\u001b[1ml\u001b[22m\u001b[0m\u001b[1m1\u001b[22m \u001b[0m\u001b[1mT\u001b[22m\u001b[0m\u001b[1ma\u001b[22m\u001b[0m\u001b[1my\u001b[22m\u001b[0m\u001b[1ml\u001b[22m\u001b[0m\u001b[1mo\u001b[22m\u001b[0m\u001b[1mr\u001b[22m\u001b[0m\u001b[1mM\u001b[22m\u001b[0m\u001b[1mo\u001b[22m\u001b[0m\u001b[1md\u001b[22m\u001b[0m\u001b[1me\u001b[22m\u001b[0m\u001b[1ml\u001b[22mN \u001b[0m\u001b[1mT\u001b[22m\u001b[0m\u001b[1ma\u001b[22m\u001b[0m\u001b[1my\u001b[22m\u001b[0m\u001b[1ml\u001b[22m\u001b[0m\u001b[1mo\u001b[22m\u001b[0m\u001b[1mr\u001b[22m\u001b[0m\u001b[1mM\u001b[22m\u001b[0m\u001b[1mo\u001b[22m\u001b[0m\u001b[1md\u001b[22m\u001b[0m\u001b[1me\u001b[22m\u001b[0m\u001b[1ml\u001b[22ms\n",
      "\n"
     ]
    },
    {
     "data": {
      "text/latex": [
       "\\begin{verbatim}\n",
       "TaylorModel1{T,S}\n",
       "\\end{verbatim}\n",
       "Absolute Taylor model in 1 variable, providing a rigurous polynomial approximation given by a Taylor polynomial \\texttt{pol} (around \\texttt{x0}) and an absolute remainder \\texttt{rem} for a function \\texttt{f(x)} in one variable, valid in the interval \\texttt{dom}. This corresponds to definition 2.1.3 of Mioara Joldes' thesis.\n",
       "\n",
       "Fields:\n",
       "\n",
       "\\begin{itemize}\n",
       "\\item \\texttt{pol}: polynomial approximation, represented as \\texttt{TaylorSeries.Taylor1}\n",
       "\n",
       "\n",
       "\\item \\texttt{rem}: the interval bound\n",
       "\n",
       "\n",
       "\\item \\texttt{x0} : expansion point\n",
       "\n",
       "\n",
       "\\item \\texttt{dom}: domain, interval over which the Taylor model is defined / valid\n",
       "\n",
       "\\end{itemize}\n",
       "The approximation $f(x) = p(x) + \\Delta$ is satisfied for all $x\\in \\mathcal{D}$ ($0\\in \\Delta$); \\texttt{n} is the order (degree) of the polynomial $p(x)=\\sum_{i=0}^n p_i (x - x_0)^i$.\n",
       "\n"
      ],
      "text/markdown": [
       "```\n",
       "TaylorModel1{T,S}\n",
       "```\n",
       "\n",
       "Absolute Taylor model in 1 variable, providing a rigurous polynomial approximation given by a Taylor polynomial `pol` (around `x0`) and an absolute remainder `rem` for a function `f(x)` in one variable, valid in the interval `dom`. This corresponds to definition 2.1.3 of Mioara Joldes' thesis.\n",
       "\n",
       "Fields:\n",
       "\n",
       "  * `pol`: polynomial approximation, represented as `TaylorSeries.Taylor1`\n",
       "  * `rem`: the interval bound\n",
       "  * `x0` : expansion point\n",
       "  * `dom`: domain, interval over which the Taylor model is defined / valid\n",
       "\n",
       "The approximation $f(x) = p(x) + \\Delta$ is satisfied for all $x\\in \\mathcal{D}$ ($0\\in \\Delta$); `n` is the order (degree) of the polynomial $p(x)=\\sum_{i=0}^n p_i (x - x_0)^i$.\n"
      ],
      "text/plain": [
       "\u001b[36m  TaylorModel1{T,S}\u001b[39m\n",
       "\n",
       "  Absolute Taylor model in 1 variable, providing a rigurous polynomial\n",
       "  approximation given by a Taylor polynomial \u001b[36mpol\u001b[39m (around \u001b[36mx0\u001b[39m) and an absolute\n",
       "  remainder \u001b[36mrem\u001b[39m for a function \u001b[36mf(x)\u001b[39m in one variable, valid in the interval\n",
       "  \u001b[36mdom\u001b[39m. This corresponds to definition 2.1.3 of Mioara Joldes' thesis.\n",
       "\n",
       "  Fields:\n",
       "\n",
       "    •  \u001b[36mpol\u001b[39m: polynomial approximation, represented as \u001b[36mTaylorSeries.Taylor1\u001b[39m\n",
       "\n",
       "    •  \u001b[36mrem\u001b[39m: the interval bound\n",
       "\n",
       "    •  \u001b[36mx0\u001b[39m : expansion point\n",
       "\n",
       "    •  \u001b[36mdom\u001b[39m: domain, interval over which the Taylor model is defined /\n",
       "       valid\n",
       "\n",
       "  The approximation \u001b[35mf(x) = p(x) + \\Delta\u001b[39m is satisfied for all \u001b[35mx\\in \\mathcal{D}\u001b[39m\n",
       "  (\u001b[35m0\\in \\Delta\u001b[39m); \u001b[36mn\u001b[39m is the order (degree) of the polynomial \u001b[35mp(x)=\\sum_{i=0}^n\n",
       "  p_i (x - x_0)^i\u001b[39m."
      ]
     },
     "execution_count": 7,
     "metadata": {},
     "output_type": "execute_result"
    }
   ],
   "source": [
    "?TaylorModel1"
   ]
  },
  {
   "cell_type": "code",
   "execution_count": 8,
   "id": "5bf5b9aa",
   "metadata": {},
   "outputs": [
    {
     "data": {
      "text/plain": [
       " 0.25 + 1.0 t + [0, 0]"
      ]
     },
     "execution_count": 8,
     "metadata": {},
     "output_type": "execute_result"
    }
   ],
   "source": [
    "tm = TaylorModel1(n, x0, a)  # it is the taylor model of the identity function y = x"
   ]
  },
  {
   "cell_type": "code",
   "execution_count": 9,
   "id": "5a669a1c",
   "metadata": {},
   "outputs": [
    {
     "data": {
      "application/vnd.webio.node+json": {
       "children": [],
       "instanceArgs": {
        "namespace": "html",
        "tag": "div"
       },
       "nodeType": "DOM",
       "props": {},
       "type": "node"
      },
      "text/html": [
       "<div style=\"padding: 1em; background-color: #f8d6da; border: 1px solid #f5c6cb; font-weight: bold;\">\n",
       "<p>The WebIO Jupyter extension was not detected. See the\n",
       "<a href=\"https://juliagizmos.github.io/WebIO.jl/latest/providers/ijulia/\" target=\"_blank\">\n",
       "    WebIO Jupyter integration documentation\n",
       "</a>\n",
       "for more information.\n",
       "</div>\n"
      ],
      "text/plain": [
       "WebIO._IJuliaInit()"
      ]
     },
     "metadata": {
      "application/vnd.webio.node+json": {
       "kernelId": "21b8b6fe-c21a-4517-a653-45ea20b7b639"
      }
     },
     "output_type": "display_data"
    }
   ],
   "source": [
    "using Interact, Plots"
   ]
  },
  {
   "cell_type": "code",
   "execution_count": 10,
   "id": "803c6b2f",
   "metadata": {},
   "outputs": [
    {
     "data": {
      "image/png": "[encoded data removed]",
      "image/svg+xml": [
       "<?xml version=\"1.0\" encoding=\"utf-8\"?>\n",
       "<svg xmlns=\"http://www.w3.org/2000/svg\" xmlns:xlink=\"http://www.w3.org/1999/xlink\" width=\"600\" height=\"400\" viewBox=\"0 0 2400 1600\">\n",
       "<defs>\n",
       "  <clipPath id=\"clip860\">\n",
       "    <rect x=\"0\" y=\"0\" width=\"2400\" height=\"1600\"/>\n",
       "  </clipPath>\n",
       "</defs>\n",
       "<path clip-path=\"url(#clip860)\" d=\"M0 1600 L2400 1600 L2400 0 L0 0  Z\" fill=\"#ffffff\" fill-rule=\"evenodd\" fill-opacity=\"1\"/>\n",
       "<defs>\n",
       "  <clipPath id=\"clip861\">\n",
       "    <rect x=\"480\" y=\"0\" width=\"1681\" height=\"1600\"/>\n",
       "  </clipPath>\n",
       "</defs>\n",
       "<path clip-path=\"url(#clip860)\" d=\"M193.288 1486.45 L2352.76 1486.45 L2352.76 47.2441 L193.288 47.2441  Z\" fill=\"#ffffff\" fill-rule=\"evenodd\" fill-opacity=\"1\"/>\n",
       "<defs>\n",
       "  <clipPath id=\"clip862\">\n",
       "    <rect x=\"193\" y=\"47\" width=\"2160\" height=\"1440\"/>\n",
       "  </clipPath>\n",
       "</defs>\n",
       "<polyline clip-path=\"url(#clip862)\" style=\"stroke:#000000; stroke-linecap:round; stroke-linejoin:round; stroke-width:2; stroke-opacity:0.1; fill:none\" points=\"526.036,1486.45 526.036,47.2441 \"/>\n",
       "<polyline clip-path=\"url(#clip862)\" style=\"stroke:#000000; stroke-linecap:round; stroke-linejoin:round; stroke-width:2; stroke-opacity:0.1; fill:none\" points=\"933.483,1486.45 933.483,47.2441 \"/>\n",
       "<polyline clip-path=\"url(#clip862)\" style=\"stroke:#000000; stroke-linecap:round; stroke-linejoin:round; stroke-width:2; stroke-opacity:0.1; fill:none\" points=\"1340.93,1486.45 1340.93,47.2441 \"/>\n",
       "<polyline clip-path=\"url(#clip862)\" style=\"stroke:#000000; stroke-linecap:round; stroke-linejoin:round; stroke-width:2; stroke-opacity:0.1; fill:none\" points=\"1748.38,1486.45 1748.38,47.2441 \"/>\n",
       "<polyline clip-path=\"url(#clip862)\" style=\"stroke:#000000; stroke-linecap:round; stroke-linejoin:round; stroke-width:2; stroke-opacity:0.1; fill:none\" points=\"2155.82,1486.45 2155.82,47.2441 \"/>\n",
       "<polyline clip-path=\"url(#clip860)\" style=\"stroke:#000000; stroke-linecap:round; stroke-linejoin:round; stroke-width:4; stroke-opacity:1; fill:none\" points=\"193.288,1486.45 2352.76,1486.45 \"/>\n",
       "<polyline clip-path=\"url(#clip860)\" style=\"stroke:#000000; stroke-linecap:round; stroke-linejoin:round; stroke-width:4; stroke-opacity:1; fill:none\" points=\"526.036,1486.45 526.036,1467.55 \"/>\n",
       "<polyline clip-path=\"url(#clip860)\" style=\"stroke:#000000; stroke-linecap:round; stroke-linejoin:round; stroke-width:4; stroke-opacity:1; fill:none\" points=\"933.483,1486.45 933.483,1467.55 \"/>\n",
       "<polyline clip-path=\"url(#clip860)\" style=\"stroke:#000000; stroke-linecap:round; stroke-linejoin:round; stroke-width:4; stroke-opacity:1; fill:none\" points=\"1340.93,1486.45 1340.93,1467.55 \"/>\n",
       "<polyline clip-path=\"url(#clip860)\" style=\"stroke:#000000; stroke-linecap:round; stroke-linejoin:round; stroke-width:4; stroke-opacity:1; fill:none\" points=\"1748.38,1486.45 1748.38,1467.55 \"/>\n",
       "<polyline clip-path=\"url(#clip860)\" style=\"stroke:#000000; stroke-linecap:round; stroke-linejoin:round; stroke-width:4; stroke-opacity:1; fill:none\" points=\"2155.82,1486.45 2155.82,1467.55 \"/>\n",
       "<path clip-path=\"url(#clip860)\" d=\"M472.888 1532.02 L502.564 1532.02 L502.564 1535.95 L472.888 1535.95 L472.888 1532.02 Z\" fill=\"#000000\" fill-rule=\"nonzero\" fill-opacity=\"1\" /><path clip-path=\"url(#clip860)\" d=\"M522.656 1517.37 Q519.045 1517.37 517.217 1520.93 Q515.411 1524.47 515.411 1531.6 Q515.411 1538.71 517.217 1542.27 Q519.045 1545.82 522.656 1545.82 Q526.291 1545.82 528.096 1542.27 Q529.925 1538.71 529.925 1531.6 Q529.925 1524.47 528.096 1520.93 Q526.291 1517.37 522.656 1517.37 M522.656 1513.66 Q528.467 1513.66 531.522 1518.27 Q534.601 1522.85 534.601 1531.6 Q534.601 1540.33 531.522 1544.94 Q528.467 1549.52 522.656 1549.52 Q516.846 1549.52 513.768 1544.94 Q510.712 1540.33 510.712 1531.6 Q510.712 1522.85 513.768 1518.27 Q516.846 1513.66 522.656 1513.66 Z\" fill=\"#000000\" fill-rule=\"nonzero\" fill-opacity=\"1\" /><path clip-path=\"url(#clip860)\" d=\"M542.818 1542.97 L547.703 1542.97 L547.703 1548.85 L542.818 1548.85 L542.818 1542.97 Z\" fill=\"#000000\" fill-rule=\"nonzero\" fill-opacity=\"1\" /><path clip-path=\"url(#clip860)\" d=\"M572.054 1530.21 Q575.411 1530.93 577.286 1533.2 Q579.184 1535.47 579.184 1538.8 Q579.184 1543.92 575.665 1546.72 Q572.147 1549.52 565.665 1549.52 Q563.49 1549.52 561.175 1549.08 Q558.883 1548.66 556.429 1547.81 L556.429 1543.29 Q558.374 1544.43 560.689 1545.01 Q563.003 1545.58 565.527 1545.58 Q569.925 1545.58 572.216 1543.85 Q574.531 1542.11 574.531 1538.8 Q574.531 1535.75 572.378 1534.03 Q570.249 1532.3 566.429 1532.3 L562.402 1532.3 L562.402 1528.45 L566.615 1528.45 Q570.064 1528.45 571.892 1527.09 Q573.721 1525.7 573.721 1523.11 Q573.721 1520.45 571.823 1519.03 Q569.948 1517.6 566.429 1517.6 Q564.508 1517.6 562.309 1518.01 Q560.11 1518.43 557.471 1519.31 L557.471 1515.14 Q560.133 1514.4 562.448 1514.03 Q564.786 1513.66 566.846 1513.66 Q572.17 1513.66 575.272 1516.09 Q578.374 1518.5 578.374 1522.62 Q578.374 1525.49 576.73 1527.48 Q575.087 1529.45 572.054 1530.21 Z\" fill=\"#000000\" fill-rule=\"nonzero\" fill-opacity=\"1\" /><path clip-path=\"url(#clip860)\" d=\"M910.867 1517.37 Q907.256 1517.37 905.427 1520.93 Q903.622 1524.47 903.622 1531.6 Q903.622 1538.71 905.427 1542.27 Q907.256 1545.82 910.867 1545.82 Q914.501 1545.82 916.307 1542.27 Q918.136 1538.71 918.136 1531.6 Q918.136 1524.47 916.307 1520.93 Q914.501 1517.37 910.867 1517.37 M910.867 1513.66 Q916.677 1513.66 919.733 1518.27 Q922.812 1522.85 922.812 1531.6 Q922.812 1540.33 919.733 1544.94 Q916.677 1549.52 910.867 1549.52 Q905.057 1549.52 901.978 1544.94 Q898.923 1540.33 898.923 1531.6 Q898.923 1522.85 901.978 1518.27 Q905.057 1513.66 910.867 1513.66 Z\" fill=\"#000000\" fill-rule=\"nonzero\" fill-opacity=\"1\" /><path clip-path=\"url(#clip860)\" d=\"M931.029 1542.97 L935.913 1542.97 L935.913 1548.85 L931.029 1548.85 L931.029 1542.97 Z\" fill=\"#000000\" fill-rule=\"nonzero\" fill-opacity=\"1\" /><path clip-path=\"url(#clip860)\" d=\"M956.098 1517.37 Q952.487 1517.37 950.659 1520.93 Q948.853 1524.47 948.853 1531.6 Q948.853 1538.71 950.659 1542.27 Q952.487 1545.82 956.098 1545.82 Q959.733 1545.82 961.538 1542.27 Q963.367 1538.71 963.367 1531.6 Q963.367 1524.47 961.538 1520.93 Q959.733 1517.37 956.098 1517.37 M956.098 1513.66 Q961.909 1513.66 964.964 1518.27 Q968.043 1522.85 968.043 1531.6 Q968.043 1540.33 964.964 1544.94 Q961.909 1549.52 956.098 1549.52 Q950.288 1549.52 947.21 1544.94 Q944.154 1540.33 944.154 1531.6 Q944.154 1522.85 947.21 1518.27 Q950.288 1513.66 956.098 1513.66 Z\" fill=\"#000000\" fill-rule=\"nonzero\" fill-opacity=\"1\" /><path clip-path=\"url(#clip860)\" d=\"M1318.64 1517.37 Q1315.03 1517.37 1313.2 1520.93 Q1311.39 1524.47 1311.39 1531.6 Q1311.39 1538.71 1313.2 1542.27 Q1315.03 1545.82 1318.64 1545.82 Q1322.27 1545.82 1324.08 1542.27 Q1325.91 1538.71 1325.91 1531.6 Q1325.91 1524.47 1324.08 1520.93 Q1322.27 1517.37 1318.64 1517.37 M1318.64 1513.66 Q1324.45 1513.66 1327.5 1518.27 Q1330.58 1522.85 1330.58 1531.6 Q1330.58 1540.33 1327.5 1544.94 Q1324.45 1549.52 1318.64 1549.52 Q1312.83 1549.52 1309.75 1544.94 Q1306.69 1540.33 1306.69 1531.6 Q1306.69 1522.85 1309.75 1518.27 Q1312.83 1513.66 1318.64 1513.66 Z\" fill=\"#000000\" fill-rule=\"nonzero\" fill-opacity=\"1\" /><path clip-path=\"url(#clip860)\" d=\"M1338.8 1542.97 L1343.68 1542.97 L1343.68 1548.85 L1338.8 1548.85 L1338.8 1542.97 Z\" fill=\"#000000\" fill-rule=\"nonzero\" fill-opacity=\"1\" /><path clip-path=\"url(#clip860)\" d=\"M1368.04 1530.21 Q1371.39 1530.93 1373.27 1533.2 Q1375.17 1535.47 1375.17 1538.8 Q1375.17 1543.92 1371.65 1546.72 Q1368.13 1549.52 1361.65 1549.52 Q1359.47 1549.52 1357.16 1549.08 Q1354.86 1548.66 1352.41 1547.81 L1352.41 1543.29 Q1354.36 1544.43 1356.67 1545.01 Q1358.99 1545.58 1361.51 1545.58 Q1365.91 1545.58 1368.2 1543.85 Q1370.51 1542.11 1370.51 1538.8 Q1370.51 1535.75 1368.36 1534.03 Q1366.23 1532.3 1362.41 1532.3 L1358.38 1532.3 L1358.38 1528.45 L1362.6 1528.45 Q1366.05 1528.45 1367.87 1527.09 Q1369.7 1525.7 1369.7 1523.11 Q1369.7 1520.45 1367.8 1519.03 Q1365.93 1517.6 1362.41 1517.6 Q1360.49 1517.6 1358.29 1518.01 Q1356.09 1518.43 1353.45 1519.31 L1353.45 1515.14 Q1356.11 1514.4 1358.43 1514.03 Q1360.77 1513.66 1362.83 1513.66 Q1368.15 1513.66 1371.25 1516.09 Q1374.36 1518.5 1374.36 1522.62 Q1374.36 1525.49 1372.71 1527.48 Q1371.07 1529.45 1368.04 1530.21 Z\" fill=\"#000000\" fill-rule=\"nonzero\" fill-opacity=\"1\" /><path clip-path=\"url(#clip860)\" d=\"M1725.68 1517.37 Q1722.07 1517.37 1720.24 1520.93 Q1718.43 1524.47 1718.43 1531.6 Q1718.43 1538.71 1720.24 1542.27 Q1722.07 1545.82 1725.68 1545.82 Q1729.31 1545.82 1731.12 1542.27 Q1732.95 1538.71 1732.95 1531.6 Q1732.95 1524.47 1731.12 1520.93 Q1729.31 1517.37 1725.68 1517.37 M1725.68 1513.66 Q1731.49 1513.66 1734.55 1518.27 Q1737.62 1522.85 1737.62 1531.6 Q1737.62 1540.33 1734.55 1544.94 Q1731.49 1549.52 1725.68 1549.52 Q1719.87 1549.52 1716.79 1544.94 Q1713.74 1540.33 1713.74 1531.6 Q1713.74 1522.85 1716.79 1518.27 Q1719.87 1513.66 1725.68 1513.66 Z\" fill=\"#000000\" fill-rule=\"nonzero\" fill-opacity=\"1\" /><path clip-path=\"url(#clip860)\" d=\"M1745.84 1542.97 L1750.73 1542.97 L1750.73 1548.85 L1745.84 1548.85 L1745.84 1542.97 Z\" fill=\"#000000\" fill-rule=\"nonzero\" fill-opacity=\"1\" /><path clip-path=\"url(#clip860)\" d=\"M1771.49 1529.7 Q1768.34 1529.7 1766.49 1531.86 Q1764.66 1534.01 1764.66 1537.76 Q1764.66 1541.49 1766.49 1543.66 Q1768.34 1545.82 1771.49 1545.82 Q1774.64 1545.82 1776.47 1543.66 Q1778.32 1541.49 1778.32 1537.76 Q1778.32 1534.01 1776.47 1531.86 Q1774.64 1529.7 1771.49 1529.7 M1780.77 1515.05 L1780.77 1519.31 Q1779.01 1518.48 1777.21 1518.04 Q1775.42 1517.6 1773.67 1517.6 Q1769.04 1517.6 1766.58 1520.72 Q1764.15 1523.85 1763.8 1530.17 Q1765.17 1528.15 1767.23 1527.09 Q1769.29 1526 1771.77 1526 Q1776.98 1526 1779.99 1529.17 Q1783.02 1532.32 1783.02 1537.76 Q1783.02 1543.08 1779.87 1546.3 Q1776.72 1549.52 1771.49 1549.52 Q1765.49 1549.52 1762.32 1544.94 Q1759.15 1540.33 1759.15 1531.6 Q1759.15 1523.41 1763.04 1518.55 Q1766.93 1513.66 1773.48 1513.66 Q1775.24 1513.66 1777.02 1514.01 Q1778.83 1514.36 1780.77 1515.05 Z\" fill=\"#000000\" fill-rule=\"nonzero\" fill-opacity=\"1\" /><path clip-path=\"url(#clip860)\" d=\"M2133.3 1517.37 Q2129.69 1517.37 2127.86 1520.93 Q2126.05 1524.47 2126.05 1531.6 Q2126.05 1538.71 2127.86 1542.27 Q2129.69 1545.82 2133.3 1545.82 Q2136.93 1545.82 2138.74 1542.27 Q2140.57 1538.71 2140.57 1531.6 Q2140.57 1524.47 2138.74 1520.93 Q2136.93 1517.37 2133.3 1517.37 M2133.3 1513.66 Q2139.11 1513.66 2142.17 1518.27 Q2145.24 1522.85 2145.24 1531.6 Q2145.24 1540.33 2142.17 1544.94 Q2139.11 1549.52 2133.3 1549.52 Q2127.49 1549.52 2124.41 1544.94 Q2121.36 1540.33 2121.36 1531.6 Q2121.36 1522.85 2124.41 1518.27 Q2127.49 1513.66 2133.3 1513.66 Z\" fill=\"#000000\" fill-rule=\"nonzero\" fill-opacity=\"1\" /><path clip-path=\"url(#clip860)\" d=\"M2153.46 1542.97 L2158.35 1542.97 L2158.35 1548.85 L2153.46 1548.85 L2153.46 1542.97 Z\" fill=\"#000000\" fill-rule=\"nonzero\" fill-opacity=\"1\" /><path clip-path=\"url(#clip860)\" d=\"M2168.67 1548.13 L2168.67 1543.87 Q2170.43 1544.7 2172.24 1545.14 Q2174.04 1545.58 2175.78 1545.58 Q2180.41 1545.58 2182.84 1542.48 Q2185.29 1539.36 2185.64 1533.01 Q2184.3 1535.01 2182.24 1536.07 Q2180.18 1537.13 2177.68 1537.13 Q2172.49 1537.13 2169.46 1534.01 Q2166.45 1530.86 2166.45 1525.42 Q2166.45 1520.1 2169.6 1516.88 Q2172.74 1513.66 2177.98 1513.66 Q2183.97 1513.66 2187.12 1518.27 Q2190.29 1522.85 2190.29 1531.6 Q2190.29 1539.77 2186.4 1544.66 Q2182.54 1549.52 2175.99 1549.52 Q2174.23 1549.52 2172.42 1549.17 Q2170.61 1548.82 2168.67 1548.13 M2177.98 1533.48 Q2181.12 1533.48 2182.95 1531.32 Q2184.8 1529.17 2184.8 1525.42 Q2184.8 1521.7 2182.95 1519.54 Q2181.12 1517.37 2177.98 1517.37 Q2174.83 1517.37 2172.98 1519.54 Q2171.15 1521.7 2171.15 1525.42 Q2171.15 1529.17 2172.98 1531.32 Q2174.83 1533.48 2177.98 1533.48 Z\" fill=\"#000000\" fill-rule=\"nonzero\" fill-opacity=\"1\" /><polyline clip-path=\"url(#clip862)\" style=\"stroke:#000000; stroke-linecap:round; stroke-linejoin:round; stroke-width:2; stroke-opacity:0.1; fill:none\" points=\"193.288,1264.68 2352.76,1264.68 \"/>\n",
       "<polyline clip-path=\"url(#clip862)\" style=\"stroke:#000000; stroke-linecap:round; stroke-linejoin:round; stroke-width:2; stroke-opacity:0.1; fill:none\" points=\"193.288,993.136 2352.76,993.136 \"/>\n",
       "<polyline clip-path=\"url(#clip862)\" style=\"stroke:#000000; stroke-linecap:round; stroke-linejoin:round; stroke-width:2; stroke-opacity:0.1; fill:none\" points=\"193.288,721.588 2352.76,721.588 \"/>\n",
       "<polyline clip-path=\"url(#clip862)\" style=\"stroke:#000000; stroke-linecap:round; stroke-linejoin:round; stroke-width:2; stroke-opacity:0.1; fill:none\" points=\"193.288,450.04 2352.76,450.04 \"/>\n",
       "<polyline clip-path=\"url(#clip862)\" style=\"stroke:#000000; stroke-linecap:round; stroke-linejoin:round; stroke-width:2; stroke-opacity:0.1; fill:none\" points=\"193.288,178.492 2352.76,178.492 \"/>\n",
       "<polyline clip-path=\"url(#clip860)\" style=\"stroke:#000000; stroke-linecap:round; stroke-linejoin:round; stroke-width:4; stroke-opacity:1; fill:none\" points=\"193.288,1486.45 193.288,47.2441 \"/>\n",
       "<polyline clip-path=\"url(#clip860)\" style=\"stroke:#000000; stroke-linecap:round; stroke-linejoin:round; stroke-width:4; stroke-opacity:1; fill:none\" points=\"193.288,1264.68 212.185,1264.68 \"/>\n",
       "<polyline clip-path=\"url(#clip860)\" style=\"stroke:#000000; stroke-linecap:round; stroke-linejoin:round; stroke-width:4; stroke-opacity:1; fill:none\" points=\"193.288,993.136 212.185,993.136 \"/>\n",
       "<polyline clip-path=\"url(#clip860)\" style=\"stroke:#000000; stroke-linecap:round; stroke-linejoin:round; stroke-width:4; stroke-opacity:1; fill:none\" points=\"193.288,721.588 212.185,721.588 \"/>\n",
       "<polyline clip-path=\"url(#clip860)\" style=\"stroke:#000000; stroke-linecap:round; stroke-linejoin:round; stroke-width:4; stroke-opacity:1; fill:none\" points=\"193.288,450.04 212.185,450.04 \"/>\n",
       "<polyline clip-path=\"url(#clip860)\" style=\"stroke:#000000; stroke-linecap:round; stroke-linejoin:round; stroke-width:4; stroke-opacity:1; fill:none\" points=\"193.288,178.492 212.185,178.492 \"/>\n",
       "<path clip-path=\"url(#clip860)\" d=\"M50.9921 1265.14 L80.6679 1265.14 L80.6679 1269.07 L50.9921 1269.07 L50.9921 1265.14 Z\" fill=\"#000000\" fill-rule=\"nonzero\" fill-opacity=\"1\" /><path clip-path=\"url(#clip860)\" d=\"M100.76 1250.48 Q97.1493 1250.48 95.3206 1254.05 Q93.515 1257.59 93.515 1264.72 Q93.515 1271.82 95.3206 1275.39 Q97.1493 1278.93 100.76 1278.93 Q104.395 1278.93 106.2 1275.39 Q108.029 1271.82 108.029 1264.72 Q108.029 1257.59 106.2 1254.05 Q104.395 1250.48 100.76 1250.48 M100.76 1246.78 Q106.571 1246.78 109.626 1251.39 Q112.705 1255.97 112.705 1264.72 Q112.705 1273.45 109.626 1278.05 Q106.571 1282.64 100.76 1282.64 Q94.9502 1282.64 91.8715 1278.05 Q88.816 1273.45 88.816 1264.72 Q88.816 1255.97 91.8715 1251.39 Q94.9502 1246.78 100.76 1246.78 Z\" fill=\"#000000\" fill-rule=\"nonzero\" fill-opacity=\"1\" /><path clip-path=\"url(#clip860)\" d=\"M120.922 1276.08 L125.807 1276.08 L125.807 1281.96 L120.922 1281.96 L120.922 1276.08 Z\" fill=\"#000000\" fill-rule=\"nonzero\" fill-opacity=\"1\" /><path clip-path=\"url(#clip860)\" d=\"M150.158 1263.33 Q153.515 1264.05 155.39 1266.32 Q157.288 1268.58 157.288 1271.92 Q157.288 1277.03 153.769 1279.83 Q150.251 1282.64 143.769 1282.64 Q141.593 1282.64 139.279 1282.2 Q136.987 1281.78 134.533 1280.92 L134.533 1276.41 Q136.478 1277.54 138.793 1278.12 Q141.107 1278.7 143.631 1278.7 Q148.029 1278.7 150.32 1276.96 Q152.635 1275.23 152.635 1271.92 Q152.635 1268.86 150.482 1267.15 Q148.353 1265.41 144.533 1265.41 L140.506 1265.41 L140.506 1261.57 L144.718 1261.57 Q148.168 1261.57 149.996 1260.2 Q151.825 1258.82 151.825 1256.22 Q151.825 1253.56 149.927 1252.15 Q148.052 1250.71 144.533 1250.71 Q142.612 1250.71 140.413 1251.13 Q138.214 1251.55 135.575 1252.43 L135.575 1248.26 Q138.237 1247.52 140.552 1247.15 Q142.89 1246.78 144.95 1246.78 Q150.274 1246.78 153.376 1249.21 Q156.478 1251.62 156.478 1255.74 Q156.478 1258.61 154.834 1260.6 Q153.191 1262.57 150.158 1263.33 Z\" fill=\"#000000\" fill-rule=\"nonzero\" fill-opacity=\"1\" /><path clip-path=\"url(#clip860)\" d=\"M100.112 978.935 Q96.5011 978.935 94.6724 982.499 Q92.8669 986.041 92.8669 993.171 Q92.8669 1000.28 94.6724 1003.84 Q96.5011 1007.38 100.112 1007.38 Q103.746 1007.38 105.552 1003.84 Q107.381 1000.28 107.381 993.171 Q107.381 986.041 105.552 982.499 Q103.746 978.935 100.112 978.935 M100.112 975.231 Q105.922 975.231 108.978 979.837 Q112.057 984.421 112.057 993.171 Q112.057 1001.9 108.978 1006.5 Q105.922 1011.09 100.112 1011.09 Q94.3021 1011.09 91.2234 1006.5 Q88.1679 1001.9 88.1679 993.171 Q88.1679 984.421 91.2234 979.837 Q94.3021 975.231 100.112 975.231 Z\" fill=\"#000000\" fill-rule=\"nonzero\" fill-opacity=\"1\" /><path clip-path=\"url(#clip860)\" d=\"M120.274 1004.54 L125.158 1004.54 L125.158 1010.42 L120.274 1010.42 L120.274 1004.54 Z\" fill=\"#000000\" fill-rule=\"nonzero\" fill-opacity=\"1\" /><path clip-path=\"url(#clip860)\" d=\"M145.343 978.935 Q141.732 978.935 139.904 982.499 Q138.098 986.041 138.098 993.171 Q138.098 1000.28 139.904 1003.84 Q141.732 1007.38 145.343 1007.38 Q148.978 1007.38 150.783 1003.84 Q152.612 1000.28 152.612 993.171 Q152.612 986.041 150.783 982.499 Q148.978 978.935 145.343 978.935 M145.343 975.231 Q151.154 975.231 154.209 979.837 Q157.288 984.421 157.288 993.171 Q157.288 1001.9 154.209 1006.5 Q151.154 1011.09 145.343 1011.09 Q139.533 1011.09 136.455 1006.5 Q133.399 1001.9 133.399 993.171 Q133.399 984.421 136.455 979.837 Q139.533 975.231 145.343 975.231 Z\" fill=\"#000000\" fill-rule=\"nonzero\" fill-opacity=\"1\" /><path clip-path=\"url(#clip860)\" d=\"M100.76 707.387 Q97.1493 707.387 95.3206 710.951 Q93.515 714.493 93.515 721.623 Q93.515 728.729 95.3206 732.294 Q97.1493 735.836 100.76 735.836 Q104.395 735.836 106.2 732.294 Q108.029 728.729 108.029 721.623 Q108.029 714.493 106.2 710.951 Q104.395 707.387 100.76 707.387 M100.76 703.683 Q106.571 703.683 109.626 708.289 Q112.705 712.873 112.705 721.623 Q112.705 730.35 109.626 734.956 Q106.571 739.539 100.76 739.539 Q94.9502 739.539 91.8715 734.956 Q88.816 730.35 88.816 721.623 Q88.816 712.873 91.8715 708.289 Q94.9502 703.683 100.76 703.683 Z\" fill=\"#000000\" fill-rule=\"nonzero\" fill-opacity=\"1\" /><path clip-path=\"url(#clip860)\" d=\"M120.922 732.988 L125.807 732.988 L125.807 738.868 L120.922 738.868 L120.922 732.988 Z\" fill=\"#000000\" fill-rule=\"nonzero\" fill-opacity=\"1\" /><path clip-path=\"url(#clip860)\" d=\"M150.158 720.234 Q153.515 720.951 155.39 723.22 Q157.288 725.488 157.288 728.822 Q157.288 733.937 153.769 736.738 Q150.251 739.539 143.769 739.539 Q141.593 739.539 139.279 739.099 Q136.987 738.683 134.533 737.826 L134.533 733.312 Q136.478 734.447 138.793 735.025 Q141.107 735.604 143.631 735.604 Q148.029 735.604 150.32 733.868 Q152.635 732.132 152.635 728.822 Q152.635 725.766 150.482 724.053 Q148.353 722.317 144.533 722.317 L140.506 722.317 L140.506 718.475 L144.718 718.475 Q148.168 718.475 149.996 717.109 Q151.825 715.72 151.825 713.127 Q151.825 710.465 149.927 709.053 Q148.052 707.618 144.533 707.618 Q142.612 707.618 140.413 708.035 Q138.214 708.452 135.575 709.331 L135.575 705.164 Q138.237 704.424 140.552 704.053 Q142.89 703.683 144.95 703.683 Q150.274 703.683 153.376 706.114 Q156.478 708.521 156.478 712.641 Q156.478 715.512 154.834 717.502 Q153.191 719.47 150.158 720.234 Z\" fill=\"#000000\" fill-rule=\"nonzero\" fill-opacity=\"1\" /><path clip-path=\"url(#clip860)\" d=\"M99.9502 435.839 Q96.3391 435.839 94.5104 439.404 Q92.7049 442.945 92.7049 450.075 Q92.7049 457.181 94.5104 460.746 Q96.3391 464.288 99.9502 464.288 Q103.584 464.288 105.39 460.746 Q107.219 457.181 107.219 450.075 Q107.219 442.945 105.39 439.404 Q103.584 435.839 99.9502 435.839 M99.9502 432.135 Q105.76 432.135 108.816 436.742 Q111.895 441.325 111.895 450.075 Q111.895 458.802 108.816 463.408 Q105.76 467.991 99.9502 467.991 Q94.14 467.991 91.0614 463.408 Q88.0058 458.802 88.0058 450.075 Q88.0058 441.325 91.0614 436.742 Q94.14 432.135 99.9502 432.135 Z\" fill=\"#000000\" fill-rule=\"nonzero\" fill-opacity=\"1\" /><path clip-path=\"url(#clip860)\" d=\"M120.112 461.441 L124.996 461.441 L124.996 467.32 L120.112 467.32 L120.112 461.441 Z\" fill=\"#000000\" fill-rule=\"nonzero\" fill-opacity=\"1\" /><path clip-path=\"url(#clip860)\" d=\"M145.76 448.177 Q142.612 448.177 140.76 450.329 Q138.931 452.482 138.931 456.232 Q138.931 459.959 140.76 462.135 Q142.612 464.288 145.76 464.288 Q148.908 464.288 150.737 462.135 Q152.589 459.959 152.589 456.232 Q152.589 452.482 150.737 450.329 Q148.908 448.177 145.76 448.177 M155.042 433.524 L155.042 437.783 Q153.283 436.95 151.478 436.51 Q149.695 436.07 147.936 436.07 Q143.306 436.07 140.853 439.195 Q138.422 442.32 138.075 448.64 Q139.441 446.626 141.501 445.561 Q143.561 444.473 146.038 444.473 Q151.246 444.473 154.255 447.644 Q157.288 450.792 157.288 456.232 Q157.288 461.556 154.14 464.774 Q150.992 467.991 145.76 467.991 Q139.765 467.991 136.594 463.408 Q133.422 458.802 133.422 450.075 Q133.422 441.88 137.311 437.019 Q141.2 432.135 147.751 432.135 Q149.51 432.135 151.293 432.482 Q153.098 432.83 155.042 433.524 Z\" fill=\"#000000\" fill-rule=\"nonzero\" fill-opacity=\"1\" /><path clip-path=\"url(#clip860)\" d=\"M100.297 164.291 Q96.6863 164.291 94.8576 167.856 Q93.0521 171.397 93.0521 178.527 Q93.0521 185.633 94.8576 189.198 Q96.6863 192.74 100.297 192.74 Q103.932 192.74 105.737 189.198 Q107.566 185.633 107.566 178.527 Q107.566 171.397 105.737 167.856 Q103.932 164.291 100.297 164.291 M100.297 160.587 Q106.108 160.587 109.163 165.194 Q112.242 169.777 112.242 178.527 Q112.242 187.254 109.163 191.86 Q106.108 196.444 100.297 196.444 Q94.4873 196.444 91.4086 191.86 Q88.353 187.254 88.353 178.527 Q88.353 169.777 91.4086 165.194 Q94.4873 160.587 100.297 160.587 Z\" fill=\"#000000\" fill-rule=\"nonzero\" fill-opacity=\"1\" /><path clip-path=\"url(#clip860)\" d=\"M120.459 189.893 L125.344 189.893 L125.344 195.772 L120.459 195.772 L120.459 189.893 Z\" fill=\"#000000\" fill-rule=\"nonzero\" fill-opacity=\"1\" /><path clip-path=\"url(#clip860)\" d=\"M135.668 195.055 L135.668 190.795 Q137.427 191.629 139.232 192.069 Q141.038 192.508 142.774 192.508 Q147.404 192.508 149.834 189.407 Q152.288 186.282 152.635 179.939 Q151.293 181.93 149.232 182.995 Q147.172 184.059 144.672 184.059 Q139.487 184.059 136.455 180.934 Q133.445 177.786 133.445 172.346 Q133.445 167.022 136.594 163.805 Q139.742 160.587 144.973 160.587 Q150.968 160.587 154.117 165.194 Q157.288 169.777 157.288 178.527 Q157.288 186.698 153.399 191.582 Q149.533 196.444 142.982 196.444 Q141.223 196.444 139.418 196.096 Q137.612 195.749 135.668 195.055 M144.973 180.402 Q148.121 180.402 149.95 178.249 Q151.802 176.096 151.802 172.346 Q151.802 168.62 149.95 166.467 Q148.121 164.291 144.973 164.291 Q141.825 164.291 139.973 166.467 Q138.144 168.62 138.144 172.346 Q138.144 176.096 139.973 178.249 Q141.825 180.402 144.973 180.402 Z\" fill=\"#000000\" fill-rule=\"nonzero\" fill-opacity=\"1\" /><path clip-path=\"url(#clip862)\" d=\"M254.405 1445.72 L274.983 1432 L295.561 1418.29 L316.139 1404.57 L336.717 1390.86 L357.295 1377.14 L377.874 1363.43 L398.452 1349.71 L419.03 1336 L439.608 1322.28 L460.186 1308.57 L480.764 1294.86 L501.342 1281.14 L521.92 1267.43 L542.499 1253.71 L563.077 1240 L583.655 1226.28 L604.233 1212.57 L624.811 1198.85 L645.389 1185.14 L665.967 1171.42 L686.545 1157.71 L707.124 1144 L727.702 1130.28 L748.28 1116.57 L768.858 1102.85 L789.436 1089.14 L810.014 1075.42 L830.592 1061.71 L851.17 1047.99 L871.749 1034.28 L892.327 1020.56 L912.905 1006.85 L933.483 993.136 L954.061 979.421 L974.639 965.707 L995.217 951.992 L1015.8 938.278 L1036.37 924.563 L1056.95 910.849 L1077.53 897.134 L1098.11 883.42 L1118.69 869.705 L1139.26 855.99 L1159.84 842.276 L1180.42 828.561 L1201 814.847 L1221.58 801.132 L1242.15 787.418 L1262.73 773.703 L1283.31 759.989 L1303.89 746.274 L1324.47 732.56 L1345.05 718.845 L1365.62 705.131 L1386.2 691.416 L1406.78 677.701 L1427.36 663.987 L1447.94 650.272 L1468.51 636.558 L1489.09 622.843 L1509.67 609.129 L1530.25 595.414 L1550.83 581.7 L1571.4 567.985 L1591.98 554.271 L1612.56 540.556 L1633.14 526.842 L1653.72 513.127 L1674.3 499.412 L1694.87 485.698 L1715.45 471.983 L1736.03 458.269 L1756.61 444.554 L1777.19 430.84 L1797.76 417.125 L1818.34 403.411 L1838.92 389.696 L1859.5 375.982 L1880.08 362.267 L1900.65 348.553 L1921.23 334.838 L1941.81 321.123 L1962.39 307.409 L1982.97 293.694 L2003.55 279.98 L2024.12 266.265 L2044.7 252.551 L2065.28 238.836 L2085.86 225.122 L2106.44 211.407 L2127.01 197.693 L2147.59 183.978 L2168.17 170.264 L2188.75 156.549 L2209.33 142.834 L2229.9 129.12 L2250.48 115.405 L2271.06 101.691 L2291.64 87.9763 L2291.64 87.9763 L2271.06 101.691 L2250.48 115.405 L2229.9 129.12 L2209.33 142.834 L2188.75 156.549 L2168.17 170.264 L2147.59 183.978 L2127.01 197.693 L2106.44 211.407 L2085.86 225.122 L2065.28 238.836 L2044.7 252.551 L2024.12 266.265 L2003.55 279.98 L1982.97 293.694 L1962.39 307.409 L1941.81 321.123 L1921.23 334.838 L1900.65 348.553 L1880.08 362.267 L1859.5 375.982 L1838.92 389.696 L1818.34 403.411 L1797.76 417.125 L1777.19 430.84 L1756.61 444.554 L1736.03 458.269 L1715.45 471.983 L1694.87 485.698 L1674.3 499.412 L1653.72 513.127 L1633.14 526.842 L1612.56 540.556 L1591.98 554.271 L1571.4 567.985 L1550.83 581.7 L1530.25 595.414 L1509.67 609.129 L1489.09 622.843 L1468.51 636.558 L1447.94 650.272 L1427.36 663.987 L1406.78 677.701 L1386.2 691.416 L1365.62 705.131 L1345.05 718.845 L1324.47 732.56 L1303.89 746.274 L1283.31 759.989 L1262.73 773.703 L1242.15 787.418 L1221.58 801.132 L1201 814.847 L1180.42 828.561 L1159.84 842.276 L1139.26 855.99 L1118.69 869.705 L1098.11 883.42 L1077.53 897.134 L1056.95 910.849 L1036.37 924.563 L1015.8 938.278 L995.217 951.992 L974.639 965.707 L954.061 979.421 L933.483 993.136 L912.905 1006.85 L892.327 1020.56 L871.749 1034.28 L851.17 1047.99 L830.592 1061.71 L810.014 1075.42 L789.436 1089.14 L768.858 1102.85 L748.28 1116.57 L727.702 1130.28 L707.124 1144 L686.545 1157.71 L665.967 1171.42 L645.389 1185.14 L624.811 1198.85 L604.233 1212.57 L583.655 1226.28 L563.077 1240 L542.499 1253.71 L521.92 1267.43 L501.342 1281.14 L480.764 1294.86 L460.186 1308.57 L439.608 1322.28 L419.03 1336 L398.452 1349.71 L377.874 1363.43 L357.295 1377.14 L336.717 1390.86 L316.139 1404.57 L295.561 1418.29 L274.983 1432 L254.405 1445.72 L254.405 1445.72 L254.405 1445.72  Z\" fill=\"#009af9\" fill-rule=\"evenodd\" fill-opacity=\"0.3\"/>\n",
       "<polyline clip-path=\"url(#clip862)\" style=\"stroke:#000000; stroke-linecap:round; stroke-linejoin:round; stroke-width:4; stroke-opacity:0.3; fill:none\" points=\"254.405,1445.72 274.983,1432 295.561,1418.29 316.139,1404.57 336.717,1390.86 357.295,1377.14 377.874,1363.43 398.452,1349.71 419.03,1336 439.608,1322.28 460.186,1308.57 480.764,1294.86 501.342,1281.14 521.92,1267.43 542.499,1253.71 563.077,1240 583.655,1226.28 604.233,1212.57 624.811,1198.85 645.389,1185.14 665.967,1171.42 686.545,1157.71 707.124,1144 727.702,1130.28 748.28,1116.57 768.858,1102.85 789.436,1089.14 810.014,1075.42 830.592,1061.71 851.17,1047.99 871.749,1034.28 892.327,1020.56 912.905,1006.85 933.483,993.136 954.061,979.421 974.639,965.707 995.217,951.992 1015.8,938.278 1036.37,924.563 1056.95,910.849 1077.53,897.134 1098.11,883.42 1118.69,869.705 1139.26,855.99 1159.84,842.276 1180.42,828.561 1201,814.847 1221.58,801.132 1242.15,787.418 1262.73,773.703 1283.31,759.989 1303.89,746.274 1324.47,732.56 1345.05,718.845 1365.62,705.131 1386.2,691.416 1406.78,677.701 1427.36,663.987 1447.94,650.272 1468.51,636.558 1489.09,622.843 1509.67,609.129 1530.25,595.414 1550.83,581.7 1571.4,567.985 1591.98,554.271 1612.56,540.556 1633.14,526.842 1653.72,513.127 1674.3,499.412 1694.87,485.698 1715.45,471.983 1736.03,458.269 1756.61,444.554 1777.19,430.84 1797.76,417.125 1818.34,403.411 1838.92,389.696 1859.5,375.982 1880.08,362.267 1900.65,348.553 1921.23,334.838 1941.81,321.123 1962.39,307.409 1982.97,293.694 2003.55,279.98 2024.12,266.265 2044.7,252.551 2065.28,238.836 2085.86,225.122 2106.44,211.407 2127.01,197.693 2147.59,183.978 2168.17,170.264 2188.75,156.549 2209.33,142.834 2229.9,129.12 2250.48,115.405 2271.06,101.691 2291.64,87.9763 2271.06,101.691 2250.48,115.405 2229.9,129.12 2209.33,142.834 2188.75,156.549 2168.17,170.264 2147.59,183.978 2127.01,197.693 2106.44,211.407 2085.86,225.122 2065.28,238.836 2044.7,252.551 2024.12,266.265 2003.55,279.98 1982.97,293.694 1962.39,307.409 1941.81,321.123 1921.23,334.838 1900.65,348.553 1880.08,362.267 1859.5,375.982 1838.92,389.696 1818.34,403.411 1797.76,417.125 1777.19,430.84 1756.61,444.554 1736.03,458.269 1715.45,471.983 1694.87,485.698 1674.3,499.412 1653.72,513.127 1633.14,526.842 1612.56,540.556 1591.98,554.271 1571.4,567.985 1550.83,581.7 1530.25,595.414 1509.67,609.129 1489.09,622.843 1468.51,636.558 1447.94,650.272 1427.36,663.987 1406.78,677.701 1386.2,691.416 1365.62,705.131 1345.05,718.845 1324.47,732.56 1303.89,746.274 1283.31,759.989 1262.73,773.703 1242.15,787.418 1221.58,801.132 1201,814.847 1180.42,828.561 1159.84,842.276 1139.26,855.99 1118.69,869.705 1098.11,883.42 1077.53,897.134 1056.95,910.849 1036.37,924.563 1015.8,938.278 995.217,951.992 974.639,965.707 954.061,979.421 933.483,993.136 912.905,1006.85 892.327,1020.56 871.749,1034.28 851.17,1047.99 830.592,1061.71 810.014,1075.42 789.436,1089.14 768.858,1102.85 748.28,1116.57 727.702,1130.28 707.124,1144 686.545,1157.71 665.967,1171.42 645.389,1185.14 624.811,1198.85 604.233,1212.57 583.655,1226.28 563.077,1240 542.499,1253.71 521.92,1267.43 501.342,1281.14 480.764,1294.86 460.186,1308.57 439.608,1322.28 419.03,1336 398.452,1349.71 377.874,1363.43 357.295,1377.14 336.717,1390.86 316.139,1404.57 295.561,1418.29 274.983,1432 254.405,1445.72 \"/>\n",
       "<path clip-path=\"url(#clip860)\" d=\"M265.27 198.898 L533.647 198.898 L533.647 95.2176 L265.27 95.2176  Z\" fill=\"#ffffff\" fill-rule=\"evenodd\" fill-opacity=\"1\"/>\n",
       "<polyline clip-path=\"url(#clip860)\" style=\"stroke:#000000; stroke-linecap:round; stroke-linejoin:round; stroke-width:4; stroke-opacity:1; fill:none\" points=\"265.27,198.898 533.647,198.898 533.647,95.2176 265.27,95.2176 265.27,198.898 \"/>\n",
       "<path clip-path=\"url(#clip860)\" d=\"M289.264 167.794 L433.229 167.794 L433.229 126.322 L289.264 126.322 L289.264 167.794  Z\" fill=\"#009af9\" fill-rule=\"evenodd\" fill-opacity=\"0.3\"/>\n",
       "<polyline clip-path=\"url(#clip860)\" style=\"stroke:#000000; stroke-linecap:round; stroke-linejoin:round; stroke-width:4; stroke-opacity:1; fill:none\" points=\"289.264,167.794 433.229,167.794 433.229,126.322 289.264,126.322 289.264,167.794 \"/>\n",
       "<path clip-path=\"url(#clip860)\" d=\"M471.065 166.745 Q469.26 171.375 467.547 172.787 Q465.834 174.199 462.964 174.199 L459.561 174.199 L459.561 170.634 L462.061 170.634 Q463.82 170.634 464.792 169.8 Q465.764 168.967 466.945 165.865 L467.709 163.921 L457.223 138.412 L461.737 138.412 L469.839 158.689 L477.94 138.412 L482.454 138.412 L471.065 166.745 Z\" fill=\"#000000\" fill-rule=\"nonzero\" fill-opacity=\"1\" /><path clip-path=\"url(#clip860)\" d=\"M489.746 160.402 L497.385 160.402 L497.385 134.037 L489.075 135.703 L489.075 131.444 L497.338 129.778 L502.014 129.778 L502.014 160.402 L509.653 160.402 L509.653 164.338 L489.746 164.338 L489.746 160.402 Z\" fill=\"#000000\" fill-rule=\"nonzero\" fill-opacity=\"1\" /></svg>\n"
      ],
      "text/html": [
       "<?xml version=\"1.0\" encoding=\"utf-8\"?>\n",
       "<svg xmlns=\"http://www.w3.org/2000/svg\" xmlns:xlink=\"http://www.w3.org/1999/xlink\" width=\"600\" height=\"400\" viewBox=\"0 0 2400 1600\">\n",
       "<defs>\n",
       "  <clipPath id=\"clip910\">\n",
       "    <rect x=\"0\" y=\"0\" width=\"2400\" height=\"1600\"/>\n",
       "  </clipPath>\n",
       "</defs>\n",
       "<path clip-path=\"url(#clip910)\" d=\"M0 1600 L2400 1600 L2400 0 L0 0  Z\" fill=\"#ffffff\" fill-rule=\"evenodd\" fill-opacity=\"1\"/>\n",
       "<defs>\n",
       "  <clipPath id=\"clip911\">\n",
       "    <rect x=\"480\" y=\"0\" width=\"1681\" height=\"1600\"/>\n",
       "  </clipPath>\n",
       "</defs>\n",
       "<path clip-path=\"url(#clip910)\" d=\"M193.288 1486.45 L2352.76 1486.45 L2352.76 47.2441 L193.288 47.2441  Z\" fill=\"#ffffff\" fill-rule=\"evenodd\" fill-opacity=\"1\"/>\n",
       "<defs>\n",
       "  <clipPath id=\"clip912\">\n",
       "    <rect x=\"193\" y=\"47\" width=\"2160\" height=\"1440\"/>\n",
       "  </clipPath>\n",
       "</defs>\n",
       "<polyline clip-path=\"url(#clip912)\" style=\"stroke:#000000; stroke-linecap:round; stroke-linejoin:round; stroke-width:2; stroke-opacity:0.1; fill:none\" points=\"526.036,1486.45 526.036,47.2441 \"/>\n",
       "<polyline clip-path=\"url(#clip912)\" style=\"stroke:#000000; stroke-linecap:round; stroke-linejoin:round; stroke-width:2; stroke-opacity:0.1; fill:none\" points=\"933.483,1486.45 933.483,47.2441 \"/>\n",
       "<polyline clip-path=\"url(#clip912)\" style=\"stroke:#000000; stroke-linecap:round; stroke-linejoin:round; stroke-width:2; stroke-opacity:0.1; fill:none\" points=\"1340.93,1486.45 1340.93,47.2441 \"/>\n",
       "<polyline clip-path=\"url(#clip912)\" style=\"stroke:#000000; stroke-linecap:round; stroke-linejoin:round; stroke-width:2; stroke-opacity:0.1; fill:none\" points=\"1748.38,1486.45 1748.38,47.2441 \"/>\n",
       "<polyline clip-path=\"url(#clip912)\" style=\"stroke:#000000; stroke-linecap:round; stroke-linejoin:round; stroke-width:2; stroke-opacity:0.1; fill:none\" points=\"2155.82,1486.45 2155.82,47.2441 \"/>\n",
       "<polyline clip-path=\"url(#clip910)\" style=\"stroke:#000000; stroke-linecap:round; stroke-linejoin:round; stroke-width:4; stroke-opacity:1; fill:none\" points=\"193.288,1486.45 2352.76,1486.45 \"/>\n",
       "<polyline clip-path=\"url(#clip910)\" style=\"stroke:#000000; stroke-linecap:round; stroke-linejoin:round; stroke-width:4; stroke-opacity:1; fill:none\" points=\"526.036,1486.45 526.036,1467.55 \"/>\n",
       "<polyline clip-path=\"url(#clip910)\" style=\"stroke:#000000; stroke-linecap:round; stroke-linejoin:round; stroke-width:4; stroke-opacity:1; fill:none\" points=\"933.483,1486.45 933.483,1467.55 \"/>\n",
       "<polyline clip-path=\"url(#clip910)\" style=\"stroke:#000000; stroke-linecap:round; stroke-linejoin:round; stroke-width:4; stroke-opacity:1; fill:none\" points=\"1340.93,1486.45 1340.93,1467.55 \"/>\n",
       "<polyline clip-path=\"url(#clip910)\" style=\"stroke:#000000; stroke-linecap:round; stroke-linejoin:round; stroke-width:4; stroke-opacity:1; fill:none\" points=\"1748.38,1486.45 1748.38,1467.55 \"/>\n",
       "<polyline clip-path=\"url(#clip910)\" style=\"stroke:#000000; stroke-linecap:round; stroke-linejoin:round; stroke-width:4; stroke-opacity:1; fill:none\" points=\"2155.82,1486.45 2155.82,1467.55 \"/>\n",
       "<path clip-path=\"url(#clip910)\" d=\"M472.888 1532.02 L502.564 1532.02 L502.564 1535.95 L472.888 1535.95 L472.888 1532.02 Z\" fill=\"#000000\" fill-rule=\"nonzero\" fill-opacity=\"1\" /><path clip-path=\"url(#clip910)\" d=\"M522.656 1517.37 Q519.045 1517.37 517.217 1520.93 Q515.411 1524.47 515.411 1531.6 Q515.411 1538.71 517.217 1542.27 Q519.045 1545.82 522.656 1545.82 Q526.291 1545.82 528.096 1542.27 Q529.925 1538.71 529.925 1531.6 Q529.925 1524.47 528.096 1520.93 Q526.291 1517.37 522.656 1517.37 M522.656 1513.66 Q528.467 1513.66 531.522 1518.27 Q534.601 1522.85 534.601 1531.6 Q534.601 1540.33 531.522 1544.94 Q528.467 1549.52 522.656 1549.52 Q516.846 1549.52 513.768 1544.94 Q510.712 1540.33 510.712 1531.6 Q510.712 1522.85 513.768 1518.27 Q516.846 1513.66 522.656 1513.66 Z\" fill=\"#000000\" fill-rule=\"nonzero\" fill-opacity=\"1\" /><path clip-path=\"url(#clip910)\" d=\"M542.818 1542.97 L547.703 1542.97 L547.703 1548.85 L542.818 1548.85 L542.818 1542.97 Z\" fill=\"#000000\" fill-rule=\"nonzero\" fill-opacity=\"1\" /><path clip-path=\"url(#clip910)\" d=\"M572.054 1530.21 Q575.411 1530.93 577.286 1533.2 Q579.184 1535.47 579.184 1538.8 Q579.184 1543.92 575.665 1546.72 Q572.147 1549.52 565.665 1549.52 Q563.49 1549.52 561.175 1549.08 Q558.883 1548.66 556.429 1547.81 L556.429 1543.29 Q558.374 1544.43 560.689 1545.01 Q563.003 1545.58 565.527 1545.58 Q569.925 1545.58 572.216 1543.85 Q574.531 1542.11 574.531 1538.8 Q574.531 1535.75 572.378 1534.03 Q570.249 1532.3 566.429 1532.3 L562.402 1532.3 L562.402 1528.45 L566.615 1528.45 Q570.064 1528.45 571.892 1527.09 Q573.721 1525.7 573.721 1523.11 Q573.721 1520.45 571.823 1519.03 Q569.948 1517.6 566.429 1517.6 Q564.508 1517.6 562.309 1518.01 Q560.11 1518.43 557.471 1519.31 L557.471 1515.14 Q560.133 1514.4 562.448 1514.03 Q564.786 1513.66 566.846 1513.66 Q572.17 1513.66 575.272 1516.09 Q578.374 1518.5 578.374 1522.62 Q578.374 1525.49 576.73 1527.48 Q575.087 1529.45 572.054 1530.21 Z\" fill=\"#000000\" fill-rule=\"nonzero\" fill-opacity=\"1\" /><path clip-path=\"url(#clip910)\" d=\"M910.867 1517.37 Q907.256 1517.37 905.427 1520.93 Q903.622 1524.47 903.622 1531.6 Q903.622 1538.71 905.427 1542.27 Q907.256 1545.82 910.867 1545.82 Q914.501 1545.82 916.307 1542.27 Q918.136 1538.71 918.136 1531.6 Q918.136 1524.47 916.307 1520.93 Q914.501 1517.37 910.867 1517.37 M910.867 1513.66 Q916.677 1513.66 919.733 1518.27 Q922.812 1522.85 922.812 1531.6 Q922.812 1540.33 919.733 1544.94 Q916.677 1549.52 910.867 1549.52 Q905.057 1549.52 901.978 1544.94 Q898.923 1540.33 898.923 1531.6 Q898.923 1522.85 901.978 1518.27 Q905.057 1513.66 910.867 1513.66 Z\" fill=\"#000000\" fill-rule=\"nonzero\" fill-opacity=\"1\" /><path clip-path=\"url(#clip910)\" d=\"M931.029 1542.97 L935.913 1542.97 L935.913 1548.85 L931.029 1548.85 L931.029 1542.97 Z\" fill=\"#000000\" fill-rule=\"nonzero\" fill-opacity=\"1\" /><path clip-path=\"url(#clip910)\" d=\"M956.098 1517.37 Q952.487 1517.37 950.659 1520.93 Q948.853 1524.47 948.853 1531.6 Q948.853 1538.71 950.659 1542.27 Q952.487 1545.82 956.098 1545.82 Q959.733 1545.82 961.538 1542.27 Q963.367 1538.71 963.367 1531.6 Q963.367 1524.47 961.538 1520.93 Q959.733 1517.37 956.098 1517.37 M956.098 1513.66 Q961.909 1513.66 964.964 1518.27 Q968.043 1522.85 968.043 1531.6 Q968.043 1540.33 964.964 1544.94 Q961.909 1549.52 956.098 1549.52 Q950.288 1549.52 947.21 1544.94 Q944.154 1540.33 944.154 1531.6 Q944.154 1522.85 947.21 1518.27 Q950.288 1513.66 956.098 1513.66 Z\" fill=\"#000000\" fill-rule=\"nonzero\" fill-opacity=\"1\" /><path clip-path=\"url(#clip910)\" d=\"M1318.64 1517.37 Q1315.03 1517.37 1313.2 1520.93 Q1311.39 1524.47 1311.39 1531.6 Q1311.39 1538.71 1313.2 1542.27 Q1315.03 1545.82 1318.64 1545.82 Q1322.27 1545.82 1324.08 1542.27 Q1325.91 1538.71 1325.91 1531.6 Q1325.91 1524.47 1324.08 1520.93 Q1322.27 1517.37 1318.64 1517.37 M1318.64 1513.66 Q1324.45 1513.66 1327.5 1518.27 Q1330.58 1522.85 1330.58 1531.6 Q1330.58 1540.33 1327.5 1544.94 Q1324.45 1549.52 1318.64 1549.52 Q1312.83 1549.52 1309.75 1544.94 Q1306.69 1540.33 1306.69 1531.6 Q1306.69 1522.85 1309.75 1518.27 Q1312.83 1513.66 1318.64 1513.66 Z\" fill=\"#000000\" fill-rule=\"nonzero\" fill-opacity=\"1\" /><path clip-path=\"url(#clip910)\" d=\"M1338.8 1542.97 L1343.68 1542.97 L1343.68 1548.85 L1338.8 1548.85 L1338.8 1542.97 Z\" fill=\"#000000\" fill-rule=\"nonzero\" fill-opacity=\"1\" /><path clip-path=\"url(#clip910)\" d=\"M1368.04 1530.21 Q1371.39 1530.93 1373.27 1533.2 Q1375.17 1535.47 1375.17 1538.8 Q1375.17 1543.92 1371.65 1546.72 Q1368.13 1549.52 1361.65 1549.52 Q1359.47 1549.52 1357.16 1549.08 Q1354.86 1548.66 1352.41 1547.81 L1352.41 1543.29 Q1354.36 1544.43 1356.67 1545.01 Q1358.99 1545.58 1361.51 1545.58 Q1365.91 1545.58 1368.2 1543.85 Q1370.51 1542.11 1370.51 1538.8 Q1370.51 1535.75 1368.36 1534.03 Q1366.23 1532.3 1362.41 1532.3 L1358.38 1532.3 L1358.38 1528.45 L1362.6 1528.45 Q1366.05 1528.45 1367.87 1527.09 Q1369.7 1525.7 1369.7 1523.11 Q1369.7 1520.45 1367.8 1519.03 Q1365.93 1517.6 1362.41 1517.6 Q1360.49 1517.6 1358.29 1518.01 Q1356.09 1518.43 1353.45 1519.31 L1353.45 1515.14 Q1356.11 1514.4 1358.43 1514.03 Q1360.77 1513.66 1362.83 1513.66 Q1368.15 1513.66 1371.25 1516.09 Q1374.36 1518.5 1374.36 1522.62 Q1374.36 1525.49 1372.71 1527.48 Q1371.07 1529.45 1368.04 1530.21 Z\" fill=\"#000000\" fill-rule=\"nonzero\" fill-opacity=\"1\" /><path clip-path=\"url(#clip910)\" d=\"M1725.68 1517.37 Q1722.07 1517.37 1720.24 1520.93 Q1718.43 1524.47 1718.43 1531.6 Q1718.43 1538.71 1720.24 1542.27 Q1722.07 1545.82 1725.68 1545.82 Q1729.31 1545.82 1731.12 1542.27 Q1732.95 1538.71 1732.95 1531.6 Q1732.95 1524.47 1731.12 1520.93 Q1729.31 1517.37 1725.68 1517.37 M1725.68 1513.66 Q1731.49 1513.66 1734.55 1518.27 Q1737.62 1522.85 1737.62 1531.6 Q1737.62 1540.33 1734.55 1544.94 Q1731.49 1549.52 1725.68 1549.52 Q1719.87 1549.52 1716.79 1544.94 Q1713.74 1540.33 1713.74 1531.6 Q1713.74 1522.85 1716.79 1518.27 Q1719.87 1513.66 1725.68 1513.66 Z\" fill=\"#000000\" fill-rule=\"nonzero\" fill-opacity=\"1\" /><path clip-path=\"url(#clip910)\" d=\"M1745.84 1542.97 L1750.73 1542.97 L1750.73 1548.85 L1745.84 1548.85 L1745.84 1542.97 Z\" fill=\"#000000\" fill-rule=\"nonzero\" fill-opacity=\"1\" /><path clip-path=\"url(#clip910)\" d=\"M1771.49 1529.7 Q1768.34 1529.7 1766.49 1531.86 Q1764.66 1534.01 1764.66 1537.76 Q1764.66 1541.49 1766.49 1543.66 Q1768.34 1545.82 1771.49 1545.82 Q1774.64 1545.82 1776.47 1543.66 Q1778.32 1541.49 1778.32 1537.76 Q1778.32 1534.01 1776.47 1531.86 Q1774.64 1529.7 1771.49 1529.7 M1780.77 1515.05 L1780.77 1519.31 Q1779.01 1518.48 1777.21 1518.04 Q1775.42 1517.6 1773.67 1517.6 Q1769.04 1517.6 1766.58 1520.72 Q1764.15 1523.85 1763.8 1530.17 Q1765.17 1528.15 1767.23 1527.09 Q1769.29 1526 1771.77 1526 Q1776.98 1526 1779.99 1529.17 Q1783.02 1532.32 1783.02 1537.76 Q1783.02 1543.08 1779.87 1546.3 Q1776.72 1549.52 1771.49 1549.52 Q1765.49 1549.52 1762.32 1544.94 Q1759.15 1540.33 1759.15 1531.6 Q1759.15 1523.41 1763.04 1518.55 Q1766.93 1513.66 1773.48 1513.66 Q1775.24 1513.66 1777.02 1514.01 Q1778.83 1514.36 1780.77 1515.05 Z\" fill=\"#000000\" fill-rule=\"nonzero\" fill-opacity=\"1\" /><path clip-path=\"url(#clip910)\" d=\"M2133.3 1517.37 Q2129.69 1517.37 2127.86 1520.93 Q2126.05 1524.47 2126.05 1531.6 Q2126.05 1538.71 2127.86 1542.27 Q2129.69 1545.82 2133.3 1545.82 Q2136.93 1545.82 2138.74 1542.27 Q2140.57 1538.71 2140.57 1531.6 Q2140.57 1524.47 2138.74 1520.93 Q2136.93 1517.37 2133.3 1517.37 M2133.3 1513.66 Q2139.11 1513.66 2142.17 1518.27 Q2145.24 1522.85 2145.24 1531.6 Q2145.24 1540.33 2142.17 1544.94 Q2139.11 1549.52 2133.3 1549.52 Q2127.49 1549.52 2124.41 1544.94 Q2121.36 1540.33 2121.36 1531.6 Q2121.36 1522.85 2124.41 1518.27 Q2127.49 1513.66 2133.3 1513.66 Z\" fill=\"#000000\" fill-rule=\"nonzero\" fill-opacity=\"1\" /><path clip-path=\"url(#clip910)\" d=\"M2153.46 1542.97 L2158.35 1542.97 L2158.35 1548.85 L2153.46 1548.85 L2153.46 1542.97 Z\" fill=\"#000000\" fill-rule=\"nonzero\" fill-opacity=\"1\" /><path clip-path=\"url(#clip910)\" d=\"M2168.67 1548.13 L2168.67 1543.87 Q2170.43 1544.7 2172.24 1545.14 Q2174.04 1545.58 2175.78 1545.58 Q2180.41 1545.58 2182.84 1542.48 Q2185.29 1539.36 2185.64 1533.01 Q2184.3 1535.01 2182.24 1536.07 Q2180.18 1537.13 2177.68 1537.13 Q2172.49 1537.13 2169.46 1534.01 Q2166.45 1530.86 2166.45 1525.42 Q2166.45 1520.1 2169.6 1516.88 Q2172.74 1513.66 2177.98 1513.66 Q2183.97 1513.66 2187.12 1518.27 Q2190.29 1522.85 2190.29 1531.6 Q2190.29 1539.77 2186.4 1544.66 Q2182.54 1549.52 2175.99 1549.52 Q2174.23 1549.52 2172.42 1549.17 Q2170.61 1548.82 2168.67 1548.13 M2177.98 1533.48 Q2181.12 1533.48 2182.95 1531.32 Q2184.8 1529.17 2184.8 1525.42 Q2184.8 1521.7 2182.95 1519.54 Q2181.12 1517.37 2177.98 1517.37 Q2174.83 1517.37 2172.98 1519.54 Q2171.15 1521.7 2171.15 1525.42 Q2171.15 1529.17 2172.98 1531.32 Q2174.83 1533.48 2177.98 1533.48 Z\" fill=\"#000000\" fill-rule=\"nonzero\" fill-opacity=\"1\" /><polyline clip-path=\"url(#clip912)\" style=\"stroke:#000000; stroke-linecap:round; stroke-linejoin:round; stroke-width:2; stroke-opacity:0.1; fill:none\" points=\"193.288,1264.68 2352.76,1264.68 \"/>\n",
       "<polyline clip-path=\"url(#clip912)\" style=\"stroke:#000000; stroke-linecap:round; stroke-linejoin:round; stroke-width:2; stroke-opacity:0.1; fill:none\" points=\"193.288,993.136 2352.76,993.136 \"/>\n",
       "<polyline clip-path=\"url(#clip912)\" style=\"stroke:#000000; stroke-linecap:round; stroke-linejoin:round; stroke-width:2; stroke-opacity:0.1; fill:none\" points=\"193.288,721.588 2352.76,721.588 \"/>\n",
       "<polyline clip-path=\"url(#clip912)\" style=\"stroke:#000000; stroke-linecap:round; stroke-linejoin:round; stroke-width:2; stroke-opacity:0.1; fill:none\" points=\"193.288,450.04 2352.76,450.04 \"/>\n",
       "<polyline clip-path=\"url(#clip912)\" style=\"stroke:#000000; stroke-linecap:round; stroke-linejoin:round; stroke-width:2; stroke-opacity:0.1; fill:none\" points=\"193.288,178.492 2352.76,178.492 \"/>\n",
       "<polyline clip-path=\"url(#clip910)\" style=\"stroke:#000000; stroke-linecap:round; stroke-linejoin:round; stroke-width:4; stroke-opacity:1; fill:none\" points=\"193.288,1486.45 193.288,47.2441 \"/>\n",
       "<polyline clip-path=\"url(#clip910)\" style=\"stroke:#000000; stroke-linecap:round; stroke-linejoin:round; stroke-width:4; stroke-opacity:1; fill:none\" points=\"193.288,1264.68 212.185,1264.68 \"/>\n",
       "<polyline clip-path=\"url(#clip910)\" style=\"stroke:#000000; stroke-linecap:round; stroke-linejoin:round; stroke-width:4; stroke-opacity:1; fill:none\" points=\"193.288,993.136 212.185,993.136 \"/>\n",
       "<polyline clip-path=\"url(#clip910)\" style=\"stroke:#000000; stroke-linecap:round; stroke-linejoin:round; stroke-width:4; stroke-opacity:1; fill:none\" points=\"193.288,721.588 212.185,721.588 \"/>\n",
       "<polyline clip-path=\"url(#clip910)\" style=\"stroke:#000000; stroke-linecap:round; stroke-linejoin:round; stroke-width:4; stroke-opacity:1; fill:none\" points=\"193.288,450.04 212.185,450.04 \"/>\n",
       "<polyline clip-path=\"url(#clip910)\" style=\"stroke:#000000; stroke-linecap:round; stroke-linejoin:round; stroke-width:4; stroke-opacity:1; fill:none\" points=\"193.288,178.492 212.185,178.492 \"/>\n",
       "<path clip-path=\"url(#clip910)\" d=\"M50.9921 1265.14 L80.6679 1265.14 L80.6679 1269.07 L50.9921 1269.07 L50.9921 1265.14 Z\" fill=\"#000000\" fill-rule=\"nonzero\" fill-opacity=\"1\" /><path clip-path=\"url(#clip910)\" d=\"M100.76 1250.48 Q97.1493 1250.48 95.3206 1254.05 Q93.515 1257.59 93.515 1264.72 Q93.515 1271.82 95.3206 1275.39 Q97.1493 1278.93 100.76 1278.93 Q104.395 1278.93 106.2 1275.39 Q108.029 1271.82 108.029 1264.72 Q108.029 1257.59 106.2 1254.05 Q104.395 1250.48 100.76 1250.48 M100.76 1246.78 Q106.571 1246.78 109.626 1251.39 Q112.705 1255.97 112.705 1264.72 Q112.705 1273.45 109.626 1278.05 Q106.571 1282.64 100.76 1282.64 Q94.9502 1282.64 91.8715 1278.05 Q88.816 1273.45 88.816 1264.72 Q88.816 1255.97 91.8715 1251.39 Q94.9502 1246.78 100.76 1246.78 Z\" fill=\"#000000\" fill-rule=\"nonzero\" fill-opacity=\"1\" /><path clip-path=\"url(#clip910)\" d=\"M120.922 1276.08 L125.807 1276.08 L125.807 1281.96 L120.922 1281.96 L120.922 1276.08 Z\" fill=\"#000000\" fill-rule=\"nonzero\" fill-opacity=\"1\" /><path clip-path=\"url(#clip910)\" d=\"M150.158 1263.33 Q153.515 1264.05 155.39 1266.32 Q157.288 1268.58 157.288 1271.92 Q157.288 1277.03 153.769 1279.83 Q150.251 1282.64 143.769 1282.64 Q141.593 1282.64 139.279 1282.2 Q136.987 1281.78 134.533 1280.92 L134.533 1276.41 Q136.478 1277.54 138.793 1278.12 Q141.107 1278.7 143.631 1278.7 Q148.029 1278.7 150.32 1276.96 Q152.635 1275.23 152.635 1271.92 Q152.635 1268.86 150.482 1267.15 Q148.353 1265.41 144.533 1265.41 L140.506 1265.41 L140.506 1261.57 L144.718 1261.57 Q148.168 1261.57 149.996 1260.2 Q151.825 1258.82 151.825 1256.22 Q151.825 1253.56 149.927 1252.15 Q148.052 1250.71 144.533 1250.71 Q142.612 1250.71 140.413 1251.13 Q138.214 1251.55 135.575 1252.43 L135.575 1248.26 Q138.237 1247.52 140.552 1247.15 Q142.89 1246.78 144.95 1246.78 Q150.274 1246.78 153.376 1249.21 Q156.478 1251.62 156.478 1255.74 Q156.478 1258.61 154.834 1260.6 Q153.191 1262.57 150.158 1263.33 Z\" fill=\"#000000\" fill-rule=\"nonzero\" fill-opacity=\"1\" /><path clip-path=\"url(#clip910)\" d=\"M100.112 978.935 Q96.5011 978.935 94.6724 982.499 Q92.8669 986.041 92.8669 993.171 Q92.8669 1000.28 94.6724 1003.84 Q96.5011 1007.38 100.112 1007.38 Q103.746 1007.38 105.552 1003.84 Q107.381 1000.28 107.381 993.171 Q107.381 986.041 105.552 982.499 Q103.746 978.935 100.112 978.935 M100.112 975.231 Q105.922 975.231 108.978 979.837 Q112.057 984.421 112.057 993.171 Q112.057 1001.9 108.978 1006.5 Q105.922 1011.09 100.112 1011.09 Q94.3021 1011.09 91.2234 1006.5 Q88.1679 1001.9 88.1679 993.171 Q88.1679 984.421 91.2234 979.837 Q94.3021 975.231 100.112 975.231 Z\" fill=\"#000000\" fill-rule=\"nonzero\" fill-opacity=\"1\" /><path clip-path=\"url(#clip910)\" d=\"M120.274 1004.54 L125.158 1004.54 L125.158 1010.42 L120.274 1010.42 L120.274 1004.54 Z\" fill=\"#000000\" fill-rule=\"nonzero\" fill-opacity=\"1\" /><path clip-path=\"url(#clip910)\" d=\"M145.343 978.935 Q141.732 978.935 139.904 982.499 Q138.098 986.041 138.098 993.171 Q138.098 1000.28 139.904 1003.84 Q141.732 1007.38 145.343 1007.38 Q148.978 1007.38 150.783 1003.84 Q152.612 1000.28 152.612 993.171 Q152.612 986.041 150.783 982.499 Q148.978 978.935 145.343 978.935 M145.343 975.231 Q151.154 975.231 154.209 979.837 Q157.288 984.421 157.288 993.171 Q157.288 1001.9 154.209 1006.5 Q151.154 1011.09 145.343 1011.09 Q139.533 1011.09 136.455 1006.5 Q133.399 1001.9 133.399 993.171 Q133.399 984.421 136.455 979.837 Q139.533 975.231 145.343 975.231 Z\" fill=\"#000000\" fill-rule=\"nonzero\" fill-opacity=\"1\" /><path clip-path=\"url(#clip910)\" d=\"M100.76 707.387 Q97.1493 707.387 95.3206 710.951 Q93.515 714.493 93.515 721.623 Q93.515 728.729 95.3206 732.294 Q97.1493 735.836 100.76 735.836 Q104.395 735.836 106.2 732.294 Q108.029 728.729 108.029 721.623 Q108.029 714.493 106.2 710.951 Q104.395 707.387 100.76 707.387 M100.76 703.683 Q106.571 703.683 109.626 708.289 Q112.705 712.873 112.705 721.623 Q112.705 730.35 109.626 734.956 Q106.571 739.539 100.76 739.539 Q94.9502 739.539 91.8715 734.956 Q88.816 730.35 88.816 721.623 Q88.816 712.873 91.8715 708.289 Q94.9502 703.683 100.76 703.683 Z\" fill=\"#000000\" fill-rule=\"nonzero\" fill-opacity=\"1\" /><path clip-path=\"url(#clip910)\" d=\"M120.922 732.988 L125.807 732.988 L125.807 738.868 L120.922 738.868 L120.922 732.988 Z\" fill=\"#000000\" fill-rule=\"nonzero\" fill-opacity=\"1\" /><path clip-path=\"url(#clip910)\" d=\"M150.158 720.234 Q153.515 720.951 155.39 723.22 Q157.288 725.488 157.288 728.822 Q157.288 733.937 153.769 736.738 Q150.251 739.539 143.769 739.539 Q141.593 739.539 139.279 739.099 Q136.987 738.683 134.533 737.826 L134.533 733.312 Q136.478 734.447 138.793 735.025 Q141.107 735.604 143.631 735.604 Q148.029 735.604 150.32 733.868 Q152.635 732.132 152.635 728.822 Q152.635 725.766 150.482 724.053 Q148.353 722.317 144.533 722.317 L140.506 722.317 L140.506 718.475 L144.718 718.475 Q148.168 718.475 149.996 717.109 Q151.825 715.72 151.825 713.127 Q151.825 710.465 149.927 709.053 Q148.052 707.618 144.533 707.618 Q142.612 707.618 140.413 708.035 Q138.214 708.452 135.575 709.331 L135.575 705.164 Q138.237 704.424 140.552 704.053 Q142.89 703.683 144.95 703.683 Q150.274 703.683 153.376 706.114 Q156.478 708.521 156.478 712.641 Q156.478 715.512 154.834 717.502 Q153.191 719.47 150.158 720.234 Z\" fill=\"#000000\" fill-rule=\"nonzero\" fill-opacity=\"1\" /><path clip-path=\"url(#clip910)\" d=\"M99.9502 435.839 Q96.3391 435.839 94.5104 439.404 Q92.7049 442.945 92.7049 450.075 Q92.7049 457.181 94.5104 460.746 Q96.3391 464.288 99.9502 464.288 Q103.584 464.288 105.39 460.746 Q107.219 457.181 107.219 450.075 Q107.219 442.945 105.39 439.404 Q103.584 435.839 99.9502 435.839 M99.9502 432.135 Q105.76 432.135 108.816 436.742 Q111.895 441.325 111.895 450.075 Q111.895 458.802 108.816 463.408 Q105.76 467.991 99.9502 467.991 Q94.14 467.991 91.0614 463.408 Q88.0058 458.802 88.0058 450.075 Q88.0058 441.325 91.0614 436.742 Q94.14 432.135 99.9502 432.135 Z\" fill=\"#000000\" fill-rule=\"nonzero\" fill-opacity=\"1\" /><path clip-path=\"url(#clip910)\" d=\"M120.112 461.441 L124.996 461.441 L124.996 467.32 L120.112 467.32 L120.112 461.441 Z\" fill=\"#000000\" fill-rule=\"nonzero\" fill-opacity=\"1\" /><path clip-path=\"url(#clip910)\" d=\"M145.76 448.177 Q142.612 448.177 140.76 450.329 Q138.931 452.482 138.931 456.232 Q138.931 459.959 140.76 462.135 Q142.612 464.288 145.76 464.288 Q148.908 464.288 150.737 462.135 Q152.589 459.959 152.589 456.232 Q152.589 452.482 150.737 450.329 Q148.908 448.177 145.76 448.177 M155.042 433.524 L155.042 437.783 Q153.283 436.95 151.478 436.51 Q149.695 436.07 147.936 436.07 Q143.306 436.07 140.853 439.195 Q138.422 442.32 138.075 448.64 Q139.441 446.626 141.501 445.561 Q143.561 444.473 146.038 444.473 Q151.246 444.473 154.255 447.644 Q157.288 450.792 157.288 456.232 Q157.288 461.556 154.14 464.774 Q150.992 467.991 145.76 467.991 Q139.765 467.991 136.594 463.408 Q133.422 458.802 133.422 450.075 Q133.422 441.88 137.311 437.019 Q141.2 432.135 147.751 432.135 Q149.51 432.135 151.293 432.482 Q153.098 432.83 155.042 433.524 Z\" fill=\"#000000\" fill-rule=\"nonzero\" fill-opacity=\"1\" /><path clip-path=\"url(#clip910)\" d=\"M100.297 164.291 Q96.6863 164.291 94.8576 167.856 Q93.0521 171.397 93.0521 178.527 Q93.0521 185.633 94.8576 189.198 Q96.6863 192.74 100.297 192.74 Q103.932 192.74 105.737 189.198 Q107.566 185.633 107.566 178.527 Q107.566 171.397 105.737 167.856 Q103.932 164.291 100.297 164.291 M100.297 160.587 Q106.108 160.587 109.163 165.194 Q112.242 169.777 112.242 178.527 Q112.242 187.254 109.163 191.86 Q106.108 196.444 100.297 196.444 Q94.4873 196.444 91.4086 191.86 Q88.353 187.254 88.353 178.527 Q88.353 169.777 91.4086 165.194 Q94.4873 160.587 100.297 160.587 Z\" fill=\"#000000\" fill-rule=\"nonzero\" fill-opacity=\"1\" /><path clip-path=\"url(#clip910)\" d=\"M120.459 189.893 L125.344 189.893 L125.344 195.772 L120.459 195.772 L120.459 189.893 Z\" fill=\"#000000\" fill-rule=\"nonzero\" fill-opacity=\"1\" /><path clip-path=\"url(#clip910)\" d=\"M135.668 195.055 L135.668 190.795 Q137.427 191.629 139.232 192.069 Q141.038 192.508 142.774 192.508 Q147.404 192.508 149.834 189.407 Q152.288 186.282 152.635 179.939 Q151.293 181.93 149.232 182.995 Q147.172 184.059 144.672 184.059 Q139.487 184.059 136.455 180.934 Q133.445 177.786 133.445 172.346 Q133.445 167.022 136.594 163.805 Q139.742 160.587 144.973 160.587 Q150.968 160.587 154.117 165.194 Q157.288 169.777 157.288 178.527 Q157.288 186.698 153.399 191.582 Q149.533 196.444 142.982 196.444 Q141.223 196.444 139.418 196.096 Q137.612 195.749 135.668 195.055 M144.973 180.402 Q148.121 180.402 149.95 178.249 Q151.802 176.096 151.802 172.346 Q151.802 168.62 149.95 166.467 Q148.121 164.291 144.973 164.291 Q141.825 164.291 139.973 166.467 Q138.144 168.62 138.144 172.346 Q138.144 176.096 139.973 178.249 Q141.825 180.402 144.973 180.402 Z\" fill=\"#000000\" fill-rule=\"nonzero\" fill-opacity=\"1\" /><path clip-path=\"url(#clip912)\" d=\"M254.405 1445.72 L274.983 1432 L295.561 1418.29 L316.139 1404.57 L336.717 1390.86 L357.295 1377.14 L377.874 1363.43 L398.452 1349.71 L419.03 1336 L439.608 1322.28 L460.186 1308.57 L480.764 1294.86 L501.342 1281.14 L521.92 1267.43 L542.499 1253.71 L563.077 1240 L583.655 1226.28 L604.233 1212.57 L624.811 1198.85 L645.389 1185.14 L665.967 1171.42 L686.545 1157.71 L707.124 1144 L727.702 1130.28 L748.28 1116.57 L768.858 1102.85 L789.436 1089.14 L810.014 1075.42 L830.592 1061.71 L851.17 1047.99 L871.749 1034.28 L892.327 1020.56 L912.905 1006.85 L933.483 993.136 L954.061 979.421 L974.639 965.707 L995.217 951.992 L1015.8 938.278 L1036.37 924.563 L1056.95 910.849 L1077.53 897.134 L1098.11 883.42 L1118.69 869.705 L1139.26 855.99 L1159.84 842.276 L1180.42 828.561 L1201 814.847 L1221.58 801.132 L1242.15 787.418 L1262.73 773.703 L1283.31 759.989 L1303.89 746.274 L1324.47 732.56 L1345.05 718.845 L1365.62 705.131 L1386.2 691.416 L1406.78 677.701 L1427.36 663.987 L1447.94 650.272 L1468.51 636.558 L1489.09 622.843 L1509.67 609.129 L1530.25 595.414 L1550.83 581.7 L1571.4 567.985 L1591.98 554.271 L1612.56 540.556 L1633.14 526.842 L1653.72 513.127 L1674.3 499.412 L1694.87 485.698 L1715.45 471.983 L1736.03 458.269 L1756.61 444.554 L1777.19 430.84 L1797.76 417.125 L1818.34 403.411 L1838.92 389.696 L1859.5 375.982 L1880.08 362.267 L1900.65 348.553 L1921.23 334.838 L1941.81 321.123 L1962.39 307.409 L1982.97 293.694 L2003.55 279.98 L2024.12 266.265 L2044.7 252.551 L2065.28 238.836 L2085.86 225.122 L2106.44 211.407 L2127.01 197.693 L2147.59 183.978 L2168.17 170.264 L2188.75 156.549 L2209.33 142.834 L2229.9 129.12 L2250.48 115.405 L2271.06 101.691 L2291.64 87.9763 L2291.64 87.9763 L2271.06 101.691 L2250.48 115.405 L2229.9 129.12 L2209.33 142.834 L2188.75 156.549 L2168.17 170.264 L2147.59 183.978 L2127.01 197.693 L2106.44 211.407 L2085.86 225.122 L2065.28 238.836 L2044.7 252.551 L2024.12 266.265 L2003.55 279.98 L1982.97 293.694 L1962.39 307.409 L1941.81 321.123 L1921.23 334.838 L1900.65 348.553 L1880.08 362.267 L1859.5 375.982 L1838.92 389.696 L1818.34 403.411 L1797.76 417.125 L1777.19 430.84 L1756.61 444.554 L1736.03 458.269 L1715.45 471.983 L1694.87 485.698 L1674.3 499.412 L1653.72 513.127 L1633.14 526.842 L1612.56 540.556 L1591.98 554.271 L1571.4 567.985 L1550.83 581.7 L1530.25 595.414 L1509.67 609.129 L1489.09 622.843 L1468.51 636.558 L1447.94 650.272 L1427.36 663.987 L1406.78 677.701 L1386.2 691.416 L1365.62 705.131 L1345.05 718.845 L1324.47 732.56 L1303.89 746.274 L1283.31 759.989 L1262.73 773.703 L1242.15 787.418 L1221.58 801.132 L1201 814.847 L1180.42 828.561 L1159.84 842.276 L1139.26 855.99 L1118.69 869.705 L1098.11 883.42 L1077.53 897.134 L1056.95 910.849 L1036.37 924.563 L1015.8 938.278 L995.217 951.992 L974.639 965.707 L954.061 979.421 L933.483 993.136 L912.905 1006.85 L892.327 1020.56 L871.749 1034.28 L851.17 1047.99 L830.592 1061.71 L810.014 1075.42 L789.436 1089.14 L768.858 1102.85 L748.28 1116.57 L727.702 1130.28 L707.124 1144 L686.545 1157.71 L665.967 1171.42 L645.389 1185.14 L624.811 1198.85 L604.233 1212.57 L583.655 1226.28 L563.077 1240 L542.499 1253.71 L521.92 1267.43 L501.342 1281.14 L480.764 1294.86 L460.186 1308.57 L439.608 1322.28 L419.03 1336 L398.452 1349.71 L377.874 1363.43 L357.295 1377.14 L336.717 1390.86 L316.139 1404.57 L295.561 1418.29 L274.983 1432 L254.405 1445.72 L254.405 1445.72 L254.405 1445.72  Z\" fill=\"#009af9\" fill-rule=\"evenodd\" fill-opacity=\"0.3\"/>\n",
       "<polyline clip-path=\"url(#clip912)\" style=\"stroke:#000000; stroke-linecap:round; stroke-linejoin:round; stroke-width:4; stroke-opacity:0.3; fill:none\" points=\"254.405,1445.72 274.983,1432 295.561,1418.29 316.139,1404.57 336.717,1390.86 357.295,1377.14 377.874,1363.43 398.452,1349.71 419.03,1336 439.608,1322.28 460.186,1308.57 480.764,1294.86 501.342,1281.14 521.92,1267.43 542.499,1253.71 563.077,1240 583.655,1226.28 604.233,1212.57 624.811,1198.85 645.389,1185.14 665.967,1171.42 686.545,1157.71 707.124,1144 727.702,1130.28 748.28,1116.57 768.858,1102.85 789.436,1089.14 810.014,1075.42 830.592,1061.71 851.17,1047.99 871.749,1034.28 892.327,1020.56 912.905,1006.85 933.483,993.136 954.061,979.421 974.639,965.707 995.217,951.992 1015.8,938.278 1036.37,924.563 1056.95,910.849 1077.53,897.134 1098.11,883.42 1118.69,869.705 1139.26,855.99 1159.84,842.276 1180.42,828.561 1201,814.847 1221.58,801.132 1242.15,787.418 1262.73,773.703 1283.31,759.989 1303.89,746.274 1324.47,732.56 1345.05,718.845 1365.62,705.131 1386.2,691.416 1406.78,677.701 1427.36,663.987 1447.94,650.272 1468.51,636.558 1489.09,622.843 1509.67,609.129 1530.25,595.414 1550.83,581.7 1571.4,567.985 1591.98,554.271 1612.56,540.556 1633.14,526.842 1653.72,513.127 1674.3,499.412 1694.87,485.698 1715.45,471.983 1736.03,458.269 1756.61,444.554 1777.19,430.84 1797.76,417.125 1818.34,403.411 1838.92,389.696 1859.5,375.982 1880.08,362.267 1900.65,348.553 1921.23,334.838 1941.81,321.123 1962.39,307.409 1982.97,293.694 2003.55,279.98 2024.12,266.265 2044.7,252.551 2065.28,238.836 2085.86,225.122 2106.44,211.407 2127.01,197.693 2147.59,183.978 2168.17,170.264 2188.75,156.549 2209.33,142.834 2229.9,129.12 2250.48,115.405 2271.06,101.691 2291.64,87.9763 2271.06,101.691 2250.48,115.405 2229.9,129.12 2209.33,142.834 2188.75,156.549 2168.17,170.264 2147.59,183.978 2127.01,197.693 2106.44,211.407 2085.86,225.122 2065.28,238.836 2044.7,252.551 2024.12,266.265 2003.55,279.98 1982.97,293.694 1962.39,307.409 1941.81,321.123 1921.23,334.838 1900.65,348.553 1880.08,362.267 1859.5,375.982 1838.92,389.696 1818.34,403.411 1797.76,417.125 1777.19,430.84 1756.61,444.554 1736.03,458.269 1715.45,471.983 1694.87,485.698 1674.3,499.412 1653.72,513.127 1633.14,526.842 1612.56,540.556 1591.98,554.271 1571.4,567.985 1550.83,581.7 1530.25,595.414 1509.67,609.129 1489.09,622.843 1468.51,636.558 1447.94,650.272 1427.36,663.987 1406.78,677.701 1386.2,691.416 1365.62,705.131 1345.05,718.845 1324.47,732.56 1303.89,746.274 1283.31,759.989 1262.73,773.703 1242.15,787.418 1221.58,801.132 1201,814.847 1180.42,828.561 1159.84,842.276 1139.26,855.99 1118.69,869.705 1098.11,883.42 1077.53,897.134 1056.95,910.849 1036.37,924.563 1015.8,938.278 995.217,951.992 974.639,965.707 954.061,979.421 933.483,993.136 912.905,1006.85 892.327,1020.56 871.749,1034.28 851.17,1047.99 830.592,1061.71 810.014,1075.42 789.436,1089.14 768.858,1102.85 748.28,1116.57 727.702,1130.28 707.124,1144 686.545,1157.71 665.967,1171.42 645.389,1185.14 624.811,1198.85 604.233,1212.57 583.655,1226.28 563.077,1240 542.499,1253.71 521.92,1267.43 501.342,1281.14 480.764,1294.86 460.186,1308.57 439.608,1322.28 419.03,1336 398.452,1349.71 377.874,1363.43 357.295,1377.14 336.717,1390.86 316.139,1404.57 295.561,1418.29 274.983,1432 254.405,1445.72 \"/>\n",
       "<path clip-path=\"url(#clip910)\" d=\"M265.27 198.898 L533.647 198.898 L533.647 95.2176 L265.27 95.2176  Z\" fill=\"#ffffff\" fill-rule=\"evenodd\" fill-opacity=\"1\"/>\n",
       "<polyline clip-path=\"url(#clip910)\" style=\"stroke:#000000; stroke-linecap:round; stroke-linejoin:round; stroke-width:4; stroke-opacity:1; fill:none\" points=\"265.27,198.898 533.647,198.898 533.647,95.2176 265.27,95.2176 265.27,198.898 \"/>\n",
       "<path clip-path=\"url(#clip910)\" d=\"M289.264 167.794 L433.229 167.794 L433.229 126.322 L289.264 126.322 L289.264 167.794  Z\" fill=\"#009af9\" fill-rule=\"evenodd\" fill-opacity=\"0.3\"/>\n",
       "<polyline clip-path=\"url(#clip910)\" style=\"stroke:#000000; stroke-linecap:round; stroke-linejoin:round; stroke-width:4; stroke-opacity:1; fill:none\" points=\"289.264,167.794 433.229,167.794 433.229,126.322 289.264,126.322 289.264,167.794 \"/>\n",
       "<path clip-path=\"url(#clip910)\" d=\"M471.065 166.745 Q469.26 171.375 467.547 172.787 Q465.834 174.199 462.964 174.199 L459.561 174.199 L459.561 170.634 L462.061 170.634 Q463.82 170.634 464.792 169.8 Q465.764 168.967 466.945 165.865 L467.709 163.921 L457.223 138.412 L461.737 138.412 L469.839 158.689 L477.94 138.412 L482.454 138.412 L471.065 166.745 Z\" fill=\"#000000\" fill-rule=\"nonzero\" fill-opacity=\"1\" /><path clip-path=\"url(#clip910)\" d=\"M489.746 160.402 L497.385 160.402 L497.385 134.037 L489.075 135.703 L489.075 131.444 L497.338 129.778 L502.014 129.778 L502.014 160.402 L509.653 160.402 L509.653 164.338 L489.746 164.338 L489.746 160.402 Z\" fill=\"#000000\" fill-rule=\"nonzero\" fill-opacity=\"1\" /></svg>\n"
      ]
     },
     "execution_count": 10,
     "metadata": {},
     "output_type": "execute_result"
    }
   ],
   "source": [
    "plot(tm)"
   ]
  },
  {
   "cell_type": "code",
   "execution_count": 11,
   "id": "9b6b2713",
   "metadata": {},
   "outputs": [
    {
     "data": {
      "text/plain": [
       " - 8.361114845930823 - 47.06114518304093 t - 38.35444517482823 t² + 90.43760911956869 t³ + [-26.7352, 62.5374]"
      ]
     },
     "execution_count": 11,
     "metadata": {},
     "output_type": "execute_result"
    }
   ],
   "source": [
    "# it is a group of polynomials with different error \\in [-26.7352, 62.5374]\n",
    "# let t = x - x0, then we can get the polynomials\n",
    "pols = f(tm)   "
   ]
  },
  {
   "cell_type": "code",
   "execution_count": 12,
   "id": "f9afbb8b",
   "metadata": {},
   "outputs": [
    {
     "data": {
      "text/plain": [
       "TaylorModel1{Float64, Float64}"
      ]
     },
     "execution_count": 12,
     "metadata": {},
     "output_type": "execute_result"
    }
   ],
   "source": [
    "typeof(pols)"
   ]
  },
  {
   "cell_type": "code",
   "execution_count": 13,
   "id": "740e18be",
   "metadata": {},
   "outputs": [
    {
     "data": {
      "text/plain": [
       " - 8.361114845930823 - 47.06114518304093 t - 38.35444517482823 t² + 90.43760911956869 t³ + 𝒪(t⁴)"
      ]
     },
     "execution_count": 13,
     "metadata": {},
     "output_type": "execute_result"
    }
   ],
   "source": [
    "pols.pol  # where t = x - x0"
   ]
  },
  {
   "cell_type": "code",
   "execution_count": 14,
   "id": "6db1001a",
   "metadata": {},
   "outputs": [
    {
     "data": {
      "text/plain": [
       "Taylor1{Float64}"
      ]
     },
     "execution_count": 14,
     "metadata": {},
     "output_type": "execute_result"
    }
   ],
   "source": [
    "typeof(pols.pol)"
   ]
  },
  {
   "cell_type": "code",
   "execution_count": 15,
   "id": "cb85d96f",
   "metadata": {},
   "outputs": [
    {
     "name": "stdout",
     "output_type": "stream",
     "text": [
      "search: \u001b[0m\u001b[1mT\u001b[22m\u001b[0m\u001b[1ma\u001b[22m\u001b[0m\u001b[1my\u001b[22m\u001b[0m\u001b[1ml\u001b[22m\u001b[0m\u001b[1mo\u001b[22m\u001b[0m\u001b[1mr\u001b[22m\u001b[0m\u001b[1m1\u001b[22m se\u001b[0m\u001b[1mt\u001b[22m_t\u001b[0m\u001b[1ma\u001b[22m\u001b[0m\u001b[1my\u001b[22m\u001b[0m\u001b[1ml\u001b[22m\u001b[0m\u001b[1mo\u001b[22m\u001b[0m\u001b[1mr\u001b[22m\u001b[0m\u001b[1m1\u001b[22m_varname \u001b[0m\u001b[1mT\u001b[22m\u001b[0m\u001b[1ma\u001b[22m\u001b[0m\u001b[1my\u001b[22m\u001b[0m\u001b[1ml\u001b[22m\u001b[0m\u001b[1mo\u001b[22m\u001b[0m\u001b[1mr\u001b[22mModel\u001b[0m\u001b[1m1\u001b[22m R\u001b[0m\u001b[1mT\u001b[22m\u001b[0m\u001b[1ma\u001b[22m\u001b[0m\u001b[1my\u001b[22m\u001b[0m\u001b[1ml\u001b[22m\u001b[0m\u001b[1mo\u001b[22m\u001b[0m\u001b[1mr\u001b[22mModel\u001b[0m\u001b[1m1\u001b[22m \u001b[0m\u001b[1mT\u001b[22m\u001b[0m\u001b[1ma\u001b[22m\u001b[0m\u001b[1my\u001b[22m\u001b[0m\u001b[1ml\u001b[22m\u001b[0m\u001b[1mo\u001b[22m\u001b[0m\u001b[1mr\u001b[22mN\n",
      "\n"
     ]
    },
    {
     "data": {
      "text/latex": [
       "\\begin{verbatim}\n",
       "Taylor1{T<:Number} <: AbstractSeries{T}\n",
       "\\end{verbatim}\n",
       "DataType for polynomial expansions in one independent variable.\n",
       "\n",
       "\\textbf{Fields:}\n",
       "\n",
       "\\begin{itemize}\n",
       "\\item \\texttt{coeffs :: Array\\{T,1\\}} Expansion coefficients; the $i$-th   component is the coefficient of degree $i-1$ of the expansion.\n",
       "\n",
       "\n",
       "\\item \\texttt{order  :: Int} Maximum order (degree) of the polynomial.\n",
       "\n",
       "\\end{itemize}\n",
       "Note that \\texttt{Taylor1} variables are callable. For more information, see \\href{@ref}{\\texttt{evaluate}}.\n",
       "\n",
       "\\rule{\\textwidth}{1pt}\n",
       "\\begin{verbatim}\n",
       "Taylor1([T::Type=Float64], order::Int)\n",
       "\\end{verbatim}\n",
       "Shortcut to define the independent variable of a \\texttt{Taylor1\\{T\\}} polynomial of given \\texttt{order}. The default type for \\texttt{T} is \\texttt{Float64}.\n",
       "\n",
       "\\begin{verbatim}\n",
       "julia> Taylor1(16)\n",
       " 1.0 t + 𝒪(t¹⁷)\n",
       "\n",
       "julia> Taylor1(Rational{Int}, 4)\n",
       " 1//1 t + 𝒪(t⁵)\n",
       "\\end{verbatim}\n"
      ],
      "text/markdown": [
       "```\n",
       "Taylor1{T<:Number} <: AbstractSeries{T}\n",
       "```\n",
       "\n",
       "DataType for polynomial expansions in one independent variable.\n",
       "\n",
       "**Fields:**\n",
       "\n",
       "  * `coeffs :: Array{T,1}` Expansion coefficients; the $i$-th   component is the coefficient of degree $i-1$ of the expansion.\n",
       "  * `order  :: Int` Maximum order (degree) of the polynomial.\n",
       "\n",
       "Note that `Taylor1` variables are callable. For more information, see [`evaluate`](@ref).\n",
       "\n",
       "---\n",
       "\n",
       "```\n",
       "Taylor1([T::Type=Float64], order::Int)\n",
       "```\n",
       "\n",
       "Shortcut to define the independent variable of a `Taylor1{T}` polynomial of given `order`. The default type for `T` is `Float64`.\n",
       "\n",
       "```julia\n",
       "julia> Taylor1(16)\n",
       " 1.0 t + 𝒪(t¹⁷)\n",
       "\n",
       "julia> Taylor1(Rational{Int}, 4)\n",
       " 1//1 t + 𝒪(t⁵)\n",
       "```\n"
      ],
      "text/plain": [
       "\u001b[36m  Taylor1{T<:Number} <: AbstractSeries{T}\u001b[39m\n",
       "\n",
       "  DataType for polynomial expansions in one independent variable.\n",
       "\n",
       "  \u001b[1mFields:\u001b[22m\n",
       "\n",
       "    •  \u001b[36mcoeffs :: Array{T,1}\u001b[39m Expansion coefficients; the \u001b[35mi\u001b[39m-th component is\n",
       "       the coefficient of degree \u001b[35mi-1\u001b[39m of the expansion.\n",
       "\n",
       "    •  \u001b[36morder :: Int\u001b[39m Maximum order (degree) of the polynomial.\n",
       "\n",
       "  Note that \u001b[36mTaylor1\u001b[39m variables are callable. For more information, see\n",
       "  \u001b[36mevaluate\u001b[39m.\n",
       "\n",
       "  ────────────────────────────────────────────────────────────────────────────\n",
       "\n",
       "\u001b[36m  Taylor1([T::Type=Float64], order::Int)\u001b[39m\n",
       "\n",
       "  Shortcut to define the independent variable of a \u001b[36mTaylor1{T}\u001b[39m polynomial of\n",
       "  given \u001b[36morder\u001b[39m. The default type for \u001b[36mT\u001b[39m is \u001b[36mFloat64\u001b[39m.\n",
       "\n",
       "\u001b[36m  julia> Taylor1(16)\u001b[39m\n",
       "\u001b[36m   1.0 t + 𝒪(t¹⁷)\u001b[39m\n",
       "\u001b[36m  \u001b[39m\n",
       "\u001b[36m  julia> Taylor1(Rational{Int}, 4)\u001b[39m\n",
       "\u001b[36m   1//1 t + 𝒪(t⁵)\u001b[39m"
      ]
     },
     "execution_count": 15,
     "metadata": {},
     "output_type": "execute_result"
    }
   ],
   "source": [
    "?Taylor1"
   ]
  },
  {
   "cell_type": "code",
   "execution_count": 16,
   "id": "173b9648",
   "metadata": {},
   "outputs": [
    {
     "data": {
      "text/plain": [
       "-21.11046632262456"
      ]
     },
     "execution_count": 16,
     "metadata": {},
     "output_type": "execute_result"
    }
   ],
   "source": [
    "pols.pol(.5 - x0)  # evaluate "
   ]
  },
  {
   "cell_type": "code",
   "execution_count": 17,
   "id": "34b3a572",
   "metadata": {},
   "outputs": [
    {
     "data": {
      "image/png": "[encoded data removed]",
      "image/svg+xml": [
       "<?xml version=\"1.0\" encoding=\"utf-8\"?>\n",
       "<svg xmlns=\"http://www.w3.org/2000/svg\" xmlns:xlink=\"http://www.w3.org/1999/xlink\" width=\"600\" height=\"400\" viewBox=\"0 0 2400 1600\">\n",
       "<defs>\n",
       "  <clipPath id=\"clip950\">\n",
       "    <rect x=\"0\" y=\"0\" width=\"2400\" height=\"1600\"/>\n",
       "  </clipPath>\n",
       "</defs>\n",
       "<path clip-path=\"url(#clip950)\" d=\"M0 1600 L2400 1600 L2400 0 L0 0  Z\" fill=\"#ffffff\" fill-rule=\"evenodd\" fill-opacity=\"1\"/>\n",
       "<defs>\n",
       "  <clipPath id=\"clip951\">\n",
       "    <rect x=\"480\" y=\"0\" width=\"1681\" height=\"1600\"/>\n",
       "  </clipPath>\n",
       "</defs>\n",
       "<path clip-path=\"url(#clip950)\" d=\"M178.867 1486.45 L2352.76 1486.45 L2352.76 47.2441 L178.867 47.2441  Z\" fill=\"#ffffff\" fill-rule=\"evenodd\" fill-opacity=\"1\"/>\n",
       "<defs>\n",
       "  <clipPath id=\"clip952\">\n",
       "    <rect x=\"178\" y=\"47\" width=\"2175\" height=\"1440\"/>\n",
       "  </clipPath>\n",
       "</defs>\n",
       "<polyline clip-path=\"url(#clip952)\" style=\"stroke:#000000; stroke-linecap:round; stroke-linejoin:round; stroke-width:2; stroke-opacity:0.1; fill:none\" points=\"513.837,1486.45 513.837,47.2441 \"/>\n",
       "<polyline clip-path=\"url(#clip952)\" style=\"stroke:#000000; stroke-linecap:round; stroke-linejoin:round; stroke-width:2; stroke-opacity:0.1; fill:none\" points=\"924.005,1486.45 924.005,47.2441 \"/>\n",
       "<polyline clip-path=\"url(#clip952)\" style=\"stroke:#000000; stroke-linecap:round; stroke-linejoin:round; stroke-width:2; stroke-opacity:0.1; fill:none\" points=\"1334.17,1486.45 1334.17,47.2441 \"/>\n",
       "<polyline clip-path=\"url(#clip952)\" style=\"stroke:#000000; stroke-linecap:round; stroke-linejoin:round; stroke-width:2; stroke-opacity:0.1; fill:none\" points=\"1744.34,1486.45 1744.34,47.2441 \"/>\n",
       "<polyline clip-path=\"url(#clip952)\" style=\"stroke:#000000; stroke-linecap:round; stroke-linejoin:round; stroke-width:2; stroke-opacity:0.1; fill:none\" points=\"2154.51,1486.45 2154.51,47.2441 \"/>\n",
       "<polyline clip-path=\"url(#clip950)\" style=\"stroke:#000000; stroke-linecap:round; stroke-linejoin:round; stroke-width:4; stroke-opacity:1; fill:none\" points=\"178.867,1486.45 2352.76,1486.45 \"/>\n",
       "<polyline clip-path=\"url(#clip950)\" style=\"stroke:#000000; stroke-linecap:round; stroke-linejoin:round; stroke-width:4; stroke-opacity:1; fill:none\" points=\"513.837,1486.45 513.837,1467.55 \"/>\n",
       "<polyline clip-path=\"url(#clip950)\" style=\"stroke:#000000; stroke-linecap:round; stroke-linejoin:round; stroke-width:4; stroke-opacity:1; fill:none\" points=\"924.005,1486.45 924.005,1467.55 \"/>\n",
       "<polyline clip-path=\"url(#clip950)\" style=\"stroke:#000000; stroke-linecap:round; stroke-linejoin:round; stroke-width:4; stroke-opacity:1; fill:none\" points=\"1334.17,1486.45 1334.17,1467.55 \"/>\n",
       "<polyline clip-path=\"url(#clip950)\" style=\"stroke:#000000; stroke-linecap:round; stroke-linejoin:round; stroke-width:4; stroke-opacity:1; fill:none\" points=\"1744.34,1486.45 1744.34,1467.55 \"/>\n",
       "<polyline clip-path=\"url(#clip950)\" style=\"stroke:#000000; stroke-linecap:round; stroke-linejoin:round; stroke-width:4; stroke-opacity:1; fill:none\" points=\"2154.51,1486.45 2154.51,1467.55 \"/>\n",
       "<path clip-path=\"url(#clip950)\" d=\"M460.689 1532.02 L490.365 1532.02 L490.365 1535.95 L460.689 1535.95 L460.689 1532.02 Z\" fill=\"#000000\" fill-rule=\"nonzero\" fill-opacity=\"1\" /><path clip-path=\"url(#clip950)\" d=\"M510.457 1517.37 Q506.846 1517.37 505.018 1520.93 Q503.212 1524.47 503.212 1531.6 Q503.212 1538.71 505.018 1542.27 Q506.846 1545.82 510.457 1545.82 Q514.092 1545.82 515.897 1542.27 Q517.726 1538.71 517.726 1531.6 Q517.726 1524.47 515.897 1520.93 Q514.092 1517.37 510.457 1517.37 M510.457 1513.66 Q516.268 1513.66 519.323 1518.27 Q522.402 1522.85 522.402 1531.6 Q522.402 1540.33 519.323 1544.94 Q516.268 1549.52 510.457 1549.52 Q504.647 1549.52 501.569 1544.94 Q498.513 1540.33 498.513 1531.6 Q498.513 1522.85 501.569 1518.27 Q504.647 1513.66 510.457 1513.66 Z\" fill=\"#000000\" fill-rule=\"nonzero\" fill-opacity=\"1\" /><path clip-path=\"url(#clip950)\" d=\"M530.619 1542.97 L535.504 1542.97 L535.504 1548.85 L530.619 1548.85 L530.619 1542.97 Z\" fill=\"#000000\" fill-rule=\"nonzero\" fill-opacity=\"1\" /><path clip-path=\"url(#clip950)\" d=\"M559.855 1530.21 Q563.212 1530.93 565.087 1533.2 Q566.985 1535.47 566.985 1538.8 Q566.985 1543.92 563.466 1546.72 Q559.948 1549.52 553.466 1549.52 Q551.29 1549.52 548.976 1549.08 Q546.684 1548.66 544.23 1547.81 L544.23 1543.29 Q546.175 1544.43 548.49 1545.01 Q550.804 1545.58 553.328 1545.58 Q557.726 1545.58 560.017 1543.85 Q562.332 1542.11 562.332 1538.8 Q562.332 1535.75 560.179 1534.03 Q558.05 1532.3 554.23 1532.3 L550.203 1532.3 L550.203 1528.45 L554.415 1528.45 Q557.865 1528.45 559.693 1527.09 Q561.522 1525.7 561.522 1523.11 Q561.522 1520.45 559.624 1519.03 Q557.749 1517.6 554.23 1517.6 Q552.309 1517.6 550.11 1518.01 Q547.911 1518.43 545.272 1519.31 L545.272 1515.14 Q547.934 1514.4 550.249 1514.03 Q552.587 1513.66 554.647 1513.66 Q559.971 1513.66 563.073 1516.09 Q566.175 1518.5 566.175 1522.62 Q566.175 1525.49 564.531 1527.48 Q562.888 1529.45 559.855 1530.21 Z\" fill=\"#000000\" fill-rule=\"nonzero\" fill-opacity=\"1\" /><path clip-path=\"url(#clip950)\" d=\"M901.389 1517.37 Q897.778 1517.37 895.949 1520.93 Q894.144 1524.47 894.144 1531.6 Q894.144 1538.71 895.949 1542.27 Q897.778 1545.82 901.389 1545.82 Q905.023 1545.82 906.829 1542.27 Q908.658 1538.71 908.658 1531.6 Q908.658 1524.47 906.829 1520.93 Q905.023 1517.37 901.389 1517.37 M901.389 1513.66 Q907.199 1513.66 910.255 1518.27 Q913.334 1522.85 913.334 1531.6 Q913.334 1540.33 910.255 1544.94 Q907.199 1549.52 901.389 1549.52 Q895.579 1549.52 892.5 1544.94 Q889.445 1540.33 889.445 1531.6 Q889.445 1522.85 892.5 1518.27 Q895.579 1513.66 901.389 1513.66 Z\" fill=\"#000000\" fill-rule=\"nonzero\" fill-opacity=\"1\" /><path clip-path=\"url(#clip950)\" d=\"M921.551 1542.97 L926.435 1542.97 L926.435 1548.85 L921.551 1548.85 L921.551 1542.97 Z\" fill=\"#000000\" fill-rule=\"nonzero\" fill-opacity=\"1\" /><path clip-path=\"url(#clip950)\" d=\"M946.62 1517.37 Q943.009 1517.37 941.181 1520.93 Q939.375 1524.47 939.375 1531.6 Q939.375 1538.71 941.181 1542.27 Q943.009 1545.82 946.62 1545.82 Q950.255 1545.82 952.06 1542.27 Q953.889 1538.71 953.889 1531.6 Q953.889 1524.47 952.06 1520.93 Q950.255 1517.37 946.62 1517.37 M946.62 1513.66 Q952.431 1513.66 955.486 1518.27 Q958.565 1522.85 958.565 1531.6 Q958.565 1540.33 955.486 1544.94 Q952.431 1549.52 946.62 1549.52 Q940.81 1549.52 937.732 1544.94 Q934.676 1540.33 934.676 1531.6 Q934.676 1522.85 937.732 1518.27 Q940.81 1513.66 946.62 1513.66 Z\" fill=\"#000000\" fill-rule=\"nonzero\" fill-opacity=\"1\" /><path clip-path=\"url(#clip950)\" d=\"M1311.88 1517.37 Q1308.27 1517.37 1306.44 1520.93 Q1304.64 1524.47 1304.64 1531.6 Q1304.64 1538.71 1306.44 1542.27 Q1308.27 1545.82 1311.88 1545.82 Q1315.52 1545.82 1317.32 1542.27 Q1319.15 1538.71 1319.15 1531.6 Q1319.15 1524.47 1317.32 1520.93 Q1315.52 1517.37 1311.88 1517.37 M1311.88 1513.66 Q1317.69 1513.66 1320.75 1518.27 Q1323.83 1522.85 1323.83 1531.6 Q1323.83 1540.33 1320.75 1544.94 Q1317.69 1549.52 1311.88 1549.52 Q1306.07 1549.52 1302.99 1544.94 Q1299.94 1540.33 1299.94 1531.6 Q1299.94 1522.85 1302.99 1518.27 Q1306.07 1513.66 1311.88 1513.66 Z\" fill=\"#000000\" fill-rule=\"nonzero\" fill-opacity=\"1\" /><path clip-path=\"url(#clip950)\" d=\"M1332.04 1542.97 L1336.93 1542.97 L1336.93 1548.85 L1332.04 1548.85 L1332.04 1542.97 Z\" fill=\"#000000\" fill-rule=\"nonzero\" fill-opacity=\"1\" /><path clip-path=\"url(#clip950)\" d=\"M1361.28 1530.21 Q1364.64 1530.93 1366.51 1533.2 Q1368.41 1535.47 1368.41 1538.8 Q1368.41 1543.92 1364.89 1546.72 Q1361.37 1549.52 1354.89 1549.52 Q1352.71 1549.52 1350.4 1549.08 Q1348.11 1548.66 1345.65 1547.81 L1345.65 1543.29 Q1347.6 1544.43 1349.91 1545.01 Q1352.23 1545.58 1354.75 1545.58 Q1359.15 1545.58 1361.44 1543.85 Q1363.76 1542.11 1363.76 1538.8 Q1363.76 1535.75 1361.6 1534.03 Q1359.47 1532.3 1355.65 1532.3 L1351.63 1532.3 L1351.63 1528.45 L1355.84 1528.45 Q1359.29 1528.45 1361.12 1527.09 Q1362.95 1525.7 1362.95 1523.11 Q1362.95 1520.45 1361.05 1519.03 Q1359.17 1517.6 1355.65 1517.6 Q1353.73 1517.6 1351.53 1518.01 Q1349.33 1518.43 1346.7 1519.31 L1346.7 1515.14 Q1349.36 1514.4 1351.67 1514.03 Q1354.01 1513.66 1356.07 1513.66 Q1361.39 1513.66 1364.5 1516.09 Q1367.6 1518.5 1367.6 1522.62 Q1367.6 1525.49 1365.95 1527.48 Q1364.31 1529.45 1361.28 1530.21 Z\" fill=\"#000000\" fill-rule=\"nonzero\" fill-opacity=\"1\" /><path clip-path=\"url(#clip950)\" d=\"M1721.64 1517.37 Q1718.03 1517.37 1716.2 1520.93 Q1714.4 1524.47 1714.4 1531.6 Q1714.4 1538.71 1716.2 1542.27 Q1718.03 1545.82 1721.64 1545.82 Q1725.28 1545.82 1727.08 1542.27 Q1728.91 1538.71 1728.91 1531.6 Q1728.91 1524.47 1727.08 1520.93 Q1725.28 1517.37 1721.64 1517.37 M1721.64 1513.66 Q1727.45 1513.66 1730.51 1518.27 Q1733.59 1522.85 1733.59 1531.6 Q1733.59 1540.33 1730.51 1544.94 Q1727.45 1549.52 1721.64 1549.52 Q1715.83 1549.52 1712.75 1544.94 Q1709.7 1540.33 1709.7 1531.6 Q1709.7 1522.85 1712.75 1518.27 Q1715.83 1513.66 1721.64 1513.66 Z\" fill=\"#000000\" fill-rule=\"nonzero\" fill-opacity=\"1\" /><path clip-path=\"url(#clip950)\" d=\"M1741.81 1542.97 L1746.69 1542.97 L1746.69 1548.85 L1741.81 1548.85 L1741.81 1542.97 Z\" fill=\"#000000\" fill-rule=\"nonzero\" fill-opacity=\"1\" /><path clip-path=\"url(#clip950)\" d=\"M1767.45 1529.7 Q1764.31 1529.7 1762.45 1531.86 Q1760.62 1534.01 1760.62 1537.76 Q1760.62 1541.49 1762.45 1543.66 Q1764.31 1545.82 1767.45 1545.82 Q1770.6 1545.82 1772.43 1543.66 Q1774.28 1541.49 1774.28 1537.76 Q1774.28 1534.01 1772.43 1531.86 Q1770.6 1529.7 1767.45 1529.7 M1776.74 1515.05 L1776.74 1519.31 Q1774.98 1518.48 1773.17 1518.04 Q1771.39 1517.6 1769.63 1517.6 Q1765 1517.6 1762.55 1520.72 Q1760.12 1523.85 1759.77 1530.17 Q1761.13 1528.15 1763.19 1527.09 Q1765.25 1526 1767.73 1526 Q1772.94 1526 1775.95 1529.17 Q1778.98 1532.32 1778.98 1537.76 Q1778.98 1543.08 1775.83 1546.3 Q1772.69 1549.52 1767.45 1549.52 Q1761.46 1549.52 1758.29 1544.94 Q1755.12 1540.33 1755.12 1531.6 Q1755.12 1523.41 1759 1518.55 Q1762.89 1513.66 1769.44 1513.66 Q1771.2 1513.66 1772.99 1514.01 Q1774.79 1514.36 1776.74 1515.05 Z\" fill=\"#000000\" fill-rule=\"nonzero\" fill-opacity=\"1\" /><path clip-path=\"url(#clip950)\" d=\"M2131.99 1517.37 Q2128.37 1517.37 2126.55 1520.93 Q2124.74 1524.47 2124.74 1531.6 Q2124.74 1538.71 2126.55 1542.27 Q2128.37 1545.82 2131.99 1545.82 Q2135.62 1545.82 2137.42 1542.27 Q2139.25 1538.71 2139.25 1531.6 Q2139.25 1524.47 2137.42 1520.93 Q2135.62 1517.37 2131.99 1517.37 M2131.99 1513.66 Q2137.8 1513.66 2140.85 1518.27 Q2143.93 1522.85 2143.93 1531.6 Q2143.93 1540.33 2140.85 1544.94 Q2137.8 1549.52 2131.99 1549.52 Q2126.17 1549.52 2123.1 1544.94 Q2120.04 1540.33 2120.04 1531.6 Q2120.04 1522.85 2123.1 1518.27 Q2126.17 1513.66 2131.99 1513.66 Z\" fill=\"#000000\" fill-rule=\"nonzero\" fill-opacity=\"1\" /><path clip-path=\"url(#clip950)\" d=\"M2152.15 1542.97 L2157.03 1542.97 L2157.03 1548.85 L2152.15 1548.85 L2152.15 1542.97 Z\" fill=\"#000000\" fill-rule=\"nonzero\" fill-opacity=\"1\" /><path clip-path=\"url(#clip950)\" d=\"M2167.36 1548.13 L2167.36 1543.87 Q2169.11 1544.7 2170.92 1545.14 Q2172.73 1545.58 2174.46 1545.58 Q2179.09 1545.58 2181.52 1542.48 Q2183.98 1539.36 2184.32 1533.01 Q2182.98 1535.01 2180.92 1536.07 Q2178.86 1537.13 2176.36 1537.13 Q2171.17 1537.13 2168.14 1534.01 Q2165.13 1530.86 2165.13 1525.42 Q2165.13 1520.1 2168.28 1516.88 Q2171.43 1513.66 2176.66 1513.66 Q2182.66 1513.66 2185.8 1518.27 Q2188.98 1522.85 2188.98 1531.6 Q2188.98 1539.77 2185.09 1544.66 Q2181.22 1549.52 2174.67 1549.52 Q2172.91 1549.52 2171.11 1549.17 Q2169.3 1548.82 2167.36 1548.13 M2176.66 1533.48 Q2179.81 1533.48 2181.64 1531.32 Q2183.49 1529.17 2183.49 1525.42 Q2183.49 1521.7 2181.64 1519.54 Q2179.81 1517.37 2176.66 1517.37 Q2173.51 1517.37 2171.66 1519.54 Q2169.83 1521.7 2169.83 1525.42 Q2169.83 1529.17 2171.66 1531.32 Q2173.51 1533.48 2176.66 1533.48 Z\" fill=\"#000000\" fill-rule=\"nonzero\" fill-opacity=\"1\" /><polyline clip-path=\"url(#clip952)\" style=\"stroke:#000000; stroke-linecap:round; stroke-linejoin:round; stroke-width:2; stroke-opacity:0.1; fill:none\" points=\"178.867,1339.61 2352.76,1339.61 \"/>\n",
       "<polyline clip-path=\"url(#clip952)\" style=\"stroke:#000000; stroke-linecap:round; stroke-linejoin:round; stroke-width:2; stroke-opacity:0.1; fill:none\" points=\"178.867,1061.23 2352.76,1061.23 \"/>\n",
       "<polyline clip-path=\"url(#clip952)\" style=\"stroke:#000000; stroke-linecap:round; stroke-linejoin:round; stroke-width:2; stroke-opacity:0.1; fill:none\" points=\"178.867,782.837 2352.76,782.837 \"/>\n",
       "<polyline clip-path=\"url(#clip952)\" style=\"stroke:#000000; stroke-linecap:round; stroke-linejoin:round; stroke-width:2; stroke-opacity:0.1; fill:none\" points=\"178.867,504.448 2352.76,504.448 \"/>\n",
       "<polyline clip-path=\"url(#clip952)\" style=\"stroke:#000000; stroke-linecap:round; stroke-linejoin:round; stroke-width:2; stroke-opacity:0.1; fill:none\" points=\"178.867,226.059 2352.76,226.059 \"/>\n",
       "<polyline clip-path=\"url(#clip950)\" style=\"stroke:#000000; stroke-linecap:round; stroke-linejoin:round; stroke-width:4; stroke-opacity:1; fill:none\" points=\"178.867,1486.45 178.867,47.2441 \"/>\n",
       "<polyline clip-path=\"url(#clip950)\" style=\"stroke:#000000; stroke-linecap:round; stroke-linejoin:round; stroke-width:4; stroke-opacity:1; fill:none\" points=\"178.867,1339.61 197.764,1339.61 \"/>\n",
       "<polyline clip-path=\"url(#clip950)\" style=\"stroke:#000000; stroke-linecap:round; stroke-linejoin:round; stroke-width:4; stroke-opacity:1; fill:none\" points=\"178.867,1061.23 197.764,1061.23 \"/>\n",
       "<polyline clip-path=\"url(#clip950)\" style=\"stroke:#000000; stroke-linecap:round; stroke-linejoin:round; stroke-width:4; stroke-opacity:1; fill:none\" points=\"178.867,782.837 197.764,782.837 \"/>\n",
       "<polyline clip-path=\"url(#clip950)\" style=\"stroke:#000000; stroke-linecap:round; stroke-linejoin:round; stroke-width:4; stroke-opacity:1; fill:none\" points=\"178.867,504.448 197.764,504.448 \"/>\n",
       "<polyline clip-path=\"url(#clip950)\" style=\"stroke:#000000; stroke-linecap:round; stroke-linejoin:round; stroke-width:4; stroke-opacity:1; fill:none\" points=\"178.867,226.059 197.764,226.059 \"/>\n",
       "<path clip-path=\"url(#clip950)\" d=\"M50.9921 1340.07 L80.6679 1340.07 L80.6679 1344 L50.9921 1344 L50.9921 1340.07 Z\" fill=\"#000000\" fill-rule=\"nonzero\" fill-opacity=\"1\" /><path clip-path=\"url(#clip950)\" d=\"M90.8067 1322.33 L109.163 1322.33 L109.163 1326.27 L95.0891 1326.27 L95.0891 1334.74 Q96.1076 1334.39 97.1261 1334.23 Q98.1447 1334.05 99.1632 1334.05 Q104.95 1334.05 108.33 1337.22 Q111.709 1340.39 111.709 1345.81 Q111.709 1351.39 108.237 1354.49 Q104.765 1357.57 98.4456 1357.57 Q96.2697 1357.57 94.0012 1357.2 Q91.7558 1356.83 89.3484 1356.08 L89.3484 1351.39 Q91.4317 1352.52 93.6539 1353.08 Q95.8761 1353.63 98.353 1353.63 Q102.358 1353.63 104.696 1351.52 Q107.033 1349.42 107.033 1345.81 Q107.033 1342.2 104.696 1340.09 Q102.358 1337.98 98.353 1337.98 Q96.478 1337.98 94.603 1338.4 Q92.7512 1338.82 90.8067 1339.7 L90.8067 1322.33 Z\" fill=\"#000000\" fill-rule=\"nonzero\" fill-opacity=\"1\" /><path clip-path=\"url(#clip950)\" d=\"M130.922 1325.41 Q127.311 1325.41 125.482 1328.98 Q123.677 1332.52 123.677 1339.65 Q123.677 1346.76 125.482 1350.32 Q127.311 1353.86 130.922 1353.86 Q134.556 1353.86 136.362 1350.32 Q138.191 1346.76 138.191 1339.65 Q138.191 1332.52 136.362 1328.98 Q134.556 1325.41 130.922 1325.41 M130.922 1321.71 Q136.732 1321.71 139.788 1326.32 Q142.867 1330.9 142.867 1339.65 Q142.867 1348.38 139.788 1352.98 Q136.732 1357.57 130.922 1357.57 Q125.112 1357.57 122.033 1352.98 Q118.978 1348.38 118.978 1339.65 Q118.978 1330.9 122.033 1326.32 Q125.112 1321.71 130.922 1321.71 Z\" fill=\"#000000\" fill-rule=\"nonzero\" fill-opacity=\"1\" /><path clip-path=\"url(#clip950)\" d=\"M51.9875 1061.68 L81.6633 1061.68 L81.6633 1065.61 L51.9875 1065.61 L51.9875 1061.68 Z\" fill=\"#000000\" fill-rule=\"nonzero\" fill-opacity=\"1\" /><path clip-path=\"url(#clip950)\" d=\"M95.7836 1074.57 L112.103 1074.57 L112.103 1078.51 L90.1586 1078.51 L90.1586 1074.57 Q92.8206 1071.82 97.4039 1067.19 Q102.01 1062.53 103.191 1061.19 Q105.436 1058.67 106.316 1056.93 Q107.219 1055.17 107.219 1053.48 Q107.219 1050.73 105.274 1048.99 Q103.353 1047.26 100.251 1047.26 Q98.0521 1047.26 95.5984 1048.02 Q93.1678 1048.78 90.3901 1050.33 L90.3901 1045.61 Q93.2141 1044.48 95.6678 1043.9 Q98.1215 1043.32 100.159 1043.32 Q105.529 1043.32 108.723 1046.01 Q111.918 1048.69 111.918 1053.18 Q111.918 1055.31 111.108 1057.23 Q110.321 1059.13 108.214 1061.72 Q107.635 1062.39 104.534 1065.61 Q101.432 1068.81 95.7836 1074.57 Z\" fill=\"#000000\" fill-rule=\"nonzero\" fill-opacity=\"1\" /><path clip-path=\"url(#clip950)\" d=\"M121.964 1043.95 L140.32 1043.95 L140.32 1047.88 L126.246 1047.88 L126.246 1056.35 Q127.265 1056.01 128.283 1055.84 Q129.302 1055.66 130.32 1055.66 Q136.107 1055.66 139.487 1058.83 Q142.867 1062 142.867 1067.42 Q142.867 1073 139.394 1076.1 Q135.922 1079.18 129.603 1079.18 Q127.427 1079.18 125.158 1078.81 Q122.913 1078.44 120.506 1077.7 L120.506 1073 Q122.589 1074.13 124.811 1074.69 Q127.033 1075.24 129.51 1075.24 Q133.515 1075.24 135.853 1073.14 Q138.191 1071.03 138.191 1067.42 Q138.191 1063.81 135.853 1061.7 Q133.515 1059.59 129.51 1059.59 Q127.635 1059.59 125.76 1060.01 Q123.908 1060.43 121.964 1061.31 L121.964 1043.95 Z\" fill=\"#000000\" fill-rule=\"nonzero\" fill-opacity=\"1\" /><path clip-path=\"url(#clip950)\" d=\"M130.922 768.635 Q127.311 768.635 125.482 772.2 Q123.677 775.742 123.677 782.871 Q123.677 789.978 125.482 793.543 Q127.311 797.084 130.922 797.084 Q134.556 797.084 136.362 793.543 Q138.191 789.978 138.191 782.871 Q138.191 775.742 136.362 772.2 Q134.556 768.635 130.922 768.635 M130.922 764.932 Q136.732 764.932 139.788 769.538 Q142.867 774.121 142.867 782.871 Q142.867 791.598 139.788 796.205 Q136.732 800.788 130.922 800.788 Q125.112 800.788 122.033 796.205 Q118.978 791.598 118.978 782.871 Q118.978 774.121 122.033 769.538 Q125.112 764.932 130.922 764.932 Z\" fill=\"#000000\" fill-rule=\"nonzero\" fill-opacity=\"1\" /><path clip-path=\"url(#clip950)\" d=\"M95.7836 517.792 L112.103 517.792 L112.103 521.728 L90.1586 521.728 L90.1586 517.792 Q92.8206 515.038 97.4039 510.408 Q102.01 505.755 103.191 504.413 Q105.436 501.89 106.316 500.154 Q107.219 498.394 107.219 496.705 Q107.219 493.95 105.274 492.214 Q103.353 490.478 100.251 490.478 Q98.0521 490.478 95.5984 491.242 Q93.1678 492.006 90.3901 493.556 L90.3901 488.834 Q93.2141 487.7 95.6678 487.121 Q98.1215 486.543 100.159 486.543 Q105.529 486.543 108.723 489.228 Q111.918 491.913 111.918 496.404 Q111.918 498.533 111.108 500.455 Q110.321 502.353 108.214 504.945 Q107.635 505.617 104.534 508.834 Q101.432 512.029 95.7836 517.792 Z\" fill=\"#000000\" fill-rule=\"nonzero\" fill-opacity=\"1\" /><path clip-path=\"url(#clip950)\" d=\"M121.964 487.168 L140.32 487.168 L140.32 491.103 L126.246 491.103 L126.246 499.575 Q127.265 499.228 128.283 499.066 Q129.302 498.881 130.32 498.881 Q136.107 498.881 139.487 502.052 Q142.867 505.223 142.867 510.64 Q142.867 516.218 139.394 519.32 Q135.922 522.399 129.603 522.399 Q127.427 522.399 125.158 522.029 Q122.913 521.658 120.506 520.917 L120.506 516.218 Q122.589 517.353 124.811 517.908 Q127.033 518.464 129.51 518.464 Q133.515 518.464 135.853 516.357 Q138.191 514.251 138.191 510.64 Q138.191 507.029 135.853 504.922 Q133.515 502.816 129.51 502.816 Q127.635 502.816 125.76 503.232 Q123.908 503.649 121.964 504.529 L121.964 487.168 Z\" fill=\"#000000\" fill-rule=\"nonzero\" fill-opacity=\"1\" /><path clip-path=\"url(#clip950)\" d=\"M90.8067 208.779 L109.163 208.779 L109.163 212.714 L95.0891 212.714 L95.0891 221.186 Q96.1076 220.839 97.1261 220.677 Q98.1447 220.491 99.1632 220.491 Q104.95 220.491 108.33 223.663 Q111.709 226.834 111.709 232.251 Q111.709 237.829 108.237 240.931 Q104.765 244.01 98.4456 244.01 Q96.2697 244.01 94.0012 243.639 Q91.7558 243.269 89.3484 242.528 L89.3484 237.829 Q91.4317 238.964 93.6539 239.519 Q95.8761 240.075 98.353 240.075 Q102.358 240.075 104.696 237.968 Q107.033 235.862 107.033 232.251 Q107.033 228.64 104.696 226.533 Q102.358 224.427 98.353 224.427 Q96.478 224.427 94.603 224.843 Q92.7512 225.26 90.8067 226.14 L90.8067 208.779 Z\" fill=\"#000000\" fill-rule=\"nonzero\" fill-opacity=\"1\" /><path clip-path=\"url(#clip950)\" d=\"M130.922 211.857 Q127.311 211.857 125.482 215.422 Q123.677 218.964 123.677 226.093 Q123.677 233.2 125.482 236.765 Q127.311 240.306 130.922 240.306 Q134.556 240.306 136.362 236.765 Q138.191 233.2 138.191 226.093 Q138.191 218.964 136.362 215.422 Q134.556 211.857 130.922 211.857 M130.922 208.154 Q136.732 208.154 139.788 212.76 Q142.867 217.343 142.867 226.093 Q142.867 234.82 139.788 239.427 Q136.732 244.01 130.922 244.01 Q125.112 244.01 122.033 239.427 Q118.978 234.82 118.978 226.093 Q118.978 217.343 122.033 212.76 Q125.112 208.154 130.922 208.154 Z\" fill=\"#000000\" fill-rule=\"nonzero\" fill-opacity=\"1\" /><path clip-path=\"url(#clip952)\" d=\"M240.392 1445.72 L261.107 1418.81 L281.823 1393.13 L302.538 1368.64 L323.254 1345.32 L343.97 1323.16 L364.685 1302.12 L385.401 1282.2 L406.116 1263.36 L426.832 1245.6 L447.547 1228.88 L468.263 1213.19 L488.978 1198.5 L509.694 1184.8 L530.409 1172.06 L551.125 1160.26 L571.841 1149.38 L592.556 1139.41 L613.272 1130.31 L633.987 1122.07 L654.703 1114.67 L675.418 1108.09 L696.134 1102.3 L716.849 1097.28 L737.565 1093.02 L758.28 1089.49 L778.996 1086.67 L799.712 1084.54 L820.427 1083.08 L841.143 1082.26 L861.858 1082.08 L882.574 1082.5 L903.289 1083.5 L924.005 1085.07 L944.72 1087.18 L965.436 1089.81 L986.151 1092.95 L1006.87 1096.56 L1027.58 1100.64 L1048.3 1105.15 L1069.01 1110.07 L1089.73 1115.4 L1110.44 1121.09 L1131.16 1127.15 L1151.88 1133.53 L1172.59 1140.23 L1193.31 1147.21 L1214.02 1154.47 L1234.74 1161.98 L1255.45 1169.71 L1276.17 1177.65 L1296.88 1185.77 L1317.6 1194.06 L1338.32 1202.49 L1359.03 1211.05 L1379.75 1219.71 L1400.46 1228.44 L1421.18 1237.24 L1441.89 1246.08 L1462.61 1254.93 L1483.32 1263.78 L1504.04 1272.6 L1524.76 1281.38 L1545.47 1290.1 L1566.19 1298.72 L1586.9 1307.24 L1607.62 1315.62 L1628.33 1323.86 L1649.05 1331.92 L1669.76 1339.8 L1690.48 1347.45 L1711.2 1354.88 L1731.91 1362.04 L1752.63 1368.93 L1773.34 1375.53 L1794.06 1381.8 L1814.77 1387.73 L1835.49 1393.31 L1856.2 1398.5 L1876.92 1403.29 L1897.64 1407.65 L1918.35 1411.57 L1939.07 1415.02 L1959.78 1417.99 L1980.5 1420.45 L2001.21 1422.38 L2021.93 1423.76 L2042.64 1424.57 L2063.36 1424.78 L2084.08 1424.39 L2104.79 1423.36 L2125.51 1421.67 L2146.22 1419.31 L2166.94 1416.25 L2187.65 1412.47 L2208.37 1407.95 L2229.08 1402.68 L2249.8 1396.62 L2270.52 1389.76 L2291.23 1382.08 L2291.23 387.976 L2270.52 395.66 L2249.8 402.52 L2229.08 408.578 L2208.37 413.855 L2187.65 418.371 L2166.94 422.148 L2146.22 425.208 L2125.51 427.57 L2104.79 429.256 L2084.08 430.286 L2063.36 430.683 L2042.64 430.467 L2021.93 429.658 L2001.21 428.279 L1980.5 426.349 L1959.78 423.891 L1939.07 420.924 L1918.35 417.471 L1897.64 413.552 L1876.92 409.187 L1856.2 404.399 L1835.49 399.208 L1814.77 393.635 L1794.06 387.701 L1773.34 381.427 L1752.63 374.835 L1731.91 367.944 L1711.2 360.777 L1690.48 353.354 L1669.76 345.696 L1649.05 337.825 L1628.33 329.76 L1607.62 321.525 L1586.9 313.138 L1566.19 304.622 L1545.47 295.997 L1524.76 287.284 L1504.04 278.505 L1483.32 269.68 L1462.61 260.831 L1441.89 251.978 L1421.18 243.142 L1400.46 234.345 L1379.75 225.608 L1359.03 216.95 L1338.32 208.395 L1317.6 199.962 L1296.88 191.672 L1276.17 183.548 L1255.45 175.608 L1234.74 167.876 L1214.02 160.37 L1193.31 153.114 L1172.59 146.127 L1151.88 139.431 L1131.16 133.047 L1110.44 126.995 L1089.73 121.297 L1069.01 115.974 L1048.3 111.046 L1027.58 106.536 L1006.87 102.463 L986.151 98.8487 L965.436 95.7144 L944.72 93.081 L924.005 90.9695 L903.289 89.4008 L882.574 88.3961 L861.858 87.9763 L841.143 88.1624 L820.427 88.9755 L799.712 90.4365 L778.996 92.5665 L758.28 95.3866 L737.565 98.9176 L716.849 103.181 L696.134 108.197 L675.418 113.987 L654.703 120.573 L633.987 127.974 L613.272 136.213 L592.556 145.309 L571.841 155.285 L551.125 166.161 L530.409 177.959 L509.694 190.698 L488.978 204.401 L468.263 219.088 L447.547 234.78 L426.832 251.499 L406.116 269.264 L385.401 288.099 L364.685 308.022 L343.97 329.056 L323.254 351.221 L302.538 374.539 L281.823 399.03 L261.107 424.715 L240.392 451.616 L240.392 1445.72 L240.392 1445.72  Z\" fill=\"#009af9\" fill-rule=\"evenodd\" fill-opacity=\"0.3\"/>\n",
       "<polyline clip-path=\"url(#clip952)\" style=\"stroke:#000000; stroke-linecap:round; stroke-linejoin:round; stroke-width:4; stroke-opacity:0.3; fill:none\" points=\"240.392,1445.72 261.107,1418.81 281.823,1393.13 302.538,1368.64 323.254,1345.32 343.97,1323.16 364.685,1302.12 385.401,1282.2 406.116,1263.36 426.832,1245.6 447.547,1228.88 468.263,1213.19 488.978,1198.5 509.694,1184.8 530.409,1172.06 551.125,1160.26 571.841,1149.38 592.556,1139.41 613.272,1130.31 633.987,1122.07 654.703,1114.67 675.418,1108.09 696.134,1102.3 716.849,1097.28 737.565,1093.02 758.28,1089.49 778.996,1086.67 799.712,1084.54 820.427,1083.08 841.143,1082.26 861.858,1082.08 882.574,1082.5 903.289,1083.5 924.005,1085.07 944.72,1087.18 965.436,1089.81 986.151,1092.95 1006.87,1096.56 1027.58,1100.64 1048.3,1105.15 1069.01,1110.07 1089.73,1115.4 1110.44,1121.09 1131.16,1127.15 1151.88,1133.53 1172.59,1140.23 1193.31,1147.21 1214.02,1154.47 1234.74,1161.98 1255.45,1169.71 1276.17,1177.65 1296.88,1185.77 1317.6,1194.06 1338.32,1202.49 1359.03,1211.05 1379.75,1219.71 1400.46,1228.44 1421.18,1237.24 1441.89,1246.08 1462.61,1254.93 1483.32,1263.78 1504.04,1272.6 1524.76,1281.38 1545.47,1290.1 1566.19,1298.72 1586.9,1307.24 1607.62,1315.62 1628.33,1323.86 1649.05,1331.92 1669.76,1339.8 1690.48,1347.45 1711.2,1354.88 1731.91,1362.04 1752.63,1368.93 1773.34,1375.53 1794.06,1381.8 1814.77,1387.73 1835.49,1393.31 1856.2,1398.5 1876.92,1403.29 1897.64,1407.65 1918.35,1411.57 1939.07,1415.02 1959.78,1417.99 1980.5,1420.45 2001.21,1422.38 2021.93,1423.76 2042.64,1424.57 2063.36,1424.78 2084.08,1424.39 2104.79,1423.36 2125.51,1421.67 2146.22,1419.31 2166.94,1416.25 2187.65,1412.47 2208.37,1407.95 2229.08,1402.68 2249.8,1396.62 2270.52,1389.76 2291.23,1382.08 2291.23,387.976 2270.52,395.66 2249.8,402.52 2229.08,408.578 2208.37,413.855 2187.65,418.371 2166.94,422.148 2146.22,425.208 2125.51,427.57 2104.79,429.256 2084.08,430.286 2063.36,430.683 2042.64,430.467 2021.93,429.658 2001.21,428.279 1980.5,426.349 1959.78,423.891 1939.07,420.924 1918.35,417.471 1897.64,413.552 1876.92,409.187 1856.2,404.399 1835.49,399.208 1814.77,393.635 1794.06,387.701 1773.34,381.427 1752.63,374.835 1731.91,367.944 1711.2,360.777 1690.48,353.354 1669.76,345.696 1649.05,337.825 1628.33,329.76 1607.62,321.525 1586.9,313.138 1566.19,304.622 1545.47,295.997 1524.76,287.284 1504.04,278.505 1483.32,269.68 1462.61,260.831 1441.89,251.978 1421.18,243.142 1400.46,234.345 1379.75,225.608 1359.03,216.95 1338.32,208.395 1317.6,199.962 1296.88,191.672 1276.17,183.548 1255.45,175.608 1234.74,167.876 1214.02,160.37 1193.31,153.114 1172.59,146.127 1151.88,139.431 1131.16,133.047 1110.44,126.995 1089.73,121.297 1069.01,115.974 1048.3,111.046 1027.58,106.536 1006.87,102.463 986.151,98.8487 965.436,95.7144 944.72,93.081 924.005,90.9695 903.289,89.4008 882.574,88.3961 861.858,87.9763 841.143,88.1624 820.427,88.9755 799.712,90.4365 778.996,92.5665 758.28,95.3866 737.565,98.9176 716.849,103.181 696.134,108.197 675.418,113.987 654.703,120.573 633.987,127.974 613.272,136.213 592.556,145.309 571.841,155.285 551.125,166.161 530.409,177.959 509.694,190.698 488.978,204.401 468.263,219.088 447.547,234.78 426.832,251.499 406.116,269.264 385.401,288.099 364.685,308.022 343.97,329.056 323.254,351.221 302.538,374.539 281.823,399.03 261.107,424.715 240.392,451.616 240.392,1445.72 \"/>\n",
       "<path clip-path=\"url(#clip950)\" d=\"M2010.47 198.898 L2280.29 198.898 L2280.29 95.2176 L2010.47 95.2176  Z\" fill=\"#ffffff\" fill-rule=\"evenodd\" fill-opacity=\"1\"/>\n",
       "<polyline clip-path=\"url(#clip950)\" style=\"stroke:#000000; stroke-linecap:round; stroke-linejoin:round; stroke-width:4; stroke-opacity:1; fill:none\" points=\"2010.47,198.898 2280.29,198.898 2280.29,95.2176 2010.47,95.2176 2010.47,198.898 \"/>\n",
       "<path clip-path=\"url(#clip950)\" d=\"M2034.63 167.794 L2179.55 167.794 L2179.55 126.322 L2034.63 126.322 L2034.63 167.794  Z\" fill=\"#009af9\" fill-rule=\"evenodd\" fill-opacity=\"0.3\"/>\n",
       "<polyline clip-path=\"url(#clip950)\" style=\"stroke:#000000; stroke-linecap:round; stroke-linejoin:round; stroke-width:4; stroke-opacity:1; fill:none\" points=\"2034.63,167.794 2179.55,167.794 2179.55,126.322 2034.63,126.322 2034.63,167.794 \"/>\n",
       "<path clip-path=\"url(#clip950)\" d=\"M2217.55 166.745 Q2215.75 171.375 2214.03 172.787 Q2212.32 174.199 2209.45 174.199 L2206.05 174.199 L2206.05 170.634 L2208.55 170.634 Q2210.31 170.634 2211.28 169.8 Q2212.25 168.967 2213.43 165.865 L2214.19 163.921 L2203.71 138.412 L2208.22 138.412 L2216.32 158.689 L2224.43 138.412 L2228.94 138.412 L2217.55 166.745 Z\" fill=\"#000000\" fill-rule=\"nonzero\" fill-opacity=\"1\" /><path clip-path=\"url(#clip950)\" d=\"M2236.23 160.402 L2243.87 160.402 L2243.87 134.037 L2235.56 135.703 L2235.56 131.444 L2243.82 129.778 L2248.5 129.778 L2248.5 160.402 L2256.14 160.402 L2256.14 164.338 L2236.23 164.338 L2236.23 160.402 Z\" fill=\"#000000\" fill-rule=\"nonzero\" fill-opacity=\"1\" /></svg>\n"
      ],
      "text/html": [
       "<?xml version=\"1.0\" encoding=\"utf-8\"?>\n",
       "<svg xmlns=\"http://www.w3.org/2000/svg\" xmlns:xlink=\"http://www.w3.org/1999/xlink\" width=\"600\" height=\"400\" viewBox=\"0 0 2400 1600\">\n",
       "<defs>\n",
       "  <clipPath id=\"clip000\">\n",
       "    <rect x=\"0\" y=\"0\" width=\"2400\" height=\"1600\"/>\n",
       "  </clipPath>\n",
       "</defs>\n",
       "<path clip-path=\"url(#clip000)\" d=\"M0 1600 L2400 1600 L2400 0 L0 0  Z\" fill=\"#ffffff\" fill-rule=\"evenodd\" fill-opacity=\"1\"/>\n",
       "<defs>\n",
       "  <clipPath id=\"clip001\">\n",
       "    <rect x=\"480\" y=\"0\" width=\"1681\" height=\"1600\"/>\n",
       "  </clipPath>\n",
       "</defs>\n",
       "<path clip-path=\"url(#clip000)\" d=\"M178.867 1486.45 L2352.76 1486.45 L2352.76 47.2441 L178.867 47.2441  Z\" fill=\"#ffffff\" fill-rule=\"evenodd\" fill-opacity=\"1\"/>\n",
       "<defs>\n",
       "  <clipPath id=\"clip002\">\n",
       "    <rect x=\"178\" y=\"47\" width=\"2175\" height=\"1440\"/>\n",
       "  </clipPath>\n",
       "</defs>\n",
       "<polyline clip-path=\"url(#clip002)\" style=\"stroke:#000000; stroke-linecap:round; stroke-linejoin:round; stroke-width:2; stroke-opacity:0.1; fill:none\" points=\"513.837,1486.45 513.837,47.2441 \"/>\n",
       "<polyline clip-path=\"url(#clip002)\" style=\"stroke:#000000; stroke-linecap:round; stroke-linejoin:round; stroke-width:2; stroke-opacity:0.1; fill:none\" points=\"924.005,1486.45 924.005,47.2441 \"/>\n",
       "<polyline clip-path=\"url(#clip002)\" style=\"stroke:#000000; stroke-linecap:round; stroke-linejoin:round; stroke-width:2; stroke-opacity:0.1; fill:none\" points=\"1334.17,1486.45 1334.17,47.2441 \"/>\n",
       "<polyline clip-path=\"url(#clip002)\" style=\"stroke:#000000; stroke-linecap:round; stroke-linejoin:round; stroke-width:2; stroke-opacity:0.1; fill:none\" points=\"1744.34,1486.45 1744.34,47.2441 \"/>\n",
       "<polyline clip-path=\"url(#clip002)\" style=\"stroke:#000000; stroke-linecap:round; stroke-linejoin:round; stroke-width:2; stroke-opacity:0.1; fill:none\" points=\"2154.51,1486.45 2154.51,47.2441 \"/>\n",
       "<polyline clip-path=\"url(#clip000)\" style=\"stroke:#000000; stroke-linecap:round; stroke-linejoin:round; stroke-width:4; stroke-opacity:1; fill:none\" points=\"178.867,1486.45 2352.76,1486.45 \"/>\n",
       "<polyline clip-path=\"url(#clip000)\" style=\"stroke:#000000; stroke-linecap:round; stroke-linejoin:round; stroke-width:4; stroke-opacity:1; fill:none\" points=\"513.837,1486.45 513.837,1467.55 \"/>\n",
       "<polyline clip-path=\"url(#clip000)\" style=\"stroke:#000000; stroke-linecap:round; stroke-linejoin:round; stroke-width:4; stroke-opacity:1; fill:none\" points=\"924.005,1486.45 924.005,1467.55 \"/>\n",
       "<polyline clip-path=\"url(#clip000)\" style=\"stroke:#000000; stroke-linecap:round; stroke-linejoin:round; stroke-width:4; stroke-opacity:1; fill:none\" points=\"1334.17,1486.45 1334.17,1467.55 \"/>\n",
       "<polyline clip-path=\"url(#clip000)\" style=\"stroke:#000000; stroke-linecap:round; stroke-linejoin:round; stroke-width:4; stroke-opacity:1; fill:none\" points=\"1744.34,1486.45 1744.34,1467.55 \"/>\n",
       "<polyline clip-path=\"url(#clip000)\" style=\"stroke:#000000; stroke-linecap:round; stroke-linejoin:round; stroke-width:4; stroke-opacity:1; fill:none\" points=\"2154.51,1486.45 2154.51,1467.55 \"/>\n",
       "<path clip-path=\"url(#clip000)\" d=\"M460.689 1532.02 L490.365 1532.02 L490.365 1535.95 L460.689 1535.95 L460.689 1532.02 Z\" fill=\"#000000\" fill-rule=\"nonzero\" fill-opacity=\"1\" /><path clip-path=\"url(#clip000)\" d=\"M510.457 1517.37 Q506.846 1517.37 505.018 1520.93 Q503.212 1524.47 503.212 1531.6 Q503.212 1538.71 505.018 1542.27 Q506.846 1545.82 510.457 1545.82 Q514.092 1545.82 515.897 1542.27 Q517.726 1538.71 517.726 1531.6 Q517.726 1524.47 515.897 1520.93 Q514.092 1517.37 510.457 1517.37 M510.457 1513.66 Q516.268 1513.66 519.323 1518.27 Q522.402 1522.85 522.402 1531.6 Q522.402 1540.33 519.323 1544.94 Q516.268 1549.52 510.457 1549.52 Q504.647 1549.52 501.569 1544.94 Q498.513 1540.33 498.513 1531.6 Q498.513 1522.85 501.569 1518.27 Q504.647 1513.66 510.457 1513.66 Z\" fill=\"#000000\" fill-rule=\"nonzero\" fill-opacity=\"1\" /><path clip-path=\"url(#clip000)\" d=\"M530.619 1542.97 L535.504 1542.97 L535.504 1548.85 L530.619 1548.85 L530.619 1542.97 Z\" fill=\"#000000\" fill-rule=\"nonzero\" fill-opacity=\"1\" /><path clip-path=\"url(#clip000)\" d=\"M559.855 1530.21 Q563.212 1530.93 565.087 1533.2 Q566.985 1535.47 566.985 1538.8 Q566.985 1543.92 563.466 1546.72 Q559.948 1549.52 553.466 1549.52 Q551.29 1549.52 548.976 1549.08 Q546.684 1548.66 544.23 1547.81 L544.23 1543.29 Q546.175 1544.43 548.49 1545.01 Q550.804 1545.58 553.328 1545.58 Q557.726 1545.58 560.017 1543.85 Q562.332 1542.11 562.332 1538.8 Q562.332 1535.75 560.179 1534.03 Q558.05 1532.3 554.23 1532.3 L550.203 1532.3 L550.203 1528.45 L554.415 1528.45 Q557.865 1528.45 559.693 1527.09 Q561.522 1525.7 561.522 1523.11 Q561.522 1520.45 559.624 1519.03 Q557.749 1517.6 554.23 1517.6 Q552.309 1517.6 550.11 1518.01 Q547.911 1518.43 545.272 1519.31 L545.272 1515.14 Q547.934 1514.4 550.249 1514.03 Q552.587 1513.66 554.647 1513.66 Q559.971 1513.66 563.073 1516.09 Q566.175 1518.5 566.175 1522.62 Q566.175 1525.49 564.531 1527.48 Q562.888 1529.45 559.855 1530.21 Z\" fill=\"#000000\" fill-rule=\"nonzero\" fill-opacity=\"1\" /><path clip-path=\"url(#clip000)\" d=\"M901.389 1517.37 Q897.778 1517.37 895.949 1520.93 Q894.144 1524.47 894.144 1531.6 Q894.144 1538.71 895.949 1542.27 Q897.778 1545.82 901.389 1545.82 Q905.023 1545.82 906.829 1542.27 Q908.658 1538.71 908.658 1531.6 Q908.658 1524.47 906.829 1520.93 Q905.023 1517.37 901.389 1517.37 M901.389 1513.66 Q907.199 1513.66 910.255 1518.27 Q913.334 1522.85 913.334 1531.6 Q913.334 1540.33 910.255 1544.94 Q907.199 1549.52 901.389 1549.52 Q895.579 1549.52 892.5 1544.94 Q889.445 1540.33 889.445 1531.6 Q889.445 1522.85 892.5 1518.27 Q895.579 1513.66 901.389 1513.66 Z\" fill=\"#000000\" fill-rule=\"nonzero\" fill-opacity=\"1\" /><path clip-path=\"url(#clip000)\" d=\"M921.551 1542.97 L926.435 1542.97 L926.435 1548.85 L921.551 1548.85 L921.551 1542.97 Z\" fill=\"#000000\" fill-rule=\"nonzero\" fill-opacity=\"1\" /><path clip-path=\"url(#clip000)\" d=\"M946.62 1517.37 Q943.009 1517.37 941.181 1520.93 Q939.375 1524.47 939.375 1531.6 Q939.375 1538.71 941.181 1542.27 Q943.009 1545.82 946.62 1545.82 Q950.255 1545.82 952.06 1542.27 Q953.889 1538.71 953.889 1531.6 Q953.889 1524.47 952.06 1520.93 Q950.255 1517.37 946.62 1517.37 M946.62 1513.66 Q952.431 1513.66 955.486 1518.27 Q958.565 1522.85 958.565 1531.6 Q958.565 1540.33 955.486 1544.94 Q952.431 1549.52 946.62 1549.52 Q940.81 1549.52 937.732 1544.94 Q934.676 1540.33 934.676 1531.6 Q934.676 1522.85 937.732 1518.27 Q940.81 1513.66 946.62 1513.66 Z\" fill=\"#000000\" fill-rule=\"nonzero\" fill-opacity=\"1\" /><path clip-path=\"url(#clip000)\" d=\"M1311.88 1517.37 Q1308.27 1517.37 1306.44 1520.93 Q1304.64 1524.47 1304.64 1531.6 Q1304.64 1538.71 1306.44 1542.27 Q1308.27 1545.82 1311.88 1545.82 Q1315.52 1545.82 1317.32 1542.27 Q1319.15 1538.71 1319.15 1531.6 Q1319.15 1524.47 1317.32 1520.93 Q1315.52 1517.37 1311.88 1517.37 M1311.88 1513.66 Q1317.69 1513.66 1320.75 1518.27 Q1323.83 1522.85 1323.83 1531.6 Q1323.83 1540.33 1320.75 1544.94 Q1317.69 1549.52 1311.88 1549.52 Q1306.07 1549.52 1302.99 1544.94 Q1299.94 1540.33 1299.94 1531.6 Q1299.94 1522.85 1302.99 1518.27 Q1306.07 1513.66 1311.88 1513.66 Z\" fill=\"#000000\" fill-rule=\"nonzero\" fill-opacity=\"1\" /><path clip-path=\"url(#clip000)\" d=\"M1332.04 1542.97 L1336.93 1542.97 L1336.93 1548.85 L1332.04 1548.85 L1332.04 1542.97 Z\" fill=\"#000000\" fill-rule=\"nonzero\" fill-opacity=\"1\" /><path clip-path=\"url(#clip000)\" d=\"M1361.28 1530.21 Q1364.64 1530.93 1366.51 1533.2 Q1368.41 1535.47 1368.41 1538.8 Q1368.41 1543.92 1364.89 1546.72 Q1361.37 1549.52 1354.89 1549.52 Q1352.71 1549.52 1350.4 1549.08 Q1348.11 1548.66 1345.65 1547.81 L1345.65 1543.29 Q1347.6 1544.43 1349.91 1545.01 Q1352.23 1545.58 1354.75 1545.58 Q1359.15 1545.58 1361.44 1543.85 Q1363.76 1542.11 1363.76 1538.8 Q1363.76 1535.75 1361.6 1534.03 Q1359.47 1532.3 1355.65 1532.3 L1351.63 1532.3 L1351.63 1528.45 L1355.84 1528.45 Q1359.29 1528.45 1361.12 1527.09 Q1362.95 1525.7 1362.95 1523.11 Q1362.95 1520.45 1361.05 1519.03 Q1359.17 1517.6 1355.65 1517.6 Q1353.73 1517.6 1351.53 1518.01 Q1349.33 1518.43 1346.7 1519.31 L1346.7 1515.14 Q1349.36 1514.4 1351.67 1514.03 Q1354.01 1513.66 1356.07 1513.66 Q1361.39 1513.66 1364.5 1516.09 Q1367.6 1518.5 1367.6 1522.62 Q1367.6 1525.49 1365.95 1527.48 Q1364.31 1529.45 1361.28 1530.21 Z\" fill=\"#000000\" fill-rule=\"nonzero\" fill-opacity=\"1\" /><path clip-path=\"url(#clip000)\" d=\"M1721.64 1517.37 Q1718.03 1517.37 1716.2 1520.93 Q1714.4 1524.47 1714.4 1531.6 Q1714.4 1538.71 1716.2 1542.27 Q1718.03 1545.82 1721.64 1545.82 Q1725.28 1545.82 1727.08 1542.27 Q1728.91 1538.71 1728.91 1531.6 Q1728.91 1524.47 1727.08 1520.93 Q1725.28 1517.37 1721.64 1517.37 M1721.64 1513.66 Q1727.45 1513.66 1730.51 1518.27 Q1733.59 1522.85 1733.59 1531.6 Q1733.59 1540.33 1730.51 1544.94 Q1727.45 1549.52 1721.64 1549.52 Q1715.83 1549.52 1712.75 1544.94 Q1709.7 1540.33 1709.7 1531.6 Q1709.7 1522.85 1712.75 1518.27 Q1715.83 1513.66 1721.64 1513.66 Z\" fill=\"#000000\" fill-rule=\"nonzero\" fill-opacity=\"1\" /><path clip-path=\"url(#clip000)\" d=\"M1741.81 1542.97 L1746.69 1542.97 L1746.69 1548.85 L1741.81 1548.85 L1741.81 1542.97 Z\" fill=\"#000000\" fill-rule=\"nonzero\" fill-opacity=\"1\" /><path clip-path=\"url(#clip000)\" d=\"M1767.45 1529.7 Q1764.31 1529.7 1762.45 1531.86 Q1760.62 1534.01 1760.62 1537.76 Q1760.62 1541.49 1762.45 1543.66 Q1764.31 1545.82 1767.45 1545.82 Q1770.6 1545.82 1772.43 1543.66 Q1774.28 1541.49 1774.28 1537.76 Q1774.28 1534.01 1772.43 1531.86 Q1770.6 1529.7 1767.45 1529.7 M1776.74 1515.05 L1776.74 1519.31 Q1774.98 1518.48 1773.17 1518.04 Q1771.39 1517.6 1769.63 1517.6 Q1765 1517.6 1762.55 1520.72 Q1760.12 1523.85 1759.77 1530.17 Q1761.13 1528.15 1763.19 1527.09 Q1765.25 1526 1767.73 1526 Q1772.94 1526 1775.95 1529.17 Q1778.98 1532.32 1778.98 1537.76 Q1778.98 1543.08 1775.83 1546.3 Q1772.69 1549.52 1767.45 1549.52 Q1761.46 1549.52 1758.29 1544.94 Q1755.12 1540.33 1755.12 1531.6 Q1755.12 1523.41 1759 1518.55 Q1762.89 1513.66 1769.44 1513.66 Q1771.2 1513.66 1772.99 1514.01 Q1774.79 1514.36 1776.74 1515.05 Z\" fill=\"#000000\" fill-rule=\"nonzero\" fill-opacity=\"1\" /><path clip-path=\"url(#clip000)\" d=\"M2131.99 1517.37 Q2128.37 1517.37 2126.55 1520.93 Q2124.74 1524.47 2124.74 1531.6 Q2124.74 1538.71 2126.55 1542.27 Q2128.37 1545.82 2131.99 1545.82 Q2135.62 1545.82 2137.42 1542.27 Q2139.25 1538.71 2139.25 1531.6 Q2139.25 1524.47 2137.42 1520.93 Q2135.62 1517.37 2131.99 1517.37 M2131.99 1513.66 Q2137.8 1513.66 2140.85 1518.27 Q2143.93 1522.85 2143.93 1531.6 Q2143.93 1540.33 2140.85 1544.94 Q2137.8 1549.52 2131.99 1549.52 Q2126.17 1549.52 2123.1 1544.94 Q2120.04 1540.33 2120.04 1531.6 Q2120.04 1522.85 2123.1 1518.27 Q2126.17 1513.66 2131.99 1513.66 Z\" fill=\"#000000\" fill-rule=\"nonzero\" fill-opacity=\"1\" /><path clip-path=\"url(#clip000)\" d=\"M2152.15 1542.97 L2157.03 1542.97 L2157.03 1548.85 L2152.15 1548.85 L2152.15 1542.97 Z\" fill=\"#000000\" fill-rule=\"nonzero\" fill-opacity=\"1\" /><path clip-path=\"url(#clip000)\" d=\"M2167.36 1548.13 L2167.36 1543.87 Q2169.11 1544.7 2170.92 1545.14 Q2172.73 1545.58 2174.46 1545.58 Q2179.09 1545.58 2181.52 1542.48 Q2183.98 1539.36 2184.32 1533.01 Q2182.98 1535.01 2180.92 1536.07 Q2178.86 1537.13 2176.36 1537.13 Q2171.17 1537.13 2168.14 1534.01 Q2165.13 1530.86 2165.13 1525.42 Q2165.13 1520.1 2168.28 1516.88 Q2171.43 1513.66 2176.66 1513.66 Q2182.66 1513.66 2185.8 1518.27 Q2188.98 1522.85 2188.98 1531.6 Q2188.98 1539.77 2185.09 1544.66 Q2181.22 1549.52 2174.67 1549.52 Q2172.91 1549.52 2171.11 1549.17 Q2169.3 1548.82 2167.36 1548.13 M2176.66 1533.48 Q2179.81 1533.48 2181.64 1531.32 Q2183.49 1529.17 2183.49 1525.42 Q2183.49 1521.7 2181.64 1519.54 Q2179.81 1517.37 2176.66 1517.37 Q2173.51 1517.37 2171.66 1519.54 Q2169.83 1521.7 2169.83 1525.42 Q2169.83 1529.17 2171.66 1531.32 Q2173.51 1533.48 2176.66 1533.48 Z\" fill=\"#000000\" fill-rule=\"nonzero\" fill-opacity=\"1\" /><polyline clip-path=\"url(#clip002)\" style=\"stroke:#000000; stroke-linecap:round; stroke-linejoin:round; stroke-width:2; stroke-opacity:0.1; fill:none\" points=\"178.867,1339.61 2352.76,1339.61 \"/>\n",
       "<polyline clip-path=\"url(#clip002)\" style=\"stroke:#000000; stroke-linecap:round; stroke-linejoin:round; stroke-width:2; stroke-opacity:0.1; fill:none\" points=\"178.867,1061.23 2352.76,1061.23 \"/>\n",
       "<polyline clip-path=\"url(#clip002)\" style=\"stroke:#000000; stroke-linecap:round; stroke-linejoin:round; stroke-width:2; stroke-opacity:0.1; fill:none\" points=\"178.867,782.837 2352.76,782.837 \"/>\n",
       "<polyline clip-path=\"url(#clip002)\" style=\"stroke:#000000; stroke-linecap:round; stroke-linejoin:round; stroke-width:2; stroke-opacity:0.1; fill:none\" points=\"178.867,504.448 2352.76,504.448 \"/>\n",
       "<polyline clip-path=\"url(#clip002)\" style=\"stroke:#000000; stroke-linecap:round; stroke-linejoin:round; stroke-width:2; stroke-opacity:0.1; fill:none\" points=\"178.867,226.059 2352.76,226.059 \"/>\n",
       "<polyline clip-path=\"url(#clip000)\" style=\"stroke:#000000; stroke-linecap:round; stroke-linejoin:round; stroke-width:4; stroke-opacity:1; fill:none\" points=\"178.867,1486.45 178.867,47.2441 \"/>\n",
       "<polyline clip-path=\"url(#clip000)\" style=\"stroke:#000000; stroke-linecap:round; stroke-linejoin:round; stroke-width:4; stroke-opacity:1; fill:none\" points=\"178.867,1339.61 197.764,1339.61 \"/>\n",
       "<polyline clip-path=\"url(#clip000)\" style=\"stroke:#000000; stroke-linecap:round; stroke-linejoin:round; stroke-width:4; stroke-opacity:1; fill:none\" points=\"178.867,1061.23 197.764,1061.23 \"/>\n",
       "<polyline clip-path=\"url(#clip000)\" style=\"stroke:#000000; stroke-linecap:round; stroke-linejoin:round; stroke-width:4; stroke-opacity:1; fill:none\" points=\"178.867,782.837 197.764,782.837 \"/>\n",
       "<polyline clip-path=\"url(#clip000)\" style=\"stroke:#000000; stroke-linecap:round; stroke-linejoin:round; stroke-width:4; stroke-opacity:1; fill:none\" points=\"178.867,504.448 197.764,504.448 \"/>\n",
       "<polyline clip-path=\"url(#clip000)\" style=\"stroke:#000000; stroke-linecap:round; stroke-linejoin:round; stroke-width:4; stroke-opacity:1; fill:none\" points=\"178.867,226.059 197.764,226.059 \"/>\n",
       "<path clip-path=\"url(#clip000)\" d=\"M50.9921 1340.07 L80.6679 1340.07 L80.6679 1344 L50.9921 1344 L50.9921 1340.07 Z\" fill=\"#000000\" fill-rule=\"nonzero\" fill-opacity=\"1\" /><path clip-path=\"url(#clip000)\" d=\"M90.8067 1322.33 L109.163 1322.33 L109.163 1326.27 L95.0891 1326.27 L95.0891 1334.74 Q96.1076 1334.39 97.1261 1334.23 Q98.1447 1334.05 99.1632 1334.05 Q104.95 1334.05 108.33 1337.22 Q111.709 1340.39 111.709 1345.81 Q111.709 1351.39 108.237 1354.49 Q104.765 1357.57 98.4456 1357.57 Q96.2697 1357.57 94.0012 1357.2 Q91.7558 1356.83 89.3484 1356.08 L89.3484 1351.39 Q91.4317 1352.52 93.6539 1353.08 Q95.8761 1353.63 98.353 1353.63 Q102.358 1353.63 104.696 1351.52 Q107.033 1349.42 107.033 1345.81 Q107.033 1342.2 104.696 1340.09 Q102.358 1337.98 98.353 1337.98 Q96.478 1337.98 94.603 1338.4 Q92.7512 1338.82 90.8067 1339.7 L90.8067 1322.33 Z\" fill=\"#000000\" fill-rule=\"nonzero\" fill-opacity=\"1\" /><path clip-path=\"url(#clip000)\" d=\"M130.922 1325.41 Q127.311 1325.41 125.482 1328.98 Q123.677 1332.52 123.677 1339.65 Q123.677 1346.76 125.482 1350.32 Q127.311 1353.86 130.922 1353.86 Q134.556 1353.86 136.362 1350.32 Q138.191 1346.76 138.191 1339.65 Q138.191 1332.52 136.362 1328.98 Q134.556 1325.41 130.922 1325.41 M130.922 1321.71 Q136.732 1321.71 139.788 1326.32 Q142.867 1330.9 142.867 1339.65 Q142.867 1348.38 139.788 1352.98 Q136.732 1357.57 130.922 1357.57 Q125.112 1357.57 122.033 1352.98 Q118.978 1348.38 118.978 1339.65 Q118.978 1330.9 122.033 1326.32 Q125.112 1321.71 130.922 1321.71 Z\" fill=\"#000000\" fill-rule=\"nonzero\" fill-opacity=\"1\" /><path clip-path=\"url(#clip000)\" d=\"M51.9875 1061.68 L81.6633 1061.68 L81.6633 1065.61 L51.9875 1065.61 L51.9875 1061.68 Z\" fill=\"#000000\" fill-rule=\"nonzero\" fill-opacity=\"1\" /><path clip-path=\"url(#clip000)\" d=\"M95.7836 1074.57 L112.103 1074.57 L112.103 1078.51 L90.1586 1078.51 L90.1586 1074.57 Q92.8206 1071.82 97.4039 1067.19 Q102.01 1062.53 103.191 1061.19 Q105.436 1058.67 106.316 1056.93 Q107.219 1055.17 107.219 1053.48 Q107.219 1050.73 105.274 1048.99 Q103.353 1047.26 100.251 1047.26 Q98.0521 1047.26 95.5984 1048.02 Q93.1678 1048.78 90.3901 1050.33 L90.3901 1045.61 Q93.2141 1044.48 95.6678 1043.9 Q98.1215 1043.32 100.159 1043.32 Q105.529 1043.32 108.723 1046.01 Q111.918 1048.69 111.918 1053.18 Q111.918 1055.31 111.108 1057.23 Q110.321 1059.13 108.214 1061.72 Q107.635 1062.39 104.534 1065.61 Q101.432 1068.81 95.7836 1074.57 Z\" fill=\"#000000\" fill-rule=\"nonzero\" fill-opacity=\"1\" /><path clip-path=\"url(#clip000)\" d=\"M121.964 1043.95 L140.32 1043.95 L140.32 1047.88 L126.246 1047.88 L126.246 1056.35 Q127.265 1056.01 128.283 1055.84 Q129.302 1055.66 130.32 1055.66 Q136.107 1055.66 139.487 1058.83 Q142.867 1062 142.867 1067.42 Q142.867 1073 139.394 1076.1 Q135.922 1079.18 129.603 1079.18 Q127.427 1079.18 125.158 1078.81 Q122.913 1078.44 120.506 1077.7 L120.506 1073 Q122.589 1074.13 124.811 1074.69 Q127.033 1075.24 129.51 1075.24 Q133.515 1075.24 135.853 1073.14 Q138.191 1071.03 138.191 1067.42 Q138.191 1063.81 135.853 1061.7 Q133.515 1059.59 129.51 1059.59 Q127.635 1059.59 125.76 1060.01 Q123.908 1060.43 121.964 1061.31 L121.964 1043.95 Z\" fill=\"#000000\" fill-rule=\"nonzero\" fill-opacity=\"1\" /><path clip-path=\"url(#clip000)\" d=\"M130.922 768.635 Q127.311 768.635 125.482 772.2 Q123.677 775.742 123.677 782.871 Q123.677 789.978 125.482 793.543 Q127.311 797.084 130.922 797.084 Q134.556 797.084 136.362 793.543 Q138.191 789.978 138.191 782.871 Q138.191 775.742 136.362 772.2 Q134.556 768.635 130.922 768.635 M130.922 764.932 Q136.732 764.932 139.788 769.538 Q142.867 774.121 142.867 782.871 Q142.867 791.598 139.788 796.205 Q136.732 800.788 130.922 800.788 Q125.112 800.788 122.033 796.205 Q118.978 791.598 118.978 782.871 Q118.978 774.121 122.033 769.538 Q125.112 764.932 130.922 764.932 Z\" fill=\"#000000\" fill-rule=\"nonzero\" fill-opacity=\"1\" /><path clip-path=\"url(#clip000)\" d=\"M95.7836 517.792 L112.103 517.792 L112.103 521.728 L90.1586 521.728 L90.1586 517.792 Q92.8206 515.038 97.4039 510.408 Q102.01 505.755 103.191 504.413 Q105.436 501.89 106.316 500.154 Q107.219 498.394 107.219 496.705 Q107.219 493.95 105.274 492.214 Q103.353 490.478 100.251 490.478 Q98.0521 490.478 95.5984 491.242 Q93.1678 492.006 90.3901 493.556 L90.3901 488.834 Q93.2141 487.7 95.6678 487.121 Q98.1215 486.543 100.159 486.543 Q105.529 486.543 108.723 489.228 Q111.918 491.913 111.918 496.404 Q111.918 498.533 111.108 500.455 Q110.321 502.353 108.214 504.945 Q107.635 505.617 104.534 508.834 Q101.432 512.029 95.7836 517.792 Z\" fill=\"#000000\" fill-rule=\"nonzero\" fill-opacity=\"1\" /><path clip-path=\"url(#clip000)\" d=\"M121.964 487.168 L140.32 487.168 L140.32 491.103 L126.246 491.103 L126.246 499.575 Q127.265 499.228 128.283 499.066 Q129.302 498.881 130.32 498.881 Q136.107 498.881 139.487 502.052 Q142.867 505.223 142.867 510.64 Q142.867 516.218 139.394 519.32 Q135.922 522.399 129.603 522.399 Q127.427 522.399 125.158 522.029 Q122.913 521.658 120.506 520.917 L120.506 516.218 Q122.589 517.353 124.811 517.908 Q127.033 518.464 129.51 518.464 Q133.515 518.464 135.853 516.357 Q138.191 514.251 138.191 510.64 Q138.191 507.029 135.853 504.922 Q133.515 502.816 129.51 502.816 Q127.635 502.816 125.76 503.232 Q123.908 503.649 121.964 504.529 L121.964 487.168 Z\" fill=\"#000000\" fill-rule=\"nonzero\" fill-opacity=\"1\" /><path clip-path=\"url(#clip000)\" d=\"M90.8067 208.779 L109.163 208.779 L109.163 212.714 L95.0891 212.714 L95.0891 221.186 Q96.1076 220.839 97.1261 220.677 Q98.1447 220.491 99.1632 220.491 Q104.95 220.491 108.33 223.663 Q111.709 226.834 111.709 232.251 Q111.709 237.829 108.237 240.931 Q104.765 244.01 98.4456 244.01 Q96.2697 244.01 94.0012 243.639 Q91.7558 243.269 89.3484 242.528 L89.3484 237.829 Q91.4317 238.964 93.6539 239.519 Q95.8761 240.075 98.353 240.075 Q102.358 240.075 104.696 237.968 Q107.033 235.862 107.033 232.251 Q107.033 228.64 104.696 226.533 Q102.358 224.427 98.353 224.427 Q96.478 224.427 94.603 224.843 Q92.7512 225.26 90.8067 226.14 L90.8067 208.779 Z\" fill=\"#000000\" fill-rule=\"nonzero\" fill-opacity=\"1\" /><path clip-path=\"url(#clip000)\" d=\"M130.922 211.857 Q127.311 211.857 125.482 215.422 Q123.677 218.964 123.677 226.093 Q123.677 233.2 125.482 236.765 Q127.311 240.306 130.922 240.306 Q134.556 240.306 136.362 236.765 Q138.191 233.2 138.191 226.093 Q138.191 218.964 136.362 215.422 Q134.556 211.857 130.922 211.857 M130.922 208.154 Q136.732 208.154 139.788 212.76 Q142.867 217.343 142.867 226.093 Q142.867 234.82 139.788 239.427 Q136.732 244.01 130.922 244.01 Q125.112 244.01 122.033 239.427 Q118.978 234.82 118.978 226.093 Q118.978 217.343 122.033 212.76 Q125.112 208.154 130.922 208.154 Z\" fill=\"#000000\" fill-rule=\"nonzero\" fill-opacity=\"1\" /><path clip-path=\"url(#clip002)\" d=\"M240.392 1445.72 L261.107 1418.81 L281.823 1393.13 L302.538 1368.64 L323.254 1345.32 L343.97 1323.16 L364.685 1302.12 L385.401 1282.2 L406.116 1263.36 L426.832 1245.6 L447.547 1228.88 L468.263 1213.19 L488.978 1198.5 L509.694 1184.8 L530.409 1172.06 L551.125 1160.26 L571.841 1149.38 L592.556 1139.41 L613.272 1130.31 L633.987 1122.07 L654.703 1114.67 L675.418 1108.09 L696.134 1102.3 L716.849 1097.28 L737.565 1093.02 L758.28 1089.49 L778.996 1086.67 L799.712 1084.54 L820.427 1083.08 L841.143 1082.26 L861.858 1082.08 L882.574 1082.5 L903.289 1083.5 L924.005 1085.07 L944.72 1087.18 L965.436 1089.81 L986.151 1092.95 L1006.87 1096.56 L1027.58 1100.64 L1048.3 1105.15 L1069.01 1110.07 L1089.73 1115.4 L1110.44 1121.09 L1131.16 1127.15 L1151.88 1133.53 L1172.59 1140.23 L1193.31 1147.21 L1214.02 1154.47 L1234.74 1161.98 L1255.45 1169.71 L1276.17 1177.65 L1296.88 1185.77 L1317.6 1194.06 L1338.32 1202.49 L1359.03 1211.05 L1379.75 1219.71 L1400.46 1228.44 L1421.18 1237.24 L1441.89 1246.08 L1462.61 1254.93 L1483.32 1263.78 L1504.04 1272.6 L1524.76 1281.38 L1545.47 1290.1 L1566.19 1298.72 L1586.9 1307.24 L1607.62 1315.62 L1628.33 1323.86 L1649.05 1331.92 L1669.76 1339.8 L1690.48 1347.45 L1711.2 1354.88 L1731.91 1362.04 L1752.63 1368.93 L1773.34 1375.53 L1794.06 1381.8 L1814.77 1387.73 L1835.49 1393.31 L1856.2 1398.5 L1876.92 1403.29 L1897.64 1407.65 L1918.35 1411.57 L1939.07 1415.02 L1959.78 1417.99 L1980.5 1420.45 L2001.21 1422.38 L2021.93 1423.76 L2042.64 1424.57 L2063.36 1424.78 L2084.08 1424.39 L2104.79 1423.36 L2125.51 1421.67 L2146.22 1419.31 L2166.94 1416.25 L2187.65 1412.47 L2208.37 1407.95 L2229.08 1402.68 L2249.8 1396.62 L2270.52 1389.76 L2291.23 1382.08 L2291.23 387.976 L2270.52 395.66 L2249.8 402.52 L2229.08 408.578 L2208.37 413.855 L2187.65 418.371 L2166.94 422.148 L2146.22 425.208 L2125.51 427.57 L2104.79 429.256 L2084.08 430.286 L2063.36 430.683 L2042.64 430.467 L2021.93 429.658 L2001.21 428.279 L1980.5 426.349 L1959.78 423.891 L1939.07 420.924 L1918.35 417.471 L1897.64 413.552 L1876.92 409.187 L1856.2 404.399 L1835.49 399.208 L1814.77 393.635 L1794.06 387.701 L1773.34 381.427 L1752.63 374.835 L1731.91 367.944 L1711.2 360.777 L1690.48 353.354 L1669.76 345.696 L1649.05 337.825 L1628.33 329.76 L1607.62 321.525 L1586.9 313.138 L1566.19 304.622 L1545.47 295.997 L1524.76 287.284 L1504.04 278.505 L1483.32 269.68 L1462.61 260.831 L1441.89 251.978 L1421.18 243.142 L1400.46 234.345 L1379.75 225.608 L1359.03 216.95 L1338.32 208.395 L1317.6 199.962 L1296.88 191.672 L1276.17 183.548 L1255.45 175.608 L1234.74 167.876 L1214.02 160.37 L1193.31 153.114 L1172.59 146.127 L1151.88 139.431 L1131.16 133.047 L1110.44 126.995 L1089.73 121.297 L1069.01 115.974 L1048.3 111.046 L1027.58 106.536 L1006.87 102.463 L986.151 98.8487 L965.436 95.7144 L944.72 93.081 L924.005 90.9695 L903.289 89.4008 L882.574 88.3961 L861.858 87.9763 L841.143 88.1624 L820.427 88.9755 L799.712 90.4365 L778.996 92.5665 L758.28 95.3866 L737.565 98.9176 L716.849 103.181 L696.134 108.197 L675.418 113.987 L654.703 120.573 L633.987 127.974 L613.272 136.213 L592.556 145.309 L571.841 155.285 L551.125 166.161 L530.409 177.959 L509.694 190.698 L488.978 204.401 L468.263 219.088 L447.547 234.78 L426.832 251.499 L406.116 269.264 L385.401 288.099 L364.685 308.022 L343.97 329.056 L323.254 351.221 L302.538 374.539 L281.823 399.03 L261.107 424.715 L240.392 451.616 L240.392 1445.72 L240.392 1445.72  Z\" fill=\"#009af9\" fill-rule=\"evenodd\" fill-opacity=\"0.3\"/>\n",
       "<polyline clip-path=\"url(#clip002)\" style=\"stroke:#000000; stroke-linecap:round; stroke-linejoin:round; stroke-width:4; stroke-opacity:0.3; fill:none\" points=\"240.392,1445.72 261.107,1418.81 281.823,1393.13 302.538,1368.64 323.254,1345.32 343.97,1323.16 364.685,1302.12 385.401,1282.2 406.116,1263.36 426.832,1245.6 447.547,1228.88 468.263,1213.19 488.978,1198.5 509.694,1184.8 530.409,1172.06 551.125,1160.26 571.841,1149.38 592.556,1139.41 613.272,1130.31 633.987,1122.07 654.703,1114.67 675.418,1108.09 696.134,1102.3 716.849,1097.28 737.565,1093.02 758.28,1089.49 778.996,1086.67 799.712,1084.54 820.427,1083.08 841.143,1082.26 861.858,1082.08 882.574,1082.5 903.289,1083.5 924.005,1085.07 944.72,1087.18 965.436,1089.81 986.151,1092.95 1006.87,1096.56 1027.58,1100.64 1048.3,1105.15 1069.01,1110.07 1089.73,1115.4 1110.44,1121.09 1131.16,1127.15 1151.88,1133.53 1172.59,1140.23 1193.31,1147.21 1214.02,1154.47 1234.74,1161.98 1255.45,1169.71 1276.17,1177.65 1296.88,1185.77 1317.6,1194.06 1338.32,1202.49 1359.03,1211.05 1379.75,1219.71 1400.46,1228.44 1421.18,1237.24 1441.89,1246.08 1462.61,1254.93 1483.32,1263.78 1504.04,1272.6 1524.76,1281.38 1545.47,1290.1 1566.19,1298.72 1586.9,1307.24 1607.62,1315.62 1628.33,1323.86 1649.05,1331.92 1669.76,1339.8 1690.48,1347.45 1711.2,1354.88 1731.91,1362.04 1752.63,1368.93 1773.34,1375.53 1794.06,1381.8 1814.77,1387.73 1835.49,1393.31 1856.2,1398.5 1876.92,1403.29 1897.64,1407.65 1918.35,1411.57 1939.07,1415.02 1959.78,1417.99 1980.5,1420.45 2001.21,1422.38 2021.93,1423.76 2042.64,1424.57 2063.36,1424.78 2084.08,1424.39 2104.79,1423.36 2125.51,1421.67 2146.22,1419.31 2166.94,1416.25 2187.65,1412.47 2208.37,1407.95 2229.08,1402.68 2249.8,1396.62 2270.52,1389.76 2291.23,1382.08 2291.23,387.976 2270.52,395.66 2249.8,402.52 2229.08,408.578 2208.37,413.855 2187.65,418.371 2166.94,422.148 2146.22,425.208 2125.51,427.57 2104.79,429.256 2084.08,430.286 2063.36,430.683 2042.64,430.467 2021.93,429.658 2001.21,428.279 1980.5,426.349 1959.78,423.891 1939.07,420.924 1918.35,417.471 1897.64,413.552 1876.92,409.187 1856.2,404.399 1835.49,399.208 1814.77,393.635 1794.06,387.701 1773.34,381.427 1752.63,374.835 1731.91,367.944 1711.2,360.777 1690.48,353.354 1669.76,345.696 1649.05,337.825 1628.33,329.76 1607.62,321.525 1586.9,313.138 1566.19,304.622 1545.47,295.997 1524.76,287.284 1504.04,278.505 1483.32,269.68 1462.61,260.831 1441.89,251.978 1421.18,243.142 1400.46,234.345 1379.75,225.608 1359.03,216.95 1338.32,208.395 1317.6,199.962 1296.88,191.672 1276.17,183.548 1255.45,175.608 1234.74,167.876 1214.02,160.37 1193.31,153.114 1172.59,146.127 1151.88,139.431 1131.16,133.047 1110.44,126.995 1089.73,121.297 1069.01,115.974 1048.3,111.046 1027.58,106.536 1006.87,102.463 986.151,98.8487 965.436,95.7144 944.72,93.081 924.005,90.9695 903.289,89.4008 882.574,88.3961 861.858,87.9763 841.143,88.1624 820.427,88.9755 799.712,90.4365 778.996,92.5665 758.28,95.3866 737.565,98.9176 716.849,103.181 696.134,108.197 675.418,113.987 654.703,120.573 633.987,127.974 613.272,136.213 592.556,145.309 571.841,155.285 551.125,166.161 530.409,177.959 509.694,190.698 488.978,204.401 468.263,219.088 447.547,234.78 426.832,251.499 406.116,269.264 385.401,288.099 364.685,308.022 343.97,329.056 323.254,351.221 302.538,374.539 281.823,399.03 261.107,424.715 240.392,451.616 240.392,1445.72 \"/>\n",
       "<path clip-path=\"url(#clip000)\" d=\"M2010.47 198.898 L2280.29 198.898 L2280.29 95.2176 L2010.47 95.2176  Z\" fill=\"#ffffff\" fill-rule=\"evenodd\" fill-opacity=\"1\"/>\n",
       "<polyline clip-path=\"url(#clip000)\" style=\"stroke:#000000; stroke-linecap:round; stroke-linejoin:round; stroke-width:4; stroke-opacity:1; fill:none\" points=\"2010.47,198.898 2280.29,198.898 2280.29,95.2176 2010.47,95.2176 2010.47,198.898 \"/>\n",
       "<path clip-path=\"url(#clip000)\" d=\"M2034.63 167.794 L2179.55 167.794 L2179.55 126.322 L2034.63 126.322 L2034.63 167.794  Z\" fill=\"#009af9\" fill-rule=\"evenodd\" fill-opacity=\"0.3\"/>\n",
       "<polyline clip-path=\"url(#clip000)\" style=\"stroke:#000000; stroke-linecap:round; stroke-linejoin:round; stroke-width:4; stroke-opacity:1; fill:none\" points=\"2034.63,167.794 2179.55,167.794 2179.55,126.322 2034.63,126.322 2034.63,167.794 \"/>\n",
       "<path clip-path=\"url(#clip000)\" d=\"M2217.55 166.745 Q2215.75 171.375 2214.03 172.787 Q2212.32 174.199 2209.45 174.199 L2206.05 174.199 L2206.05 170.634 L2208.55 170.634 Q2210.31 170.634 2211.28 169.8 Q2212.25 168.967 2213.43 165.865 L2214.19 163.921 L2203.71 138.412 L2208.22 138.412 L2216.32 158.689 L2224.43 138.412 L2228.94 138.412 L2217.55 166.745 Z\" fill=\"#000000\" fill-rule=\"nonzero\" fill-opacity=\"1\" /><path clip-path=\"url(#clip000)\" d=\"M2236.23 160.402 L2243.87 160.402 L2243.87 134.037 L2235.56 135.703 L2235.56 131.444 L2243.82 129.778 L2248.5 129.778 L2248.5 160.402 L2256.14 160.402 L2256.14 164.338 L2236.23 164.338 L2236.23 160.402 Z\" fill=\"#000000\" fill-rule=\"nonzero\" fill-opacity=\"1\" /></svg>\n"
      ]
     },
     "execution_count": 17,
     "metadata": {},
     "output_type": "execute_result"
    }
   ],
   "source": [
    "plot(pols)"
   ]
  },
  {
   "cell_type": "code",
   "execution_count": 18,
   "id": "befb6933",
   "metadata": {},
   "outputs": [
    {
     "data": {
      "text/latex": [
       "\\texttt{@manipulate expr}\n",
       "\n",
       "The @manipulate macro lets you play with any expression using widgets. \\texttt{expr} needs to be a \\texttt{for} loop. The \\texttt{for} loop variable are converted to widgets using the \\href{@ref}{\\texttt{widget}} function (ranges become \\texttt{slider}, lists of options become \\texttt{togglebuttons}, etc...). The \\texttt{for} loop body is displayed beneath the widgets and automatically updated as soon as the widgets change value.\n",
       "\n",
       "Use \\texttt{throttle = df} to only update the output after a small time interval \\texttt{dt} (useful if the update is costly as it prevents multiple updates when moving for example a slider).\n",
       "\n",
       "\\subsection{Examples}\n",
       "\\begin{verbatim}\n",
       "using Colors\n",
       "\n",
       "@manipulate for r = 0:.05:1, g = 0:.05:1, b = 0:.05:1\n",
       "    HTML(string(\"<div style='color:#\", hex(RGB(r,g,b)), \"'>Color me</div>\"))\n",
       "end\n",
       "\n",
       "@manipulate throttle = 0.1 for r = 0:.05:1, g = 0:.05:1, b = 0:.05:1\n",
       "    HTML(string(\"<div style='color:#\", hex(RGB(r,g,b)), \"'>Color me</div>\"))\n",
       "end\n",
       "\\end{verbatim}\n",
       "\\href{@ref}{\\texttt{@layout!}} can be used to adjust the layout of a manipulate block:\n",
       "\n",
       "\\begin{verbatim}\n",
       "using Interact\n",
       "\n",
       "ui = @manipulate throttle = 0.1 for r = 0:.05:1, g = 0:.05:1, b = 0:.05:1\n",
       "    HTML(string(\"<div style='color:#\", hex(RGB(r,g,b)), \"'>Color me</div>\"))\n",
       "end\n",
       "@layout! ui dom\"div\"(observe(_), vskip(2em), :r, :g, :b)\n",
       "ui\n",
       "\\end{verbatim}\n"
      ],
      "text/markdown": [
       "`@manipulate expr`\n",
       "\n",
       "The @manipulate macro lets you play with any expression using widgets. `expr` needs to be a `for` loop. The `for` loop variable are converted to widgets using the [`widget`](@ref) function (ranges become `slider`, lists of options become `togglebuttons`, etc...). The `for` loop body is displayed beneath the widgets and automatically updated as soon as the widgets change value.\n",
       "\n",
       "Use `throttle = df` to only update the output after a small time interval `dt` (useful if the update is costly as it prevents multiple updates when moving for example a slider).\n",
       "\n",
       "## Examples\n",
       "\n",
       "```julia\n",
       "using Colors\n",
       "\n",
       "@manipulate for r = 0:.05:1, g = 0:.05:1, b = 0:.05:1\n",
       "    HTML(string(\"<div style='color:#\", hex(RGB(r,g,b)), \"'>Color me</div>\"))\n",
       "end\n",
       "\n",
       "@manipulate throttle = 0.1 for r = 0:.05:1, g = 0:.05:1, b = 0:.05:1\n",
       "    HTML(string(\"<div style='color:#\", hex(RGB(r,g,b)), \"'>Color me</div>\"))\n",
       "end\n",
       "```\n",
       "\n",
       "[`@layout!`](@ref) can be used to adjust the layout of a manipulate block:\n",
       "\n",
       "```julia\n",
       "using Interact\n",
       "\n",
       "ui = @manipulate throttle = 0.1 for r = 0:.05:1, g = 0:.05:1, b = 0:.05:1\n",
       "    HTML(string(\"<div style='color:#\", hex(RGB(r,g,b)), \"'>Color me</div>\"))\n",
       "end\n",
       "@layout! ui dom\"div\"(observe(_), vskip(2em), :r, :g, :b)\n",
       "ui\n",
       "```\n"
      ],
      "text/plain": [
       "  \u001b[36m@manipulate expr\u001b[39m\n",
       "\n",
       "  The @manipulate macro lets you play with any expression using widgets. \u001b[36mexpr\u001b[39m\n",
       "  needs to be a \u001b[36mfor\u001b[39m loop. The \u001b[36mfor\u001b[39m loop variable are converted to widgets using\n",
       "  the \u001b[36mwidget\u001b[39m function (ranges become \u001b[36mslider\u001b[39m, lists of options become\n",
       "  \u001b[36mtogglebuttons\u001b[39m, etc...). The \u001b[36mfor\u001b[39m loop body is displayed beneath the widgets\n",
       "  and automatically updated as soon as the widgets change value.\n",
       "\n",
       "  Use \u001b[36mthrottle = df\u001b[39m to only update the output after a small time interval \u001b[36mdt\u001b[39m\n",
       "  (useful if the update is costly as it prevents multiple updates when moving\n",
       "  for example a slider).\n",
       "\n",
       "\u001b[1m  Examples\u001b[22m\n",
       "\u001b[1m  ==========\u001b[22m\n",
       "\n",
       "\u001b[36m  using Colors\u001b[39m\n",
       "\u001b[36m  \u001b[39m\n",
       "\u001b[36m  @manipulate for r = 0:.05:1, g = 0:.05:1, b = 0:.05:1\u001b[39m\n",
       "\u001b[36m      HTML(string(\"<div style='color:#\", hex(RGB(r,g,b)), \"'>Color me</div>\"))\u001b[39m\n",
       "\u001b[36m  end\u001b[39m\n",
       "\u001b[36m  \u001b[39m\n",
       "\u001b[36m  @manipulate throttle = 0.1 for r = 0:.05:1, g = 0:.05:1, b = 0:.05:1\u001b[39m\n",
       "\u001b[36m      HTML(string(\"<div style='color:#\", hex(RGB(r,g,b)), \"'>Color me</div>\"))\u001b[39m\n",
       "\u001b[36m  end\u001b[39m\n",
       "\n",
       "  \u001b[36m@layout!\u001b[39m can be used to adjust the layout of a manipulate block:\n",
       "\n",
       "\u001b[36m  using Interact\u001b[39m\n",
       "\u001b[36m  \u001b[39m\n",
       "\u001b[36m  ui = @manipulate throttle = 0.1 for r = 0:.05:1, g = 0:.05:1, b = 0:.05:1\u001b[39m\n",
       "\u001b[36m      HTML(string(\"<div style='color:#\", hex(RGB(r,g,b)), \"'>Color me</div>\"))\u001b[39m\n",
       "\u001b[36m  end\u001b[39m\n",
       "\u001b[36m  @layout! ui dom\"div\"(observe(_), vskip(2em), :r, :g, :b)\u001b[39m\n",
       "\u001b[36m  ui\u001b[39m"
      ]
     },
     "execution_count": 18,
     "metadata": {},
     "output_type": "execute_result"
    }
   ],
   "source": [
    "?@manipulate"
   ]
  },
  {
   "cell_type": "code",
   "execution_count": 19,
   "id": "8e9995d1",
   "metadata": {},
   "outputs": [
    {
     "name": "stdout",
     "output_type": "stream",
     "text": [
      "search: \u001b[0m\u001b[1ms\u001b[22m\u001b[0m\u001b[1ml\u001b[22m\u001b[0m\u001b[1mi\u001b[22m\u001b[0m\u001b[1md\u001b[22m\u001b[0m\u001b[1me\u001b[22m\u001b[0m\u001b[1mr\u001b[22m range\u001b[0m\u001b[1ms\u001b[22m\u001b[0m\u001b[1ml\u001b[22m\u001b[0m\u001b[1mi\u001b[22m\u001b[0m\u001b[1md\u001b[22m\u001b[0m\u001b[1me\u001b[22m\u001b[0m\u001b[1mr\u001b[22m \u001b[0m\u001b[1ms\u001b[22mp\u001b[0m\u001b[1ml\u001b[22m\u001b[0m\u001b[1mi\u001b[22mt\u001b[0m\u001b[1md\u001b[22mriv\u001b[0m\u001b[1me\u001b[22m\n",
      "\n"
     ]
    },
    {
     "data": {
      "text/latex": [
       "\\begin{verbatim}\n",
       "function slider(vals::AbstractArray;\n",
       "                value=medianelement(vals),\n",
       "                label=nothing, readout=true, kwargs...)\n",
       "\\end{verbatim}\n",
       "Creates a slider widget which can take on the values in \\texttt{vals}, and updates observable \\texttt{value} when the slider is changed.\n",
       "\n"
      ],
      "text/markdown": [
       "```\n",
       "function slider(vals::AbstractArray;\n",
       "                value=medianelement(vals),\n",
       "                label=nothing, readout=true, kwargs...)\n",
       "```\n",
       "\n",
       "Creates a slider widget which can take on the values in `vals`, and updates observable `value` when the slider is changed.\n"
      ],
      "text/plain": [
       "\u001b[36m  function slider(vals::AbstractArray;\u001b[39m\n",
       "\u001b[36m                  value=medianelement(vals),\u001b[39m\n",
       "\u001b[36m                  label=nothing, readout=true, kwargs...)\u001b[39m\n",
       "\n",
       "  Creates a slider widget which can take on the values in \u001b[36mvals\u001b[39m, and updates\n",
       "  observable \u001b[36mvalue\u001b[39m when the slider is changed."
      ]
     },
     "execution_count": 19,
     "metadata": {},
     "output_type": "execute_result"
    }
   ],
   "source": [
    "?slider"
   ]
  },
  {
   "cell_type": "code",
   "execution_count": 20,
   "id": "ae4ac671",
   "metadata": {},
   "outputs": [
    {
     "name": "stdout",
     "output_type": "stream",
     "text": [
      "search: \u001b[0m\u001b[1mi\u001b[22m\u001b[0m\u001b[1mn\u001b[22m\u001b[0m\u001b[1mt\u001b[22m\u001b[0m\u001b[1me\u001b[22m\u001b[0m\u001b[1mr\u001b[22m\u001b[0m\u001b[1mv\u001b[22m\u001b[0m\u001b[1ma\u001b[22m\u001b[0m\u001b[1ml\u001b[22m \u001b[0m\u001b[1mI\u001b[22m\u001b[0m\u001b[1mn\u001b[22m\u001b[0m\u001b[1mt\u001b[22m\u001b[0m\u001b[1me\u001b[22m\u001b[0m\u001b[1mr\u001b[22m\u001b[0m\u001b[1mv\u001b[22m\u001b[0m\u001b[1ma\u001b[22m\u001b[0m\u001b[1ml\u001b[22m \u001b[0m\u001b[1mI\u001b[22m\u001b[0m\u001b[1mn\u001b[22m\u001b[0m\u001b[1mt\u001b[22m\u001b[0m\u001b[1me\u001b[22m\u001b[0m\u001b[1mr\u001b[22m\u001b[0m\u001b[1mv\u001b[22m\u001b[0m\u001b[1ma\u001b[22m\u001b[0m\u001b[1ml\u001b[22mBox \u001b[0m\u001b[1mi\u001b[22m\u001b[0m\u001b[1mn\u001b[22m\u001b[0m\u001b[1mt\u001b[22m\u001b[0m\u001b[1me\u001b[22m\u001b[0m\u001b[1mr\u001b[22m\u001b[0m\u001b[1mv\u001b[22m\u001b[0m\u001b[1ma\u001b[22m\u001b[0m\u001b[1ml\u001b[22m_part \u001b[0m\u001b[1mI\u001b[22m\u001b[0m\u001b[1mn\u001b[22m\u001b[0m\u001b[1mt\u001b[22m\u001b[0m\u001b[1me\u001b[22m\u001b[0m\u001b[1mr\u001b[22m\u001b[0m\u001b[1mv\u001b[22m\u001b[0m\u001b[1ma\u001b[22m\u001b[0m\u001b[1ml\u001b[22mArithmetic\n",
      "\n"
     ]
    },
    {
     "data": {
      "text/latex": [
       "\\begin{verbatim}\n",
       "interval(a, b)\n",
       "\\end{verbatim}\n",
       "\\texttt{interval(a, b)} checks whether [a, b] is a valid \\texttt{Interval}, using the (non-exported) \\texttt{is\\_valid\\_interval} function. If so, then an \\texttt{Interval(a, b)} object is returned; if not, a warning is printed and the empty interval is returned.\n",
       "\n"
      ],
      "text/markdown": [
       "```\n",
       "interval(a, b)\n",
       "```\n",
       "\n",
       "`interval(a, b)` checks whether [a, b] is a valid `Interval`, using the (non-exported) `is_valid_interval` function. If so, then an `Interval(a, b)` object is returned; if not, a warning is printed and the empty interval is returned.\n"
      ],
      "text/plain": [
       "\u001b[36m  interval(a, b)\u001b[39m\n",
       "\n",
       "  \u001b[36minterval(a, b)\u001b[39m checks whether [a, b] is a valid \u001b[36mInterval\u001b[39m, using the\n",
       "  (non-exported) \u001b[36mis_valid_interval\u001b[39m function. If so, then an \u001b[36mInterval(a, b)\u001b[39m\n",
       "  object is returned; if not, a warning is printed and the empty interval is\n",
       "  returned."
      ]
     },
     "execution_count": 20,
     "metadata": {},
     "output_type": "execute_result"
    }
   ],
   "source": [
    "?interval"
   ]
  },
  {
   "cell_type": "code",
   "execution_count": 21,
   "id": "605aa30a",
   "metadata": {},
   "outputs": [
    {
     "data": {
      "text/plain": [
       "Float64"
      ]
     },
     "execution_count": 21,
     "metadata": {},
     "output_type": "execute_result"
    }
   ],
   "source": [
    "typeof(a.lo)"
   ]
  },
  {
   "cell_type": "code",
   "execution_count": 22,
   "id": "54770083",
   "metadata": {},
   "outputs": [
    {
     "name": "stdout",
     "output_type": "stream",
     "text": [
      "search: \u001b[0m\u001b[1mp\u001b[22m\u001b[0m\u001b[1ml\u001b[22m\u001b[0m\u001b[1mo\u001b[22m\u001b[0m\u001b[1mt\u001b[22m \u001b[0m\u001b[1mp\u001b[22m\u001b[0m\u001b[1ml\u001b[22m\u001b[0m\u001b[1mo\u001b[22m\u001b[0m\u001b[1mt\u001b[22m! \u001b[0m\u001b[1mp\u001b[22m\u001b[0m\u001b[1ml\u001b[22m\u001b[0m\u001b[1mo\u001b[22m\u001b[0m\u001b[1mt\u001b[22mly \u001b[0m\u001b[1mp\u001b[22m\u001b[0m\u001b[1ml\u001b[22m\u001b[0m\u001b[1mo\u001b[22m\u001b[0m\u001b[1mt\u001b[22m3d \u001b[0m\u001b[1mP\u001b[22m\u001b[0m\u001b[1ml\u001b[22m\u001b[0m\u001b[1mo\u001b[22m\u001b[0m\u001b[1mt\u001b[22ms \u001b[0m\u001b[1mp\u001b[22m\u001b[0m\u001b[1ml\u001b[22m\u001b[0m\u001b[1mo\u001b[22m\u001b[0m\u001b[1mt\u001b[22m3d! \u001b[0m\u001b[1mp\u001b[22m\u001b[0m\u001b[1ml\u001b[22m\u001b[0m\u001b[1mo\u001b[22m\u001b[0m\u001b[1mt\u001b[22mlyjs \u001b[0m\u001b[1mp\u001b[22m\u001b[0m\u001b[1ml\u001b[22m\u001b[0m\u001b[1mo\u001b[22m\u001b[0m\u001b[1mt\u001b[22mattr \u001b[0m\u001b[1mp\u001b[22m\u001b[0m\u001b[1ml\u001b[22m\u001b[0m\u001b[1mo\u001b[22m\u001b[0m\u001b[1mt\u001b[22marea\n",
      "\n"
     ]
    },
    {
     "data": {
      "text/markdown": [
       "The main plot command. Use `plot` to create a new plot object, and `plot!` to add to an existing one:\n",
       "\n",
       "```\n",
       "    plot(args...; kw...)                  # creates a new plot window, and sets it to be the current\n",
       "    plot!(args...; kw...)                 # adds to the `current`\n",
       "    plot!(plotobj, args...; kw...)        # adds to the plot `plotobj`\n",
       "```\n",
       "\n",
       "There are lots of ways to pass in data, and lots of keyword arguments... just try it and it will likely work as expected. When you pass in matrices, it splits by columns. To see the list of available attributes, use the `plotattr(attr)` function, where `attr` is the symbol `:Series`, `:Subplot`, `:Plot`, or `:Axis`. Pass any attribute to `plotattr` as a String to look up its docstring, e.g., `plotattr(\"seriestype\")`.\n",
       "\n",
       "---\n",
       "\n",
       "Extract a subplot from an existing plot.\n",
       "\n",
       "# Examples\n",
       "\n",
       "```julia-repl\n",
       "julia> p1, p2 = plot(1:2), plot(10:20)\n",
       "julia> pl = plot(p1, p2)  # plot containing 2 subplots\n",
       "\n",
       "julia> plot(pl.subplots[1])  # extract 1st subplot as a standalone plot\n",
       "julia> plot(pl.subplots[2])  # extract 2nd subplot as a standalone plot\n",
       "```\n",
       "\n",
       "---\n",
       "\n",
       "REPL.Message(\"Extended help is available with `??`\", (color = :cyan, bold = true))\n"
      ],
      "text/plain": [
       "  The main plot command. Use \u001b[36mplot\u001b[39m to create a new plot object, and \u001b[36mplot!\u001b[39m to\n",
       "  add to an existing one:\n",
       "\n",
       "\u001b[36m      plot(args...; kw...)                  # creates a new plot window, and sets it to be the current\u001b[39m\n",
       "\u001b[36m      plot!(args...; kw...)                 # adds to the `current`\u001b[39m\n",
       "\u001b[36m      plot!(plotobj, args...; kw...)        # adds to the plot `plotobj`\u001b[39m\n",
       "\n",
       "  There are lots of ways to pass in data, and lots of keyword arguments...\n",
       "  just try it and it will likely work as expected. When you pass in matrices,\n",
       "  it splits by columns. To see the list of available attributes, use the\n",
       "  \u001b[36mplotattr(attr)\u001b[39m function, where \u001b[36mattr\u001b[39m is the symbol \u001b[36m:Series\u001b[39m, \u001b[36m:Subplot\u001b[39m, \u001b[36m:Plot\u001b[39m,\n",
       "  or \u001b[36m:Axis\u001b[39m. Pass any attribute to \u001b[36mplotattr\u001b[39m as a String to look up its\n",
       "  docstring, e.g., \u001b[36mplotattr(\"seriestype\")\u001b[39m.\n",
       "\n",
       "  ────────────────────────────────────────────────────────────────────────────\n",
       "\n",
       "  Extract a subplot from an existing plot.\n",
       "\n",
       "\u001b[1m  Examples\u001b[22m\n",
       "\u001b[1m  ≡≡≡≡≡≡≡≡≡≡\u001b[22m\n",
       "\n",
       "\u001b[36m  julia> p1, p2 = plot(1:2), plot(10:20)\u001b[39m\n",
       "\u001b[36m  julia> pl = plot(p1, p2)  # plot containing 2 subplots\u001b[39m\n",
       "\u001b[36m  \u001b[39m\n",
       "\u001b[36m  julia> plot(pl.subplots[1])  # extract 1st subplot as a standalone plot\u001b[39m\n",
       "\u001b[36m  julia> plot(pl.subplots[2])  # extract 2nd subplot as a standalone plot\u001b[39m\n",
       "\n",
       "  ────────────────────────────────────────────────────────────────────────────\n",
       "\n",
       "\u001b[36m\u001b[1mExtended help is available with `??`\u001b[22m\u001b[39m"
      ]
     },
     "execution_count": 22,
     "metadata": {},
     "output_type": "execute_result"
    }
   ],
   "source": [
    "?plot"
   ]
  },
  {
   "cell_type": "code",
   "execution_count": 24,
   "id": "65842d2e",
   "metadata": {},
   "outputs": [
    {
     "name": "stdout",
     "output_type": "stream",
     "text": [
      "search: \u001b[0m\u001b[1my\u001b[22m\u001b[0m\u001b[1ml\u001b[22m\u001b[0m\u001b[1mi\u001b[22m\u001b[0m\u001b[1mm\u001b[22m\u001b[0m\u001b[1ms\u001b[22m \u001b[0m\u001b[1my\u001b[22m\u001b[0m\u001b[1ml\u001b[22m\u001b[0m\u001b[1mi\u001b[22m\u001b[0m\u001b[1mm\u001b[22m\u001b[0m\u001b[1ms\u001b[22m!\n",
      "\n"
     ]
    },
    {
     "data": {
      "text/latex": [
       "\\begin{verbatim}\n",
       "ylims([plt])\n",
       "\\end{verbatim}\n",
       "Returns the y axis limits of the current plot or subplot\n",
       "\n"
      ],
      "text/markdown": [
       "```\n",
       "ylims([plt])\n",
       "```\n",
       "\n",
       "Returns the y axis limits of the current plot or subplot\n"
      ],
      "text/plain": [
       "\u001b[36m  ylims([plt])\u001b[39m\n",
       "\n",
       "  Returns the y axis limits of the current plot or subplot"
      ]
     },
     "execution_count": 24,
     "metadata": {},
     "output_type": "execute_result"
    }
   ],
   "source": [
    "?ylims"
   ]
  },
  {
   "cell_type": "code",
   "execution_count": 25,
   "id": "1c80a660",
   "metadata": {},
   "outputs": [
    {
     "data": {
      "application/vnd.webio.node+json": {
       "children": [
        {
         "children": [
          {
           "children": [
            {
             "children": [
              {
               "children": [
                {
                 "children": [
                  ""
                 ],
                 "instanceArgs": {
                  "namespace": "html",
                  "tag": "label"
                 },
                 "nodeType": "DOM",
                 "props": {
                  "className": "interact ",
                  "style": {
                   "padding": "5px 10px 0px 10px"
                  }
                 },
                 "type": "node"
                }
               ],
               "instanceArgs": {
                "namespace": "html",
                "tag": "div"
               },
               "nodeType": "DOM",
               "props": {
                "className": "interact-flex-row-left"
               },
               "type": "node"
              },
              {
               "children": [
                {
                 "children": [],
                 "instanceArgs": {
                  "namespace": "html",
                  "tag": "input"
                 },
                 "nodeType": "DOM",
                 "props": {
                  "attributes": {
                   "data-bind": "numericValue: index, valueUpdate: 'input', event: {change: function (){this.changes(this.changes()+1)}}",
                   "orient": "horizontal",
                   "type": "range"
                  },
                  "className": "slider slider is-fullwidth",
                  "max": 10,
                  "min": 1,
                  "step": 1,
                  "style": {}
                 },
                 "type": "node"
                }
               ],
               "instanceArgs": {
                "namespace": "html",
                "tag": "div"
               },
               "nodeType": "DOM",
               "props": {
                "className": "interact-flex-row-center"
               },
               "type": "node"
              },
              {
               "children": [
                {
                 "children": [],
                 "instanceArgs": {
                  "namespace": "html",
                  "tag": "p"
                 },
                 "nodeType": "DOM",
                 "props": {
                  "attributes": {
                   "data-bind": "text: formatted_val"
                  }
                 },
                 "type": "node"
                }
               ],
               "instanceArgs": {
                "namespace": "html",
                "tag": "div"
               },
               "nodeType": "DOM",
               "props": {
                "className": "interact-flex-row-right"
               },
               "type": "node"
              }
             ],
             "instanceArgs": {
              "namespace": "html",
              "tag": "div"
             },
             "nodeType": "DOM",
             "props": {
              "className": "interact-flex-row interact-widget"
             },
             "type": "node"
            }
           ],
           "instanceArgs": {
            "handlers": {
             "changes": [
              "(function (val){return (val!=this.model[\"changes\"]()) ? (this.valueFromJulia[\"changes\"]=true, this.model[\"changes\"](val)) : undefined})"
             ],
             "index": [
              "(function (val){return (val!=this.model[\"index\"]()) ? (this.valueFromJulia[\"index\"]=true, this.model[\"index\"](val)) : undefined})"
             ]
            },
            "id": "768718214808278223",
            "imports": {
             "data": [
              {
               "name": "knockout",
               "type": "js",
               "url": "/assetserver/47cacba18a6e957a8fda7987f9bc6dd46eb14ac2-knockout.js"
              },
              {
               "name": "knockout_punches",
               "type": "js",
               "url": "/assetserver/6fd59a16a697ff4f2d107d83f062c92fe763922e-knockout_punches.js"
              },
              {
               "name": null,
               "type": "js",
               "url": "/assetserver/b1bed3bbf9f98267af99bbab9604c5ed531a636a-all.js"
              },
              {
               "name": null,
               "type": "css",
               "url": "/assetserver/b99b8c229e0b185b7185df7f499ce53727e0b5a5-style.css"
              },
              {
               "name": null,
               "type": "css",
               "url": "/assetserver/20ade396be69f4279b73c04e7237664b3b16a890-bulma_confined.min.css"
              }
             ],
             "type": "async_block"
            },
            "mount_callbacks": [
             "function () {\n    var handler = (function (ko, koPunches) {\n    ko.punches.enableAll();\n    ko.bindingHandlers.numericValue = {\n        init: function(element, valueAccessor, allBindings, data, context) {\n            var stringified = ko.observable(ko.unwrap(valueAccessor()));\n            stringified.subscribe(function(value) {\n                var val = parseFloat(value);\n                if (!isNaN(val)) {\n                    valueAccessor()(val);\n                }\n            });\n            valueAccessor().subscribe(function(value) {\n                var str = JSON.stringify(value);\n                if ((str == \"0\") && ([\"-0\", \"-0.\"].indexOf(stringified()) >= 0))\n                     return;\n                 if ([\"null\", \"\"].indexOf(str) >= 0)\n                     return;\n                stringified(str);\n            });\n            ko.applyBindingsToNode(\n                element,\n                {\n                    value: stringified,\n                    valueUpdate: allBindings.get('valueUpdate'),\n                },\n                context,\n            );\n        }\n    };\n    var json_data = {\"formatted_vals\":[\"1\",\"2\",\"3\",\"4\",\"5\",\"6\",\"7\",\"8\",\"9\",\"10\"],\"changes\":WebIO.getval({\"name\":\"changes\",\"scope\":\"768718214808278223\",\"id\":\"10909842280585245322\",\"type\":\"observable\"}),\"index\":WebIO.getval({\"name\":\"index\",\"scope\":\"768718214808278223\",\"id\":\"9593329684423628568\",\"type\":\"observable\"})};\n    var self = this;\n    function AppViewModel() {\n        for (var key in json_data) {\n            var el = json_data[key];\n            this[key] = Array.isArray(el) ? ko.observableArray(el) : ko.observable(el);\n        }\n        \n        [this[\"formatted_val\"]=ko.computed(    function(){\n        return this.formatted_vals()[parseInt(this.index())-(1)];\n    }\n,this)]\n        [this[\"changes\"].subscribe((function (val){!(this.valueFromJulia[\"changes\"]) ? (WebIO.setval({\"name\":\"changes\",\"scope\":\"768718214808278223\",\"id\":\"10909842280585245322\",\"type\":\"observable\"},val)) : undefined; return this.valueFromJulia[\"changes\"]=false}),self),this[\"index\"].subscribe((function (val){!(this.valueFromJulia[\"index\"]) ? (WebIO.setval({\"name\":\"index\",\"scope\":\"768718214808278223\",\"id\":\"9593329684423628568\",\"type\":\"observable\"},val)) : undefined; return this.valueFromJulia[\"index\"]=false}),self)]\n        \n    }\n    self.model = new AppViewModel();\n    self.valueFromJulia = {};\n    for (var key in json_data) {\n        self.valueFromJulia[key] = false;\n    }\n    ko.applyBindings(self.model, self.dom);\n}\n);\n    (WebIO.importBlock({\"data\":[{\"name\":\"knockout\",\"type\":\"js\",\"url\":\"/assetserver/47cacba18a6e957a8fda7987f9bc6dd46eb14ac2-knockout.js\"},{\"name\":\"knockout_punches\",\"type\":\"js\",\"url\":\"/assetserver/6fd59a16a697ff4f2d107d83f062c92fe763922e-knockout_punches.js\"}],\"type\":\"async_block\"})).then((imports) => handler.apply(this, imports));\n}\n"
            ],
            "observables": {
             "changes": {
              "id": "10909842280585245322",
              "sync": false,
              "value": 0
             },
             "index": {
              "id": "9593329684423628568",
              "sync": true,
              "value": 1
             }
            },
            "systemjs_options": null
           },
           "nodeType": "Scope",
           "props": {},
           "type": "node"
          }
         ],
         "instanceArgs": {
          "namespace": "html",
          "tag": "div"
         },
         "nodeType": "DOM",
         "props": {
          "className": "field interact-widget"
         },
         "type": "node"
        },
        {
         "children": [
          {
           "children": [
            {
             "children": [
              {
               "children": [
                {
                 "children": [
                  "y"
                 ],
                 "instanceArgs": {
                  "namespace": "html",
                  "tag": "label"
                 },
                 "nodeType": "DOM",
                 "props": {
                  "className": "interact ",
                  "style": {
                   "padding": "5px 10px 0px 10px"
                  }
                 },
                 "type": "node"
                }
               ],
               "instanceArgs": {
                "namespace": "html",
                "tag": "div"
               },
               "nodeType": "DOM",
               "props": {
                "className": "interact-flex-row-left"
               },
               "type": "node"
              },
              {
               "children": [
                {
                 "children": [],
                 "instanceArgs": {
                  "namespace": "html",
                  "tag": "input"
                 },
                 "nodeType": "DOM",
                 "props": {
                  "attributes": {
                   "data-bind": "numericValue: index, valueUpdate: 'input', event: {change: function (){this.changes(this.changes()+1)}}",
                   "orient": "horizontal",
                   "type": "range"
                  },
                  "className": "slider slider is-fullwidth",
                  "max": 100,
                  "min": 1,
                  "step": 1,
                  "style": {}
                 },
                 "type": "node"
                }
               ],
               "instanceArgs": {
                "namespace": "html",
                "tag": "div"
               },
               "nodeType": "DOM",
               "props": {
                "className": "interact-flex-row-center"
               },
               "type": "node"
              },
              {
               "children": [
                {
                 "children": [],
                 "instanceArgs": {
                  "namespace": "html",
                  "tag": "p"
                 },
                 "nodeType": "DOM",
                 "props": {
                  "attributes": {
                   "data-bind": "text: formatted_val"
                  }
                 },
                 "type": "node"
                }
               ],
               "instanceArgs": {
                "namespace": "html",
                "tag": "div"
               },
               "nodeType": "DOM",
               "props": {
                "className": "interact-flex-row-right"
               },
               "type": "node"
              }
             ],
             "instanceArgs": {
              "namespace": "html",
              "tag": "div"
             },
             "nodeType": "DOM",
             "props": {
              "className": "interact-flex-row interact-widget"
             },
             "type": "node"
            }
           ],
           "instanceArgs": {
            "handlers": {
             "changes": [
              "(function (val){return (val!=this.model[\"changes\"]()) ? (this.valueFromJulia[\"changes\"]=true, this.model[\"changes\"](val)) : undefined})"
             ],
             "index": [
              "(function (val){return (val!=this.model[\"index\"]()) ? (this.valueFromJulia[\"index\"]=true, this.model[\"index\"](val)) : undefined})"
             ]
            },
            "id": "2377317756553729454",
            "imports": {
             "data": [
              {
               "name": "knockout",
               "type": "js",
               "url": "/assetserver/47cacba18a6e957a8fda7987f9bc6dd46eb14ac2-knockout.js"
              },
              {
               "name": "knockout_punches",
               "type": "js",
               "url": "/assetserver/6fd59a16a697ff4f2d107d83f062c92fe763922e-knockout_punches.js"
              },
              {
               "name": null,
               "type": "js",
               "url": "/assetserver/b1bed3bbf9f98267af99bbab9604c5ed531a636a-all.js"
              },
              {
               "name": null,
               "type": "css",
               "url": "/assetserver/b99b8c229e0b185b7185df7f499ce53727e0b5a5-style.css"
              },
              {
               "name": null,
               "type": "css",
               "url": "/assetserver/20ade396be69f4279b73c04e7237664b3b16a890-bulma_confined.min.css"
              }
             ],
             "type": "async_block"
            },
            "mount_callbacks": [
             "function () {\n    var handler = (function (ko, koPunches) {\n    ko.punches.enableAll();\n    ko.bindingHandlers.numericValue = {\n        init: function(element, valueAccessor, allBindings, data, context) {\n            var stringified = ko.observable(ko.unwrap(valueAccessor()));\n            stringified.subscribe(function(value) {\n                var val = parseFloat(value);\n                if (!isNaN(val)) {\n                    valueAccessor()(val);\n                }\n            });\n            valueAccessor().subscribe(function(value) {\n                var str = JSON.stringify(value);\n                if ((str == \"0\") && ([\"-0\", \"-0.\"].indexOf(stringified()) >= 0))\n                     return;\n                 if ([\"null\", \"\"].indexOf(str) >= 0)\n                     return;\n                stringified(str);\n            });\n            ko.applyBindingsToNode(\n                element,\n                {\n                    value: stringified,\n                    valueUpdate: allBindings.get('valueUpdate'),\n                },\n                context,\n            );\n        }\n    };\n    var json_data = {\"formatted_vals\":[\"1\",\"2\",\"3\",\"4\",\"5\",\"6\",\"7\",\"8\",\"9\",\"10\",\"11\",\"12\",\"13\",\"14\",\"15\",\"16\",\"17\",\"18\",\"19\",\"20\",\"21\",\"22\",\"23\",\"24\",\"25\",\"26\",\"27\",\"28\",\"29\",\"30\",\"31\",\"32\",\"33\",\"34\",\"35\",\"36\",\"37\",\"38\",\"39\",\"40\",\"41\",\"42\",\"43\",\"44\",\"45\",\"46\",\"47\",\"48\",\"49\",\"50\",\"51\",\"52\",\"53\",\"54\",\"55\",\"56\",\"57\",\"58\",\"59\",\"60\",\"61\",\"62\",\"63\",\"64\",\"65\",\"66\",\"67\",\"68\",\"69\",\"70\",\"71\",\"72\",\"73\",\"74\",\"75\",\"76\",\"77\",\"78\",\"79\",\"80\",\"81\",\"82\",\"83\",\"84\",\"85\",\"86\",\"87\",\"88\",\"89\",\"90\",\"91\",\"92\",\"93\",\"94\",\"95\",\"96\",\"97\",\"98\",\"99\",\"100\"],\"changes\":WebIO.getval({\"name\":\"changes\",\"scope\":\"2377317756553729454\",\"id\":\"13258969949939990992\",\"type\":\"observable\"}),\"index\":WebIO.getval({\"name\":\"index\",\"scope\":\"2377317756553729454\",\"id\":\"338953921582482975\",\"type\":\"observable\"})};\n    var self = this;\n    function AppViewModel() {\n        for (var key in json_data) {\n            var el = json_data[key];\n            this[key] = Array.isArray(el) ? ko.observableArray(el) : ko.observable(el);\n        }\n        \n        [this[\"formatted_val\"]=ko.computed(    function(){\n        return this.formatted_vals()[parseInt(this.index())-(1)];\n    }\n,this)]\n        [this[\"changes\"].subscribe((function (val){!(this.valueFromJulia[\"changes\"]) ? (WebIO.setval({\"name\":\"changes\",\"scope\":\"2377317756553729454\",\"id\":\"13258969949939990992\",\"type\":\"observable\"},val)) : undefined; return this.valueFromJulia[\"changes\"]=false}),self),this[\"index\"].subscribe((function (val){!(this.valueFromJulia[\"index\"]) ? (WebIO.setval({\"name\":\"index\",\"scope\":\"2377317756553729454\",\"id\":\"338953921582482975\",\"type\":\"observable\"},val)) : undefined; return this.valueFromJulia[\"index\"]=false}),self)]\n        \n    }\n    self.model = new AppViewModel();\n    self.valueFromJulia = {};\n    for (var key in json_data) {\n        self.valueFromJulia[key] = false;\n    }\n    ko.applyBindings(self.model, self.dom);\n}\n);\n    (WebIO.importBlock({\"data\":[{\"name\":\"knockout\",\"type\":\"js\",\"url\":\"/assetserver/47cacba18a6e957a8fda7987f9bc6dd46eb14ac2-knockout.js\"},{\"name\":\"knockout_punches\",\"type\":\"js\",\"url\":\"/assetserver/6fd59a16a697ff4f2d107d83f062c92fe763922e-knockout_punches.js\"}],\"type\":\"async_block\"})).then((imports) => handler.apply(this, imports));\n}\n"
            ],
            "observables": {
             "changes": {
              "id": "13258969949939990992",
              "sync": false,
              "value": 0
             },
             "index": {
              "id": "338953921582482975",
              "sync": true,
              "value": 50
             }
            },
            "systemjs_options": null
           },
           "nodeType": "Scope",
           "props": {},
           "type": "node"
          }
         ],
         "instanceArgs": {
          "namespace": "html",
          "tag": "div"
         },
         "nodeType": "DOM",
         "props": {
          "className": "field interact-widget"
         },
         "type": "node"
        },
        {
         "children": [
          {
           "children": [],
           "instanceArgs": {
            "id": "8368873181882978989",
            "name": "obs-node"
           },
           "nodeType": "ObservableNode",
           "props": {},
           "type": "node"
          }
         ],
         "instanceArgs": {
          "handlers": {},
          "id": "7679536853188625765",
          "imports": {
           "data": [],
           "type": "async_block"
          },
          "mount_callbacks": [],
          "observables": {
           "obs-node": {
            "id": "8368873181882978989",
            "sync": false,
            "value": {
             "children": [
              {
               "children": [],
               "instanceArgs": {
                "namespace": "html",
                "tag": "div"
               },
               "nodeType": "DOM",
               "props": {
                "setInnerHtml": "<?xml version=\"1.0\" encoding=\"utf-8\"?>\n<svg xmlns=\"http://www.w3.org/2000/svg\" xmlns:xlink=\"http://www.w3.org/1999/xlink\" width=\"600\" height=\"400\" viewBox=\"0 0 2400 1600\">\n<defs>\n  <clipPath id=\"clip840\">\n    <rect x=\"0\" y=\"0\" width=\"2400\" height=\"1600\"/>\n  </clipPath>\n</defs>\n<path clip-path=\"url(#clip840)\" d=\"M0 1600 L2400 1600 L2400 0 L0 0  Z\" fill=\"#ffffff\" fill-rule=\"evenodd\" fill-opacity=\"1\"/>\n<defs>\n  <clipPath id=\"clip841\">\n    <rect x=\"480\" y=\"0\" width=\"1681\" height=\"1600\"/>\n  </clipPath>\n</defs>\n<path clip-path=\"url(#clip840)\" d=\"M178.867 1486.45 L2352.76 1486.45 L2352.76 47.2441 L178.867 47.2441  Z\" fill=\"#ffffff\" fill-rule=\"evenodd\" fill-opacity=\"1\"/>\n<defs>\n  <clipPath id=\"clip842\">\n    <rect x=\"178\" y=\"47\" width=\"2175\" height=\"1440\"/>\n  </clipPath>\n</defs>\n<polyline clip-path=\"url(#clip842)\" style=\"stroke:#000000; stroke-linecap:round; stroke-linejoin:round; stroke-width:2; stroke-opacity:0.1; fill:none\" points=\"513.837,1486.45 513.837,47.2441 \"/>\n<polyline clip-path=\"url(#clip842)\" style=\"stroke:#000000; stroke-linecap:round; stroke-linejoin:round; stroke-width:2; stroke-opacity:0.1; fill:none\" points=\"924.005,1486.45 924.005,47.2441 \"/>\n<polyline clip-path=\"url(#clip842)\" style=\"stroke:#000000; stroke-linecap:round; stroke-linejoin:round; stroke-width:2; stroke-opacity:0.1; fill:none\" points=\"1334.17,1486.45 1334.17,47.2441 \"/>\n<polyline clip-path=\"url(#clip842)\" style=\"stroke:#000000; stroke-linecap:round; stroke-linejoin:round; stroke-width:2; stroke-opacity:0.1; fill:none\" points=\"1744.34,1486.45 1744.34,47.2441 \"/>\n<polyline clip-path=\"url(#clip842)\" style=\"stroke:#000000; stroke-linecap:round; stroke-linejoin:round; stroke-width:2; stroke-opacity:0.1; fill:none\" points=\"2154.51,1486.45 2154.51,47.2441 \"/>\n<polyline clip-path=\"url(#clip840)\" style=\"stroke:#000000; stroke-linecap:round; stroke-linejoin:round; stroke-width:4; stroke-opacity:1; fill:none\" points=\"178.867,1486.45 2352.76,1486.45 \"/>\n<polyline clip-path=\"url(#clip840)\" style=\"stroke:#000000; stroke-linecap:round; stroke-linejoin:round; stroke-width:4; stroke-opacity:1; fill:none\" points=\"513.837,1486.45 513.837,1467.55 \"/>\n<polyline clip-path=\"url(#clip840)\" style=\"stroke:#000000; stroke-linecap:round; stroke-linejoin:round; stroke-width:4; stroke-opacity:1; fill:none\" points=\"924.005,1486.45 924.005,1467.55 \"/>\n<polyline clip-path=\"url(#clip840)\" style=\"stroke:#000000; stroke-linecap:round; stroke-linejoin:round; stroke-width:4; stroke-opacity:1; fill:none\" points=\"1334.17,1486.45 1334.17,1467.55 \"/>\n<polyline clip-path=\"url(#clip840)\" style=\"stroke:#000000; stroke-linecap:round; stroke-linejoin:round; stroke-width:4; stroke-opacity:1; fill:none\" points=\"1744.34,1486.45 1744.34,1467.55 \"/>\n<polyline clip-path=\"url(#clip840)\" style=\"stroke:#000000; stroke-linecap:round; stroke-linejoin:round; stroke-width:4; stroke-opacity:1; fill:none\" points=\"2154.51,1486.45 2154.51,1467.55 \"/>\n<path clip-path=\"url(#clip840)\" d=\"M460.689 1532.02 L490.365 1532.02 L490.365 1535.95 L460.689 1535.95 L460.689 1532.02 Z\" fill=\"#000000\" fill-rule=\"nonzero\" fill-opacity=\"1\" /><path clip-path=\"url(#clip840)\" d=\"M510.457 1517.37 Q506.846 1517.37 505.018 1520.93 Q503.212 1524.47 503.212 1531.6 Q503.212 1538.71 505.018 1542.27 Q506.846 1545.82 510.457 1545.82 Q514.092 1545.82 515.897 1542.27 Q517.726 1538.71 517.726 1531.6 Q517.726 1524.47 515.897 1520.93 Q514.092 1517.37 510.457 1517.37 M510.457 1513.66 Q516.268 1513.66 519.323 1518.27 Q522.402 1522.85 522.402 1531.6 Q522.402 1540.33 519.323 1544.94 Q516.268 1549.52 510.457 1549.52 Q504.647 1549.52 501.569 1544.94 Q498.513 1540.33 498.513 1531.6 Q498.513 1522.85 501.569 1518.27 Q504.647 1513.66 510.457 1513.66 Z\" fill=\"#000000\" fill-rule=\"nonzero\" fill-opacity=\"1\" /><path clip-path=\"url(#clip840)\" d=\"M530.619 1542.97 L535.504 1542.97 L535.504 1548.85 L530.619 1548.85 L530.619 1542.97 Z\" fill=\"#000000\" fill-rule=\"nonzero\" fill-opacity=\"1\" /><path clip-path=\"url(#clip840)\" d=\"M559.855 1530.21 Q563.212 1530.93 565.087 1533.2 Q566.985 1535.47 566.985 1538.8 Q566.985 1543.92 563.466 1546.72 Q559.948 1549.52 553.466 1549.52 Q551.29 1549.52 548.976 1549.08 Q546.684 1548.66 544.23 1547.81 L544.23 1543.29 Q546.175 1544.43 548.49 1545.01 Q550.804 1545.58 553.328 1545.58 Q557.726 1545.58 560.017 1543.85 Q562.332 1542.11 562.332 1538.8 Q562.332 1535.75 560.179 1534.03 Q558.05 1532.3 554.23 1532.3 L550.203 1532.3 L550.203 1528.45 L554.415 1528.45 Q557.865 1528.45 559.693 1527.09 Q561.522 1525.7 561.522 1523.11 Q561.522 1520.45 559.624 1519.03 Q557.749 1517.6 554.23 1517.6 Q552.309 1517.6 550.11 1518.01 Q547.911 1518.43 545.272 1519.31 L545.272 1515.14 Q547.934 1514.4 550.249 1514.03 Q552.587 1513.66 554.647 1513.66 Q559.971 1513.66 563.073 1516.09 Q566.175 1518.5 566.175 1522.62 Q566.175 1525.49 564.531 1527.48 Q562.888 1529.45 559.855 1530.21 Z\" fill=\"#000000\" fill-rule=\"nonzero\" fill-opacity=\"1\" /><path clip-path=\"url(#clip840)\" d=\"M901.389 1517.37 Q897.778 1517.37 895.949 1520.93 Q894.144 1524.47 894.144 1531.6 Q894.144 1538.71 895.949 1542.27 Q897.778 1545.82 901.389 1545.82 Q905.023 1545.82 906.829 1542.27 Q908.658 1538.71 908.658 1531.6 Q908.658 1524.47 906.829 1520.93 Q905.023 1517.37 901.389 1517.37 M901.389 1513.66 Q907.199 1513.66 910.255 1518.27 Q913.334 1522.85 913.334 1531.6 Q913.334 1540.33 910.255 1544.94 Q907.199 1549.52 901.389 1549.52 Q895.579 1549.52 892.5 1544.94 Q889.445 1540.33 889.445 1531.6 Q889.445 1522.85 892.5 1518.27 Q895.579 1513.66 901.389 1513.66 Z\" fill=\"#000000\" fill-rule=\"nonzero\" fill-opacity=\"1\" /><path clip-path=\"url(#clip840)\" d=\"M921.551 1542.97 L926.435 1542.97 L926.435 1548.85 L921.551 1548.85 L921.551 1542.97 Z\" fill=\"#000000\" fill-rule=\"nonzero\" fill-opacity=\"1\" /><path clip-path=\"url(#clip840)\" d=\"M946.62 1517.37 Q943.009 1517.37 941.181 1520.93 Q939.375 1524.47 939.375 1531.6 Q939.375 1538.71 941.181 1542.27 Q943.009 1545.82 946.62 1545.82 Q950.255 1545.82 952.06 1542.27 Q953.889 1538.71 953.889 1531.6 Q953.889 1524.47 952.06 1520.93 Q950.255 1517.37 946.62 1517.37 M946.62 1513.66 Q952.431 1513.66 955.486 1518.27 Q958.565 1522.85 958.565 1531.6 Q958.565 1540.33 955.486 1544.94 Q952.431 1549.52 946.62 1549.52 Q940.81 1549.52 937.732 1544.94 Q934.676 1540.33 934.676 1531.6 Q934.676 1522.85 937.732 1518.27 Q940.81 1513.66 946.62 1513.66 Z\" fill=\"#000000\" fill-rule=\"nonzero\" fill-opacity=\"1\" /><path clip-path=\"url(#clip840)\" d=\"M1311.88 1517.37 Q1308.27 1517.37 1306.44 1520.93 Q1304.64 1524.47 1304.64 1531.6 Q1304.64 1538.71 1306.44 1542.27 Q1308.27 1545.82 1311.88 1545.82 Q1315.52 1545.82 1317.32 1542.27 Q1319.15 1538.71 1319.15 1531.6 Q1319.15 1524.47 1317.32 1520.93 Q1315.52 1517.37 1311.88 1517.37 M1311.88 1513.66 Q1317.69 1513.66 1320.75 1518.27 Q1323.83 1522.85 1323.83 1531.6 Q1323.83 1540.33 1320.75 1544.94 Q1317.69 1549.52 1311.88 1549.52 Q1306.07 1549.52 1302.99 1544.94 Q1299.94 1540.33 1299.94 1531.6 Q1299.94 1522.85 1302.99 1518.27 Q1306.07 1513.66 1311.88 1513.66 Z\" fill=\"#000000\" fill-rule=\"nonzero\" fill-opacity=\"1\" /><path clip-path=\"url(#clip840)\" d=\"M1332.04 1542.97 L1336.93 1542.97 L1336.93 1548.85 L1332.04 1548.85 L1332.04 1542.97 Z\" fill=\"#000000\" fill-rule=\"nonzero\" fill-opacity=\"1\" /><path clip-path=\"url(#clip840)\" d=\"M1361.28 1530.21 Q1364.64 1530.93 1366.51 1533.2 Q1368.41 1535.47 1368.41 1538.8 Q1368.41 1543.92 1364.89 1546.72 Q1361.37 1549.52 1354.89 1549.52 Q1352.71 1549.52 1350.4 1549.08 Q1348.11 1548.66 1345.65 1547.81 L1345.65 1543.29 Q1347.6 1544.43 1349.91 1545.01 Q1352.23 1545.58 1354.75 1545.58 Q1359.15 1545.58 1361.44 1543.85 Q1363.76 1542.11 1363.76 1538.8 Q1363.76 1535.75 1361.6 1534.03 Q1359.47 1532.3 1355.65 1532.3 L1351.63 1532.3 L1351.63 1528.45 L1355.84 1528.45 Q1359.29 1528.45 1361.12 1527.09 Q1362.95 1525.7 1362.95 1523.11 Q1362.95 1520.45 1361.05 1519.03 Q1359.17 1517.6 1355.65 1517.6 Q1353.73 1517.6 1351.53 1518.01 Q1349.33 1518.43 1346.7 1519.31 L1346.7 1515.14 Q1349.36 1514.4 1351.67 1514.03 Q1354.01 1513.66 1356.07 1513.66 Q1361.39 1513.66 1364.5 1516.09 Q1367.6 1518.5 1367.6 1522.62 Q1367.6 1525.49 1365.95 1527.48 Q1364.31 1529.45 1361.28 1530.21 Z\" fill=\"#000000\" fill-rule=\"nonzero\" fill-opacity=\"1\" /><path clip-path=\"url(#clip840)\" d=\"M1721.64 1517.37 Q1718.03 1517.37 1716.2 1520.93 Q1714.4 1524.47 1714.4 1531.6 Q1714.4 1538.71 1716.2 1542.27 Q1718.03 1545.82 1721.64 1545.82 Q1725.28 1545.82 1727.08 1542.27 Q1728.91 1538.71 1728.91 1531.6 Q1728.91 1524.47 1727.08 1520.93 Q1725.28 1517.37 1721.64 1517.37 M1721.64 1513.66 Q1727.45 1513.66 1730.51 1518.27 Q1733.59 1522.85 1733.59 1531.6 Q1733.59 1540.33 1730.51 1544.94 Q1727.45 1549.52 1721.64 1549.52 Q1715.83 1549.52 1712.75 1544.94 Q1709.7 1540.33 1709.7 1531.6 Q1709.7 1522.85 1712.75 1518.27 Q1715.83 1513.66 1721.64 1513.66 Z\" fill=\"#000000\" fill-rule=\"nonzero\" fill-opacity=\"1\" /><path clip-path=\"url(#clip840)\" d=\"M1741.81 1542.97 L1746.69 1542.97 L1746.69 1548.85 L1741.81 1548.85 L1741.81 1542.97 Z\" fill=\"#000000\" fill-rule=\"nonzero\" fill-opacity=\"1\" /><path clip-path=\"url(#clip840)\" d=\"M1767.45 1529.7 Q1764.31 1529.7 1762.45 1531.86 Q1760.62 1534.01 1760.62 1537.76 Q1760.62 1541.49 1762.45 1543.66 Q1764.31 1545.82 1767.45 1545.82 Q1770.6 1545.82 1772.43 1543.66 Q1774.28 1541.49 1774.28 1537.76 Q1774.28 1534.01 1772.43 1531.86 Q1770.6 1529.7 1767.45 1529.7 M1776.74 1515.05 L1776.74 1519.31 Q1774.98 1518.48 1773.17 1518.04 Q1771.39 1517.6 1769.63 1517.6 Q1765 1517.6 1762.55 1520.72 Q1760.12 1523.85 1759.77 1530.17 Q1761.13 1528.15 1763.19 1527.09 Q1765.25 1526 1767.73 1526 Q1772.94 1526 1775.95 1529.17 Q1778.98 1532.32 1778.98 1537.76 Q1778.98 1543.08 1775.83 1546.3 Q1772.69 1549.52 1767.45 1549.52 Q1761.46 1549.52 1758.29 1544.94 Q1755.12 1540.33 1755.12 1531.6 Q1755.12 1523.41 1759 1518.55 Q1762.89 1513.66 1769.44 1513.66 Q1771.2 1513.66 1772.99 1514.01 Q1774.79 1514.36 1776.74 1515.05 Z\" fill=\"#000000\" fill-rule=\"nonzero\" fill-opacity=\"1\" /><path clip-path=\"url(#clip840)\" d=\"M2131.99 1517.37 Q2128.37 1517.37 2126.55 1520.93 Q2124.74 1524.47 2124.74 1531.6 Q2124.74 1538.71 2126.55 1542.27 Q2128.37 1545.82 2131.99 1545.82 Q2135.62 1545.82 2137.42 1542.27 Q2139.25 1538.71 2139.25 1531.6 Q2139.25 1524.47 2137.42 1520.93 Q2135.62 1517.37 2131.99 1517.37 M2131.99 1513.66 Q2137.8 1513.66 2140.85 1518.27 Q2143.93 1522.85 2143.93 1531.6 Q2143.93 1540.33 2140.85 1544.94 Q2137.8 1549.52 2131.99 1549.52 Q2126.17 1549.52 2123.1 1544.94 Q2120.04 1540.33 2120.04 1531.6 Q2120.04 1522.85 2123.1 1518.27 Q2126.17 1513.66 2131.99 1513.66 Z\" fill=\"#000000\" fill-rule=\"nonzero\" fill-opacity=\"1\" /><path clip-path=\"url(#clip840)\" d=\"M2152.15 1542.97 L2157.03 1542.97 L2157.03 1548.85 L2152.15 1548.85 L2152.15 1542.97 Z\" fill=\"#000000\" fill-rule=\"nonzero\" fill-opacity=\"1\" /><path clip-path=\"url(#clip840)\" d=\"M2167.36 1548.13 L2167.36 1543.87 Q2169.11 1544.7 2170.92 1545.14 Q2172.73 1545.58 2174.46 1545.58 Q2179.09 1545.58 2181.52 1542.48 Q2183.98 1539.36 2184.32 1533.01 Q2182.98 1535.01 2180.92 1536.07 Q2178.86 1537.13 2176.36 1537.13 Q2171.17 1537.13 2168.14 1534.01 Q2165.13 1530.86 2165.13 1525.42 Q2165.13 1520.1 2168.28 1516.88 Q2171.43 1513.66 2176.66 1513.66 Q2182.66 1513.66 2185.8 1518.27 Q2188.98 1522.85 2188.98 1531.6 Q2188.98 1539.77 2185.09 1544.66 Q2181.22 1549.52 2174.67 1549.52 Q2172.91 1549.52 2171.11 1549.17 Q2169.3 1548.82 2167.36 1548.13 M2176.66 1533.48 Q2179.81 1533.48 2181.64 1531.32 Q2183.49 1529.17 2183.49 1525.42 Q2183.49 1521.7 2181.64 1519.54 Q2179.81 1517.37 2176.66 1517.37 Q2173.51 1517.37 2171.66 1519.54 Q2169.83 1521.7 2169.83 1525.42 Q2169.83 1529.17 2171.66 1531.32 Q2173.51 1533.48 2176.66 1533.48 Z\" fill=\"#000000\" fill-rule=\"nonzero\" fill-opacity=\"1\" /><polyline clip-path=\"url(#clip842)\" style=\"stroke:#000000; stroke-linecap:round; stroke-linejoin:round; stroke-width:2; stroke-opacity:0.1; fill:none\" points=\"178.867,1486.45 2352.76,1486.45 \"/>\n<polyline clip-path=\"url(#clip842)\" style=\"stroke:#000000; stroke-linecap:round; stroke-linejoin:round; stroke-width:2; stroke-opacity:0.1; fill:none\" points=\"178.867,1126.65 2352.76,1126.65 \"/>\n<polyline clip-path=\"url(#clip842)\" style=\"stroke:#000000; stroke-linecap:round; stroke-linejoin:round; stroke-width:2; stroke-opacity:0.1; fill:none\" points=\"178.867,766.846 2352.76,766.846 \"/>\n<polyline clip-path=\"url(#clip842)\" style=\"stroke:#000000; stroke-linecap:round; stroke-linejoin:round; stroke-width:2; stroke-opacity:0.1; fill:none\" points=\"178.867,407.045 2352.76,407.045 \"/>\n<polyline clip-path=\"url(#clip842)\" style=\"stroke:#000000; stroke-linecap:round; stroke-linejoin:round; stroke-width:2; stroke-opacity:0.1; fill:none\" points=\"178.867,47.2441 2352.76,47.2441 \"/>\n<polyline clip-path=\"url(#clip840)\" style=\"stroke:#000000; stroke-linecap:round; stroke-linejoin:round; stroke-width:4; stroke-opacity:1; fill:none\" points=\"178.867,1486.45 178.867,47.2441 \"/>\n<polyline clip-path=\"url(#clip840)\" style=\"stroke:#000000; stroke-linecap:round; stroke-linejoin:round; stroke-width:4; stroke-opacity:1; fill:none\" points=\"178.867,1486.45 197.764,1486.45 \"/>\n<polyline clip-path=\"url(#clip840)\" style=\"stroke:#000000; stroke-linecap:round; stroke-linejoin:round; stroke-width:4; stroke-opacity:1; fill:none\" points=\"178.867,1126.65 197.764,1126.65 \"/>\n<polyline clip-path=\"url(#clip840)\" style=\"stroke:#000000; stroke-linecap:round; stroke-linejoin:round; stroke-width:4; stroke-opacity:1; fill:none\" points=\"178.867,766.846 197.764,766.846 \"/>\n<polyline clip-path=\"url(#clip840)\" style=\"stroke:#000000; stroke-linecap:round; stroke-linejoin:round; stroke-width:4; stroke-opacity:1; fill:none\" points=\"178.867,407.045 197.764,407.045 \"/>\n<polyline clip-path=\"url(#clip840)\" style=\"stroke:#000000; stroke-linecap:round; stroke-linejoin:round; stroke-width:4; stroke-opacity:1; fill:none\" points=\"178.867,47.2441 197.764,47.2441 \"/>\n<path clip-path=\"url(#clip840)\" d=\"M50.9921 1486.9 L80.6679 1486.9 L80.6679 1490.83 L50.9921 1490.83 L50.9921 1486.9 Z\" fill=\"#000000\" fill-rule=\"nonzero\" fill-opacity=\"1\" /><path clip-path=\"url(#clip840)\" d=\"M90.8067 1469.17 L109.163 1469.17 L109.163 1473.1 L95.0891 1473.1 L95.0891 1481.58 Q96.1076 1481.23 97.1261 1481.07 Q98.1447 1480.88 99.1632 1480.88 Q104.95 1480.88 108.33 1484.05 Q111.709 1487.22 111.709 1492.64 Q111.709 1498.22 108.237 1501.32 Q104.765 1504.4 98.4456 1504.4 Q96.2697 1504.4 94.0012 1504.03 Q91.7558 1503.66 89.3484 1502.92 L89.3484 1498.22 Q91.4317 1499.35 93.6539 1499.91 Q95.8761 1500.46 98.353 1500.46 Q102.358 1500.46 104.696 1498.36 Q107.033 1496.25 107.033 1492.64 Q107.033 1489.03 104.696 1486.92 Q102.358 1484.82 98.353 1484.82 Q96.478 1484.82 94.603 1485.23 Q92.7512 1485.65 90.8067 1486.53 L90.8067 1469.17 Z\" fill=\"#000000\" fill-rule=\"nonzero\" fill-opacity=\"1\" /><path clip-path=\"url(#clip840)\" d=\"M130.922 1472.25 Q127.311 1472.25 125.482 1475.81 Q123.677 1479.35 123.677 1486.48 Q123.677 1493.59 125.482 1497.15 Q127.311 1500.7 130.922 1500.7 Q134.556 1500.7 136.362 1497.15 Q138.191 1493.59 138.191 1486.48 Q138.191 1479.35 136.362 1475.81 Q134.556 1472.25 130.922 1472.25 M130.922 1468.54 Q136.732 1468.54 139.788 1473.15 Q142.867 1477.73 142.867 1486.48 Q142.867 1495.21 139.788 1499.82 Q136.732 1504.4 130.922 1504.4 Q125.112 1504.4 122.033 1499.82 Q118.978 1495.21 118.978 1486.48 Q118.978 1477.73 122.033 1473.15 Q125.112 1468.54 130.922 1468.54 Z\" fill=\"#000000\" fill-rule=\"nonzero\" fill-opacity=\"1\" /><path clip-path=\"url(#clip840)\" d=\"M51.9875 1127.1 L81.6633 1127.1 L81.6633 1131.03 L51.9875 1131.03 L51.9875 1127.1 Z\" fill=\"#000000\" fill-rule=\"nonzero\" fill-opacity=\"1\" /><path clip-path=\"url(#clip840)\" d=\"M95.7836 1139.99 L112.103 1139.99 L112.103 1143.93 L90.1586 1143.93 L90.1586 1139.99 Q92.8206 1137.24 97.4039 1132.61 Q102.01 1127.95 103.191 1126.61 Q105.436 1124.09 106.316 1122.35 Q107.219 1120.59 107.219 1118.9 Q107.219 1116.15 105.274 1114.41 Q103.353 1112.68 100.251 1112.68 Q98.0521 1112.68 95.5984 1113.44 Q93.1678 1114.2 90.3901 1115.76 L90.3901 1111.03 Q93.2141 1109.9 95.6678 1109.32 Q98.1215 1108.74 100.159 1108.74 Q105.529 1108.74 108.723 1111.43 Q111.918 1114.11 111.918 1118.6 Q111.918 1120.73 111.108 1122.65 Q110.321 1124.55 108.214 1127.14 Q107.635 1127.82 104.534 1131.03 Q101.432 1134.23 95.7836 1139.99 Z\" fill=\"#000000\" fill-rule=\"nonzero\" fill-opacity=\"1\" /><path clip-path=\"url(#clip840)\" d=\"M121.964 1109.37 L140.32 1109.37 L140.32 1113.3 L126.246 1113.3 L126.246 1121.77 Q127.265 1121.43 128.283 1121.27 Q129.302 1121.08 130.32 1121.08 Q136.107 1121.08 139.487 1124.25 Q142.867 1127.42 142.867 1132.84 Q142.867 1138.42 139.394 1141.52 Q135.922 1144.6 129.603 1144.6 Q127.427 1144.6 125.158 1144.23 Q122.913 1143.86 120.506 1143.12 L120.506 1138.42 Q122.589 1139.55 124.811 1140.11 Q127.033 1140.66 129.51 1140.66 Q133.515 1140.66 135.853 1138.56 Q138.191 1136.45 138.191 1132.84 Q138.191 1129.23 135.853 1127.12 Q133.515 1125.01 129.51 1125.01 Q127.635 1125.01 125.76 1125.43 Q123.908 1125.85 121.964 1126.73 L121.964 1109.37 Z\" fill=\"#000000\" fill-rule=\"nonzero\" fill-opacity=\"1\" /><path clip-path=\"url(#clip840)\" d=\"M130.922 752.645 Q127.311 752.645 125.482 756.209 Q123.677 759.751 123.677 766.881 Q123.677 773.987 125.482 777.552 Q127.311 781.094 130.922 781.094 Q134.556 781.094 136.362 777.552 Q138.191 773.987 138.191 766.881 Q138.191 759.751 136.362 756.209 Q134.556 752.645 130.922 752.645 M130.922 748.941 Q136.732 748.941 139.788 753.547 Q142.867 758.131 142.867 766.881 Q142.867 775.608 139.788 780.214 Q136.732 784.797 130.922 784.797 Q125.112 784.797 122.033 780.214 Q118.978 775.608 118.978 766.881 Q118.978 758.131 122.033 753.547 Q125.112 748.941 130.922 748.941 Z\" fill=\"#000000\" fill-rule=\"nonzero\" fill-opacity=\"1\" /><path clip-path=\"url(#clip840)\" d=\"M95.7836 420.39 L112.103 420.39 L112.103 424.325 L90.1586 424.325 L90.1586 420.39 Q92.8206 417.635 97.4039 413.006 Q102.01 408.353 103.191 407.01 Q105.436 404.487 106.316 402.751 Q107.219 400.992 107.219 399.302 Q107.219 396.547 105.274 394.811 Q103.353 393.075 100.251 393.075 Q98.0521 393.075 95.5984 393.839 Q93.1678 394.603 90.3901 396.154 L90.3901 391.432 Q93.2141 390.297 95.6678 389.719 Q98.1215 389.14 100.159 389.14 Q105.529 389.14 108.723 391.825 Q111.918 394.51 111.918 399.001 Q111.918 401.131 111.108 403.052 Q110.321 404.95 108.214 407.543 Q107.635 408.214 104.534 411.432 Q101.432 414.626 95.7836 420.39 Z\" fill=\"#000000\" fill-rule=\"nonzero\" fill-opacity=\"1\" /><path clip-path=\"url(#clip840)\" d=\"M121.964 389.765 L140.32 389.765 L140.32 393.7 L126.246 393.7 L126.246 402.172 Q127.265 401.825 128.283 401.663 Q129.302 401.478 130.32 401.478 Q136.107 401.478 139.487 404.649 Q142.867 407.82 142.867 413.237 Q142.867 418.816 139.394 421.918 Q135.922 424.996 129.603 424.996 Q127.427 424.996 125.158 424.626 Q122.913 424.256 120.506 423.515 L120.506 418.816 Q122.589 419.95 124.811 420.506 Q127.033 421.061 129.51 421.061 Q133.515 421.061 135.853 418.955 Q138.191 416.848 138.191 413.237 Q138.191 409.626 135.853 407.52 Q133.515 405.413 129.51 405.413 Q127.635 405.413 125.76 405.83 Q123.908 406.246 121.964 407.126 L121.964 389.765 Z\" fill=\"#000000\" fill-rule=\"nonzero\" fill-opacity=\"1\" /><path clip-path=\"url(#clip840)\" d=\"M90.8067 29.9641 L109.163 29.9641 L109.163 33.8993 L95.0891 33.8993 L95.0891 42.3714 Q96.1076 42.0242 97.1261 41.8622 Q98.1447 41.677 99.1632 41.677 Q104.95 41.677 108.33 44.8483 Q111.709 48.0196 111.709 53.4362 Q111.709 59.0149 108.237 62.1167 Q104.765 65.1954 98.4456 65.1954 Q96.2697 65.1954 94.0012 64.825 Q91.7558 64.4547 89.3484 63.7139 L89.3484 59.0149 Q91.4317 60.1491 93.6539 60.7047 Q95.8761 61.2602 98.353 61.2602 Q102.358 61.2602 104.696 59.1538 Q107.033 57.0473 107.033 53.4362 Q107.033 49.8251 104.696 47.7186 Q102.358 45.6122 98.353 45.6122 Q96.478 45.6122 94.603 46.0288 Q92.7512 46.4455 90.8067 47.3251 L90.8067 29.9641 Z\" fill=\"#000000\" fill-rule=\"nonzero\" fill-opacity=\"1\" /><path clip-path=\"url(#clip840)\" d=\"M130.922 33.0428 Q127.311 33.0428 125.482 36.6076 Q123.677 40.1492 123.677 47.2788 Q123.677 54.3853 125.482 57.9501 Q127.311 61.4917 130.922 61.4917 Q134.556 61.4917 136.362 57.9501 Q138.191 54.3853 138.191 47.2788 Q138.191 40.1492 136.362 36.6076 Q134.556 33.0428 130.922 33.0428 M130.922 29.3391 Q136.732 29.3391 139.788 33.9456 Q142.867 38.5289 142.867 47.2788 Q142.867 56.0056 139.788 60.6121 Q136.732 65.1954 130.922 65.1954 Q125.112 65.1954 122.033 60.6121 Q118.978 56.0056 118.978 47.2788 Q118.978 38.5289 122.033 33.9456 Q125.112 29.3391 130.922 29.3391 Z\" fill=\"#000000\" fill-rule=\"nonzero\" fill-opacity=\"1\" /><polyline clip-path=\"url(#clip842)\" style=\"stroke:#009af9; stroke-linecap:round; stroke-linejoin:round; stroke-width:12; stroke-opacity:1; fill:none\" points=\"240.392,817.183 254.064,814.593 267.736,811.988 281.409,809.372 295.081,806.75 308.753,804.126 322.425,801.506 336.098,798.894 349.77,796.295 363.442,793.714 377.114,791.156 390.787,788.626 404.459,786.13 418.131,783.673 431.803,781.259 445.476,778.895 459.148,776.586 472.82,774.337 486.492,772.154 500.165,770.042 513.837,768.006 527.509,766.052 541.182,764.185 554.854,762.411 568.526,760.734 582.198,759.161 595.871,757.696 609.543,756.345 623.215,755.113 636.887,754.005 650.56,753.025 664.232,752.178 677.904,751.47 691.576,750.905 705.249,750.487 718.921,750.22 732.593,750.11 746.265,750.159 759.938,750.373 773.61,750.753 787.282,751.305 800.954,752.03 814.627,752.934 828.299,754.017 841.971,755.284 855.643,756.736 869.316,758.375 882.988,760.205 896.66,762.225 910.333,764.439 924.005,766.846 937.677,769.448 951.349,772.246 965.022,775.239 978.694,778.429 992.366,781.814 1006.04,785.393 1019.71,789.167 1033.38,793.134 1047.06,797.292 1060.73,801.639 1074.4,806.173 1088.07,810.891 1101.74,815.791 1115.42,820.869 1129.09,826.121 1142.76,831.544 1156.43,837.133 1170.11,842.884 1183.78,848.79 1197.45,854.848 1211.12,861.05 1224.79,867.391 1238.47,873.864 1252.14,880.463 1265.81,887.179 1279.48,894.006 1293.16,900.936 1306.83,907.959 1320.5,915.068 1334.17,922.253 1347.84,929.505 1361.52,936.815 1375.19,944.171 1388.86,951.565 1402.53,958.985 1416.21,966.421 1429.88,973.861 1443.55,981.294 1457.22,988.707 1470.9,996.09 1484.57,1003.43 1498.24,1010.71 1511.91,1017.93 1525.58,1025.06 1539.26,1032.11 1552.93,1039.04 1566.6,1045.85 1580.27,1052.53 1593.95,1059.06 1607.62,1065.43 1621.29,1071.62 1634.96,1077.62 1648.63,1083.43 1662.31,1089.01 1675.98,1094.36 1689.65,1099.47 1703.32,1104.32 1717,1108.9 1730.67,1113.19 1744.34,1117.18 1758.01,1120.86 1771.68,1124.21 1785.36,1127.22 1799.03,1129.88 1812.7,1132.18 1826.37,1134.1 1840.05,1135.63 1853.72,1136.76 1867.39,1137.48 1881.06,1137.78 1894.74,1137.65 1908.41,1137.08 1922.08,1136.05 1935.75,1134.57 1949.42,1132.61 1963.1,1130.18 1976.77,1127.27 1990.44,1123.87 2004.11,1119.97 2017.79,1115.58 2031.46,1110.68 2045.13,1105.27 2058.8,1099.36 2072.47,1092.93 2086.15,1085.99 2099.82,1078.54 2113.49,1070.58 2127.16,1062.11 2140.84,1053.14 2154.51,1043.67 2168.18,1033.7 2181.85,1023.25 2195.52,1012.31 2209.2,1000.9 2222.87,989.037 2236.54,976.72 2250.21,963.966 2263.89,950.789 2277.56,937.206 2291.23,923.233 \"/>\n<circle clip-path=\"url(#clip842)\" cx=\"1265.81\" cy=\"887.179\" r=\"14.4\" fill=\"#e26f46\" fill-rule=\"evenodd\" fill-opacity=\"1\" stroke=\"#000000\" stroke-opacity=\"1\" stroke-width=\"3.2\"/>\n<path clip-path=\"url(#clip842)\" d=\"M240.392 2918.84 L261.107 2929.11 L281.823 2939.37 L302.538 2949.63 L323.254 2959.89 L343.97 2970.16 L364.685 2980.42 L385.401 2990.68 L406.116 3000.94 L426.832 3011.2 L447.547 3021.47 L468.263 3031.73 L488.978 3041.99 L509.694 3052.25 L530.409 3062.51 L551.125 3072.78 L571.841 3083.04 L592.556 3093.3 L613.272 3103.56 L633.987 3113.83 L654.703 3124.09 L675.418 3134.35 L696.134 3144.61 L716.849 3154.87 L737.565 3165.14 L758.28 3175.4 L778.996 3185.66 L799.712 3195.92 L820.427 3206.19 L841.143 3216.45 L861.858 3226.71 L882.574 3236.97 L903.289 3247.23 L924.005 3257.5 L944.72 3267.76 L965.436 3278.02 L986.151 3288.28 L1006.87 3298.55 L1027.58 3308.81 L1048.3 3319.07 L1069.01 3329.33 L1089.73 3339.59 L1110.44 3349.86 L1131.16 3360.12 L1151.88 3370.38 L1172.59 3380.64 L1193.31 3390.91 L1214.02 3401.17 L1234.74 3411.43 L1255.45 3421.69 L1276.17 3431.95 L1296.88 3442.22 L1317.6 3452.48 L1338.32 3462.74 L1359.03 3473 L1379.75 3483.27 L1400.46 3493.53 L1421.18 3503.79 L1441.89 3514.05 L1462.61 3524.31 L1483.32 3534.58 L1504.04 3544.84 L1524.76 3555.1 L1545.47 3565.36 L1566.19 3575.63 L1586.9 3585.89 L1607.62 3596.15 L1628.33 3606.41 L1649.05 3616.67 L1669.76 3626.94 L1690.48 3637.2 L1711.2 3647.46 L1731.91 3657.72 L1752.63 3667.99 L1773.34 3678.25 L1794.06 3688.51 L1814.77 3698.77 L1835.49 3709.03 L1856.2 3719.3 L1876.92 3729.56 L1897.64 3739.82 L1918.35 3750.08 L1939.07 3760.35 L1959.78 3770.61 L1980.5 3780.87 L2001.21 3791.13 L2021.93 3801.39 L2042.64 3811.66 L2063.36 3821.92 L2084.08 3832.18 L2104.79 3842.44 L2125.51 3852.7 L2146.22 3862.97 L2166.94 3873.23 L2187.65 3883.49 L2208.37 3893.75 L2229.08 3904.02 L2249.8 3914.28 L2270.52 3924.54 L2291.23 3934.8 L2291.23 -1350.26 L2270.52 -1360.52 L2249.8 -1370.78 L2229.08 -1381.04 L2208.37 -1391.31 L2187.65 -1401.57 L2166.94 -1411.83 L2146.22 -1422.09 L2125.51 -1432.36 L2104.79 -1442.62 L2084.08 -1452.88 L2063.36 -1463.14 L2042.64 -1473.4 L2021.93 -1483.67 L2001.21 -1493.93 L1980.5 -1504.19 L1959.78 -1514.45 L1939.07 -1524.72 L1918.35 -1534.98 L1897.64 -1545.24 L1876.92 -1555.5 L1856.2 -1565.76 L1835.49 -1576.03 L1814.77 -1586.29 L1794.06 -1596.55 L1773.34 -1606.81 L1752.63 -1617.07 L1731.91 -1627.34 L1711.2 -1637.6 L1690.48 -1647.86 L1669.76 -1658.12 L1649.05 -1668.39 L1628.33 -1678.65 L1607.62 -1688.91 L1586.9 -1699.17 L1566.19 -1709.43 L1545.47 -1719.7 L1524.76 -1729.96 L1504.04 -1740.22 L1483.32 -1750.48 L1462.61 -1760.75 L1441.89 -1771.01 L1421.18 -1781.27 L1400.46 -1791.53 L1379.75 -1801.79 L1359.03 -1812.06 L1338.32 -1822.32 L1317.6 -1832.58 L1296.88 -1842.84 L1276.17 -1853.11 L1255.45 -1863.37 L1234.74 -1873.63 L1214.02 -1883.89 L1193.31 -1894.15 L1172.59 -1904.42 L1151.88 -1914.68 L1131.16 -1924.94 L1110.44 -1935.2 L1089.73 -1945.47 L1069.01 -1955.73 L1048.3 -1965.99 L1027.58 -1976.25 L1006.87 -1986.51 L986.151 -1996.78 L965.436 -2007.04 L944.72 -2017.3 L924.005 -2027.56 L903.289 -2037.83 L882.574 -2048.09 L861.858 -2058.35 L841.143 -2068.61 L820.427 -2078.87 L799.712 -2089.14 L778.996 -2099.4 L758.28 -2109.66 L737.565 -2119.92 L716.849 -2130.19 L696.134 -2140.45 L675.418 -2150.71 L654.703 -2160.97 L633.987 -2171.23 L613.272 -2181.5 L592.556 -2191.76 L571.841 -2202.02 L551.125 -2212.28 L530.409 -2222.55 L509.694 -2232.81 L488.978 -2243.07 L468.263 -2253.33 L447.547 -2263.59 L426.832 -2273.86 L406.116 -2284.12 L385.401 -2294.38 L364.685 -2304.64 L343.97 -2314.91 L323.254 -2325.17 L302.538 -2335.43 L281.823 -2345.69 L261.107 -2355.95 L240.392 -2366.22 L240.392 2918.84 L240.392 2918.84  Z\" fill=\"#3da44d\" fill-rule=\"evenodd\" fill-opacity=\"0.3\"/>\n<polyline clip-path=\"url(#clip842)\" style=\"stroke:#000000; stroke-linecap:round; stroke-linejoin:round; stroke-width:4; stroke-opacity:0.3; fill:none\" points=\"240.392,2918.84 261.107,2929.11 281.823,2939.37 302.538,2949.63 323.254,2959.89 343.97,2970.16 364.685,2980.42 385.401,2990.68 406.116,3000.94 426.832,3011.2 447.547,3021.47 468.263,3031.73 488.978,3041.99 509.694,3052.25 530.409,3062.51 551.125,3072.78 571.841,3083.04 592.556,3093.3 613.272,3103.56 633.987,3113.83 654.703,3124.09 675.418,3134.35 696.134,3144.61 716.849,3154.87 737.565,3165.14 758.28,3175.4 778.996,3185.66 799.712,3195.92 820.427,3206.19 841.143,3216.45 861.858,3226.71 882.574,3236.97 903.289,3247.23 924.005,3257.5 944.72,3267.76 965.436,3278.02 986.151,3288.28 1006.87,3298.55 1027.58,3308.81 1048.3,3319.07 1069.01,3329.33 1089.73,3339.59 1110.44,3349.86 1131.16,3360.12 1151.88,3370.38 1172.59,3380.64 1193.31,3390.91 1214.02,3401.17 1234.74,3411.43 1255.45,3421.69 1276.17,3431.95 1296.88,3442.22 1317.6,3452.48 1338.32,3462.74 1359.03,3473 1379.75,3483.27 1400.46,3493.53 1421.18,3503.79 1441.89,3514.05 1462.61,3524.31 1483.32,3534.58 1504.04,3544.84 1524.76,3555.1 1545.47,3565.36 1566.19,3575.63 1586.9,3585.89 1607.62,3596.15 1628.33,3606.41 1649.05,3616.67 1669.76,3626.94 1690.48,3637.2 1711.2,3647.46 1731.91,3657.72 1752.63,3667.99 1773.34,3678.25 1794.06,3688.51 1814.77,3698.77 1835.49,3709.03 1856.2,3719.3 1876.92,3729.56 1897.64,3739.82 1918.35,3750.08 1939.07,3760.35 1959.78,3770.61 1980.5,3780.87 2001.21,3791.13 2021.93,3801.39 2042.64,3811.66 2063.36,3821.92 2084.08,3832.18 2104.79,3842.44 2125.51,3852.7 2146.22,3862.97 2166.94,3873.23 2187.65,3883.49 2208.37,3893.75 2229.08,3904.02 2249.8,3914.28 2270.52,3924.54 2291.23,3934.8 2291.23,-1350.26 2270.52,-1360.52 2249.8,-1370.78 2229.08,-1381.04 2208.37,-1391.31 2187.65,-1401.57 2166.94,-1411.83 2146.22,-1422.09 2125.51,-1432.36 2104.79,-1442.62 2084.08,-1452.88 2063.36,-1463.14 2042.64,-1473.4 2021.93,-1483.67 2001.21,-1493.93 1980.5,-1504.19 1959.78,-1514.45 1939.07,-1524.72 1918.35,-1534.98 1897.64,-1545.24 1876.92,-1555.5 1856.2,-1565.76 1835.49,-1576.03 1814.77,-1586.29 1794.06,-1596.55 1773.34,-1606.81 1752.63,-1617.07 1731.91,-1627.34 1711.2,-1637.6 1690.48,-1647.86 1669.76,-1658.12 1649.05,-1668.39 1628.33,-1678.65 1607.62,-1688.91 1586.9,-1699.17 1566.19,-1709.43 1545.47,-1719.7 1524.76,-1729.96 1504.04,-1740.22 1483.32,-1750.48 1462.61,-1760.75 1441.89,-1771.01 1421.18,-1781.27 1400.46,-1791.53 1379.75,-1801.79 1359.03,-1812.06 1338.32,-1822.32 1317.6,-1832.58 1296.88,-1842.84 1276.17,-1853.11 1255.45,-1863.37 1234.74,-1873.63 1214.02,-1883.89 1193.31,-1894.15 1172.59,-1904.42 1151.88,-1914.68 1131.16,-1924.94 1110.44,-1935.2 1089.73,-1945.47 1069.01,-1955.73 1048.3,-1965.99 1027.58,-1976.25 1006.87,-1986.51 986.151,-1996.78 965.436,-2007.04 944.72,-2017.3 924.005,-2027.56 903.289,-2037.83 882.574,-2048.09 861.858,-2058.35 841.143,-2068.61 820.427,-2078.87 799.712,-2089.14 778.996,-2099.4 758.28,-2109.66 737.565,-2119.92 716.849,-2130.19 696.134,-2140.45 675.418,-2150.71 654.703,-2160.97 633.987,-2171.23 613.272,-2181.5 592.556,-2191.76 571.841,-2202.02 551.125,-2212.28 530.409,-2222.55 509.694,-2232.81 488.978,-2243.07 468.263,-2253.33 447.547,-2263.59 426.832,-2273.86 406.116,-2284.12 385.401,-2294.38 364.685,-2304.64 343.97,-2314.91 323.254,-2325.17 302.538,-2335.43 281.823,-2345.69 261.107,-2355.95 240.392,-2366.22 240.392,2918.84 \"/>\n<polyline clip-path=\"url(#clip842)\" style=\"stroke:#c271d2; stroke-linecap:round; stroke-linejoin:round; stroke-width:8; stroke-opacity:1; fill:none\" stroke-dasharray=\"32, 20\" points=\"240.392,379.2 253.744,385.815 377.203,446.975 451.397,483.729 514.127,514.805 582.269,548.562 645.091,579.683 712.442,613.047 790.474,651.704 859.821,686.057 920.631,716.182 986.931,749.026 1053.62,782.065 1127.36,818.594 1197.52,853.35 1270.47,889.489 1331.88,919.91 1406.86,957.051 1475.54,991.074 1538.97,1022.5 1603.22,1054.33 1675.23,1090 1740.48,1122.33 1815.2,1159.34 1884.37,1193.61 1952.57,1227.39 2018.78,1260.19 2086.66,1293.82 2161.03,1330.66 2269.07,1384.18 2291.23,1395.16 \"/>\n</svg>\n"
               },
               "type": "node"
              }
             ],
             "instanceArgs": {
              "namespace": "html",
              "tag": "div"
             },
             "nodeType": "DOM",
             "props": {
              "className": "interact-flex-row interact-widget"
             },
             "type": "node"
            }
           }
          },
          "systemjs_options": null
         },
         "nodeType": "Scope",
         "props": {},
         "type": "node"
        }
       ],
       "instanceArgs": {
        "namespace": "html",
        "tag": "div"
       },
       "nodeType": "DOM",
       "props": {},
       "type": "node"
      },
      "text/html": [
       "<div\n",
       "    class=\"webio-mountpoint\"\n",
       "    data-webio-mountpoint=\"3117208393034848744\"\n",
       ">\n",
       "    <script>\n",
       "    (function(){\n",
       "    // Some integrations (namely, IJulia/Jupyter) use an alternate render pathway than\n",
       "    // just putting the html on the page. If WebIO isn't defined, then it's pretty likely\n",
       "    // that we're in one of those situations and the integration just isn't installed\n",
       "    // correctly.\n",
       "    if (typeof window.WebIO === \"undefined\") {\n",
       "        document\n",
       "            .querySelector('[data-webio-mountpoint=\"3117208393034848744\"]')\n",
       "            .innerHTML = (\n",
       "                '<div style=\"padding: 1em; background-color: #f8d6da; border: 1px solid #f5c6cb; font-weight: bold;\">' +\n",
       "                '<p><strong>WebIO not detected.</strong></p>' +\n",
       "                '<p>Please read ' +\n",
       "                '<a href=\"https://juliagizmos.github.io/WebIO.jl/latest/troubleshooting/not-detected/\" target=\"_blank\">the troubleshooting guide</a> ' +\n",
       "                'for more information on how to resolve this issue.</p>' +\n",
       "                '<p><a href=\"https://juliagizmos.github.io/WebIO.jl/latest/troubleshooting/not-detected/\" target=\"_blank\">https://juliagizmos.github.io/WebIO.jl/latest/troubleshooting/not-detected/</a></p>' +\n",
       "                '</div>'\n",
       "            );\n",
       "        return;\n",
       "    }\n",
       "    WebIO.mount(\n",
       "        document.querySelector('[data-webio-mountpoint=\"3117208393034848744\"]'),\n",
       "        {\"props\":{},\"nodeType\":\"DOM\",\"type\":\"node\",\"instanceArgs\":{\"namespace\":\"html\",\"tag\":\"div\"},\"children\":[{\"props\":{\"className\":\"field interact-widget\"},\"nodeType\":\"DOM\",\"type\":\"node\",\"instanceArgs\":{\"namespace\":\"html\",\"tag\":\"div\"},\"children\":[{\"props\":{},\"nodeType\":\"Scope\",\"type\":\"node\",\"instanceArgs\":{\"imports\":{\"data\":[{\"name\":\"knockout\",\"type\":\"js\",\"url\":\"\\/assetserver\\/47cacba18a6e957a8fda7987f9bc6dd46eb14ac2-knockout.js\"},{\"name\":\"knockout_punches\",\"type\":\"js\",\"url\":\"\\/assetserver\\/6fd59a16a697ff4f2d107d83f062c92fe763922e-knockout_punches.js\"},{\"name\":null,\"type\":\"js\",\"url\":\"\\/assetserver\\/b1bed3bbf9f98267af99bbab9604c5ed531a636a-all.js\"},{\"name\":null,\"type\":\"css\",\"url\":\"\\/assetserver\\/b99b8c229e0b185b7185df7f499ce53727e0b5a5-style.css\"},{\"name\":null,\"type\":\"css\",\"url\":\"\\/assetserver\\/20ade396be69f4279b73c04e7237664b3b16a890-bulma_confined.min.css\"}],\"type\":\"async_block\"},\"id\":\"768718214808278223\",\"handlers\":{\"changes\":[\"(function (val){return (val!=this.model[\\\"changes\\\"]()) ? (this.valueFromJulia[\\\"changes\\\"]=true, this.model[\\\"changes\\\"](val)) : undefined})\"],\"index\":[\"(function (val){return (val!=this.model[\\\"index\\\"]()) ? (this.valueFromJulia[\\\"index\\\"]=true, this.model[\\\"index\\\"](val)) : undefined})\"]},\"systemjs_options\":null,\"mount_callbacks\":[\"function () {\\n    var handler = (function (ko, koPunches) {\\n    ko.punches.enableAll();\\n    ko.bindingHandlers.numericValue = {\\n        init: function(element, valueAccessor, allBindings, data, context) {\\n            var stringified = ko.observable(ko.unwrap(valueAccessor()));\\n            stringified.subscribe(function(value) {\\n                var val = parseFloat(value);\\n                if (!isNaN(val)) {\\n                    valueAccessor()(val);\\n                }\\n            });\\n            valueAccessor().subscribe(function(value) {\\n                var str = JSON.stringify(value);\\n                if ((str == \\\"0\\\") && ([\\\"-0\\\", \\\"-0.\\\"].indexOf(stringified()) >= 0))\\n                     return;\\n                 if ([\\\"null\\\", \\\"\\\"].indexOf(str) >= 0)\\n                     return;\\n                stringified(str);\\n            });\\n            ko.applyBindingsToNode(\\n                element,\\n                {\\n                    value: stringified,\\n                    valueUpdate: allBindings.get('valueUpdate'),\\n                },\\n                context,\\n            );\\n        }\\n    };\\n    var json_data = {\\\"formatted_vals\\\":[\\\"1\\\",\\\"2\\\",\\\"3\\\",\\\"4\\\",\\\"5\\\",\\\"6\\\",\\\"7\\\",\\\"8\\\",\\\"9\\\",\\\"10\\\"],\\\"changes\\\":WebIO.getval({\\\"name\\\":\\\"changes\\\",\\\"scope\\\":\\\"768718214808278223\\\",\\\"id\\\":\\\"10909842280585245322\\\",\\\"type\\\":\\\"observable\\\"}),\\\"index\\\":WebIO.getval({\\\"name\\\":\\\"index\\\",\\\"scope\\\":\\\"768718214808278223\\\",\\\"id\\\":\\\"9593329684423628568\\\",\\\"type\\\":\\\"observable\\\"})};\\n    var self = this;\\n    function AppViewModel() {\\n        for (var key in json_data) {\\n            var el = json_data[key];\\n            this[key] = Array.isArray(el) ? ko.observableArray(el) : ko.observable(el);\\n        }\\n        \\n        [this[\\\"formatted_val\\\"]=ko.computed(    function(){\\n        return this.formatted_vals()[parseInt(this.index())-(1)];\\n    }\\n,this)]\\n        [this[\\\"changes\\\"].subscribe((function (val){!(this.valueFromJulia[\\\"changes\\\"]) ? (WebIO.setval({\\\"name\\\":\\\"changes\\\",\\\"scope\\\":\\\"768718214808278223\\\",\\\"id\\\":\\\"10909842280585245322\\\",\\\"type\\\":\\\"observable\\\"},val)) : undefined; return this.valueFromJulia[\\\"changes\\\"]=false}),self),this[\\\"index\\\"].subscribe((function (val){!(this.valueFromJulia[\\\"index\\\"]) ? (WebIO.setval({\\\"name\\\":\\\"index\\\",\\\"scope\\\":\\\"768718214808278223\\\",\\\"id\\\":\\\"9593329684423628568\\\",\\\"type\\\":\\\"observable\\\"},val)) : undefined; return this.valueFromJulia[\\\"index\\\"]=false}),self)]\\n        \\n    }\\n    self.model = new AppViewModel();\\n    self.valueFromJulia = {};\\n    for (var key in json_data) {\\n        self.valueFromJulia[key] = false;\\n    }\\n    ko.applyBindings(self.model, self.dom);\\n}\\n);\\n    (WebIO.importBlock({\\\"data\\\":[{\\\"name\\\":\\\"knockout\\\",\\\"type\\\":\\\"js\\\",\\\"url\\\":\\\"\\/assetserver\\/47cacba18a6e957a8fda7987f9bc6dd46eb14ac2-knockout.js\\\"},{\\\"name\\\":\\\"knockout_punches\\\",\\\"type\\\":\\\"js\\\",\\\"url\\\":\\\"\\/assetserver\\/6fd59a16a697ff4f2d107d83f062c92fe763922e-knockout_punches.js\\\"}],\\\"type\\\":\\\"async_block\\\"})).then((imports) => handler.apply(this, imports));\\n}\\n\"],\"observables\":{\"changes\":{\"sync\":false,\"id\":\"10909842280585245322\",\"value\":0},\"index\":{\"sync\":true,\"id\":\"9593329684423628568\",\"value\":1}}},\"children\":[{\"props\":{\"className\":\"interact-flex-row interact-widget\"},\"nodeType\":\"DOM\",\"type\":\"node\",\"instanceArgs\":{\"namespace\":\"html\",\"tag\":\"div\"},\"children\":[{\"props\":{\"className\":\"interact-flex-row-left\"},\"nodeType\":\"DOM\",\"type\":\"node\",\"instanceArgs\":{\"namespace\":\"html\",\"tag\":\"div\"},\"children\":[{\"props\":{\"className\":\"interact \",\"style\":{\"padding\":\"5px 10px 0px 10px\"}},\"nodeType\":\"DOM\",\"type\":\"node\",\"instanceArgs\":{\"namespace\":\"html\",\"tag\":\"label\"},\"children\":[\"\"]}]},{\"props\":{\"className\":\"interact-flex-row-center\"},\"nodeType\":\"DOM\",\"type\":\"node\",\"instanceArgs\":{\"namespace\":\"html\",\"tag\":\"div\"},\"children\":[{\"props\":{\"max\":10,\"min\":1,\"attributes\":{\"type\":\"range\",\"data-bind\":\"numericValue: index, valueUpdate: 'input', event: {change: function (){this.changes(this.changes()+1)}}\",\"orient\":\"horizontal\"},\"step\":1,\"className\":\"slider slider is-fullwidth\",\"style\":{}},\"nodeType\":\"DOM\",\"type\":\"node\",\"instanceArgs\":{\"namespace\":\"html\",\"tag\":\"input\"},\"children\":[]}]},{\"props\":{\"className\":\"interact-flex-row-right\"},\"nodeType\":\"DOM\",\"type\":\"node\",\"instanceArgs\":{\"namespace\":\"html\",\"tag\":\"div\"},\"children\":[{\"props\":{\"attributes\":{\"data-bind\":\"text: formatted_val\"}},\"nodeType\":\"DOM\",\"type\":\"node\",\"instanceArgs\":{\"namespace\":\"html\",\"tag\":\"p\"},\"children\":[]}]}]}]}]},{\"props\":{\"className\":\"field interact-widget\"},\"nodeType\":\"DOM\",\"type\":\"node\",\"instanceArgs\":{\"namespace\":\"html\",\"tag\":\"div\"},\"children\":[{\"props\":{},\"nodeType\":\"Scope\",\"type\":\"node\",\"instanceArgs\":{\"imports\":{\"data\":[{\"name\":\"knockout\",\"type\":\"js\",\"url\":\"\\/assetserver\\/47cacba18a6e957a8fda7987f9bc6dd46eb14ac2-knockout.js\"},{\"name\":\"knockout_punches\",\"type\":\"js\",\"url\":\"\\/assetserver\\/6fd59a16a697ff4f2d107d83f062c92fe763922e-knockout_punches.js\"},{\"name\":null,\"type\":\"js\",\"url\":\"\\/assetserver\\/b1bed3bbf9f98267af99bbab9604c5ed531a636a-all.js\"},{\"name\":null,\"type\":\"css\",\"url\":\"\\/assetserver\\/b99b8c229e0b185b7185df7f499ce53727e0b5a5-style.css\"},{\"name\":null,\"type\":\"css\",\"url\":\"\\/assetserver\\/20ade396be69f4279b73c04e7237664b3b16a890-bulma_confined.min.css\"}],\"type\":\"async_block\"},\"id\":\"2377317756553729454\",\"handlers\":{\"changes\":[\"(function (val){return (val!=this.model[\\\"changes\\\"]()) ? (this.valueFromJulia[\\\"changes\\\"]=true, this.model[\\\"changes\\\"](val)) : undefined})\"],\"index\":[\"(function (val){return (val!=this.model[\\\"index\\\"]()) ? (this.valueFromJulia[\\\"index\\\"]=true, this.model[\\\"index\\\"](val)) : undefined})\"]},\"systemjs_options\":null,\"mount_callbacks\":[\"function () {\\n    var handler = (function (ko, koPunches) {\\n    ko.punches.enableAll();\\n    ko.bindingHandlers.numericValue = {\\n        init: function(element, valueAccessor, allBindings, data, context) {\\n            var stringified = ko.observable(ko.unwrap(valueAccessor()));\\n            stringified.subscribe(function(value) {\\n                var val = parseFloat(value);\\n                if (!isNaN(val)) {\\n                    valueAccessor()(val);\\n                }\\n            });\\n            valueAccessor().subscribe(function(value) {\\n                var str = JSON.stringify(value);\\n                if ((str == \\\"0\\\") && ([\\\"-0\\\", \\\"-0.\\\"].indexOf(stringified()) >= 0))\\n                     return;\\n                 if ([\\\"null\\\", \\\"\\\"].indexOf(str) >= 0)\\n                     return;\\n                stringified(str);\\n            });\\n            ko.applyBindingsToNode(\\n                element,\\n                {\\n                    value: stringified,\\n                    valueUpdate: allBindings.get('valueUpdate'),\\n                },\\n                context,\\n            );\\n        }\\n    };\\n    var json_data = {\\\"formatted_vals\\\":[\\\"1\\\",\\\"2\\\",\\\"3\\\",\\\"4\\\",\\\"5\\\",\\\"6\\\",\\\"7\\\",\\\"8\\\",\\\"9\\\",\\\"10\\\",\\\"11\\\",\\\"12\\\",\\\"13\\\",\\\"14\\\",\\\"15\\\",\\\"16\\\",\\\"17\\\",\\\"18\\\",\\\"19\\\",\\\"20\\\",\\\"21\\\",\\\"22\\\",\\\"23\\\",\\\"24\\\",\\\"25\\\",\\\"26\\\",\\\"27\\\",\\\"28\\\",\\\"29\\\",\\\"30\\\",\\\"31\\\",\\\"32\\\",\\\"33\\\",\\\"34\\\",\\\"35\\\",\\\"36\\\",\\\"37\\\",\\\"38\\\",\\\"39\\\",\\\"40\\\",\\\"41\\\",\\\"42\\\",\\\"43\\\",\\\"44\\\",\\\"45\\\",\\\"46\\\",\\\"47\\\",\\\"48\\\",\\\"49\\\",\\\"50\\\",\\\"51\\\",\\\"52\\\",\\\"53\\\",\\\"54\\\",\\\"55\\\",\\\"56\\\",\\\"57\\\",\\\"58\\\",\\\"59\\\",\\\"60\\\",\\\"61\\\",\\\"62\\\",\\\"63\\\",\\\"64\\\",\\\"65\\\",\\\"66\\\",\\\"67\\\",\\\"68\\\",\\\"69\\\",\\\"70\\\",\\\"71\\\",\\\"72\\\",\\\"73\\\",\\\"74\\\",\\\"75\\\",\\\"76\\\",\\\"77\\\",\\\"78\\\",\\\"79\\\",\\\"80\\\",\\\"81\\\",\\\"82\\\",\\\"83\\\",\\\"84\\\",\\\"85\\\",\\\"86\\\",\\\"87\\\",\\\"88\\\",\\\"89\\\",\\\"90\\\",\\\"91\\\",\\\"92\\\",\\\"93\\\",\\\"94\\\",\\\"95\\\",\\\"96\\\",\\\"97\\\",\\\"98\\\",\\\"99\\\",\\\"100\\\"],\\\"changes\\\":WebIO.getval({\\\"name\\\":\\\"changes\\\",\\\"scope\\\":\\\"2377317756553729454\\\",\\\"id\\\":\\\"13258969949939990992\\\",\\\"type\\\":\\\"observable\\\"}),\\\"index\\\":WebIO.getval({\\\"name\\\":\\\"index\\\",\\\"scope\\\":\\\"2377317756553729454\\\",\\\"id\\\":\\\"338953921582482975\\\",\\\"type\\\":\\\"observable\\\"})};\\n    var self = this;\\n    function AppViewModel() {\\n        for (var key in json_data) {\\n            var el = json_data[key];\\n            this[key] = Array.isArray(el) ? ko.observableArray(el) : ko.observable(el);\\n        }\\n        \\n        [this[\\\"formatted_val\\\"]=ko.computed(    function(){\\n        return this.formatted_vals()[parseInt(this.index())-(1)];\\n    }\\n,this)]\\n        [this[\\\"changes\\\"].subscribe((function (val){!(this.valueFromJulia[\\\"changes\\\"]) ? (WebIO.setval({\\\"name\\\":\\\"changes\\\",\\\"scope\\\":\\\"2377317756553729454\\\",\\\"id\\\":\\\"13258969949939990992\\\",\\\"type\\\":\\\"observable\\\"},val)) : undefined; return this.valueFromJulia[\\\"changes\\\"]=false}),self),this[\\\"index\\\"].subscribe((function (val){!(this.valueFromJulia[\\\"index\\\"]) ? (WebIO.setval({\\\"name\\\":\\\"index\\\",\\\"scope\\\":\\\"2377317756553729454\\\",\\\"id\\\":\\\"338953921582482975\\\",\\\"type\\\":\\\"observable\\\"},val)) : undefined; return this.valueFromJulia[\\\"index\\\"]=false}),self)]\\n        \\n    }\\n    self.model = new AppViewModel();\\n    self.valueFromJulia = {};\\n    for (var key in json_data) {\\n        self.valueFromJulia[key] = false;\\n    }\\n    ko.applyBindings(self.model, self.dom);\\n}\\n);\\n    (WebIO.importBlock({\\\"data\\\":[{\\\"name\\\":\\\"knockout\\\",\\\"type\\\":\\\"js\\\",\\\"url\\\":\\\"\\/assetserver\\/47cacba18a6e957a8fda7987f9bc6dd46eb14ac2-knockout.js\\\"},{\\\"name\\\":\\\"knockout_punches\\\",\\\"type\\\":\\\"js\\\",\\\"url\\\":\\\"\\/assetserver\\/6fd59a16a697ff4f2d107d83f062c92fe763922e-knockout_punches.js\\\"}],\\\"type\\\":\\\"async_block\\\"})).then((imports) => handler.apply(this, imports));\\n}\\n\"],\"observables\":{\"changes\":{\"sync\":false,\"id\":\"13258969949939990992\",\"value\":0},\"index\":{\"sync\":true,\"id\":\"338953921582482975\",\"value\":50}}},\"children\":[{\"props\":{\"className\":\"interact-flex-row interact-widget\"},\"nodeType\":\"DOM\",\"type\":\"node\",\"instanceArgs\":{\"namespace\":\"html\",\"tag\":\"div\"},\"children\":[{\"props\":{\"className\":\"interact-flex-row-left\"},\"nodeType\":\"DOM\",\"type\":\"node\",\"instanceArgs\":{\"namespace\":\"html\",\"tag\":\"div\"},\"children\":[{\"props\":{\"className\":\"interact \",\"style\":{\"padding\":\"5px 10px 0px 10px\"}},\"nodeType\":\"DOM\",\"type\":\"node\",\"instanceArgs\":{\"namespace\":\"html\",\"tag\":\"label\"},\"children\":[\"y\"]}]},{\"props\":{\"className\":\"interact-flex-row-center\"},\"nodeType\":\"DOM\",\"type\":\"node\",\"instanceArgs\":{\"namespace\":\"html\",\"tag\":\"div\"},\"children\":[{\"props\":{\"max\":100,\"min\":1,\"attributes\":{\"type\":\"range\",\"data-bind\":\"numericValue: index, valueUpdate: 'input', event: {change: function (){this.changes(this.changes()+1)}}\",\"orient\":\"horizontal\"},\"step\":1,\"className\":\"slider slider is-fullwidth\",\"style\":{}},\"nodeType\":\"DOM\",\"type\":\"node\",\"instanceArgs\":{\"namespace\":\"html\",\"tag\":\"input\"},\"children\":[]}]},{\"props\":{\"className\":\"interact-flex-row-right\"},\"nodeType\":\"DOM\",\"type\":\"node\",\"instanceArgs\":{\"namespace\":\"html\",\"tag\":\"div\"},\"children\":[{\"props\":{\"attributes\":{\"data-bind\":\"text: formatted_val\"}},\"nodeType\":\"DOM\",\"type\":\"node\",\"instanceArgs\":{\"namespace\":\"html\",\"tag\":\"p\"},\"children\":[]}]}]}]}]},{\"props\":{},\"nodeType\":\"Scope\",\"type\":\"node\",\"instanceArgs\":{\"imports\":{\"data\":[],\"type\":\"async_block\"},\"id\":\"7689144576707649542\",\"handlers\":{},\"systemjs_options\":null,\"mount_callbacks\":[],\"observables\":{\"obs-node\":{\"sync\":false,\"id\":\"12961752340976968298\",\"value\":{\"props\":{\"className\":\"interact-flex-row interact-widget\"},\"nodeType\":\"DOM\",\"type\":\"node\",\"instanceArgs\":{\"namespace\":\"html\",\"tag\":\"div\"},\"children\":[{\"props\":{\"setInnerHtml\":\"<?xml version=\\\"1.0\\\" encoding=\\\"utf-8\\\"?>\\n<svg xmlns=\\\"http:\\/\\/www.w3.org\\/2000\\/svg\\\" xmlns:xlink=\\\"http:\\/\\/www.w3.org\\/1999\\/xlink\\\" width=\\\"600\\\" height=\\\"400\\\" viewBox=\\\"0 0 2400 1600\\\">\\n<defs>\\n  <clipPath id=\\\"clip800\\\">\\n    <rect x=\\\"0\\\" y=\\\"0\\\" width=\\\"2400\\\" height=\\\"1600\\\"\\/>\\n  <\\/clipPath>\\n<\\/defs>\\n<path clip-path=\\\"url(#clip800)\\\" d=\\\"M0 1600 L2400 1600 L2400 0 L0 0  Z\\\" fill=\\\"#ffffff\\\" fill-rule=\\\"evenodd\\\" fill-opacity=\\\"1\\\"\\/>\\n<defs>\\n  <clipPath id=\\\"clip801\\\">\\n    <rect x=\\\"480\\\" y=\\\"0\\\" width=\\\"1681\\\" height=\\\"1600\\\"\\/>\\n  <\\/clipPath>\\n<\\/defs>\\n<path clip-path=\\\"url(#clip800)\\\" d=\\\"M178.867 1486.45 L2352.76 1486.45 L2352.76 47.2441 L178.867 47.2441  Z\\\" fill=\\\"#ffffff\\\" fill-rule=\\\"evenodd\\\" fill-opacity=\\\"1\\\"\\/>\\n<defs>\\n  <clipPath id=\\\"clip802\\\">\\n    <rect x=\\\"178\\\" y=\\\"47\\\" width=\\\"2175\\\" height=\\\"1440\\\"\\/>\\n  <\\/clipPath>\\n<\\/defs>\\n<polyline clip-path=\\\"url(#clip802)\\\" style=\\\"stroke:#000000; stroke-linecap:round; stroke-linejoin:round; stroke-width:2; stroke-opacity:0.1; fill:none\\\" points=\\\"513.837,1486.45 513.837,47.2441 \\\"\\/>\\n<polyline clip-path=\\\"url(#clip802)\\\" style=\\\"stroke:#000000; stroke-linecap:round; stroke-linejoin:round; stroke-width:2; stroke-opacity:0.1; fill:none\\\" points=\\\"924.005,1486.45 924.005,47.2441 \\\"\\/>\\n<polyline clip-path=\\\"url(#clip802)\\\" style=\\\"stroke:#000000; stroke-linecap:round; stroke-linejoin:round; stroke-width:2; stroke-opacity:0.1; fill:none\\\" points=\\\"1334.17,1486.45 1334.17,47.2441 \\\"\\/>\\n<polyline clip-path=\\\"url(#clip802)\\\" style=\\\"stroke:#000000; stroke-linecap:round; stroke-linejoin:round; stroke-width:2; stroke-opacity:0.1; fill:none\\\" points=\\\"1744.34,1486.45 1744.34,47.2441 \\\"\\/>\\n<polyline clip-path=\\\"url(#clip802)\\\" style=\\\"stroke:#000000; stroke-linecap:round; stroke-linejoin:round; stroke-width:2; stroke-opacity:0.1; fill:none\\\" points=\\\"2154.51,1486.45 2154.51,47.2441 \\\"\\/>\\n<polyline clip-path=\\\"url(#clip800)\\\" style=\\\"stroke:#000000; stroke-linecap:round; stroke-linejoin:round; stroke-width:4; stroke-opacity:1; fill:none\\\" points=\\\"178.867,1486.45 2352.76,1486.45 \\\"\\/>\\n<polyline clip-path=\\\"url(#clip800)\\\" style=\\\"stroke:#000000; stroke-linecap:round; stroke-linejoin:round; stroke-width:4; stroke-opacity:1; fill:none\\\" points=\\\"513.837,1486.45 513.837,1467.55 \\\"\\/>\\n<polyline clip-path=\\\"url(#clip800)\\\" style=\\\"stroke:#000000; stroke-linecap:round; stroke-linejoin:round; stroke-width:4; stroke-opacity:1; fill:none\\\" points=\\\"924.005,1486.45 924.005,1467.55 \\\"\\/>\\n<polyline clip-path=\\\"url(#clip800)\\\" style=\\\"stroke:#000000; stroke-linecap:round; stroke-linejoin:round; stroke-width:4; stroke-opacity:1; fill:none\\\" points=\\\"1334.17,1486.45 1334.17,1467.55 \\\"\\/>\\n<polyline clip-path=\\\"url(#clip800)\\\" style=\\\"stroke:#000000; stroke-linecap:round; stroke-linejoin:round; stroke-width:4; stroke-opacity:1; fill:none\\\" points=\\\"1744.34,1486.45 1744.34,1467.55 \\\"\\/>\\n<polyline clip-path=\\\"url(#clip800)\\\" style=\\\"stroke:#000000; stroke-linecap:round; stroke-linejoin:round; stroke-width:4; stroke-opacity:1; fill:none\\\" points=\\\"2154.51,1486.45 2154.51,1467.55 \\\"\\/>\\n<path clip-path=\\\"url(#clip800)\\\" d=\\\"M460.689 1532.02 L490.365 1532.02 L490.365 1535.95 L460.689 1535.95 L460.689 1532.02 Z\\\" fill=\\\"#000000\\\" fill-rule=\\\"nonzero\\\" fill-opacity=\\\"1\\\" \\/><path clip-path=\\\"url(#clip800)\\\" d=\\\"M510.457 1517.37 Q506.846 1517.37 505.018 1520.93 Q503.212 1524.47 503.212 1531.6 Q503.212 1538.71 505.018 1542.27 Q506.846 1545.82 510.457 1545.82 Q514.092 1545.82 515.897 1542.27 Q517.726 1538.71 517.726 1531.6 Q517.726 1524.47 515.897 1520.93 Q514.092 1517.37 510.457 1517.37 M510.457 1513.66 Q516.268 1513.66 519.323 1518.27 Q522.402 1522.85 522.402 1531.6 Q522.402 1540.33 519.323 1544.94 Q516.268 1549.52 510.457 1549.52 Q504.647 1549.52 501.569 1544.94 Q498.513 1540.33 498.513 1531.6 Q498.513 1522.85 501.569 1518.27 Q504.647 1513.66 510.457 1513.66 Z\\\" fill=\\\"#000000\\\" fill-rule=\\\"nonzero\\\" fill-opacity=\\\"1\\\" \\/><path clip-path=\\\"url(#clip800)\\\" d=\\\"M530.619 1542.97 L535.504 1542.97 L535.504 1548.85 L530.619 1548.85 L530.619 1542.97 Z\\\" fill=\\\"#000000\\\" fill-rule=\\\"nonzero\\\" fill-opacity=\\\"1\\\" \\/><path clip-path=\\\"url(#clip800)\\\" d=\\\"M559.855 1530.21 Q563.212 1530.93 565.087 1533.2 Q566.985 1535.47 566.985 1538.8 Q566.985 1543.92 563.466 1546.72 Q559.948 1549.52 553.466 1549.52 Q551.29 1549.52 548.976 1549.08 Q546.684 1548.66 544.23 1547.81 L544.23 1543.29 Q546.175 1544.43 548.49 1545.01 Q550.804 1545.58 553.328 1545.58 Q557.726 1545.58 560.017 1543.85 Q562.332 1542.11 562.332 1538.8 Q562.332 1535.75 560.179 1534.03 Q558.05 1532.3 554.23 1532.3 L550.203 1532.3 L550.203 1528.45 L554.415 1528.45 Q557.865 1528.45 559.693 1527.09 Q561.522 1525.7 561.522 1523.11 Q561.522 1520.45 559.624 1519.03 Q557.749 1517.6 554.23 1517.6 Q552.309 1517.6 550.11 1518.01 Q547.911 1518.43 545.272 1519.31 L545.272 1515.14 Q547.934 1514.4 550.249 1514.03 Q552.587 1513.66 554.647 1513.66 Q559.971 1513.66 563.073 1516.09 Q566.175 1518.5 566.175 1522.62 Q566.175 1525.49 564.531 1527.48 Q562.888 1529.45 559.855 1530.21 Z\\\" fill=\\\"#000000\\\" fill-rule=\\\"nonzero\\\" fill-opacity=\\\"1\\\" \\/><path clip-path=\\\"url(#clip800)\\\" d=\\\"M901.389 1517.37 Q897.778 1517.37 895.949 1520.93 Q894.144 1524.47 894.144 1531.6 Q894.144 1538.71 895.949 1542.27 Q897.778 1545.82 901.389 1545.82 Q905.023 1545.82 906.829 1542.27 Q908.658 1538.71 908.658 1531.6 Q908.658 1524.47 906.829 1520.93 Q905.023 1517.37 901.389 1517.37 M901.389 1513.66 Q907.199 1513.66 910.255 1518.27 Q913.334 1522.85 913.334 1531.6 Q913.334 1540.33 910.255 1544.94 Q907.199 1549.52 901.389 1549.52 Q895.579 1549.52 892.5 1544.94 Q889.445 1540.33 889.445 1531.6 Q889.445 1522.85 892.5 1518.27 Q895.579 1513.66 901.389 1513.66 Z\\\" fill=\\\"#000000\\\" fill-rule=\\\"nonzero\\\" fill-opacity=\\\"1\\\" \\/><path clip-path=\\\"url(#clip800)\\\" d=\\\"M921.551 1542.97 L926.435 1542.97 L926.435 1548.85 L921.551 1548.85 L921.551 1542.97 Z\\\" fill=\\\"#000000\\\" fill-rule=\\\"nonzero\\\" fill-opacity=\\\"1\\\" \\/><path clip-path=\\\"url(#clip800)\\\" d=\\\"M946.62 1517.37 Q943.009 1517.37 941.181 1520.93 Q939.375 1524.47 939.375 1531.6 Q939.375 1538.71 941.181 1542.27 Q943.009 1545.82 946.62 1545.82 Q950.255 1545.82 952.06 1542.27 Q953.889 1538.71 953.889 1531.6 Q953.889 1524.47 952.06 1520.93 Q950.255 1517.37 946.62 1517.37 M946.62 1513.66 Q952.431 1513.66 955.486 1518.27 Q958.565 1522.85 958.565 1531.6 Q958.565 1540.33 955.486 1544.94 Q952.431 1549.52 946.62 1549.52 Q940.81 1549.52 937.732 1544.94 Q934.676 1540.33 934.676 1531.6 Q934.676 1522.85 937.732 1518.27 Q940.81 1513.66 946.62 1513.66 Z\\\" fill=\\\"#000000\\\" fill-rule=\\\"nonzero\\\" fill-opacity=\\\"1\\\" \\/><path clip-path=\\\"url(#clip800)\\\" d=\\\"M1311.88 1517.37 Q1308.27 1517.37 1306.44 1520.93 Q1304.64 1524.47 1304.64 1531.6 Q1304.64 1538.71 1306.44 1542.27 Q1308.27 1545.82 1311.88 1545.82 Q1315.52 1545.82 1317.32 1542.27 Q1319.15 1538.71 1319.15 1531.6 Q1319.15 1524.47 1317.32 1520.93 Q1315.52 1517.37 1311.88 1517.37 M1311.88 1513.66 Q1317.69 1513.66 1320.75 1518.27 Q1323.83 1522.85 1323.83 1531.6 Q1323.83 1540.33 1320.75 1544.94 Q1317.69 1549.52 1311.88 1549.52 Q1306.07 1549.52 1302.99 1544.94 Q1299.94 1540.33 1299.94 1531.6 Q1299.94 1522.85 1302.99 1518.27 Q1306.07 1513.66 1311.88 1513.66 Z\\\" fill=\\\"#000000\\\" fill-rule=\\\"nonzero\\\" fill-opacity=\\\"1\\\" \\/><path clip-path=\\\"url(#clip800)\\\" d=\\\"M1332.04 1542.97 L1336.93 1542.97 L1336.93 1548.85 L1332.04 1548.85 L1332.04 1542.97 Z\\\" fill=\\\"#000000\\\" fill-rule=\\\"nonzero\\\" fill-opacity=\\\"1\\\" \\/><path clip-path=\\\"url(#clip800)\\\" d=\\\"M1361.28 1530.21 Q1364.64 1530.93 1366.51 1533.2 Q1368.41 1535.47 1368.41 1538.8 Q1368.41 1543.92 1364.89 1546.72 Q1361.37 1549.52 1354.89 1549.52 Q1352.71 1549.52 1350.4 1549.08 Q1348.11 1548.66 1345.65 1547.81 L1345.65 1543.29 Q1347.6 1544.43 1349.91 1545.01 Q1352.23 1545.58 1354.75 1545.58 Q1359.15 1545.58 1361.44 1543.85 Q1363.76 1542.11 1363.76 1538.8 Q1363.76 1535.75 1361.6 1534.03 Q1359.47 1532.3 1355.65 1532.3 L1351.63 1532.3 L1351.63 1528.45 L1355.84 1528.45 Q1359.29 1528.45 1361.12 1527.09 Q1362.95 1525.7 1362.95 1523.11 Q1362.95 1520.45 1361.05 1519.03 Q1359.17 1517.6 1355.65 1517.6 Q1353.73 1517.6 1351.53 1518.01 Q1349.33 1518.43 1346.7 1519.31 L1346.7 1515.14 Q1349.36 1514.4 1351.67 1514.03 Q1354.01 1513.66 1356.07 1513.66 Q1361.39 1513.66 1364.5 1516.09 Q1367.6 1518.5 1367.6 1522.62 Q1367.6 1525.49 1365.95 1527.48 Q1364.31 1529.45 1361.28 1530.21 Z\\\" fill=\\\"#000000\\\" fill-rule=\\\"nonzero\\\" fill-opacity=\\\"1\\\" \\/><path clip-path=\\\"url(#clip800)\\\" d=\\\"M1721.64 1517.37 Q1718.03 1517.37 1716.2 1520.93 Q1714.4 1524.47 1714.4 1531.6 Q1714.4 1538.71 1716.2 1542.27 Q1718.03 1545.82 1721.64 1545.82 Q1725.28 1545.82 1727.08 1542.27 Q1728.91 1538.71 1728.91 1531.6 Q1728.91 1524.47 1727.08 1520.93 Q1725.28 1517.37 1721.64 1517.37 M1721.64 1513.66 Q1727.45 1513.66 1730.51 1518.27 Q1733.59 1522.85 1733.59 1531.6 Q1733.59 1540.33 1730.51 1544.94 Q1727.45 1549.52 1721.64 1549.52 Q1715.83 1549.52 1712.75 1544.94 Q1709.7 1540.33 1709.7 1531.6 Q1709.7 1522.85 1712.75 1518.27 Q1715.83 1513.66 1721.64 1513.66 Z\\\" fill=\\\"#000000\\\" fill-rule=\\\"nonzero\\\" fill-opacity=\\\"1\\\" \\/><path clip-path=\\\"url(#clip800)\\\" d=\\\"M1741.81 1542.97 L1746.69 1542.97 L1746.69 1548.85 L1741.81 1548.85 L1741.81 1542.97 Z\\\" fill=\\\"#000000\\\" fill-rule=\\\"nonzero\\\" fill-opacity=\\\"1\\\" \\/><path clip-path=\\\"url(#clip800)\\\" d=\\\"M1767.45 1529.7 Q1764.31 1529.7 1762.45 1531.86 Q1760.62 1534.01 1760.62 1537.76 Q1760.62 1541.49 1762.45 1543.66 Q1764.31 1545.82 1767.45 1545.82 Q1770.6 1545.82 1772.43 1543.66 Q1774.28 1541.49 1774.28 1537.76 Q1774.28 1534.01 1772.43 1531.86 Q1770.6 1529.7 1767.45 1529.7 M1776.74 1515.05 L1776.74 1519.31 Q1774.98 1518.48 1773.17 1518.04 Q1771.39 1517.6 1769.63 1517.6 Q1765 1517.6 1762.55 1520.72 Q1760.12 1523.85 1759.77 1530.17 Q1761.13 1528.15 1763.19 1527.09 Q1765.25 1526 1767.73 1526 Q1772.94 1526 1775.95 1529.17 Q1778.98 1532.32 1778.98 1537.76 Q1778.98 1543.08 1775.83 1546.3 Q1772.69 1549.52 1767.45 1549.52 Q1761.46 1549.52 1758.29 1544.94 Q1755.12 1540.33 1755.12 1531.6 Q1755.12 1523.41 1759 1518.55 Q1762.89 1513.66 1769.44 1513.66 Q1771.2 1513.66 1772.99 1514.01 Q1774.79 1514.36 1776.74 1515.05 Z\\\" fill=\\\"#000000\\\" fill-rule=\\\"nonzero\\\" fill-opacity=\\\"1\\\" \\/><path clip-path=\\\"url(#clip800)\\\" d=\\\"M2131.99 1517.37 Q2128.37 1517.37 2126.55 1520.93 Q2124.74 1524.47 2124.74 1531.6 Q2124.74 1538.71 2126.55 1542.27 Q2128.37 1545.82 2131.99 1545.82 Q2135.62 1545.82 2137.42 1542.27 Q2139.25 1538.71 2139.25 1531.6 Q2139.25 1524.47 2137.42 1520.93 Q2135.62 1517.37 2131.99 1517.37 M2131.99 1513.66 Q2137.8 1513.66 2140.85 1518.27 Q2143.93 1522.85 2143.93 1531.6 Q2143.93 1540.33 2140.85 1544.94 Q2137.8 1549.52 2131.99 1549.52 Q2126.17 1549.52 2123.1 1544.94 Q2120.04 1540.33 2120.04 1531.6 Q2120.04 1522.85 2123.1 1518.27 Q2126.17 1513.66 2131.99 1513.66 Z\\\" fill=\\\"#000000\\\" fill-rule=\\\"nonzero\\\" fill-opacity=\\\"1\\\" \\/><path clip-path=\\\"url(#clip800)\\\" d=\\\"M2152.15 1542.97 L2157.03 1542.97 L2157.03 1548.85 L2152.15 1548.85 L2152.15 1542.97 Z\\\" fill=\\\"#000000\\\" fill-rule=\\\"nonzero\\\" fill-opacity=\\\"1\\\" \\/><path clip-path=\\\"url(#clip800)\\\" d=\\\"M2167.36 1548.13 L2167.36 1543.87 Q2169.11 1544.7 2170.92 1545.14 Q2172.73 1545.58 2174.46 1545.58 Q2179.09 1545.58 2181.52 1542.48 Q2183.98 1539.36 2184.32 1533.01 Q2182.98 1535.01 2180.92 1536.07 Q2178.86 1537.13 2176.36 1537.13 Q2171.17 1537.13 2168.14 1534.01 Q2165.13 1530.86 2165.13 1525.42 Q2165.13 1520.1 2168.28 1516.88 Q2171.43 1513.66 2176.66 1513.66 Q2182.66 1513.66 2185.8 1518.27 Q2188.98 1522.85 2188.98 1531.6 Q2188.98 1539.77 2185.09 1544.66 Q2181.22 1549.52 2174.67 1549.52 Q2172.91 1549.52 2171.11 1549.17 Q2169.3 1548.82 2167.36 1548.13 M2176.66 1533.48 Q2179.81 1533.48 2181.64 1531.32 Q2183.49 1529.17 2183.49 1525.42 Q2183.49 1521.7 2181.64 1519.54 Q2179.81 1517.37 2176.66 1517.37 Q2173.51 1517.37 2171.66 1519.54 Q2169.83 1521.7 2169.83 1525.42 Q2169.83 1529.17 2171.66 1531.32 Q2173.51 1533.48 2176.66 1533.48 Z\\\" fill=\\\"#000000\\\" fill-rule=\\\"nonzero\\\" fill-opacity=\\\"1\\\" \\/><polyline clip-path=\\\"url(#clip802)\\\" style=\\\"stroke:#000000; stroke-linecap:round; stroke-linejoin:round; stroke-width:2; stroke-opacity:0.1; fill:none\\\" points=\\\"178.867,1486.45 2352.76,1486.45 \\\"\\/>\\n<polyline clip-path=\\\"url(#clip802)\\\" style=\\\"stroke:#000000; stroke-linecap:round; stroke-linejoin:round; stroke-width:2; stroke-opacity:0.1; fill:none\\\" points=\\\"178.867,1126.65 2352.76,1126.65 \\\"\\/>\\n<polyline clip-path=\\\"url(#clip802)\\\" style=\\\"stroke:#000000; stroke-linecap:round; stroke-linejoin:round; stroke-width:2; stroke-opacity:0.1; fill:none\\\" points=\\\"178.867,766.846 2352.76,766.846 \\\"\\/>\\n<polyline clip-path=\\\"url(#clip802)\\\" style=\\\"stroke:#000000; stroke-linecap:round; stroke-linejoin:round; stroke-width:2; stroke-opacity:0.1; fill:none\\\" points=\\\"178.867,407.045 2352.76,407.045 \\\"\\/>\\n<polyline clip-path=\\\"url(#clip802)\\\" style=\\\"stroke:#000000; stroke-linecap:round; stroke-linejoin:round; stroke-width:2; stroke-opacity:0.1; fill:none\\\" points=\\\"178.867,47.2441 2352.76,47.2441 \\\"\\/>\\n<polyline clip-path=\\\"url(#clip800)\\\" style=\\\"stroke:#000000; stroke-linecap:round; stroke-linejoin:round; stroke-width:4; stroke-opacity:1; fill:none\\\" points=\\\"178.867,1486.45 178.867,47.2441 \\\"\\/>\\n<polyline clip-path=\\\"url(#clip800)\\\" style=\\\"stroke:#000000; stroke-linecap:round; stroke-linejoin:round; stroke-width:4; stroke-opacity:1; fill:none\\\" points=\\\"178.867,1486.45 197.764,1486.45 \\\"\\/>\\n<polyline clip-path=\\\"url(#clip800)\\\" style=\\\"stroke:#000000; stroke-linecap:round; stroke-linejoin:round; stroke-width:4; stroke-opacity:1; fill:none\\\" points=\\\"178.867,1126.65 197.764,1126.65 \\\"\\/>\\n<polyline clip-path=\\\"url(#clip800)\\\" style=\\\"stroke:#000000; stroke-linecap:round; stroke-linejoin:round; stroke-width:4; stroke-opacity:1; fill:none\\\" points=\\\"178.867,766.846 197.764,766.846 \\\"\\/>\\n<polyline clip-path=\\\"url(#clip800)\\\" style=\\\"stroke:#000000; stroke-linecap:round; stroke-linejoin:round; stroke-width:4; stroke-opacity:1; fill:none\\\" points=\\\"178.867,407.045 197.764,407.045 \\\"\\/>\\n<polyline clip-path=\\\"url(#clip800)\\\" style=\\\"stroke:#000000; stroke-linecap:round; stroke-linejoin:round; stroke-width:4; stroke-opacity:1; fill:none\\\" points=\\\"178.867,47.2441 197.764,47.2441 \\\"\\/>\\n<path clip-path=\\\"url(#clip800)\\\" d=\\\"M50.9921 1486.9 L80.6679 1486.9 L80.6679 1490.83 L50.9921 1490.83 L50.9921 1486.9 Z\\\" fill=\\\"#000000\\\" fill-rule=\\\"nonzero\\\" fill-opacity=\\\"1\\\" \\/><path clip-path=\\\"url(#clip800)\\\" d=\\\"M90.8067 1469.17 L109.163 1469.17 L109.163 1473.1 L95.0891 1473.1 L95.0891 1481.58 Q96.1076 1481.23 97.1261 1481.07 Q98.1447 1480.88 99.1632 1480.88 Q104.95 1480.88 108.33 1484.05 Q111.709 1487.22 111.709 1492.64 Q111.709 1498.22 108.237 1501.32 Q104.765 1504.4 98.4456 1504.4 Q96.2697 1504.4 94.0012 1504.03 Q91.7558 1503.66 89.3484 1502.92 L89.3484 1498.22 Q91.4317 1499.35 93.6539 1499.91 Q95.8761 1500.46 98.353 1500.46 Q102.358 1500.46 104.696 1498.36 Q107.033 1496.25 107.033 1492.64 Q107.033 1489.03 104.696 1486.92 Q102.358 1484.82 98.353 1484.82 Q96.478 1484.82 94.603 1485.23 Q92.7512 1485.65 90.8067 1486.53 L90.8067 1469.17 Z\\\" fill=\\\"#000000\\\" fill-rule=\\\"nonzero\\\" fill-opacity=\\\"1\\\" \\/><path clip-path=\\\"url(#clip800)\\\" d=\\\"M130.922 1472.25 Q127.311 1472.25 125.482 1475.81 Q123.677 1479.35 123.677 1486.48 Q123.677 1493.59 125.482 1497.15 Q127.311 1500.7 130.922 1500.7 Q134.556 1500.7 136.362 1497.15 Q138.191 1493.59 138.191 1486.48 Q138.191 1479.35 136.362 1475.81 Q134.556 1472.25 130.922 1472.25 M130.922 1468.54 Q136.732 1468.54 139.788 1473.15 Q142.867 1477.73 142.867 1486.48 Q142.867 1495.21 139.788 1499.82 Q136.732 1504.4 130.922 1504.4 Q125.112 1504.4 122.033 1499.82 Q118.978 1495.21 118.978 1486.48 Q118.978 1477.73 122.033 1473.15 Q125.112 1468.54 130.922 1468.54 Z\\\" fill=\\\"#000000\\\" fill-rule=\\\"nonzero\\\" fill-opacity=\\\"1\\\" \\/><path clip-path=\\\"url(#clip800)\\\" d=\\\"M51.9875 1127.1 L81.6633 1127.1 L81.6633 1131.03 L51.9875 1131.03 L51.9875 1127.1 Z\\\" fill=\\\"#000000\\\" fill-rule=\\\"nonzero\\\" fill-opacity=\\\"1\\\" \\/><path clip-path=\\\"url(#clip800)\\\" d=\\\"M95.7836 1139.99 L112.103 1139.99 L112.103 1143.93 L90.1586 1143.93 L90.1586 1139.99 Q92.8206 1137.24 97.4039 1132.61 Q102.01 1127.95 103.191 1126.61 Q105.436 1124.09 106.316 1122.35 Q107.219 1120.59 107.219 1118.9 Q107.219 1116.15 105.274 1114.41 Q103.353 1112.68 100.251 1112.68 Q98.0521 1112.68 95.5984 1113.44 Q93.1678 1114.2 90.3901 1115.76 L90.3901 1111.03 Q93.2141 1109.9 95.6678 1109.32 Q98.1215 1108.74 100.159 1108.74 Q105.529 1108.74 108.723 1111.43 Q111.918 1114.11 111.918 1118.6 Q111.918 1120.73 111.108 1122.65 Q110.321 1124.55 108.214 1127.14 Q107.635 1127.82 104.534 1131.03 Q101.432 1134.23 95.7836 1139.99 Z\\\" fill=\\\"#000000\\\" fill-rule=\\\"nonzero\\\" fill-opacity=\\\"1\\\" \\/><path clip-path=\\\"url(#clip800)\\\" d=\\\"M121.964 1109.37 L140.32 1109.37 L140.32 1113.3 L126.246 1113.3 L126.246 1121.77 Q127.265 1121.43 128.283 1121.27 Q129.302 1121.08 130.32 1121.08 Q136.107 1121.08 139.487 1124.25 Q142.867 1127.42 142.867 1132.84 Q142.867 1138.42 139.394 1141.52 Q135.922 1144.6 129.603 1144.6 Q127.427 1144.6 125.158 1144.23 Q122.913 1143.86 120.506 1143.12 L120.506 1138.42 Q122.589 1139.55 124.811 1140.11 Q127.033 1140.66 129.51 1140.66 Q133.515 1140.66 135.853 1138.56 Q138.191 1136.45 138.191 1132.84 Q138.191 1129.23 135.853 1127.12 Q133.515 1125.01 129.51 1125.01 Q127.635 1125.01 125.76 1125.43 Q123.908 1125.85 121.964 1126.73 L121.964 1109.37 Z\\\" fill=\\\"#000000\\\" fill-rule=\\\"nonzero\\\" fill-opacity=\\\"1\\\" \\/><path clip-path=\\\"url(#clip800)\\\" d=\\\"M130.922 752.645 Q127.311 752.645 125.482 756.209 Q123.677 759.751 123.677 766.881 Q123.677 773.987 125.482 777.552 Q127.311 781.094 130.922 781.094 Q134.556 781.094 136.362 777.552 Q138.191 773.987 138.191 766.881 Q138.191 759.751 136.362 756.209 Q134.556 752.645 130.922 752.645 M130.922 748.941 Q136.732 748.941 139.788 753.547 Q142.867 758.131 142.867 766.881 Q142.867 775.608 139.788 780.214 Q136.732 784.797 130.922 784.797 Q125.112 784.797 122.033 780.214 Q118.978 775.608 118.978 766.881 Q118.978 758.131 122.033 753.547 Q125.112 748.941 130.922 748.941 Z\\\" fill=\\\"#000000\\\" fill-rule=\\\"nonzero\\\" fill-opacity=\\\"1\\\" \\/><path clip-path=\\\"url(#clip800)\\\" d=\\\"M95.7836 420.39 L112.103 420.39 L112.103 424.325 L90.1586 424.325 L90.1586 420.39 Q92.8206 417.635 97.4039 413.006 Q102.01 408.353 103.191 407.01 Q105.436 404.487 106.316 402.751 Q107.219 400.992 107.219 399.302 Q107.219 396.547 105.274 394.811 Q103.353 393.075 100.251 393.075 Q98.0521 393.075 95.5984 393.839 Q93.1678 394.603 90.3901 396.154 L90.3901 391.432 Q93.2141 390.297 95.6678 389.719 Q98.1215 389.14 100.159 389.14 Q105.529 389.14 108.723 391.825 Q111.918 394.51 111.918 399.001 Q111.918 401.131 111.108 403.052 Q110.321 404.95 108.214 407.543 Q107.635 408.214 104.534 411.432 Q101.432 414.626 95.7836 420.39 Z\\\" fill=\\\"#000000\\\" fill-rule=\\\"nonzero\\\" fill-opacity=\\\"1\\\" \\/><path clip-path=\\\"url(#clip800)\\\" d=\\\"M121.964 389.765 L140.32 389.765 L140.32 393.7 L126.246 393.7 L126.246 402.172 Q127.265 401.825 128.283 401.663 Q129.302 401.478 130.32 401.478 Q136.107 401.478 139.487 404.649 Q142.867 407.82 142.867 413.237 Q142.867 418.816 139.394 421.918 Q135.922 424.996 129.603 424.996 Q127.427 424.996 125.158 424.626 Q122.913 424.256 120.506 423.515 L120.506 418.816 Q122.589 419.95 124.811 420.506 Q127.033 421.061 129.51 421.061 Q133.515 421.061 135.853 418.955 Q138.191 416.848 138.191 413.237 Q138.191 409.626 135.853 407.52 Q133.515 405.413 129.51 405.413 Q127.635 405.413 125.76 405.83 Q123.908 406.246 121.964 407.126 L121.964 389.765 Z\\\" fill=\\\"#000000\\\" fill-rule=\\\"nonzero\\\" fill-opacity=\\\"1\\\" \\/><path clip-path=\\\"url(#clip800)\\\" d=\\\"M90.8067 29.9641 L109.163 29.9641 L109.163 33.8993 L95.0891 33.8993 L95.0891 42.3714 Q96.1076 42.0242 97.1261 41.8622 Q98.1447 41.677 99.1632 41.677 Q104.95 41.677 108.33 44.8483 Q111.709 48.0196 111.709 53.4362 Q111.709 59.0149 108.237 62.1167 Q104.765 65.1954 98.4456 65.1954 Q96.2697 65.1954 94.0012 64.825 Q91.7558 64.4547 89.3484 63.7139 L89.3484 59.0149 Q91.4317 60.1491 93.6539 60.7047 Q95.8761 61.2602 98.353 61.2602 Q102.358 61.2602 104.696 59.1538 Q107.033 57.0473 107.033 53.4362 Q107.033 49.8251 104.696 47.7186 Q102.358 45.6122 98.353 45.6122 Q96.478 45.6122 94.603 46.0288 Q92.7512 46.4455 90.8067 47.3251 L90.8067 29.9641 Z\\\" fill=\\\"#000000\\\" fill-rule=\\\"nonzero\\\" fill-opacity=\\\"1\\\" \\/><path clip-path=\\\"url(#clip800)\\\" d=\\\"M130.922 33.0428 Q127.311 33.0428 125.482 36.6076 Q123.677 40.1492 123.677 47.2788 Q123.677 54.3853 125.482 57.9501 Q127.311 61.4917 130.922 61.4917 Q134.556 61.4917 136.362 57.9501 Q138.191 54.3853 138.191 47.2788 Q138.191 40.1492 136.362 36.6076 Q134.556 33.0428 130.922 33.0428 M130.922 29.3391 Q136.732 29.3391 139.788 33.9456 Q142.867 38.5289 142.867 47.2788 Q142.867 56.0056 139.788 60.6121 Q136.732 65.1954 130.922 65.1954 Q125.112 65.1954 122.033 60.6121 Q118.978 56.0056 118.978 47.2788 Q118.978 38.5289 122.033 33.9456 Q125.112 29.3391 130.922 29.3391 Z\\\" fill=\\\"#000000\\\" fill-rule=\\\"nonzero\\\" fill-opacity=\\\"1\\\" \\/><polyline clip-path=\\\"url(#clip802)\\\" style=\\\"stroke:#009af9; stroke-linecap:round; stroke-linejoin:round; stroke-width:12; stroke-opacity:1; fill:none\\\" points=\\\"240.392,817.183 254.064,814.593 267.736,811.988 281.409,809.372 295.081,806.75 308.753,804.126 322.425,801.506 336.098,798.894 349.77,796.295 363.442,793.714 377.114,791.156 390.787,788.626 404.459,786.13 418.131,783.673 431.803,781.259 445.476,778.895 459.148,776.586 472.82,774.337 486.492,772.154 500.165,770.042 513.837,768.006 527.509,766.052 541.182,764.185 554.854,762.411 568.526,760.734 582.198,759.161 595.871,757.696 609.543,756.345 623.215,755.113 636.887,754.005 650.56,753.025 664.232,752.178 677.904,751.47 691.576,750.905 705.249,750.487 718.921,750.22 732.593,750.11 746.265,750.159 759.938,750.373 773.61,750.753 787.282,751.305 800.954,752.03 814.627,752.934 828.299,754.017 841.971,755.284 855.643,756.736 869.316,758.375 882.988,760.205 896.66,762.225 910.333,764.439 924.005,766.846 937.677,769.448 951.349,772.246 965.022,775.239 978.694,778.429 992.366,781.814 1006.04,785.393 1019.71,789.167 1033.38,793.134 1047.06,797.292 1060.73,801.639 1074.4,806.173 1088.07,810.891 1101.74,815.791 1115.42,820.869 1129.09,826.121 1142.76,831.544 1156.43,837.133 1170.11,842.884 1183.78,848.79 1197.45,854.848 1211.12,861.05 1224.79,867.391 1238.47,873.864 1252.14,880.463 1265.81,887.179 1279.48,894.006 1293.16,900.936 1306.83,907.959 1320.5,915.068 1334.17,922.253 1347.84,929.505 1361.52,936.815 1375.19,944.171 1388.86,951.565 1402.53,958.985 1416.21,966.421 1429.88,973.861 1443.55,981.294 1457.22,988.707 1470.9,996.09 1484.57,1003.43 1498.24,1010.71 1511.91,1017.93 1525.58,1025.06 1539.26,1032.11 1552.93,1039.04 1566.6,1045.85 1580.27,1052.53 1593.95,1059.06 1607.62,1065.43 1621.29,1071.62 1634.96,1077.62 1648.63,1083.43 1662.31,1089.01 1675.98,1094.36 1689.65,1099.47 1703.32,1104.32 1717,1108.9 1730.67,1113.19 1744.34,1117.18 1758.01,1120.86 1771.68,1124.21 1785.36,1127.22 1799.03,1129.88 1812.7,1132.18 1826.37,1134.1 1840.05,1135.63 1853.72,1136.76 1867.39,1137.48 1881.06,1137.78 1894.74,1137.65 1908.41,1137.08 1922.08,1136.05 1935.75,1134.57 1949.42,1132.61 1963.1,1130.18 1976.77,1127.27 1990.44,1123.87 2004.11,1119.97 2017.79,1115.58 2031.46,1110.68 2045.13,1105.27 2058.8,1099.36 2072.47,1092.93 2086.15,1085.99 2099.82,1078.54 2113.49,1070.58 2127.16,1062.11 2140.84,1053.14 2154.51,1043.67 2168.18,1033.7 2181.85,1023.25 2195.52,1012.31 2209.2,1000.9 2222.87,989.037 2236.54,976.72 2250.21,963.966 2263.89,950.789 2277.56,937.206 2291.23,923.233 \\\"\\/>\\n<circle clip-path=\\\"url(#clip802)\\\" cx=\\\"1265.81\\\" cy=\\\"887.179\\\" r=\\\"14.4\\\" fill=\\\"#e26f46\\\" fill-rule=\\\"evenodd\\\" fill-opacity=\\\"1\\\" stroke=\\\"#000000\\\" stroke-opacity=\\\"1\\\" stroke-width=\\\"3.2\\\"\\/>\\n<path clip-path=\\\"url(#clip802)\\\" d=\\\"M240.392 2918.84 L261.107 2929.11 L281.823 2939.37 L302.538 2949.63 L323.254 2959.89 L343.97 2970.16 L364.685 2980.42 L385.401 2990.68 L406.116 3000.94 L426.832 3011.2 L447.547 3021.47 L468.263 3031.73 L488.978 3041.99 L509.694 3052.25 L530.409 3062.51 L551.125 3072.78 L571.841 3083.04 L592.556 3093.3 L613.272 3103.56 L633.987 3113.83 L654.703 3124.09 L675.418 3134.35 L696.134 3144.61 L716.849 3154.87 L737.565 3165.14 L758.28 3175.4 L778.996 3185.66 L799.712 3195.92 L820.427 3206.19 L841.143 3216.45 L861.858 3226.71 L882.574 3236.97 L903.289 3247.23 L924.005 3257.5 L944.72 3267.76 L965.436 3278.02 L986.151 3288.28 L1006.87 3298.55 L1027.58 3308.81 L1048.3 3319.07 L1069.01 3329.33 L1089.73 3339.59 L1110.44 3349.86 L1131.16 3360.12 L1151.88 3370.38 L1172.59 3380.64 L1193.31 3390.91 L1214.02 3401.17 L1234.74 3411.43 L1255.45 3421.69 L1276.17 3431.95 L1296.88 3442.22 L1317.6 3452.48 L1338.32 3462.74 L1359.03 3473 L1379.75 3483.27 L1400.46 3493.53 L1421.18 3503.79 L1441.89 3514.05 L1462.61 3524.31 L1483.32 3534.58 L1504.04 3544.84 L1524.76 3555.1 L1545.47 3565.36 L1566.19 3575.63 L1586.9 3585.89 L1607.62 3596.15 L1628.33 3606.41 L1649.05 3616.67 L1669.76 3626.94 L1690.48 3637.2 L1711.2 3647.46 L1731.91 3657.72 L1752.63 3667.99 L1773.34 3678.25 L1794.06 3688.51 L1814.77 3698.77 L1835.49 3709.03 L1856.2 3719.3 L1876.92 3729.56 L1897.64 3739.82 L1918.35 3750.08 L1939.07 3760.35 L1959.78 3770.61 L1980.5 3780.87 L2001.21 3791.13 L2021.93 3801.39 L2042.64 3811.66 L2063.36 3821.92 L2084.08 3832.18 L2104.79 3842.44 L2125.51 3852.7 L2146.22 3862.97 L2166.94 3873.23 L2187.65 3883.49 L2208.37 3893.75 L2229.08 3904.02 L2249.8 3914.28 L2270.52 3924.54 L2291.23 3934.8 L2291.23 -1350.26 L2270.52 -1360.52 L2249.8 -1370.78 L2229.08 -1381.04 L2208.37 -1391.31 L2187.65 -1401.57 L2166.94 -1411.83 L2146.22 -1422.09 L2125.51 -1432.36 L2104.79 -1442.62 L2084.08 -1452.88 L2063.36 -1463.14 L2042.64 -1473.4 L2021.93 -1483.67 L2001.21 -1493.93 L1980.5 -1504.19 L1959.78 -1514.45 L1939.07 -1524.72 L1918.35 -1534.98 L1897.64 -1545.24 L1876.92 -1555.5 L1856.2 -1565.76 L1835.49 -1576.03 L1814.77 -1586.29 L1794.06 -1596.55 L1773.34 -1606.81 L1752.63 -1617.07 L1731.91 -1627.34 L1711.2 -1637.6 L1690.48 -1647.86 L1669.76 -1658.12 L1649.05 -1668.39 L1628.33 -1678.65 L1607.62 -1688.91 L1586.9 -1699.17 L1566.19 -1709.43 L1545.47 -1719.7 L1524.76 -1729.96 L1504.04 -1740.22 L1483.32 -1750.48 L1462.61 -1760.75 L1441.89 -1771.01 L1421.18 -1781.27 L1400.46 -1791.53 L1379.75 -1801.79 L1359.03 -1812.06 L1338.32 -1822.32 L1317.6 -1832.58 L1296.88 -1842.84 L1276.17 -1853.11 L1255.45 -1863.37 L1234.74 -1873.63 L1214.02 -1883.89 L1193.31 -1894.15 L1172.59 -1904.42 L1151.88 -1914.68 L1131.16 -1924.94 L1110.44 -1935.2 L1089.73 -1945.47 L1069.01 -1955.73 L1048.3 -1965.99 L1027.58 -1976.25 L1006.87 -1986.51 L986.151 -1996.78 L965.436 -2007.04 L944.72 -2017.3 L924.005 -2027.56 L903.289 -2037.83 L882.574 -2048.09 L861.858 -2058.35 L841.143 -2068.61 L820.427 -2078.87 L799.712 -2089.14 L778.996 -2099.4 L758.28 -2109.66 L737.565 -2119.92 L716.849 -2130.19 L696.134 -2140.45 L675.418 -2150.71 L654.703 -2160.97 L633.987 -2171.23 L613.272 -2181.5 L592.556 -2191.76 L571.841 -2202.02 L551.125 -2212.28 L530.409 -2222.55 L509.694 -2232.81 L488.978 -2243.07 L468.263 -2253.33 L447.547 -2263.59 L426.832 -2273.86 L406.116 -2284.12 L385.401 -2294.38 L364.685 -2304.64 L343.97 -2314.91 L323.254 -2325.17 L302.538 -2335.43 L281.823 -2345.69 L261.107 -2355.95 L240.392 -2366.22 L240.392 2918.84 L240.392 2918.84  Z\\\" fill=\\\"#3da44d\\\" fill-rule=\\\"evenodd\\\" fill-opacity=\\\"0.3\\\"\\/>\\n<polyline clip-path=\\\"url(#clip802)\\\" style=\\\"stroke:#000000; stroke-linecap:round; stroke-linejoin:round; stroke-width:4; stroke-opacity:0.3; fill:none\\\" points=\\\"240.392,2918.84 261.107,2929.11 281.823,2939.37 302.538,2949.63 323.254,2959.89 343.97,2970.16 364.685,2980.42 385.401,2990.68 406.116,3000.94 426.832,3011.2 447.547,3021.47 468.263,3031.73 488.978,3041.99 509.694,3052.25 530.409,3062.51 551.125,3072.78 571.841,3083.04 592.556,3093.3 613.272,3103.56 633.987,3113.83 654.703,3124.09 675.418,3134.35 696.134,3144.61 716.849,3154.87 737.565,3165.14 758.28,3175.4 778.996,3185.66 799.712,3195.92 820.427,3206.19 841.143,3216.45 861.858,3226.71 882.574,3236.97 903.289,3247.23 924.005,3257.5 944.72,3267.76 965.436,3278.02 986.151,3288.28 1006.87,3298.55 1027.58,3308.81 1048.3,3319.07 1069.01,3329.33 1089.73,3339.59 1110.44,3349.86 1131.16,3360.12 1151.88,3370.38 1172.59,3380.64 1193.31,3390.91 1214.02,3401.17 1234.74,3411.43 1255.45,3421.69 1276.17,3431.95 1296.88,3442.22 1317.6,3452.48 1338.32,3462.74 1359.03,3473 1379.75,3483.27 1400.46,3493.53 1421.18,3503.79 1441.89,3514.05 1462.61,3524.31 1483.32,3534.58 1504.04,3544.84 1524.76,3555.1 1545.47,3565.36 1566.19,3575.63 1586.9,3585.89 1607.62,3596.15 1628.33,3606.41 1649.05,3616.67 1669.76,3626.94 1690.48,3637.2 1711.2,3647.46 1731.91,3657.72 1752.63,3667.99 1773.34,3678.25 1794.06,3688.51 1814.77,3698.77 1835.49,3709.03 1856.2,3719.3 1876.92,3729.56 1897.64,3739.82 1918.35,3750.08 1939.07,3760.35 1959.78,3770.61 1980.5,3780.87 2001.21,3791.13 2021.93,3801.39 2042.64,3811.66 2063.36,3821.92 2084.08,3832.18 2104.79,3842.44 2125.51,3852.7 2146.22,3862.97 2166.94,3873.23 2187.65,3883.49 2208.37,3893.75 2229.08,3904.02 2249.8,3914.28 2270.52,3924.54 2291.23,3934.8 2291.23,-1350.26 2270.52,-1360.52 2249.8,-1370.78 2229.08,-1381.04 2208.37,-1391.31 2187.65,-1401.57 2166.94,-1411.83 2146.22,-1422.09 2125.51,-1432.36 2104.79,-1442.62 2084.08,-1452.88 2063.36,-1463.14 2042.64,-1473.4 2021.93,-1483.67 2001.21,-1493.93 1980.5,-1504.19 1959.78,-1514.45 1939.07,-1524.72 1918.35,-1534.98 1897.64,-1545.24 1876.92,-1555.5 1856.2,-1565.76 1835.49,-1576.03 1814.77,-1586.29 1794.06,-1596.55 1773.34,-1606.81 1752.63,-1617.07 1731.91,-1627.34 1711.2,-1637.6 1690.48,-1647.86 1669.76,-1658.12 1649.05,-1668.39 1628.33,-1678.65 1607.62,-1688.91 1586.9,-1699.17 1566.19,-1709.43 1545.47,-1719.7 1524.76,-1729.96 1504.04,-1740.22 1483.32,-1750.48 1462.61,-1760.75 1441.89,-1771.01 1421.18,-1781.27 1400.46,-1791.53 1379.75,-1801.79 1359.03,-1812.06 1338.32,-1822.32 1317.6,-1832.58 1296.88,-1842.84 1276.17,-1853.11 1255.45,-1863.37 1234.74,-1873.63 1214.02,-1883.89 1193.31,-1894.15 1172.59,-1904.42 1151.88,-1914.68 1131.16,-1924.94 1110.44,-1935.2 1089.73,-1945.47 1069.01,-1955.73 1048.3,-1965.99 1027.58,-1976.25 1006.87,-1986.51 986.151,-1996.78 965.436,-2007.04 944.72,-2017.3 924.005,-2027.56 903.289,-2037.83 882.574,-2048.09 861.858,-2058.35 841.143,-2068.61 820.427,-2078.87 799.712,-2089.14 778.996,-2099.4 758.28,-2109.66 737.565,-2119.92 716.849,-2130.19 696.134,-2140.45 675.418,-2150.71 654.703,-2160.97 633.987,-2171.23 613.272,-2181.5 592.556,-2191.76 571.841,-2202.02 551.125,-2212.28 530.409,-2222.55 509.694,-2232.81 488.978,-2243.07 468.263,-2253.33 447.547,-2263.59 426.832,-2273.86 406.116,-2284.12 385.401,-2294.38 364.685,-2304.64 343.97,-2314.91 323.254,-2325.17 302.538,-2335.43 281.823,-2345.69 261.107,-2355.95 240.392,-2366.22 240.392,2918.84 \\\"\\/>\\n<polyline clip-path=\\\"url(#clip802)\\\" style=\\\"stroke:#c271d2; stroke-linecap:round; stroke-linejoin:round; stroke-width:8; stroke-opacity:1; fill:none\\\" stroke-dasharray=\\\"32, 20\\\" points=\\\"240.392,379.2 253.744,385.815 377.203,446.975 451.397,483.729 514.127,514.805 582.269,548.562 645.091,579.683 712.442,613.047 790.474,651.704 859.821,686.057 920.631,716.182 986.931,749.026 1053.62,782.065 1127.36,818.594 1197.52,853.35 1270.47,889.489 1331.88,919.91 1406.86,957.051 1475.54,991.074 1538.97,1022.5 1603.22,1054.33 1675.23,1090 1740.48,1122.33 1815.2,1159.34 1884.37,1193.61 1952.57,1227.39 2018.78,1260.19 2086.66,1293.82 2161.03,1330.66 2269.07,1384.18 2291.23,1395.16 \\\"\\/>\\n<\\/svg>\\n\"},\"nodeType\":\"DOM\",\"type\":\"node\",\"instanceArgs\":{\"namespace\":\"html\",\"tag\":\"div\"},\"children\":[]}]}}}},\"children\":[{\"props\":{},\"nodeType\":\"ObservableNode\",\"type\":\"node\",\"instanceArgs\":{\"id\":\"12961752340976968298\",\"name\":\"obs-node\"},\"children\":[]}]}]},\n",
       "        window,\n",
       "    );\n",
       "    })()\n",
       "    </script>\n",
       "</div>\n"
      ],
      "text/plain": [
       "Node{WebIO.DOM}(WebIO.DOM(:html, :div), Any[Node{WebIO.DOM}(WebIO.DOM(:html, :div), Any[Scope(Node{WebIO.DOM}(WebIO.DOM(:html, :div), Any[Node{WebIO.DOM}(WebIO.DOM(:html, :div), Any[Node{WebIO.DOM}(WebIO.DOM(:html, :label), Any[nothing], Dict{Symbol, Any}(:className => \"interact \", :style => Dict{Any, Any}(:padding => \"5px 10px 0px 10px\")))], Dict{Symbol, Any}(:className => \"interact-flex-row-left\")), Node{WebIO.DOM}(WebIO.DOM(:html, :div), Any[Node{WebIO.DOM}(WebIO.DOM(:html, :input), Any[], Dict{Symbol, Any}(:max => 10, :min => 1, :attributes => Dict{Any, Any}(:type => \"range\", Symbol(\"data-bind\") => \"numericValue: index, valueUpdate: 'input', event: {change: function (){this.changes(this.changes()+1)}}\", \"orient\" => \"horizontal\"), :step => 1, :className => \"slider slider is-fullwidth\", :style => Dict{Any, Any}()))], Dict{Symbol, Any}(:className => \"interact-flex-row-center\")), Node{WebIO.DOM}(WebIO.DOM(:html, :div), Any[Node{WebIO.DOM}(WebIO.DOM(:html, :p), Any[], Dict{Symbol, Any}(:attributes => Dict(\"data-bind\" => \"text: formatted_val\")))], Dict{Symbol, Any}(:className => \"interact-flex-row-right\"))], Dict{Symbol, Any}(:className => \"interact-flex-row interact-widget\")), Dict{String, Tuple{AbstractObservable, Union{Nothing, Bool}}}(\"changes\" => (Observable(0), nothing), \"index\" => (Observable(1), nothing)), Set{String}(), nothing, Asset[Asset(\"js\", \"knockout\", \"/home/alvin/.julia/packages/Knockout/HReiN/src/../assets/knockout.js\"), Asset(\"js\", \"knockout_punches\", \"/home/alvin/.julia/packages/Knockout/HReiN/src/../assets/knockout_punches.js\"), Asset(\"js\", nothing, \"/home/alvin/.julia/packages/InteractBase/Qhvxg/src/../assets/all.js\"), Asset(\"css\", nothing, \"/home/alvin/.julia/packages/InteractBase/Qhvxg/src/../assets/style.css\"), Asset(\"css\", nothing, \"/home/alvin/.julia/packages/Interact/PENUy/src/../assets/bulma_confined.min.css\")], Dict{Any, Any}(\"changes\" => Any[WebIO.JSString(\"(function (val){return (val!=this.model[\\\"changes\\\"]()) ? (this.valueFromJulia[\\\"changes\\\"]=true, this.model[\\\"changes\\\"](val)) : undefined})\")], \"index\" => Any[WebIO.JSString(\"(function (val){return (val!=this.model[\\\"index\\\"]()) ? (this.valueFromJulia[\\\"index\\\"]=true, this.model[\\\"index\\\"](val)) : undefined})\")]), WebIO.ConnectionPool(Channel{Any}(32), Set{AbstractConnection}(), Condition(Base.IntrusiveLinkedList{Task}(Task (runnable) @0x00007f63664939e0, Task (runnable) @0x00007f63664939e0), Base.AlwaysLockedST(1))), WebIO.JSString[WebIO.JSString(\"function () {\\n    var handler = (function (ko, koPunches) {\\n    ko.punches.enableAll();\\n    ko.bindingHandlers.numericValue = {\\n        init: function(element, valueAccessor, allBindings, data, context) {\\n            var stringified = ko.observable(ko.unwrap(valueAccessor()));\\n            stringified.subscribe(function(value) {\\n                var val = parseFloat(value);\\n                if (!isNaN(val)) {\\n                    valueAccessor()(val);\\n                }\\n            });\\n            valueAccessor().subscribe(function(value) {\\n                var str = JSON.stringify(value);\\n                if ((str == \\\"0\\\") && ([\\\"-0\\\", \\\"-0.\\\"].indexOf(stringified()) >= 0))\\n                     return;\\n                 if ([\\\"null\\\", \\\"\\\"].indexOf(str) >= 0)\\n                     return;\\n                stringified(str);\\n            });\\n            ko.applyBindingsToNode(\\n                element,\\n                {\\n                    value: stringified,\\n                    valueUpdate: allBindings.get('valueUpdate'),\\n                },\\n                context,\\n            );\\n        }\\n    };\\n    var json_data = {\\\"formatted_vals\\\":[\\\"1\\\",\\\"2\\\",\\\"3\\\",\\\"4\\\",\\\"5\\\",\\\"6\\\",\\\"7\\\",\\\"8\\\",\\\"9\\\",\\\"10\\\"],\\\"changes\\\":WebIO.getval({\\\"name\\\":\\\"changes\\\",\\\"scope\\\":\\\"768718214808278223\\\",\\\"id\\\":\\\"10909842280585245322\\\",\\\"type\\\":\\\"observable\\\"}),\\\"index\\\":WebIO.getval({\\\"name\\\":\\\"index\\\",\\\"scope\\\":\\\"768718214808278223\\\",\\\"id\\\":\\\"9593329684423628568\\\",\\\"type\\\":\\\"observable\\\"})};\\n    var self = this;\\n    function AppViewModel() {\\n        for (var key in json_data) {\\n            var el = json_data[key];\\n            this[key] = Array.isArray(el) ? ko.observableArray(el) : ko.observable(el);\\n        }\\n        \\n        [this[\\\"formatted_val\\\"]=ko.computed(    function(){\\n        return this.formatted_vals()[parseInt(this.index())-(1)];\\n    }\\n,this)]\\n        [this[\\\"changes\\\"].subscribe((function (val){!(this.valueFromJulia[\\\"changes\\\"]) ? (WebIO.setval({\\\"name\\\":\\\"changes\\\",\\\"scope\\\":\\\"768718214808278223\\\",\\\"id\\\":\\\"10909842280585245322\\\",\\\"type\\\":\\\"observable\\\"},val)) : undefined; return this.valueFromJulia[\\\"changes\\\"]=false}),self),this[\\\"index\\\"].subscribe((function (val){!(this.valueFromJulia[\\\"index\\\"]) ? (WebIO.setval({\\\"name\\\":\\\"index\\\",\\\"scope\\\":\\\"768718214808278223\\\",\\\"id\\\":\\\"9593329684423628568\\\",\\\"type\\\":\\\"observable\\\"},val)) : undefined; return this.valueFromJulia[\\\"index\\\"]=false}),self)]\\n        \\n    }\\n    self.model = new AppViewModel();\\n    self.valueFromJulia = {};\\n    for (var key in json_data) {\\n        self.valueFromJulia[key] = false;\\n    }\\n    ko.applyBindings(self.model, self.dom);\\n}\\n);\\n    (WebIO.importBlock({\\\"data\\\":[{\\\"name\\\":\\\"knockout\\\",\\\"type\\\":\\\"js\\\",\\\"url\\\":\\\"/assetserver/47cacba18a6e957a8fda7987f9bc6dd46eb14ac2-knockout.js\\\"},{\\\"name\\\":\\\"knockout_punches\\\",\\\"type\\\":\\\"js\\\",\\\"url\\\":\\\"/assetserver/6fd59a16a697ff4f2d107d83f062c92fe763922e-knockout_punches.js\\\"}],\\\"type\\\":\\\"async_block\\\"})).then((imports) => handler.apply(this, imports));\\n}\\n\")])], Dict{Symbol, Any}(:className => \"field interact-widget\")), Node{WebIO.DOM}(WebIO.DOM(:html, :div), Any[Scope(Node{WebIO.DOM}(WebIO.DOM(:html, :div), Any[Node{WebIO.DOM}(WebIO.DOM(:html, :div), Any[Node{WebIO.DOM}(WebIO.DOM(:html, :label), Any[\"y\"], Dict{Symbol, Any}(:className => \"interact \", :style => Dict{Any, Any}(:padding => \"5px 10px 0px 10px\")))], Dict{Symbol, Any}(:className => \"interact-flex-row-left\")), Node{WebIO.DOM}(WebIO.DOM(:html, :div), Any[Node{WebIO.DOM}(WebIO.DOM(:html, :input), Any[], Dict{Symbol, Any}(:max => 100, :min => 1, :attributes => Dict{Any, Any}(:type => \"range\", Symbol(\"data-bind\") => \"numericValue: index, valueUpdate: 'input', event: {change: function (){this.changes(this.changes()+1)}}\", \"orient\" => \"horizontal\"), :step => 1, :className => \"slider slider is-fullwidth\", :style => Dict{Any, Any}()))], Dict{Symbol, Any}(:className => \"interact-flex-row-center\")), Node{WebIO.DOM}(WebIO.DOM(:html, :div), Any[Node{WebIO.DOM}(WebIO.DOM(:html, :p), Any[], Dict{Symbol, Any}(:attributes => Dict(\"data-bind\" => \"text: formatted_val\")))], Dict{Symbol, Any}(:className => \"interact-flex-row-right\"))], Dict{Symbol, Any}(:className => \"interact-flex-row interact-widget\")), Dict{String, Tuple{AbstractObservable, Union{Nothing, Bool}}}(\"changes\" => (Observable(0), nothing), \"index\" => (Observable(50), nothing)), Set{String}(), nothing, Asset[Asset(\"js\", \"knockout\", \"/home/alvin/.julia/packages/Knockout/HReiN/src/../assets/knockout.js\"), Asset(\"js\", \"knockout_punches\", \"/home/alvin/.julia/packages/Knockout/HReiN/src/../assets/knockout_punches.js\"), Asset(\"js\", nothing, \"/home/alvin/.julia/packages/InteractBase/Qhvxg/src/../assets/all.js\"), Asset(\"css\", nothing, \"/home/alvin/.julia/packages/InteractBase/Qhvxg/src/../assets/style.css\"), Asset(\"css\", nothing, \"/home/alvin/.julia/packages/Interact/PENUy/src/../assets/bulma_confined.min.css\")], Dict{Any, Any}(\"changes\" => Any[WebIO.JSString(\"(function (val){return (val!=this.model[\\\"changes\\\"]()) ? (this.valueFromJulia[\\\"changes\\\"]=true, this.model[\\\"changes\\\"](val)) : undefined})\")], \"index\" => Any[WebIO.JSString(\"(function (val){return (val!=this.model[\\\"index\\\"]()) ? (this.valueFromJulia[\\\"index\\\"]=true, this.model[\\\"index\\\"](val)) : undefined})\")]), WebIO.ConnectionPool(Channel{Any}(32), Set{AbstractConnection}(), Condition(Base.IntrusiveLinkedList{Task}(Task (runnable) @0x00007f636670b850, Task (runnable) @0x00007f636670b850), Base.AlwaysLockedST(1))), WebIO.JSString[WebIO.JSString(\"function () {\\n    var handler = (function (ko, koPunches) {\\n    ko.punches.enableAll();\\n    ko.bindingHandlers.numericValue = {\\n        init: function(element, valueAccessor, allBindings, data, context) {\\n            var stringified = ko.observable(ko.unwrap(valueAccessor()));\\n            stringified.subscribe(function(value) {\\n                var val = parseFloat(value);\\n                if (!isNaN(val)) {\\n                    valueAccessor()(val);\\n                }\\n            });\\n            valueAccessor().subscribe(function(value) {\\n                var str = JSON.stringify(value);\\n                if ((str == \\\"0\\\") && ([\\\"-0\\\", \\\"-0.\\\"].indexOf(stringified()) >= 0))\\n                     return;\\n                 if ([\\\"null\\\", \\\"\\\"].indexOf(str) >= 0)\\n                     return;\\n                stringified(str);\\n            });\\n            ko.applyBindingsToNode(\\n                element,\\n                {\\n                    value: stringified,\\n                    valueUpdate: allBindings.get('valueUpdate'),\\n                },\\n                context,\\n            );\\n        }\\n    };\\n    var json_data = {\\\"formatted_vals\\\":[\\\"1\\\",\\\"2\\\",\\\"3\\\",\\\"4\\\",\\\"5\\\",\\\"6\\\",\\\"7\\\",\\\"8\\\",\\\"9\\\",\\\"10\\\",\\\"11\\\",\\\"12\\\",\\\"13\\\",\\\"14\\\",\\\"15\\\",\\\"16\\\",\\\"17\\\",\\\"18\\\",\\\"19\\\",\\\"20\\\",\\\"21\\\",\\\"22\\\",\\\"23\\\",\\\"24\\\",\\\"25\\\",\\\"26\\\",\\\"27\\\",\\\"28\\\",\\\"29\\\",\\\"30\\\",\\\"31\\\",\\\"32\\\",\\\"33\\\",\\\"34\\\",\\\"35\\\",\\\"36\\\",\\\"37\\\",\\\"38\\\",\\\"39\\\",\\\"40\\\",\\\"41\\\",\\\"42\\\",\\\"43\\\",\\\"44\\\",\\\"45\\\",\\\"46\\\",\\\"47\\\",\\\"48\\\",\\\"49\\\",\\\"50\\\",\\\"51\\\",\\\"52\\\",\\\"53\\\",\\\"54\\\",\\\"55\\\",\\\"56\\\",\\\"57\\\",\\\"58\\\",\\\"59\\\",\\\"60\\\",\\\"61\\\",\\\"62\\\",\\\"63\\\",\\\"64\\\",\\\"65\\\",\\\"66\\\",\\\"67\\\",\\\"68\\\",\\\"69\\\",\\\"70\\\",\\\"71\\\",\\\"72\\\",\\\"73\\\",\\\"74\\\",\\\"75\\\",\\\"76\\\",\\\"77\\\",\\\"78\\\",\\\"79\\\",\\\"80\\\",\\\"81\\\",\\\"82\\\",\\\"83\\\",\\\"84\\\",\\\"85\\\",\\\"86\\\",\\\"87\\\",\\\"88\\\",\\\"89\\\",\\\"90\\\",\\\"91\\\",\\\"92\\\",\\\"93\\\",\\\"94\\\",\\\"95\\\",\\\"96\\\",\\\"97\\\",\\\"98\\\",\\\"99\\\",\\\"100\\\"],\\\"changes\\\":WebIO.getval({\\\"name\\\":\\\"changes\\\",\\\"scope\\\":\\\"2377317756553729454\\\",\\\"id\\\":\\\"13258969949939990992\\\",\\\"type\\\":\\\"observable\\\"}),\\\"index\\\":WebIO.getval({\\\"name\\\":\\\"index\\\",\\\"scope\\\":\\\"2377317756553729454\\\",\\\"id\\\":\\\"338953921582482975\\\",\\\"type\\\":\\\"observable\\\"})};\\n    var self = this;\\n    function AppViewModel() {\\n        for (var key in json_data) {\\n            var el = json_data[key];\\n            this[key] = Array.isArray(el) ? ko.observableArray(el) : ko.observable(el);\\n        }\\n        \\n        [this[\\\"formatted_val\\\"]=ko.computed(    function(){\\n        return this.formatted_vals()[parseInt(this.index())-(1)];\\n    }\\n,this)]\\n        [this[\\\"changes\\\"].subscribe((function (val){!(this.valueFromJulia[\\\"changes\\\"]) ? (WebIO.setval({\\\"name\\\":\\\"changes\\\",\\\"scope\\\":\\\"2377317756553729454\\\",\\\"id\\\":\\\"13258969949939990992\\\",\\\"type\\\":\\\"observable\\\"},val)) : undefined; return this.valueFromJulia[\\\"changes\\\"]=false}),self),this[\\\"index\\\"].subscribe((function (val){!(this.valueFromJulia[\\\"index\\\"]) ? (WebIO.setval({\\\"name\\\":\\\"index\\\",\\\"scope\\\":\\\"2377317756553729454\\\",\\\"id\\\":\\\"338953921582482975\\\",\\\"type\\\":\\\"observable\\\"},val)) : undefined; return this.valueFromJulia[\\\"index\\\"]=false}),self)]\\n        \\n    }\\n    self.model = new AppViewModel();\\n    self.valueFromJulia = {};\\n    for (var key in json_data) {\\n        self.valueFromJulia[key] = false;\\n    }\\n    ko.applyBindings(self.model, self.dom);\\n}\\n);\\n    (WebIO.importBlock({\\\"data\\\":[{\\\"name\\\":\\\"knockout\\\",\\\"type\\\":\\\"js\\\",\\\"url\\\":\\\"/assetserver/47cacba18a6e957a8fda7987f9bc6dd46eb14ac2-knockout.js\\\"},{\\\"name\\\":\\\"knockout_punches\\\",\\\"type\\\":\\\"js\\\",\\\"url\\\":\\\"/assetserver/6fd59a16a697ff4f2d107d83f062c92fe763922e-knockout_punches.js\\\"}],\\\"type\\\":\\\"async_block\\\"})).then((imports) => handler.apply(this, imports));\\n}\\n\")])], Dict{Symbol, Any}(:className => \"field interact-widget\")), Observable(Node{WebIO.DOM}(WebIO.DOM(:html, :div), Any[Plot{Plots.GRBackend() n=4}], Dict{Symbol, Any}(:className => \"interact-flex-row interact-widget\")))], Dict{Symbol, Any}())"
      ]
     },
     "execution_count": 25,
     "metadata": {
      "application/vnd.webio.node+json": {
       "kernelId": "21b8b6fe-c21a-4517-a653-45ea20b7b639"
      }
     },
     "output_type": "execute_result"
    }
   ],
   "source": [
    "@manipulate for n in slider(1:10, value=1), y in 1:100\n",
    "    # create a taylor model for identity function \n",
    "    # for some large values of x, we need relate f(x) to f(r) for r in [-a, a]\n",
    "    xx = TaylorModel1(n, x0, a)\n",
    "    \n",
    "    # get the taylor model of the target function\n",
    "    ff = f(xx)\n",
    "    \n",
    "    # plot the target function in the interval a\n",
    "    fig = plot(a.lo:.01:a.hi, f, lw=3, leg=false)\n",
    "    \n",
    "    # plot the expansion point\n",
    "    scatter!(fig, [x0], [f(x0)])\n",
    "    \n",
    "    # plot the interval (errors) bound \n",
    "    plot!(fig, ff)\n",
    "    \n",
    "    # plot the expansion \n",
    "    # because t = x - x0, where x0 is the expansion point and the x is a point near x0 in the interval a.\n",
    "    plot!(fig, x->ff.pol(x - x0), lw=2, ls=:dash)\n",
    "    \n",
    "    # use ylims to zoom in\n",
    "    ylims!(fig, -y, y)\n",
    "end"
   ]
  }
 ],
 "metadata": {
  "@webio": {
   "lastCommId": "a8ca595afeb2440c86d2d9f20775c0b0",
   "lastKernelId": "21b8b6fe-c21a-4517-a653-45ea20b7b639"
  },
  "kernelspec": {
   "display_name": "Julia 1.9.0",
   "language": "julia",
   "name": "julia-1.9"
  },
  "language_info": {
   "file_extension": ".jl",
   "mimetype": "application/julia",
   "name": "julia",
   "version": "1.9.0"
  }
 },
 "nbformat": 4,
 "nbformat_minor": 5
}
