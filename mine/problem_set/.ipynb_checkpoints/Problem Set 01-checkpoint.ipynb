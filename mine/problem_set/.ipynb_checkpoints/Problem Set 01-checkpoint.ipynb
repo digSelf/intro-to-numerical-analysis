{
 "cells": [
  {
   "cell_type": "code",
   "execution_count": null,
   "id": "b263b857",
   "metadata": {},
   "outputs": [],
   "source": [
    "] add BenchmarkTools"
   ]
  },
  {
   "cell_type": "code",
   "execution_count": null,
   "id": "72d1cec1",
   "metadata": {},
   "outputs": [],
   "source": [
    "using BenchmarkTools"
   ]
  },
  {
   "cell_type": "markdown",
   "id": "f445a571",
   "metadata": {},
   "source": [
    "# Problem 1: Evaluating Polynomials\n",
    "## Two-methods to evaluate polynomials"
   ]
  },
  {
   "cell_type": "markdown",
   "id": "244785f7",
   "metadata": {},
   "source": [
    "The naive way to evaluate $p(a, x) = a_0 + a_1x_1 + \\cdots + a_nx^n$"
   ]
  },
  {
   "cell_type": "code",
   "execution_count": null,
   "id": "b377e722",
   "metadata": {},
   "outputs": [],
   "source": [
    "# use for loopt\n",
    "function poly_eval(a, x)  # a is the vector of coefﬁcients.\n",
    "    p = a[1]\n",
    "    for i in 2:length(a)\n",
    "        p += a[i] * x^(i - 1)\n",
    "    end\n",
    "    return p\n",
    "end"
   ]
  },
  {
   "cell_type": "code",
   "execution_count": null,
   "id": "fd2a9392",
   "metadata": {},
   "outputs": [],
   "source": [
    "a = [1, 2, 3, 4, 5]\n",
    "x = 1\n",
    "\n",
    "# p(a, 2) = 1 + 2 * 2 + 3 * 2^2\n",
    "poly_eval(a, x)"
   ]
  },
  {
   "cell_type": "markdown",
   "id": "427f14c5",
   "metadata": {},
   "source": [
    "Horner method  \n",
    "\n",
    "if the order is 0:\n",
    "$$\n",
    "p_0(x) = a_0\n",
    "$$\n",
    "\n",
    "if the order is 1:\n",
    "$$\n",
    "p_1(x) = a_1x + a_0\n",
    "$$\n",
    "\n",
    "if the order is 2:\n",
    "$$\n",
    "p_2(x) = a_2x^2 + a_1x + a_0 = x(a_2x + a_1) + a_0\n",
    "$$\n",
    "\n",
    "if the order is 3:\n",
    "$$\n",
    "p_3(x) = a_3x^3 + a_2x^2 + a_1x + a_0 = x(a_3x^2 + a_2x + a_1) + a_0 = x[x(a_3x + a_2) + a_1] + a_0\n",
    "$$\n",
    "\n",
    "if the order is 4:\n",
    "$$\n",
    "p_4(x) = a_4x^4 + a_3x^3 + \\cdots + a_1x + a_0 = x(a_4x^3 + a_3x^2 + \\cdots + a_1) + a_0 = x\\{x[x(a_4x + a_3) + a_2] + a_1 \\} + a_0\n",
    "$$\n",
    "\n",
    "if the order is n:\n",
    "$$\n",
    "p_n(x) = a_nx^n + a_{n-1}x^{n-1} + \\cdots + a_1x + a_0\n",
    "$$"
   ]
  },
  {
   "cell_type": "code",
   "execution_count": null,
   "id": "714e9093",
   "metadata": {},
   "outputs": [],
   "source": [
    "function horner(a, x)   \n",
    "    if length(a) == 0\n",
    "        error(\"a must not be empty\")\n",
    "    end\n",
    "    \n",
    "    p = a[end]\n",
    "    for i in length(a) - 1: -1: 1  # start:step: stop\n",
    "        p = p * x + a[i]\n",
    "    end\n",
    "    return p\n",
    "end"
   ]
  },
  {
   "cell_type": "code",
   "execution_count": null,
   "id": "bb1a331d",
   "metadata": {},
   "outputs": [],
   "source": [
    "a = [1, 2, 3, 4, 5]\n",
    "x = 3\n",
    "\n",
    "# p(a, 2) = 1 + 2 * 2 + 3 * 2^2 = 17\n",
    "# p(a, 1) = 1 + 2 * 1 + 3 * 1 = 6\n",
    "horner(a, x)"
   ]
  },
  {
   "cell_type": "markdown",
   "id": "96caec49",
   "metadata": {},
   "source": [
    "## Benchmark the two methods\n",
    "\n",
    "The target polynomial is shown as follows:\n",
    "$$\n",
    "p(x) = 1 + 2x + 3x^2 + \\cdots + 10x^{10}\n",
    "$$\n",
    "\n",
    "Which algorithm is more efﬁcient and by how much?\n",
    "\n",
    "1. random generate 1000 points\n",
    "2. plot the distance"
   ]
  },
  {
   "cell_type": "code",
   "execution_count": null,
   "id": "0e39bdce",
   "metadata": {},
   "outputs": [],
   "source": [
    "using Random\n",
    "Random.seed!(1234) # set the random seed for reproducibility"
   ]
  },
  {
   "cell_type": "code",
   "execution_count": null,
   "id": "88a2025d",
   "metadata": {},
   "outputs": [],
   "source": [
    "# make a test\n",
    "test_a = rand(10)\n",
    "for x in 1:10\n",
    "    @assert(abs(poly_eval(test_a, x) - horner(test_a, x)) < 1e-5)\n",
    "end"
   ]
  },
  {
   "cell_type": "code",
   "execution_count": null,
   "id": "cfe5397c",
   "metadata": {},
   "outputs": [],
   "source": [
    "a = 1:10"
   ]
  },
  {
   "cell_type": "code",
   "execution_count": null,
   "id": "287e2637",
   "metadata": {},
   "outputs": [],
   "source": [
    "@btime for i in 1:1000\n",
    "    poly_eval($a, 4)\n",
    "end"
   ]
  },
  {
   "cell_type": "code",
   "execution_count": null,
   "id": "4d063820",
   "metadata": {},
   "outputs": [],
   "source": [
    "@btime for i in 1:1000\n",
    "    horner($a, 4)\n",
    "end"
   ]
  },
  {
   "cell_type": "markdown",
   "id": "8788de17",
   "metadata": {},
   "source": [
    "# Problem 2: Calculating $\\sqrt{y}$\n",
    "\n",
    "Suppose we have a candidate $x_0$ for $\\sqrt{y}$. How can we find the next candidate from $x_0$?  \n",
    "Because we need to get the root of $\\sqrt{y}$ which means that it must exist another number $t_0$ such that $x_0t_0 = y$. Then we can derive $t_0 = \\frac{y}{x_0}$.  \n",
    "Suppose $x_0 < \\frac{y}{x_0}$, we can take the middle point of the interval $[x_0, \\frac{y}{x_0}]$ to estimate the next candidate, i.e., take the mean $x_1 = \\frac{1}{2}(x_0 + \\frac{y}{x_0}$).\n",
    "\n",
    "The Babylonian algorithm:\n",
    "$$\n",
    "    x_{n + 1} = \\frac{1}{2}(x_n + \\frac{y}{x_n})\n",
    "$$"
   ]
  },
  {
   "cell_type": "code",
   "execution_count": 8,
   "id": "b450e80b",
   "metadata": {},
   "outputs": [
    {
     "data": {
      "text/plain": [
       "babylon (generic function with 3 methods)"
      ]
     },
     "execution_count": 8,
     "metadata": {},
     "output_type": "execute_result"
    }
   ],
   "source": [
    "function babylon(x0, y, ϵ=1e-10)\n",
    "    result = [x0]\n",
    "    last = y\n",
    "    curr = x0\n",
    "    while abs(curr - last) > ϵ\n",
    "        last = curr\n",
    "        curr = 0.5 * (curr + y / curr)\n",
    "        \n",
    "        push!(result, curr)\n",
    "    end\n",
    "    \n",
    "    return result\n",
    "end"
   ]
  },
  {
   "cell_type": "code",
   "execution_count": 19,
   "id": "36a9bd18",
   "metadata": {},
   "outputs": [
    {
     "name": "stdout",
     "output_type": "stream",
     "text": [
      "[2.0, 2.25, 2.236111111111111, 2.2360679779158037, 2.23606797749979, 2.23606797749979]\n",
      "2.23606797749979\n"
     ]
    }
   ],
   "source": [
    "println(babylon(2.0, 5))\n",
    "println(sqrt(5))"
   ]
  },
  {
   "cell_type": "code",
   "execution_count": 24,
   "id": "fc1b50cc",
   "metadata": {},
   "outputs": [
    {
     "name": "stdout",
     "output_type": "stream",
     "text": [
      "Rational{Int64}\n",
      "Rational{Int64}[5//3, 5254199565265579//2251799813685248, 2519871220076349//1125899906842624, 314698720162319//140737488355328, 314698590945125//140737488355328, 629397181890197//281474976710656]\n"
     ]
    }
   ],
   "source": [
    "println(typeof(5//3))\n",
    "println(babylon(5//3, 5))"
   ]
  },
  {
   "cell_type": "code",
   "execution_count": 15,
   "id": "520263aa",
   "metadata": {},
   "outputs": [],
   "source": [
    "# make a test\n",
    "for x in 1:10\n",
    "    y = rand(1:10)\n",
    "    @assert (abs(babylon(0.3 * y, y)[end] - sqrt(y)) < 1e-5)\n",
    "end"
   ]
  },
  {
   "cell_type": "code",
   "execution_count": 26,
   "id": "c131e3ac",
   "metadata": {},
   "outputs": [
    {
     "name": "stdout",
     "output_type": "stream",
     "text": [
      "3.872983346207417\n",
      "[4.5, 3.916666666666667, 3.87322695035461, 3.872983353868081, 3.872983346207417, 3.872983346207417]\n"
     ]
    }
   ],
   "source": [
    "println(sqrt(15))\n",
    "println(babylon(0.3 * 15, 15))"
   ]
  },
  {
   "cell_type": "code",
   "execution_count": 29,
   "id": "35c51547",
   "metadata": {},
   "outputs": [],
   "source": [
    "using Plots"
   ]
  },
  {
   "cell_type": "code",
   "execution_count": 34,
   "id": "276c4223",
   "metadata": {},
   "outputs": [
    {
     "data": {
      "text/plain": [
       "4-element Vector{Float64}:\n",
       " 0.16227766016837908\n",
       " 0.004389006498287884\n",
       " 3.0415860070576173e-6\n",
       " 1.4628298572461063e-12"
      ]
     },
     "execution_count": 34,
     "metadata": {},
     "output_type": "execute_result"
    }
   ],
   "source": [
    "y = 10\n",
    "xn = babylon(0.3 * y, y)\n",
    "\n",
    "# because we need distance. \n",
    "# we use the last element of the xn to approximate the true value\n",
    "δn = abs.(xn[1:end-1] .- xn[end])  "
   ]
  },
  {
   "cell_type": "code",
   "execution_count": 35,
   "id": "a1ae5c41",
   "metadata": {},
   "outputs": [
    {
     "data": {
      "image/png": "[encoded data removed]",
      "image/svg+xml": [
       "<?xml version=\"1.0\" encoding=\"utf-8\"?>\n",
       "<svg xmlns=\"http://www.w3.org/2000/svg\" xmlns:xlink=\"http://www.w3.org/1999/xlink\" width=\"600\" height=\"400\" viewBox=\"0 0 2400 1600\">\n",
       "<defs>\n",
       "  <clipPath id=\"clip620\">\n",
       "    <rect x=\"0\" y=\"0\" width=\"2400\" height=\"1600\"/>\n",
       "  </clipPath>\n",
       "</defs>\n",
       "<path clip-path=\"url(#clip620)\" d=\"M0 1600 L2400 1600 L2400 0 L0 0  Z\" fill=\"#ffffff\" fill-rule=\"evenodd\" fill-opacity=\"1\"/>\n",
       "<defs>\n",
       "  <clipPath id=\"clip621\">\n",
       "    <rect x=\"480\" y=\"0\" width=\"1681\" height=\"1600\"/>\n",
       "  </clipPath>\n",
       "</defs>\n",
       "<path clip-path=\"url(#clip620)\" d=\"M86.9921 1521.01 L2352.76 1521.01 L2352.76 47.2441 L86.9921 47.2441  Z\" fill=\"#ffffff\" fill-rule=\"evenodd\" fill-opacity=\"1\"/>\n",
       "<defs>\n",
       "  <clipPath id=\"clip622\">\n",
       "    <rect x=\"86\" y=\"47\" width=\"2267\" height=\"1475\"/>\n",
       "  </clipPath>\n",
       "</defs>\n",
       "<polyline clip-path=\"url(#clip622)\" style=\"stroke:#000000; stroke-linecap:round; stroke-linejoin:round; stroke-width:2; stroke-opacity:0.1; fill:none\" points=\"151.118,1521.01 151.118,47.2441 \"/>\n",
       "<polyline clip-path=\"url(#clip622)\" style=\"stroke:#000000; stroke-linecap:round; stroke-linejoin:round; stroke-width:2; stroke-opacity:0.1; fill:none\" points=\"863.622,1521.01 863.622,47.2441 \"/>\n",
       "<polyline clip-path=\"url(#clip622)\" style=\"stroke:#000000; stroke-linecap:round; stroke-linejoin:round; stroke-width:2; stroke-opacity:0.1; fill:none\" points=\"1576.13,1521.01 1576.13,47.2441 \"/>\n",
       "<polyline clip-path=\"url(#clip622)\" style=\"stroke:#000000; stroke-linecap:round; stroke-linejoin:round; stroke-width:2; stroke-opacity:0.1; fill:none\" points=\"2288.63,1521.01 2288.63,47.2441 \"/>\n",
       "<polyline clip-path=\"url(#clip620)\" style=\"stroke:#000000; stroke-linecap:round; stroke-linejoin:round; stroke-width:4; stroke-opacity:1; fill:none\" points=\"86.9921,1521.01 2352.76,1521.01 \"/>\n",
       "<polyline clip-path=\"url(#clip620)\" style=\"stroke:#000000; stroke-linecap:round; stroke-linejoin:round; stroke-width:4; stroke-opacity:1; fill:none\" points=\"151.118,1521.01 151.118,1502.11 \"/>\n",
       "<polyline clip-path=\"url(#clip620)\" style=\"stroke:#000000; stroke-linecap:round; stroke-linejoin:round; stroke-width:4; stroke-opacity:1; fill:none\" points=\"863.622,1521.01 863.622,1502.11 \"/>\n",
       "<polyline clip-path=\"url(#clip620)\" style=\"stroke:#000000; stroke-linecap:round; stroke-linejoin:round; stroke-width:4; stroke-opacity:1; fill:none\" points=\"1576.13,1521.01 1576.13,1502.11 \"/>\n",
       "<polyline clip-path=\"url(#clip620)\" style=\"stroke:#000000; stroke-linecap:round; stroke-linejoin:round; stroke-width:4; stroke-opacity:1; fill:none\" points=\"2288.63,1521.01 2288.63,1502.11 \"/>\n",
       "<path clip-path=\"url(#clip620)\" d=\"M-nan -nan L-nan -nan L-nan -nan L-nan -nan L-nan -nan L-nan -nan L-nan -nan L-nan -nan L-nan -nan L-nan -nan L-nan -nan L-nan -nan Z\" fill=\"#000000\" fill-rule=\"nonzero\" fill-opacity=\"1\" /><path clip-path=\"url(#clip620)\" d=\"M-nan -nan L-nan -nan L-nan -nan L-nan -nan L-nan -nan Q-nan -nan -nan -nan Q-nan -nan -nan -nan Q-nan -nan -nan -nan Q-nan -nan -nan -nan Q-nan -nan -nan -nan Q-nan -nan -nan -nan Q-nan -nan -nan -nan Q-nan -nan -nan -nan L-nan -nan Q-nan -nan -nan -nan Q-nan -nan -nan -nan Q-nan -nan -nan -nan Q-nan -nan -nan -nan Q-nan -nan -nan -nan Q-nan -nan -nan -nan Q-nan -nan -nan -nan Q-nan -nan -nan -nan Z\" fill=\"#000000\" fill-rule=\"nonzero\" fill-opacity=\"1\" /><path clip-path=\"url(#clip620)\" d=\"M-nan -nan Q-nan -nan -nan -nan Q-nan -nan -nan -nan Q-nan -nan -nan -nan Q-nan -nan -nan -nan Q-nan -nan -nan -nan Q-nan -nan -nan -nan L-nan -nan Q-nan -nan -nan -nan Q-nan -nan -nan -nan Q-nan -nan -nan -nan Q-nan -nan -nan -nan Q-nan -nan -nan -nan Q-nan -nan -nan -nan L-nan -nan L-nan -nan L-nan -nan Q-nan -nan -nan -nan Q-nan -nan -nan -nan Q-nan -nan -nan -nan Q-nan -nan -nan -nan Q-nan -nan -nan -nan Q-nan -nan -nan -nan L-nan -nan Q-nan -nan -nan -nan Q-nan -nan -nan -nan Q-nan -nan -nan -nan Q-nan -nan -nan -nan Q-nan -nan -nan -nan Q-nan -nan -nan -nan Z\" fill=\"#000000\" fill-rule=\"nonzero\" fill-opacity=\"1\" /><path clip-path=\"url(#clip620)\" d=\"M-nan -nan L-nan -nan L-nan -nan L-nan -nan M-nan -nan L-nan -nan L-nan -nan L-nan -nan L-nan -nan L-nan -nan L-nan -nan L-nan -nan L-nan -nan L-nan -nan L-nan -nan L-nan -nan Z\" fill=\"#000000\" fill-rule=\"nonzero\" fill-opacity=\"1\" /><polyline clip-path=\"url(#clip622)\" style=\"stroke:#000000; stroke-linecap:round; stroke-linejoin:round; stroke-width:2; stroke-opacity:0.1; fill:none\" points=\"86.9921,1479.3 2352.76,1479.3 \"/>\n",
       "<polyline clip-path=\"url(#clip622)\" style=\"stroke:#000000; stroke-linecap:round; stroke-linejoin:round; stroke-width:2; stroke-opacity:0.1; fill:none\" points=\"86.9921,1050.91 2352.76,1050.91 \"/>\n",
       "<polyline clip-path=\"url(#clip622)\" style=\"stroke:#000000; stroke-linecap:round; stroke-linejoin:round; stroke-width:2; stroke-opacity:0.1; fill:none\" points=\"86.9921,622.53 2352.76,622.53 \"/>\n",
       "<polyline clip-path=\"url(#clip622)\" style=\"stroke:#000000; stroke-linecap:round; stroke-linejoin:round; stroke-width:2; stroke-opacity:0.1; fill:none\" points=\"86.9921,194.145 2352.76,194.145 \"/>\n",
       "<polyline clip-path=\"url(#clip620)\" style=\"stroke:#000000; stroke-linecap:round; stroke-linejoin:round; stroke-width:4; stroke-opacity:1; fill:none\" points=\"86.9921,1521.01 86.9921,47.2441 \"/>\n",
       "<polyline clip-path=\"url(#clip620)\" style=\"stroke:#000000; stroke-linecap:round; stroke-linejoin:round; stroke-width:4; stroke-opacity:1; fill:none\" points=\"86.9921,1479.3 105.89,1479.3 \"/>\n",
       "<polyline clip-path=\"url(#clip620)\" style=\"stroke:#000000; stroke-linecap:round; stroke-linejoin:round; stroke-width:4; stroke-opacity:1; fill:none\" points=\"86.9921,1050.91 105.89,1050.91 \"/>\n",
       "<polyline clip-path=\"url(#clip620)\" style=\"stroke:#000000; stroke-linecap:round; stroke-linejoin:round; stroke-width:4; stroke-opacity:1; fill:none\" points=\"86.9921,622.53 105.89,622.53 \"/>\n",
       "<polyline clip-path=\"url(#clip620)\" style=\"stroke:#000000; stroke-linecap:round; stroke-linejoin:round; stroke-width:4; stroke-opacity:1; fill:none\" points=\"86.9921,194.145 105.89,194.145 \"/>\n",
       "<path clip-path=\"url(#clip620)\" d=\"M-nan -nan Q-nan -nan -nan -nan Q-nan -nan -nan -nan Q-nan -nan -nan -nan Q-nan -nan -nan -nan Q-nan -nan -nan -nan Q-nan -nan -nan -nan Q-nan -nan -nan -nan Q-nan -nan -nan -nan M-nan -nan Q-nan -nan -nan -nan Q-nan -nan -nan -nan Q-nan -nan -nan -nan Q-nan -nan -nan -nan Q-nan -nan -nan -nan Q-nan -nan -nan -nan Q-nan -nan -nan -nan Q-nan -nan -nan -nan Z\" fill=\"#000000\" fill-rule=\"nonzero\" fill-opacity=\"1\" /><path clip-path=\"url(#clip620)\" d=\"M-nan -nan L-nan -nan L-nan -nan L-nan -nan L-nan -nan Z\" fill=\"#000000\" fill-rule=\"nonzero\" fill-opacity=\"1\" /><path clip-path=\"url(#clip620)\" d=\"M-nan -nan Q-nan -nan -nan -nan Q-nan -nan -nan -nan Q-nan -nan -nan -nan Q-nan -nan -nan -nan Q-nan -nan -nan -nan Q-nan -nan -nan -nan Q-nan -nan -nan -nan Q-nan -nan -nan -nan M-nan -nan Q-nan -nan -nan -nan Q-nan -nan -nan -nan Q-nan -nan -nan -nan Q-nan -nan -nan -nan Q-nan -nan -nan -nan Q-nan -nan -nan -nan Q-nan -nan -nan -nan Q-nan -nan -nan -nan Z\" fill=\"#000000\" fill-rule=\"nonzero\" fill-opacity=\"1\" /><path clip-path=\"url(#clip620)\" d=\"M-nan -nan Q-nan -nan -nan -nan Q-nan -nan -nan -nan Q-nan -nan -nan -nan Q-nan -nan -nan -nan Q-nan -nan -nan -nan Q-nan -nan -nan -nan Q-nan -nan -nan -nan Q-nan -nan -nan -nan M-nan -nan Q-nan -nan -nan -nan Q-nan -nan -nan -nan Q-nan -nan -nan -nan Q-nan -nan -nan -nan Q-nan -nan -nan -nan Q-nan -nan -nan -nan Q-nan -nan -nan -nan Q-nan -nan -nan -nan Z\" fill=\"#000000\" fill-rule=\"nonzero\" fill-opacity=\"1\" /><path clip-path=\"url(#clip620)\" d=\"M-nan -nan Q-nan -nan -nan -nan Q-nan -nan -nan -nan Q-nan -nan -nan -nan Q-nan -nan -nan -nan Q-nan -nan -nan -nan Q-nan -nan -nan -nan Q-nan -nan -nan -nan Q-nan -nan -nan -nan M-nan -nan Q-nan -nan -nan -nan Q-nan -nan -nan -nan Q-nan -nan -nan -nan Q-nan -nan -nan -nan Q-nan -nan -nan -nan Q-nan -nan -nan -nan Q-nan -nan -nan -nan Q-nan -nan -nan -nan Z\" fill=\"#000000\" fill-rule=\"nonzero\" fill-opacity=\"1\" /><path clip-path=\"url(#clip620)\" d=\"M-nan -nan L-nan -nan L-nan -nan L-nan -nan L-nan -nan Z\" fill=\"#000000\" fill-rule=\"nonzero\" fill-opacity=\"1\" /><path clip-path=\"url(#clip620)\" d=\"M-nan -nan Q-nan -nan -nan -nan Q-nan -nan -nan -nan Q-nan -nan -nan -nan Q-nan -nan -nan -nan Q-nan -nan -nan -nan Q-nan -nan -nan -nan Q-nan -nan -nan -nan Q-nan -nan -nan -nan M-nan -nan Q-nan -nan -nan -nan Q-nan -nan -nan -nan Q-nan -nan -nan -nan Q-nan -nan -nan -nan Q-nan -nan -nan -nan Q-nan -nan -nan -nan Q-nan -nan -nan -nan Q-nan -nan -nan -nan Z\" fill=\"#000000\" fill-rule=\"nonzero\" fill-opacity=\"1\" /><path clip-path=\"url(#clip620)\" d=\"M-nan -nan L-nan -nan L-nan -nan L-nan -nan L-nan -nan Q-nan -nan -nan -nan Q-nan -nan -nan -nan Q-nan -nan -nan -nan Q-nan -nan -nan -nan Q-nan -nan -nan -nan Q-nan -nan -nan -nan Q-nan -nan -nan -nan Q-nan -nan -nan -nan L-nan -nan Q-nan -nan -nan -nan Q-nan -nan -nan -nan Q-nan -nan -nan -nan Q-nan -nan -nan -nan Q-nan -nan -nan -nan Q-nan -nan -nan -nan Q-nan -nan -nan -nan Q-nan -nan -nan -nan L-nan -nan Z\" fill=\"#000000\" fill-rule=\"nonzero\" fill-opacity=\"1\" /><path clip-path=\"url(#clip620)\" d=\"M-nan -nan Q-nan -nan -nan -nan Q-nan -nan -nan -nan Q-nan -nan -nan -nan Q-nan -nan -nan -nan Q-nan -nan -nan -nan Q-nan -nan -nan -nan Q-nan -nan -nan -nan Q-nan -nan -nan -nan M-nan -nan Q-nan -nan -nan -nan Q-nan -nan -nan -nan Q-nan -nan -nan -nan Q-nan -nan -nan -nan Q-nan -nan -nan -nan Q-nan -nan -nan -nan Q-nan -nan -nan -nan Q-nan -nan -nan -nan Z\" fill=\"#000000\" fill-rule=\"nonzero\" fill-opacity=\"1\" /><path clip-path=\"url(#clip620)\" d=\"M-nan -nan L-nan -nan L-nan -nan L-nan -nan L-nan -nan Z\" fill=\"#000000\" fill-rule=\"nonzero\" fill-opacity=\"1\" /><path clip-path=\"url(#clip620)\" d=\"M-nan -nan L-nan -nan L-nan -nan L-nan -nan L-nan -nan L-nan -nan L-nan -nan L-nan -nan L-nan -nan L-nan -nan L-nan -nan L-nan -nan Z\" fill=\"#000000\" fill-rule=\"nonzero\" fill-opacity=\"1\" /><path clip-path=\"url(#clip620)\" d=\"M-nan -nan Q-nan -nan -nan -nan Q-nan -nan -nan -nan Q-nan -nan -nan -nan Q-nan -nan -nan -nan Q-nan -nan -nan -nan Q-nan -nan -nan -nan Q-nan -nan -nan -nan Q-nan -nan -nan -nan M-nan -nan Q-nan -nan -nan -nan Q-nan -nan -nan -nan Q-nan -nan -nan -nan Q-nan -nan -nan -nan Q-nan -nan -nan -nan Q-nan -nan -nan -nan Q-nan -nan -nan -nan Q-nan -nan -nan -nan Z\" fill=\"#000000\" fill-rule=\"nonzero\" fill-opacity=\"1\" /><path clip-path=\"url(#clip620)\" d=\"M-nan -nan Q-nan -nan -nan -nan Q-nan -nan -nan -nan Q-nan -nan -nan -nan Q-nan -nan -nan -nan Q-nan -nan -nan -nan Q-nan -nan -nan -nan Q-nan -nan -nan -nan Q-nan -nan -nan -nan M-nan -nan Q-nan -nan -nan -nan Q-nan -nan -nan -nan Q-nan -nan -nan -nan Q-nan -nan -nan -nan Q-nan -nan -nan -nan Q-nan -nan -nan -nan Q-nan -nan -nan -nan Q-nan -nan -nan -nan Z\" fill=\"#000000\" fill-rule=\"nonzero\" fill-opacity=\"1\" /><path clip-path=\"url(#clip620)\" d=\"M-nan -nan L-nan -nan L-nan -nan L-nan -nan L-nan -nan Z\" fill=\"#000000\" fill-rule=\"nonzero\" fill-opacity=\"1\" /><path clip-path=\"url(#clip620)\" d=\"M-nan -nan L-nan -nan L-nan -nan L-nan -nan L-nan -nan L-nan -nan L-nan -nan L-nan -nan L-nan -nan L-nan -nan L-nan -nan L-nan -nan Z\" fill=\"#000000\" fill-rule=\"nonzero\" fill-opacity=\"1\" /><path clip-path=\"url(#clip620)\" d=\"M-nan -nan L-nan -nan L-nan -nan L-nan -nan L-nan -nan Q-nan -nan -nan -nan Q-nan -nan -nan -nan Q-nan -nan -nan -nan Q-nan -nan -nan -nan Q-nan -nan -nan -nan Q-nan -nan -nan -nan Q-nan -nan -nan -nan Q-nan -nan -nan -nan L-nan -nan Q-nan -nan -nan -nan Q-nan -nan -nan -nan Q-nan -nan -nan -nan Q-nan -nan -nan -nan Q-nan -nan -nan -nan Q-nan -nan -nan -nan Q-nan -nan -nan -nan Q-nan -nan -nan -nan L-nan -nan Z\" fill=\"#000000\" fill-rule=\"nonzero\" fill-opacity=\"1\" /><polyline clip-path=\"url(#clip622)\" style=\"stroke:#009af9; stroke-linecap:round; stroke-linejoin:round; stroke-width:4; stroke-opacity:1; fill:none\" points=\"151.118,88.9544 863.622,1441.69 1576.13,1479.27 2288.63,1479.3 \"/>\n",
       "<path clip-path=\"url(#clip622)\" d=\"M151.118 104.954 L139.806 100.266 L135.118 88.9544 L139.806 77.6424 L151.118 72.9544 L162.43 77.6424 L167.118 88.9544 L162.43 100.266 Z\" fill=\"#009af9\" fill-rule=\"evenodd\" fill-opacity=\"1\" stroke=\"#000000\" stroke-opacity=\"1\" stroke-width=\"3.2\"/>\n",
       "<path clip-path=\"url(#clip622)\" d=\"M863.622 1457.69 L852.31 1453.01 L847.622 1441.69 L852.31 1430.38 L863.622 1425.69 L874.934 1430.38 L879.622 1441.69 L874.934 1453.01 Z\" fill=\"#009af9\" fill-rule=\"evenodd\" fill-opacity=\"1\" stroke=\"#000000\" stroke-opacity=\"1\" stroke-width=\"3.2\"/>\n",
       "<path clip-path=\"url(#clip622)\" d=\"M1576.13 1495.27 L1564.81 1490.58 L1560.13 1479.27 L1564.81 1467.96 L1576.13 1463.27 L1587.44 1467.96 L1592.13 1479.27 L1587.44 1490.58 Z\" fill=\"#009af9\" fill-rule=\"evenodd\" fill-opacity=\"1\" stroke=\"#000000\" stroke-opacity=\"1\" stroke-width=\"3.2\"/>\n",
       "<path clip-path=\"url(#clip622)\" d=\"M2288.63 1495.3 L2277.32 1490.61 L2272.63 1479.3 L2277.32 1467.99 L2288.63 1463.3 L2299.94 1467.99 L2304.63 1479.3 L2299.94 1490.61 Z\" fill=\"#009af9\" fill-rule=\"evenodd\" fill-opacity=\"1\" stroke=\"#000000\" stroke-opacity=\"1\" stroke-width=\"3.2\"/>\n",
       "</svg>\n"
      ],
      "text/html": [
       "<?xml version=\"1.0\" encoding=\"utf-8\"?>\n",
       "<svg xmlns=\"http://www.w3.org/2000/svg\" xmlns:xlink=\"http://www.w3.org/1999/xlink\" width=\"600\" height=\"400\" viewBox=\"0 0 2400 1600\">\n",
       "<defs>\n",
       "  <clipPath id=\"clip670\">\n",
       "    <rect x=\"0\" y=\"0\" width=\"2400\" height=\"1600\"/>\n",
       "  </clipPath>\n",
       "</defs>\n",
       "<path clip-path=\"url(#clip670)\" d=\"M0 1600 L2400 1600 L2400 0 L0 0  Z\" fill=\"#ffffff\" fill-rule=\"evenodd\" fill-opacity=\"1\"/>\n",
       "<defs>\n",
       "  <clipPath id=\"clip671\">\n",
       "    <rect x=\"480\" y=\"0\" width=\"1681\" height=\"1600\"/>\n",
       "  </clipPath>\n",
       "</defs>\n",
       "<path clip-path=\"url(#clip670)\" d=\"M86.9921 1521.01 L2352.76 1521.01 L2352.76 47.2441 L86.9921 47.2441  Z\" fill=\"#ffffff\" fill-rule=\"evenodd\" fill-opacity=\"1\"/>\n",
       "<defs>\n",
       "  <clipPath id=\"clip672\">\n",
       "    <rect x=\"86\" y=\"47\" width=\"2267\" height=\"1475\"/>\n",
       "  </clipPath>\n",
       "</defs>\n",
       "<polyline clip-path=\"url(#clip672)\" style=\"stroke:#000000; stroke-linecap:round; stroke-linejoin:round; stroke-width:2; stroke-opacity:0.1; fill:none\" points=\"151.118,1521.01 151.118,47.2441 \"/>\n",
       "<polyline clip-path=\"url(#clip672)\" style=\"stroke:#000000; stroke-linecap:round; stroke-linejoin:round; stroke-width:2; stroke-opacity:0.1; fill:none\" points=\"863.622,1521.01 863.622,47.2441 \"/>\n",
       "<polyline clip-path=\"url(#clip672)\" style=\"stroke:#000000; stroke-linecap:round; stroke-linejoin:round; stroke-width:2; stroke-opacity:0.1; fill:none\" points=\"1576.13,1521.01 1576.13,47.2441 \"/>\n",
       "<polyline clip-path=\"url(#clip672)\" style=\"stroke:#000000; stroke-linecap:round; stroke-linejoin:round; stroke-width:2; stroke-opacity:0.1; fill:none\" points=\"2288.63,1521.01 2288.63,47.2441 \"/>\n",
       "<polyline clip-path=\"url(#clip670)\" style=\"stroke:#000000; stroke-linecap:round; stroke-linejoin:round; stroke-width:4; stroke-opacity:1; fill:none\" points=\"86.9921,1521.01 2352.76,1521.01 \"/>\n",
       "<polyline clip-path=\"url(#clip670)\" style=\"stroke:#000000; stroke-linecap:round; stroke-linejoin:round; stroke-width:4; stroke-opacity:1; fill:none\" points=\"151.118,1521.01 151.118,1502.11 \"/>\n",
       "<polyline clip-path=\"url(#clip670)\" style=\"stroke:#000000; stroke-linecap:round; stroke-linejoin:round; stroke-width:4; stroke-opacity:1; fill:none\" points=\"863.622,1521.01 863.622,1502.11 \"/>\n",
       "<polyline clip-path=\"url(#clip670)\" style=\"stroke:#000000; stroke-linecap:round; stroke-linejoin:round; stroke-width:4; stroke-opacity:1; fill:none\" points=\"1576.13,1521.01 1576.13,1502.11 \"/>\n",
       "<polyline clip-path=\"url(#clip670)\" style=\"stroke:#000000; stroke-linecap:round; stroke-linejoin:round; stroke-width:4; stroke-opacity:1; fill:none\" points=\"2288.63,1521.01 2288.63,1502.11 \"/>\n",
       "<path clip-path=\"url(#clip670)\" d=\"M-nan -nan L-nan -nan L-nan -nan L-nan -nan L-nan -nan L-nan -nan L-nan -nan L-nan -nan L-nan -nan L-nan -nan L-nan -nan L-nan -nan Z\" fill=\"#000000\" fill-rule=\"nonzero\" fill-opacity=\"1\" /><path clip-path=\"url(#clip670)\" d=\"M-nan -nan L-nan -nan L-nan -nan L-nan -nan L-nan -nan Q-nan -nan -nan -nan Q-nan -nan -nan -nan Q-nan -nan -nan -nan Q-nan -nan -nan -nan Q-nan -nan -nan -nan Q-nan -nan -nan -nan Q-nan -nan -nan -nan Q-nan -nan -nan -nan L-nan -nan Q-nan -nan -nan -nan Q-nan -nan -nan -nan Q-nan -nan -nan -nan Q-nan -nan -nan -nan Q-nan -nan -nan -nan Q-nan -nan -nan -nan Q-nan -nan -nan -nan Q-nan -nan -nan -nan Z\" fill=\"#000000\" fill-rule=\"nonzero\" fill-opacity=\"1\" /><path clip-path=\"url(#clip670)\" d=\"M-nan -nan Q-nan -nan -nan -nan Q-nan -nan -nan -nan Q-nan -nan -nan -nan Q-nan -nan -nan -nan Q-nan -nan -nan -nan Q-nan -nan -nan -nan L-nan -nan Q-nan -nan -nan -nan Q-nan -nan -nan -nan Q-nan -nan -nan -nan Q-nan -nan -nan -nan Q-nan -nan -nan -nan Q-nan -nan -nan -nan L-nan -nan L-nan -nan L-nan -nan Q-nan -nan -nan -nan Q-nan -nan -nan -nan Q-nan -nan -nan -nan Q-nan -nan -nan -nan Q-nan -nan -nan -nan Q-nan -nan -nan -nan L-nan -nan Q-nan -nan -nan -nan Q-nan -nan -nan -nan Q-nan -nan -nan -nan Q-nan -nan -nan -nan Q-nan -nan -nan -nan Q-nan -nan -nan -nan Z\" fill=\"#000000\" fill-rule=\"nonzero\" fill-opacity=\"1\" /><path clip-path=\"url(#clip670)\" d=\"M-nan -nan L-nan -nan L-nan -nan L-nan -nan M-nan -nan L-nan -nan L-nan -nan L-nan -nan L-nan -nan L-nan -nan L-nan -nan L-nan -nan L-nan -nan L-nan -nan L-nan -nan L-nan -nan Z\" fill=\"#000000\" fill-rule=\"nonzero\" fill-opacity=\"1\" /><polyline clip-path=\"url(#clip672)\" style=\"stroke:#000000; stroke-linecap:round; stroke-linejoin:round; stroke-width:2; stroke-opacity:0.1; fill:none\" points=\"86.9921,1479.3 2352.76,1479.3 \"/>\n",
       "<polyline clip-path=\"url(#clip672)\" style=\"stroke:#000000; stroke-linecap:round; stroke-linejoin:round; stroke-width:2; stroke-opacity:0.1; fill:none\" points=\"86.9921,1050.91 2352.76,1050.91 \"/>\n",
       "<polyline clip-path=\"url(#clip672)\" style=\"stroke:#000000; stroke-linecap:round; stroke-linejoin:round; stroke-width:2; stroke-opacity:0.1; fill:none\" points=\"86.9921,622.53 2352.76,622.53 \"/>\n",
       "<polyline clip-path=\"url(#clip672)\" style=\"stroke:#000000; stroke-linecap:round; stroke-linejoin:round; stroke-width:2; stroke-opacity:0.1; fill:none\" points=\"86.9921,194.145 2352.76,194.145 \"/>\n",
       "<polyline clip-path=\"url(#clip670)\" style=\"stroke:#000000; stroke-linecap:round; stroke-linejoin:round; stroke-width:4; stroke-opacity:1; fill:none\" points=\"86.9921,1521.01 86.9921,47.2441 \"/>\n",
       "<polyline clip-path=\"url(#clip670)\" style=\"stroke:#000000; stroke-linecap:round; stroke-linejoin:round; stroke-width:4; stroke-opacity:1; fill:none\" points=\"86.9921,1479.3 105.89,1479.3 \"/>\n",
       "<polyline clip-path=\"url(#clip670)\" style=\"stroke:#000000; stroke-linecap:round; stroke-linejoin:round; stroke-width:4; stroke-opacity:1; fill:none\" points=\"86.9921,1050.91 105.89,1050.91 \"/>\n",
       "<polyline clip-path=\"url(#clip670)\" style=\"stroke:#000000; stroke-linecap:round; stroke-linejoin:round; stroke-width:4; stroke-opacity:1; fill:none\" points=\"86.9921,622.53 105.89,622.53 \"/>\n",
       "<polyline clip-path=\"url(#clip670)\" style=\"stroke:#000000; stroke-linecap:round; stroke-linejoin:round; stroke-width:4; stroke-opacity:1; fill:none\" points=\"86.9921,194.145 105.89,194.145 \"/>\n",
       "<path clip-path=\"url(#clip670)\" d=\"M-nan -nan Q-nan -nan -nan -nan Q-nan -nan -nan -nan Q-nan -nan -nan -nan Q-nan -nan -nan -nan Q-nan -nan -nan -nan Q-nan -nan -nan -nan Q-nan -nan -nan -nan Q-nan -nan -nan -nan M-nan -nan Q-nan -nan -nan -nan Q-nan -nan -nan -nan Q-nan -nan -nan -nan Q-nan -nan -nan -nan Q-nan -nan -nan -nan Q-nan -nan -nan -nan Q-nan -nan -nan -nan Q-nan -nan -nan -nan Z\" fill=\"#000000\" fill-rule=\"nonzero\" fill-opacity=\"1\" /><path clip-path=\"url(#clip670)\" d=\"M-nan -nan L-nan -nan L-nan -nan L-nan -nan L-nan -nan Z\" fill=\"#000000\" fill-rule=\"nonzero\" fill-opacity=\"1\" /><path clip-path=\"url(#clip670)\" d=\"M-nan -nan Q-nan -nan -nan -nan Q-nan -nan -nan -nan Q-nan -nan -nan -nan Q-nan -nan -nan -nan Q-nan -nan -nan -nan Q-nan -nan -nan -nan Q-nan -nan -nan -nan Q-nan -nan -nan -nan M-nan -nan Q-nan -nan -nan -nan Q-nan -nan -nan -nan Q-nan -nan -nan -nan Q-nan -nan -nan -nan Q-nan -nan -nan -nan Q-nan -nan -nan -nan Q-nan -nan -nan -nan Q-nan -nan -nan -nan Z\" fill=\"#000000\" fill-rule=\"nonzero\" fill-opacity=\"1\" /><path clip-path=\"url(#clip670)\" d=\"M-nan -nan Q-nan -nan -nan -nan Q-nan -nan -nan -nan Q-nan -nan -nan -nan Q-nan -nan -nan -nan Q-nan -nan -nan -nan Q-nan -nan -nan -nan Q-nan -nan -nan -nan Q-nan -nan -nan -nan M-nan -nan Q-nan -nan -nan -nan Q-nan -nan -nan -nan Q-nan -nan -nan -nan Q-nan -nan -nan -nan Q-nan -nan -nan -nan Q-nan -nan -nan -nan Q-nan -nan -nan -nan Q-nan -nan -nan -nan Z\" fill=\"#000000\" fill-rule=\"nonzero\" fill-opacity=\"1\" /><path clip-path=\"url(#clip670)\" d=\"M-nan -nan Q-nan -nan -nan -nan Q-nan -nan -nan -nan Q-nan -nan -nan -nan Q-nan -nan -nan -nan Q-nan -nan -nan -nan Q-nan -nan -nan -nan Q-nan -nan -nan -nan Q-nan -nan -nan -nan M-nan -nan Q-nan -nan -nan -nan Q-nan -nan -nan -nan Q-nan -nan -nan -nan Q-nan -nan -nan -nan Q-nan -nan -nan -nan Q-nan -nan -nan -nan Q-nan -nan -nan -nan Q-nan -nan -nan -nan Z\" fill=\"#000000\" fill-rule=\"nonzero\" fill-opacity=\"1\" /><path clip-path=\"url(#clip670)\" d=\"M-nan -nan L-nan -nan L-nan -nan L-nan -nan L-nan -nan Z\" fill=\"#000000\" fill-rule=\"nonzero\" fill-opacity=\"1\" /><path clip-path=\"url(#clip670)\" d=\"M-nan -nan Q-nan -nan -nan -nan Q-nan -nan -nan -nan Q-nan -nan -nan -nan Q-nan -nan -nan -nan Q-nan -nan -nan -nan Q-nan -nan -nan -nan Q-nan -nan -nan -nan Q-nan -nan -nan -nan M-nan -nan Q-nan -nan -nan -nan Q-nan -nan -nan -nan Q-nan -nan -nan -nan Q-nan -nan -nan -nan Q-nan -nan -nan -nan Q-nan -nan -nan -nan Q-nan -nan -nan -nan Q-nan -nan -nan -nan Z\" fill=\"#000000\" fill-rule=\"nonzero\" fill-opacity=\"1\" /><path clip-path=\"url(#clip670)\" d=\"M-nan -nan L-nan -nan L-nan -nan L-nan -nan L-nan -nan Q-nan -nan -nan -nan Q-nan -nan -nan -nan Q-nan -nan -nan -nan Q-nan -nan -nan -nan Q-nan -nan -nan -nan Q-nan -nan -nan -nan Q-nan -nan -nan -nan Q-nan -nan -nan -nan L-nan -nan Q-nan -nan -nan -nan Q-nan -nan -nan -nan Q-nan -nan -nan -nan Q-nan -nan -nan -nan Q-nan -nan -nan -nan Q-nan -nan -nan -nan Q-nan -nan -nan -nan Q-nan -nan -nan -nan L-nan -nan Z\" fill=\"#000000\" fill-rule=\"nonzero\" fill-opacity=\"1\" /><path clip-path=\"url(#clip670)\" d=\"M-nan -nan Q-nan -nan -nan -nan Q-nan -nan -nan -nan Q-nan -nan -nan -nan Q-nan -nan -nan -nan Q-nan -nan -nan -nan Q-nan -nan -nan -nan Q-nan -nan -nan -nan Q-nan -nan -nan -nan M-nan -nan Q-nan -nan -nan -nan Q-nan -nan -nan -nan Q-nan -nan -nan -nan Q-nan -nan -nan -nan Q-nan -nan -nan -nan Q-nan -nan -nan -nan Q-nan -nan -nan -nan Q-nan -nan -nan -nan Z\" fill=\"#000000\" fill-rule=\"nonzero\" fill-opacity=\"1\" /><path clip-path=\"url(#clip670)\" d=\"M-nan -nan L-nan -nan L-nan -nan L-nan -nan L-nan -nan Z\" fill=\"#000000\" fill-rule=\"nonzero\" fill-opacity=\"1\" /><path clip-path=\"url(#clip670)\" d=\"M-nan -nan L-nan -nan L-nan -nan L-nan -nan L-nan -nan L-nan -nan L-nan -nan L-nan -nan L-nan -nan L-nan -nan L-nan -nan L-nan -nan Z\" fill=\"#000000\" fill-rule=\"nonzero\" fill-opacity=\"1\" /><path clip-path=\"url(#clip670)\" d=\"M-nan -nan Q-nan -nan -nan -nan Q-nan -nan -nan -nan Q-nan -nan -nan -nan Q-nan -nan -nan -nan Q-nan -nan -nan -nan Q-nan -nan -nan -nan Q-nan -nan -nan -nan Q-nan -nan -nan -nan M-nan -nan Q-nan -nan -nan -nan Q-nan -nan -nan -nan Q-nan -nan -nan -nan Q-nan -nan -nan -nan Q-nan -nan -nan -nan Q-nan -nan -nan -nan Q-nan -nan -nan -nan Q-nan -nan -nan -nan Z\" fill=\"#000000\" fill-rule=\"nonzero\" fill-opacity=\"1\" /><path clip-path=\"url(#clip670)\" d=\"M-nan -nan Q-nan -nan -nan -nan Q-nan -nan -nan -nan Q-nan -nan -nan -nan Q-nan -nan -nan -nan Q-nan -nan -nan -nan Q-nan -nan -nan -nan Q-nan -nan -nan -nan Q-nan -nan -nan -nan M-nan -nan Q-nan -nan -nan -nan Q-nan -nan -nan -nan Q-nan -nan -nan -nan Q-nan -nan -nan -nan Q-nan -nan -nan -nan Q-nan -nan -nan -nan Q-nan -nan -nan -nan Q-nan -nan -nan -nan Z\" fill=\"#000000\" fill-rule=\"nonzero\" fill-opacity=\"1\" /><path clip-path=\"url(#clip670)\" d=\"M-nan -nan L-nan -nan L-nan -nan L-nan -nan L-nan -nan Z\" fill=\"#000000\" fill-rule=\"nonzero\" fill-opacity=\"1\" /><path clip-path=\"url(#clip670)\" d=\"M-nan -nan L-nan -nan L-nan -nan L-nan -nan L-nan -nan L-nan -nan L-nan -nan L-nan -nan L-nan -nan L-nan -nan L-nan -nan L-nan -nan Z\" fill=\"#000000\" fill-rule=\"nonzero\" fill-opacity=\"1\" /><path clip-path=\"url(#clip670)\" d=\"M-nan -nan L-nan -nan L-nan -nan L-nan -nan L-nan -nan Q-nan -nan -nan -nan Q-nan -nan -nan -nan Q-nan -nan -nan -nan Q-nan -nan -nan -nan Q-nan -nan -nan -nan Q-nan -nan -nan -nan Q-nan -nan -nan -nan Q-nan -nan -nan -nan L-nan -nan Q-nan -nan -nan -nan Q-nan -nan -nan -nan Q-nan -nan -nan -nan Q-nan -nan -nan -nan Q-nan -nan -nan -nan Q-nan -nan -nan -nan Q-nan -nan -nan -nan Q-nan -nan -nan -nan L-nan -nan Z\" fill=\"#000000\" fill-rule=\"nonzero\" fill-opacity=\"1\" /><polyline clip-path=\"url(#clip672)\" style=\"stroke:#009af9; stroke-linecap:round; stroke-linejoin:round; stroke-width:4; stroke-opacity:1; fill:none\" points=\"151.118,88.9544 863.622,1441.69 1576.13,1479.27 2288.63,1479.3 \"/>\n",
       "<path clip-path=\"url(#clip672)\" d=\"M151.118 104.954 L139.806 100.266 L135.118 88.9544 L139.806 77.6424 L151.118 72.9544 L162.43 77.6424 L167.118 88.9544 L162.43 100.266 Z\" fill=\"#009af9\" fill-rule=\"evenodd\" fill-opacity=\"1\" stroke=\"#000000\" stroke-opacity=\"1\" stroke-width=\"3.2\"/>\n",
       "<path clip-path=\"url(#clip672)\" d=\"M863.622 1457.69 L852.31 1453.01 L847.622 1441.69 L852.31 1430.38 L863.622 1425.69 L874.934 1430.38 L879.622 1441.69 L874.934 1453.01 Z\" fill=\"#009af9\" fill-rule=\"evenodd\" fill-opacity=\"1\" stroke=\"#000000\" stroke-opacity=\"1\" stroke-width=\"3.2\"/>\n",
       "<path clip-path=\"url(#clip672)\" d=\"M1576.13 1495.27 L1564.81 1490.58 L1560.13 1479.27 L1564.81 1467.96 L1576.13 1463.27 L1587.44 1467.96 L1592.13 1479.27 L1587.44 1490.58 Z\" fill=\"#009af9\" fill-rule=\"evenodd\" fill-opacity=\"1\" stroke=\"#000000\" stroke-opacity=\"1\" stroke-width=\"3.2\"/>\n",
       "<path clip-path=\"url(#clip672)\" d=\"M2288.63 1495.3 L2277.32 1490.61 L2272.63 1479.3 L2277.32 1467.99 L2288.63 1463.3 L2299.94 1467.99 L2304.63 1479.3 L2299.94 1490.61 Z\" fill=\"#009af9\" fill-rule=\"evenodd\" fill-opacity=\"1\" stroke=\"#000000\" stroke-opacity=\"1\" stroke-width=\"3.2\"/>\n",
       "</svg>\n"
      ]
     },
     "execution_count": 35,
     "metadata": {},
     "output_type": "execute_result"
    }
   ],
   "source": [
    "plot(δn, m=:o)"
   ]
  },
  {
   "cell_type": "code",
   "execution_count": 41,
   "id": "21eaf049",
   "metadata": {},
   "outputs": [
    {
     "data": {
      "image/png": "[encoded data removed]",
      "image/svg+xml": [
       "<?xml version=\"1.0\" encoding=\"utf-8\"?>\n",
       "<svg xmlns=\"http://www.w3.org/2000/svg\" xmlns:xlink=\"http://www.w3.org/1999/xlink\" width=\"600\" height=\"400\" viewBox=\"0 0 2400 1600\">\n",
       "<defs>\n",
       "  <clipPath id=\"clip160\">\n",
       "    <rect x=\"0\" y=\"0\" width=\"2400\" height=\"1600\"/>\n",
       "  </clipPath>\n",
       "</defs>\n",
       "<path clip-path=\"url(#clip160)\" d=\"M0 1600 L2400 1600 L2400 0 L0 0  Z\" fill=\"#ffffff\" fill-rule=\"evenodd\" fill-opacity=\"1\"/>\n",
       "<defs>\n",
       "  <clipPath id=\"clip161\">\n",
       "    <rect x=\"480\" y=\"0\" width=\"1681\" height=\"1600\"/>\n",
       "  </clipPath>\n",
       "</defs>\n",
       "<path clip-path=\"url(#clip160)\" d=\"M213.607 1486.45 L2352.76 1486.45 L2352.76 47.2441 L213.607 47.2441  Z\" fill=\"#ffffff\" fill-rule=\"evenodd\" fill-opacity=\"1\"/>\n",
       "<defs>\n",
       "  <clipPath id=\"clip162\">\n",
       "    <rect x=\"213\" y=\"47\" width=\"2140\" height=\"1440\"/>\n",
       "  </clipPath>\n",
       "</defs>\n",
       "<polyline clip-path=\"url(#clip162)\" style=\"stroke:#000000; stroke-linecap:round; stroke-linejoin:round; stroke-width:2; stroke-opacity:0.1; fill:none\" points=\"274.149,1486.45 274.149,47.2441 \"/>\n",
       "<polyline clip-path=\"url(#clip162)\" style=\"stroke:#000000; stroke-linecap:round; stroke-linejoin:round; stroke-width:2; stroke-opacity:0.1; fill:none\" points=\"946.838,1486.45 946.838,47.2441 \"/>\n",
       "<polyline clip-path=\"url(#clip162)\" style=\"stroke:#000000; stroke-linecap:round; stroke-linejoin:round; stroke-width:2; stroke-opacity:0.1; fill:none\" points=\"1619.53,1486.45 1619.53,47.2441 \"/>\n",
       "<polyline clip-path=\"url(#clip162)\" style=\"stroke:#000000; stroke-linecap:round; stroke-linejoin:round; stroke-width:2; stroke-opacity:0.1; fill:none\" points=\"2292.21,1486.45 2292.21,47.2441 \"/>\n",
       "<polyline clip-path=\"url(#clip160)\" style=\"stroke:#000000; stroke-linecap:round; stroke-linejoin:round; stroke-width:4; stroke-opacity:1; fill:none\" points=\"213.607,1486.45 2352.76,1486.45 \"/>\n",
       "<polyline clip-path=\"url(#clip160)\" style=\"stroke:#000000; stroke-linecap:round; stroke-linejoin:round; stroke-width:4; stroke-opacity:1; fill:none\" points=\"274.149,1486.45 274.149,1467.55 \"/>\n",
       "<polyline clip-path=\"url(#clip160)\" style=\"stroke:#000000; stroke-linecap:round; stroke-linejoin:round; stroke-width:4; stroke-opacity:1; fill:none\" points=\"946.838,1486.45 946.838,1467.55 \"/>\n",
       "<polyline clip-path=\"url(#clip160)\" style=\"stroke:#000000; stroke-linecap:round; stroke-linejoin:round; stroke-width:4; stroke-opacity:1; fill:none\" points=\"1619.53,1486.45 1619.53,1467.55 \"/>\n",
       "<polyline clip-path=\"url(#clip160)\" style=\"stroke:#000000; stroke-linecap:round; stroke-linejoin:round; stroke-width:4; stroke-opacity:1; fill:none\" points=\"2292.21,1486.45 2292.21,1467.55 \"/>\n",
       "<path clip-path=\"url(#clip160)\" d=\"M264.531 1544.91 L272.17 1544.91 L272.17 1518.55 L263.86 1520.21 L263.86 1515.95 L272.124 1514.29 L276.8 1514.29 L276.8 1544.91 L284.439 1544.91 L284.439 1548.85 L264.531 1548.85 L264.531 1544.91 Z\" fill=\"#000000\" fill-rule=\"nonzero\" fill-opacity=\"1\" /><path clip-path=\"url(#clip160)\" d=\"M941.49 1544.91 L957.81 1544.91 L957.81 1548.85 L935.865 1548.85 L935.865 1544.91 Q938.527 1542.16 943.111 1537.53 Q947.717 1532.88 948.898 1531.53 Q951.143 1529.01 952.023 1527.27 Q952.926 1525.51 952.926 1523.82 Q952.926 1521.07 950.981 1519.33 Q949.06 1517.6 945.958 1517.6 Q943.759 1517.6 941.305 1518.36 Q938.875 1519.13 936.097 1520.68 L936.097 1515.95 Q938.921 1514.82 941.375 1514.24 Q943.828 1513.66 945.865 1513.66 Q951.236 1513.66 954.43 1516.35 Q957.625 1519.03 957.625 1523.52 Q957.625 1525.65 956.814 1527.57 Q956.027 1529.47 953.921 1532.07 Q953.342 1532.74 950.24 1535.95 Q947.139 1539.15 941.49 1544.91 Z\" fill=\"#000000\" fill-rule=\"nonzero\" fill-opacity=\"1\" /><path clip-path=\"url(#clip160)\" d=\"M1623.77 1530.21 Q1627.13 1530.93 1629 1533.2 Q1630.9 1535.47 1630.9 1538.8 Q1630.9 1543.92 1627.38 1546.72 Q1623.87 1549.52 1617.38 1549.52 Q1615.21 1549.52 1612.89 1549.08 Q1610.6 1548.66 1608.15 1547.81 L1608.15 1543.29 Q1610.09 1544.43 1612.41 1545.01 Q1614.72 1545.58 1617.25 1545.58 Q1621.64 1545.58 1623.94 1543.85 Q1626.25 1542.11 1626.25 1538.8 Q1626.25 1535.75 1624.1 1534.03 Q1621.97 1532.3 1618.15 1532.3 L1614.12 1532.3 L1614.12 1528.45 L1618.33 1528.45 Q1621.78 1528.45 1623.61 1527.09 Q1625.44 1525.7 1625.44 1523.11 Q1625.44 1520.45 1623.54 1519.03 Q1621.67 1517.6 1618.15 1517.6 Q1616.23 1517.6 1614.03 1518.01 Q1611.83 1518.43 1609.19 1519.31 L1609.19 1515.14 Q1611.85 1514.4 1614.17 1514.03 Q1616.5 1513.66 1618.57 1513.66 Q1623.89 1513.66 1626.99 1516.09 Q1630.09 1518.5 1630.09 1522.62 Q1630.09 1525.49 1628.45 1527.48 Q1626.81 1529.45 1623.77 1530.21 Z\" fill=\"#000000\" fill-rule=\"nonzero\" fill-opacity=\"1\" /><path clip-path=\"url(#clip160)\" d=\"M2295.22 1518.36 L2283.42 1536.81 L2295.22 1536.81 L2295.22 1518.36 M2294 1514.29 L2299.88 1514.29 L2299.88 1536.81 L2304.81 1536.81 L2304.81 1540.7 L2299.88 1540.7 L2299.88 1548.85 L2295.22 1548.85 L2295.22 1540.7 L2279.62 1540.7 L2279.62 1536.19 L2294 1514.29 Z\" fill=\"#000000\" fill-rule=\"nonzero\" fill-opacity=\"1\" /><polyline clip-path=\"url(#clip162)\" style=\"stroke:#000000; stroke-linecap:round; stroke-linejoin:round; stroke-width:2; stroke-opacity:0.1; fill:none\" points=\"213.607,1220.17 2352.76,1220.17 \"/>\n",
       "<polyline clip-path=\"url(#clip162)\" style=\"stroke:#000000; stroke-linecap:round; stroke-linejoin:round; stroke-width:2; stroke-opacity:0.1; fill:none\" points=\"213.607,605.532 2352.76,605.532 \"/>\n",
       "<polyline clip-path=\"url(#clip160)\" style=\"stroke:#000000; stroke-linecap:round; stroke-linejoin:round; stroke-width:4; stroke-opacity:1; fill:none\" points=\"213.607,1486.45 213.607,47.2441 \"/>\n",
       "<polyline clip-path=\"url(#clip160)\" style=\"stroke:#000000; stroke-linecap:round; stroke-linejoin:round; stroke-width:4; stroke-opacity:1; fill:none\" points=\"213.607,1220.17 232.505,1220.17 \"/>\n",
       "<polyline clip-path=\"url(#clip160)\" style=\"stroke:#000000; stroke-linecap:round; stroke-linejoin:round; stroke-width:4; stroke-opacity:1; fill:none\" points=\"213.607,605.532 232.505,605.532 \"/>\n",
       "<path clip-path=\"url(#clip160)\" d=\"M51.6634 1239.96 L59.3023 1239.96 L59.3023 1213.59 L50.9921 1215.26 L50.9921 1211 L59.256 1209.34 L63.9319 1209.34 L63.9319 1239.96 L71.5707 1239.96 L71.5707 1243.9 L51.6634 1243.9 L51.6634 1239.96 Z\" fill=\"#000000\" fill-rule=\"nonzero\" fill-opacity=\"1\" /><path clip-path=\"url(#clip160)\" d=\"M91.0151 1212.41 Q87.404 1212.41 85.5753 1215.98 Q83.7697 1219.52 83.7697 1226.65 Q83.7697 1233.76 85.5753 1237.32 Q87.404 1240.86 91.0151 1240.86 Q94.6493 1240.86 96.4548 1237.32 Q98.2835 1233.76 98.2835 1226.65 Q98.2835 1219.52 96.4548 1215.98 Q94.6493 1212.41 91.0151 1212.41 M91.0151 1208.71 Q96.8252 1208.71 99.8808 1213.32 Q102.959 1217.9 102.959 1226.65 Q102.959 1235.38 99.8808 1239.98 Q96.8252 1244.57 91.0151 1244.57 Q85.2049 1244.57 82.1262 1239.98 Q79.0707 1235.38 79.0707 1226.65 Q79.0707 1217.9 82.1262 1213.32 Q85.2049 1208.71 91.0151 1208.71 Z\" fill=\"#000000\" fill-rule=\"nonzero\" fill-opacity=\"1\" /><path clip-path=\"url(#clip160)\" d=\"M102.959 1202.81 L127.071 1202.81 L127.071 1206.01 L102.959 1206.01 L102.959 1202.81 Z\" fill=\"#000000\" fill-rule=\"nonzero\" fill-opacity=\"1\" /><path clip-path=\"url(#clip160)\" d=\"M135.929 1213.29 L142.136 1213.29 L142.136 1191.87 L135.384 1193.22 L135.384 1189.76 L142.098 1188.41 L145.898 1188.41 L145.898 1213.29 L152.104 1213.29 L152.104 1216.49 L135.929 1216.49 L135.929 1213.29 Z\" fill=\"#000000\" fill-rule=\"nonzero\" fill-opacity=\"1\" /><path clip-path=\"url(#clip160)\" d=\"M167.903 1190.91 Q164.969 1190.91 163.483 1193.8 Q162.016 1196.68 162.016 1202.47 Q162.016 1208.25 163.483 1211.14 Q164.969 1214.02 167.903 1214.02 Q170.855 1214.02 172.322 1211.14 Q173.808 1208.25 173.808 1202.47 Q173.808 1196.68 172.322 1193.8 Q170.855 1190.91 167.903 1190.91 M167.903 1187.9 Q172.623 1187.9 175.106 1191.64 Q177.607 1195.36 177.607 1202.47 Q177.607 1209.56 175.106 1213.31 Q172.623 1217.03 167.903 1217.03 Q163.182 1217.03 160.68 1213.31 Q158.198 1209.56 158.198 1202.47 Q158.198 1195.36 160.68 1191.64 Q163.182 1187.9 167.903 1187.9 Z\" fill=\"#000000\" fill-rule=\"nonzero\" fill-opacity=\"1\" /><path clip-path=\"url(#clip160)\" d=\"M76.9787 625.324 L84.6175 625.324 L84.6175 598.959 L76.3074 600.625 L76.3074 596.366 L84.5712 594.699 L89.2471 594.699 L89.2471 625.324 L96.886 625.324 L96.886 629.259 L76.9787 629.259 L76.9787 625.324 Z\" fill=\"#000000\" fill-rule=\"nonzero\" fill-opacity=\"1\" /><path clip-path=\"url(#clip160)\" d=\"M116.33 597.778 Q112.719 597.778 110.891 601.343 Q109.085 604.885 109.085 612.014 Q109.085 619.121 110.891 622.685 Q112.719 626.227 116.33 626.227 Q119.965 626.227 121.77 622.685 Q123.599 619.121 123.599 612.014 Q123.599 604.885 121.77 601.343 Q119.965 597.778 116.33 597.778 M116.33 594.074 Q122.14 594.074 125.196 598.681 Q128.275 603.264 128.275 612.014 Q128.275 620.741 125.196 625.347 Q122.14 629.931 116.33 629.931 Q110.52 629.931 107.441 625.347 Q104.386 620.741 104.386 612.014 Q104.386 603.264 107.441 598.681 Q110.52 594.074 116.33 594.074 Z\" fill=\"#000000\" fill-rule=\"nonzero\" fill-opacity=\"1\" /><path clip-path=\"url(#clip160)\" d=\"M128.275 588.176 L152.386 588.176 L152.386 591.373 L128.275 591.373 L128.275 588.176 Z\" fill=\"#000000\" fill-rule=\"nonzero\" fill-opacity=\"1\" /><path clip-path=\"url(#clip160)\" d=\"M160.624 573.769 L175.539 573.769 L175.539 576.966 L164.103 576.966 L164.103 583.85 Q164.931 583.568 165.759 583.436 Q166.586 583.286 167.414 583.286 Q172.116 583.286 174.862 585.862 Q177.607 588.439 177.607 592.84 Q177.607 597.373 174.786 599.893 Q171.965 602.394 166.831 602.394 Q165.063 602.394 163.22 602.093 Q161.395 601.793 159.439 601.191 L159.439 597.373 Q161.132 598.294 162.937 598.746 Q164.743 599.197 166.755 599.197 Q170.009 599.197 171.909 597.486 Q173.808 595.774 173.808 592.84 Q173.808 589.906 171.909 588.195 Q170.009 586.483 166.755 586.483 Q165.232 586.483 163.709 586.822 Q162.204 587.16 160.624 587.875 L160.624 573.769 Z\" fill=\"#000000\" fill-rule=\"nonzero\" fill-opacity=\"1\" /><polyline clip-path=\"url(#clip162)\" style=\"stroke:#009af9; stroke-linecap:round; stroke-linejoin:round; stroke-width:4; stroke-opacity:1; fill:none\" points=\"274.149,87.9763 946.838,280.713 1619.53,669.073 2292.21,1445.72 \"/>\n",
       "<path clip-path=\"url(#clip162)\" d=\"M274.149 103.976 L262.837 99.2883 L258.149 87.9763 L262.837 76.6643 L274.149 71.9763 L285.461 76.6643 L290.149 87.9763 L285.461 99.2883 Z\" fill=\"#009af9\" fill-rule=\"evenodd\" fill-opacity=\"1\" stroke=\"#000000\" stroke-opacity=\"1\" stroke-width=\"3.2\"/>\n",
       "<path clip-path=\"url(#clip162)\" d=\"M946.838 296.713 L935.526 292.025 L930.838 280.713 L935.526 269.401 L946.838 264.713 L958.15 269.401 L962.838 280.713 L958.15 292.025 Z\" fill=\"#009af9\" fill-rule=\"evenodd\" fill-opacity=\"1\" stroke=\"#000000\" stroke-opacity=\"1\" stroke-width=\"3.2\"/>\n",
       "<path clip-path=\"url(#clip162)\" d=\"M1619.53 685.073 L1608.21 680.385 L1603.53 669.073 L1608.21 657.761 L1619.53 653.073 L1630.84 657.761 L1635.53 669.073 L1630.84 680.385 Z\" fill=\"#009af9\" fill-rule=\"evenodd\" fill-opacity=\"1\" stroke=\"#000000\" stroke-opacity=\"1\" stroke-width=\"3.2\"/>\n",
       "<path clip-path=\"url(#clip162)\" d=\"M2292.21 1461.72 L2280.9 1457.03 L2276.21 1445.72 L2280.9 1434.4 L2292.21 1429.72 L2303.53 1434.4 L2308.21 1445.72 L2303.53 1457.03 Z\" fill=\"#009af9\" fill-rule=\"evenodd\" fill-opacity=\"1\" stroke=\"#000000\" stroke-opacity=\"1\" stroke-width=\"3.2\"/>\n",
       "<path clip-path=\"url(#clip160)\" d=\"M2015.11 198.898 L2281.45 198.898 L2281.45 95.2176 L2015.11 95.2176  Z\" fill=\"#ffffff\" fill-rule=\"evenodd\" fill-opacity=\"1\"/>\n",
       "<polyline clip-path=\"url(#clip160)\" style=\"stroke:#000000; stroke-linecap:round; stroke-linejoin:round; stroke-width:4; stroke-opacity:1; fill:none\" points=\"2015.11,198.898 2281.45,198.898 2281.45,95.2176 2015.11,95.2176 2015.11,198.898 \"/>\n",
       "<polyline clip-path=\"url(#clip160)\" style=\"stroke:#009af9; stroke-linecap:round; stroke-linejoin:round; stroke-width:4; stroke-opacity:1; fill:none\" points=\"2038.87,147.058 2181.48,147.058 \"/>\n",
       "<path clip-path=\"url(#clip160)\" d=\"M2110.18 169.065 L2094.62 162.617 L2088.17 147.058 L2094.62 131.498 L2110.18 125.05 L2125.74 131.498 L2132.19 147.058 L2125.74 162.617 Z\" fill=\"#009af9\" fill-rule=\"evenodd\" fill-opacity=\"1\" stroke=\"#000000\" stroke-opacity=\"1\" stroke-width=\"4.55111\"/>\n",
       "<path clip-path=\"url(#clip160)\" d=\"M2219.09 166.745 Q2217.29 171.375 2215.58 172.787 Q2213.86 174.199 2210.99 174.199 L2207.59 174.199 L2207.59 170.634 L2210.09 170.634 Q2211.85 170.634 2212.82 169.8 Q2213.79 168.967 2214.97 165.865 L2215.74 163.921 L2205.25 138.412 L2209.77 138.412 L2217.87 158.689 L2225.97 138.412 L2230.48 138.412 L2219.09 166.745 Z\" fill=\"#000000\" fill-rule=\"nonzero\" fill-opacity=\"1\" /><path clip-path=\"url(#clip160)\" d=\"M2237.78 160.402 L2245.41 160.402 L2245.41 134.037 L2237.1 135.703 L2237.1 131.444 L2245.37 129.778 L2250.04 129.778 L2250.04 160.402 L2257.68 160.402 L2257.68 164.338 L2237.78 164.338 L2237.78 160.402 Z\" fill=\"#000000\" fill-rule=\"nonzero\" fill-opacity=\"1\" /></svg>\n"
      ],
      "text/html": [
       "<?xml version=\"1.0\" encoding=\"utf-8\"?>\n",
       "<svg xmlns=\"http://www.w3.org/2000/svg\" xmlns:xlink=\"http://www.w3.org/1999/xlink\" width=\"600\" height=\"400\" viewBox=\"0 0 2400 1600\">\n",
       "<defs>\n",
       "  <clipPath id=\"clip210\">\n",
       "    <rect x=\"0\" y=\"0\" width=\"2400\" height=\"1600\"/>\n",
       "  </clipPath>\n",
       "</defs>\n",
       "<path clip-path=\"url(#clip210)\" d=\"M0 1600 L2400 1600 L2400 0 L0 0  Z\" fill=\"#ffffff\" fill-rule=\"evenodd\" fill-opacity=\"1\"/>\n",
       "<defs>\n",
       "  <clipPath id=\"clip211\">\n",
       "    <rect x=\"480\" y=\"0\" width=\"1681\" height=\"1600\"/>\n",
       "  </clipPath>\n",
       "</defs>\n",
       "<path clip-path=\"url(#clip210)\" d=\"M213.607 1486.45 L2352.76 1486.45 L2352.76 47.2441 L213.607 47.2441  Z\" fill=\"#ffffff\" fill-rule=\"evenodd\" fill-opacity=\"1\"/>\n",
       "<defs>\n",
       "  <clipPath id=\"clip212\">\n",
       "    <rect x=\"213\" y=\"47\" width=\"2140\" height=\"1440\"/>\n",
       "  </clipPath>\n",
       "</defs>\n",
       "<polyline clip-path=\"url(#clip212)\" style=\"stroke:#000000; stroke-linecap:round; stroke-linejoin:round; stroke-width:2; stroke-opacity:0.1; fill:none\" points=\"274.149,1486.45 274.149,47.2441 \"/>\n",
       "<polyline clip-path=\"url(#clip212)\" style=\"stroke:#000000; stroke-linecap:round; stroke-linejoin:round; stroke-width:2; stroke-opacity:0.1; fill:none\" points=\"946.838,1486.45 946.838,47.2441 \"/>\n",
       "<polyline clip-path=\"url(#clip212)\" style=\"stroke:#000000; stroke-linecap:round; stroke-linejoin:round; stroke-width:2; stroke-opacity:0.1; fill:none\" points=\"1619.53,1486.45 1619.53,47.2441 \"/>\n",
       "<polyline clip-path=\"url(#clip212)\" style=\"stroke:#000000; stroke-linecap:round; stroke-linejoin:round; stroke-width:2; stroke-opacity:0.1; fill:none\" points=\"2292.21,1486.45 2292.21,47.2441 \"/>\n",
       "<polyline clip-path=\"url(#clip210)\" style=\"stroke:#000000; stroke-linecap:round; stroke-linejoin:round; stroke-width:4; stroke-opacity:1; fill:none\" points=\"213.607,1486.45 2352.76,1486.45 \"/>\n",
       "<polyline clip-path=\"url(#clip210)\" style=\"stroke:#000000; stroke-linecap:round; stroke-linejoin:round; stroke-width:4; stroke-opacity:1; fill:none\" points=\"274.149,1486.45 274.149,1467.55 \"/>\n",
       "<polyline clip-path=\"url(#clip210)\" style=\"stroke:#000000; stroke-linecap:round; stroke-linejoin:round; stroke-width:4; stroke-opacity:1; fill:none\" points=\"946.838,1486.45 946.838,1467.55 \"/>\n",
       "<polyline clip-path=\"url(#clip210)\" style=\"stroke:#000000; stroke-linecap:round; stroke-linejoin:round; stroke-width:4; stroke-opacity:1; fill:none\" points=\"1619.53,1486.45 1619.53,1467.55 \"/>\n",
       "<polyline clip-path=\"url(#clip210)\" style=\"stroke:#000000; stroke-linecap:round; stroke-linejoin:round; stroke-width:4; stroke-opacity:1; fill:none\" points=\"2292.21,1486.45 2292.21,1467.55 \"/>\n",
       "<path clip-path=\"url(#clip210)\" d=\"M264.531 1544.91 L272.17 1544.91 L272.17 1518.55 L263.86 1520.21 L263.86 1515.95 L272.124 1514.29 L276.8 1514.29 L276.8 1544.91 L284.439 1544.91 L284.439 1548.85 L264.531 1548.85 L264.531 1544.91 Z\" fill=\"#000000\" fill-rule=\"nonzero\" fill-opacity=\"1\" /><path clip-path=\"url(#clip210)\" d=\"M941.49 1544.91 L957.81 1544.91 L957.81 1548.85 L935.865 1548.85 L935.865 1544.91 Q938.527 1542.16 943.111 1537.53 Q947.717 1532.88 948.898 1531.53 Q951.143 1529.01 952.023 1527.27 Q952.926 1525.51 952.926 1523.82 Q952.926 1521.07 950.981 1519.33 Q949.06 1517.6 945.958 1517.6 Q943.759 1517.6 941.305 1518.36 Q938.875 1519.13 936.097 1520.68 L936.097 1515.95 Q938.921 1514.82 941.375 1514.24 Q943.828 1513.66 945.865 1513.66 Q951.236 1513.66 954.43 1516.35 Q957.625 1519.03 957.625 1523.52 Q957.625 1525.65 956.814 1527.57 Q956.027 1529.47 953.921 1532.07 Q953.342 1532.74 950.24 1535.95 Q947.139 1539.15 941.49 1544.91 Z\" fill=\"#000000\" fill-rule=\"nonzero\" fill-opacity=\"1\" /><path clip-path=\"url(#clip210)\" d=\"M1623.77 1530.21 Q1627.13 1530.93 1629 1533.2 Q1630.9 1535.47 1630.9 1538.8 Q1630.9 1543.92 1627.38 1546.72 Q1623.87 1549.52 1617.38 1549.52 Q1615.21 1549.52 1612.89 1549.08 Q1610.6 1548.66 1608.15 1547.81 L1608.15 1543.29 Q1610.09 1544.43 1612.41 1545.01 Q1614.72 1545.58 1617.25 1545.58 Q1621.64 1545.58 1623.94 1543.85 Q1626.25 1542.11 1626.25 1538.8 Q1626.25 1535.75 1624.1 1534.03 Q1621.97 1532.3 1618.15 1532.3 L1614.12 1532.3 L1614.12 1528.45 L1618.33 1528.45 Q1621.78 1528.45 1623.61 1527.09 Q1625.44 1525.7 1625.44 1523.11 Q1625.44 1520.45 1623.54 1519.03 Q1621.67 1517.6 1618.15 1517.6 Q1616.23 1517.6 1614.03 1518.01 Q1611.83 1518.43 1609.19 1519.31 L1609.19 1515.14 Q1611.85 1514.4 1614.17 1514.03 Q1616.5 1513.66 1618.57 1513.66 Q1623.89 1513.66 1626.99 1516.09 Q1630.09 1518.5 1630.09 1522.62 Q1630.09 1525.49 1628.45 1527.48 Q1626.81 1529.45 1623.77 1530.21 Z\" fill=\"#000000\" fill-rule=\"nonzero\" fill-opacity=\"1\" /><path clip-path=\"url(#clip210)\" d=\"M2295.22 1518.36 L2283.42 1536.81 L2295.22 1536.81 L2295.22 1518.36 M2294 1514.29 L2299.88 1514.29 L2299.88 1536.81 L2304.81 1536.81 L2304.81 1540.7 L2299.88 1540.7 L2299.88 1548.85 L2295.22 1548.85 L2295.22 1540.7 L2279.62 1540.7 L2279.62 1536.19 L2294 1514.29 Z\" fill=\"#000000\" fill-rule=\"nonzero\" fill-opacity=\"1\" /><polyline clip-path=\"url(#clip212)\" style=\"stroke:#000000; stroke-linecap:round; stroke-linejoin:round; stroke-width:2; stroke-opacity:0.1; fill:none\" points=\"213.607,1220.17 2352.76,1220.17 \"/>\n",
       "<polyline clip-path=\"url(#clip212)\" style=\"stroke:#000000; stroke-linecap:round; stroke-linejoin:round; stroke-width:2; stroke-opacity:0.1; fill:none\" points=\"213.607,605.532 2352.76,605.532 \"/>\n",
       "<polyline clip-path=\"url(#clip210)\" style=\"stroke:#000000; stroke-linecap:round; stroke-linejoin:round; stroke-width:4; stroke-opacity:1; fill:none\" points=\"213.607,1486.45 213.607,47.2441 \"/>\n",
       "<polyline clip-path=\"url(#clip210)\" style=\"stroke:#000000; stroke-linecap:round; stroke-linejoin:round; stroke-width:4; stroke-opacity:1; fill:none\" points=\"213.607,1220.17 232.505,1220.17 \"/>\n",
       "<polyline clip-path=\"url(#clip210)\" style=\"stroke:#000000; stroke-linecap:round; stroke-linejoin:round; stroke-width:4; stroke-opacity:1; fill:none\" points=\"213.607,605.532 232.505,605.532 \"/>\n",
       "<path clip-path=\"url(#clip210)\" d=\"M51.6634 1239.96 L59.3023 1239.96 L59.3023 1213.59 L50.9921 1215.26 L50.9921 1211 L59.256 1209.34 L63.9319 1209.34 L63.9319 1239.96 L71.5707 1239.96 L71.5707 1243.9 L51.6634 1243.9 L51.6634 1239.96 Z\" fill=\"#000000\" fill-rule=\"nonzero\" fill-opacity=\"1\" /><path clip-path=\"url(#clip210)\" d=\"M91.0151 1212.41 Q87.404 1212.41 85.5753 1215.98 Q83.7697 1219.52 83.7697 1226.65 Q83.7697 1233.76 85.5753 1237.32 Q87.404 1240.86 91.0151 1240.86 Q94.6493 1240.86 96.4548 1237.32 Q98.2835 1233.76 98.2835 1226.65 Q98.2835 1219.52 96.4548 1215.98 Q94.6493 1212.41 91.0151 1212.41 M91.0151 1208.71 Q96.8252 1208.71 99.8808 1213.32 Q102.959 1217.9 102.959 1226.65 Q102.959 1235.38 99.8808 1239.98 Q96.8252 1244.57 91.0151 1244.57 Q85.2049 1244.57 82.1262 1239.98 Q79.0707 1235.38 79.0707 1226.65 Q79.0707 1217.9 82.1262 1213.32 Q85.2049 1208.71 91.0151 1208.71 Z\" fill=\"#000000\" fill-rule=\"nonzero\" fill-opacity=\"1\" /><path clip-path=\"url(#clip210)\" d=\"M102.959 1202.81 L127.071 1202.81 L127.071 1206.01 L102.959 1206.01 L102.959 1202.81 Z\" fill=\"#000000\" fill-rule=\"nonzero\" fill-opacity=\"1\" /><path clip-path=\"url(#clip210)\" d=\"M135.929 1213.29 L142.136 1213.29 L142.136 1191.87 L135.384 1193.22 L135.384 1189.76 L142.098 1188.41 L145.898 1188.41 L145.898 1213.29 L152.104 1213.29 L152.104 1216.49 L135.929 1216.49 L135.929 1213.29 Z\" fill=\"#000000\" fill-rule=\"nonzero\" fill-opacity=\"1\" /><path clip-path=\"url(#clip210)\" d=\"M167.903 1190.91 Q164.969 1190.91 163.483 1193.8 Q162.016 1196.68 162.016 1202.47 Q162.016 1208.25 163.483 1211.14 Q164.969 1214.02 167.903 1214.02 Q170.855 1214.02 172.322 1211.14 Q173.808 1208.25 173.808 1202.47 Q173.808 1196.68 172.322 1193.8 Q170.855 1190.91 167.903 1190.91 M167.903 1187.9 Q172.623 1187.9 175.106 1191.64 Q177.607 1195.36 177.607 1202.47 Q177.607 1209.56 175.106 1213.31 Q172.623 1217.03 167.903 1217.03 Q163.182 1217.03 160.68 1213.31 Q158.198 1209.56 158.198 1202.47 Q158.198 1195.36 160.68 1191.64 Q163.182 1187.9 167.903 1187.9 Z\" fill=\"#000000\" fill-rule=\"nonzero\" fill-opacity=\"1\" /><path clip-path=\"url(#clip210)\" d=\"M76.9787 625.324 L84.6175 625.324 L84.6175 598.959 L76.3074 600.625 L76.3074 596.366 L84.5712 594.699 L89.2471 594.699 L89.2471 625.324 L96.886 625.324 L96.886 629.259 L76.9787 629.259 L76.9787 625.324 Z\" fill=\"#000000\" fill-rule=\"nonzero\" fill-opacity=\"1\" /><path clip-path=\"url(#clip210)\" d=\"M116.33 597.778 Q112.719 597.778 110.891 601.343 Q109.085 604.885 109.085 612.014 Q109.085 619.121 110.891 622.685 Q112.719 626.227 116.33 626.227 Q119.965 626.227 121.77 622.685 Q123.599 619.121 123.599 612.014 Q123.599 604.885 121.77 601.343 Q119.965 597.778 116.33 597.778 M116.33 594.074 Q122.14 594.074 125.196 598.681 Q128.275 603.264 128.275 612.014 Q128.275 620.741 125.196 625.347 Q122.14 629.931 116.33 629.931 Q110.52 629.931 107.441 625.347 Q104.386 620.741 104.386 612.014 Q104.386 603.264 107.441 598.681 Q110.52 594.074 116.33 594.074 Z\" fill=\"#000000\" fill-rule=\"nonzero\" fill-opacity=\"1\" /><path clip-path=\"url(#clip210)\" d=\"M128.275 588.176 L152.386 588.176 L152.386 591.373 L128.275 591.373 L128.275 588.176 Z\" fill=\"#000000\" fill-rule=\"nonzero\" fill-opacity=\"1\" /><path clip-path=\"url(#clip210)\" d=\"M160.624 573.769 L175.539 573.769 L175.539 576.966 L164.103 576.966 L164.103 583.85 Q164.931 583.568 165.759 583.436 Q166.586 583.286 167.414 583.286 Q172.116 583.286 174.862 585.862 Q177.607 588.439 177.607 592.84 Q177.607 597.373 174.786 599.893 Q171.965 602.394 166.831 602.394 Q165.063 602.394 163.22 602.093 Q161.395 601.793 159.439 601.191 L159.439 597.373 Q161.132 598.294 162.937 598.746 Q164.743 599.197 166.755 599.197 Q170.009 599.197 171.909 597.486 Q173.808 595.774 173.808 592.84 Q173.808 589.906 171.909 588.195 Q170.009 586.483 166.755 586.483 Q165.232 586.483 163.709 586.822 Q162.204 587.16 160.624 587.875 L160.624 573.769 Z\" fill=\"#000000\" fill-rule=\"nonzero\" fill-opacity=\"1\" /><polyline clip-path=\"url(#clip212)\" style=\"stroke:#009af9; stroke-linecap:round; stroke-linejoin:round; stroke-width:4; stroke-opacity:1; fill:none\" points=\"274.149,87.9763 946.838,280.713 1619.53,669.073 2292.21,1445.72 \"/>\n",
       "<path clip-path=\"url(#clip212)\" d=\"M274.149 103.976 L262.837 99.2883 L258.149 87.9763 L262.837 76.6643 L274.149 71.9763 L285.461 76.6643 L290.149 87.9763 L285.461 99.2883 Z\" fill=\"#009af9\" fill-rule=\"evenodd\" fill-opacity=\"1\" stroke=\"#000000\" stroke-opacity=\"1\" stroke-width=\"3.2\"/>\n",
       "<path clip-path=\"url(#clip212)\" d=\"M946.838 296.713 L935.526 292.025 L930.838 280.713 L935.526 269.401 L946.838 264.713 L958.15 269.401 L962.838 280.713 L958.15 292.025 Z\" fill=\"#009af9\" fill-rule=\"evenodd\" fill-opacity=\"1\" stroke=\"#000000\" stroke-opacity=\"1\" stroke-width=\"3.2\"/>\n",
       "<path clip-path=\"url(#clip212)\" d=\"M1619.53 685.073 L1608.21 680.385 L1603.53 669.073 L1608.21 657.761 L1619.53 653.073 L1630.84 657.761 L1635.53 669.073 L1630.84 680.385 Z\" fill=\"#009af9\" fill-rule=\"evenodd\" fill-opacity=\"1\" stroke=\"#000000\" stroke-opacity=\"1\" stroke-width=\"3.2\"/>\n",
       "<path clip-path=\"url(#clip212)\" d=\"M2292.21 1461.72 L2280.9 1457.03 L2276.21 1445.72 L2280.9 1434.4 L2292.21 1429.72 L2303.53 1434.4 L2308.21 1445.72 L2303.53 1457.03 Z\" fill=\"#009af9\" fill-rule=\"evenodd\" fill-opacity=\"1\" stroke=\"#000000\" stroke-opacity=\"1\" stroke-width=\"3.2\"/>\n",
       "<path clip-path=\"url(#clip210)\" d=\"M2015.11 198.898 L2281.45 198.898 L2281.45 95.2176 L2015.11 95.2176  Z\" fill=\"#ffffff\" fill-rule=\"evenodd\" fill-opacity=\"1\"/>\n",
       "<polyline clip-path=\"url(#clip210)\" style=\"stroke:#000000; stroke-linecap:round; stroke-linejoin:round; stroke-width:4; stroke-opacity:1; fill:none\" points=\"2015.11,198.898 2281.45,198.898 2281.45,95.2176 2015.11,95.2176 2015.11,198.898 \"/>\n",
       "<polyline clip-path=\"url(#clip210)\" style=\"stroke:#009af9; stroke-linecap:round; stroke-linejoin:round; stroke-width:4; stroke-opacity:1; fill:none\" points=\"2038.87,147.058 2181.48,147.058 \"/>\n",
       "<path clip-path=\"url(#clip210)\" d=\"M2110.18 169.065 L2094.62 162.617 L2088.17 147.058 L2094.62 131.498 L2110.18 125.05 L2125.74 131.498 L2132.19 147.058 L2125.74 162.617 Z\" fill=\"#009af9\" fill-rule=\"evenodd\" fill-opacity=\"1\" stroke=\"#000000\" stroke-opacity=\"1\" stroke-width=\"4.55111\"/>\n",
       "<path clip-path=\"url(#clip210)\" d=\"M2219.09 166.745 Q2217.29 171.375 2215.58 172.787 Q2213.86 174.199 2210.99 174.199 L2207.59 174.199 L2207.59 170.634 L2210.09 170.634 Q2211.85 170.634 2212.82 169.8 Q2213.79 168.967 2214.97 165.865 L2215.74 163.921 L2205.25 138.412 L2209.77 138.412 L2217.87 158.689 L2225.97 138.412 L2230.48 138.412 L2219.09 166.745 Z\" fill=\"#000000\" fill-rule=\"nonzero\" fill-opacity=\"1\" /><path clip-path=\"url(#clip210)\" d=\"M2237.78 160.402 L2245.41 160.402 L2245.41 134.037 L2237.1 135.703 L2237.1 131.444 L2245.37 129.778 L2250.04 129.778 L2250.04 160.402 L2257.68 160.402 L2257.68 164.338 L2237.78 164.338 L2237.78 160.402 Z\" fill=\"#000000\" fill-rule=\"nonzero\" fill-opacity=\"1\" /></svg>\n"
      ]
     },
     "execution_count": 41,
     "metadata": {},
     "output_type": "execute_result"
    }
   ],
   "source": [
    "plot(δn, m=:o, yscale=:log10)"
   ]
  },
  {
   "cell_type": "markdown",
   "id": "de102148",
   "metadata": {},
   "source": [
    "## Compare to the BiSection algorithm\n",
    "\n",
    "From the iteration counts and the graph of the bisection algorithm with yscale=:log10, it can be concluded that the Babylonian algorithm is better.\n",
    "\n",
    "$$\n",
    "\\delta_n = x_n - x^* \\\\\n",
    "\\Rightarrow x_n = \\delta_n + x^*\n",
    "$$\n",
    "where $x_n > 0$"
   ]
  },
  {
   "cell_type": "code",
   "execution_count": null,
   "id": "8ca17718",
   "metadata": {},
   "outputs": [],
   "source": []
  }
 ],
 "metadata": {
  "kernelspec": {
   "display_name": "Julia 1.9.0",
   "language": "julia",
   "name": "julia-1.9"
  },
  "language_info": {
   "file_extension": ".jl",
   "mimetype": "application/julia",
   "name": "julia",
   "version": "1.9.0"
  }
 },
 "nbformat": 4,
 "nbformat_minor": 5
}
