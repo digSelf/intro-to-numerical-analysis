{
 "cells": [
  {
   "cell_type": "code",
   "execution_count": null,
   "id": "b263b857",
   "metadata": {},
   "outputs": [],
   "source": [
    "] add BenchmarkTools"
   ]
  },
  {
   "cell_type": "code",
   "execution_count": null,
   "id": "72d1cec1",
   "metadata": {},
   "outputs": [],
   "source": [
    "using BenchmarkTools"
   ]
  },
  {
   "cell_type": "markdown",
   "id": "f445a571",
   "metadata": {},
   "source": [
    "# Problem 1: Evaluating Polynomials\n",
    "## Two-methods to evaluate polynomials"
   ]
  },
  {
   "cell_type": "markdown",
   "id": "244785f7",
   "metadata": {},
   "source": [
    "The naive way to evaluate $p(a, x) = a_0 + a_1x_1 + \\cdots + a_nx^n$"
   ]
  },
  {
   "cell_type": "code",
   "execution_count": null,
   "id": "b377e722",
   "metadata": {},
   "outputs": [],
   "source": [
    "# use for loopt\n",
    "function poly_eval(a, x)  # a is the vector of coefﬁcients.\n",
    "    p = a[1]\n",
    "    for i in 2:length(a)\n",
    "        p += a[i] * x^(i - 1)\n",
    "    end\n",
    "    return p\n",
    "end"
   ]
  },
  {
   "cell_type": "code",
   "execution_count": null,
   "id": "fd2a9392",
   "metadata": {},
   "outputs": [],
   "source": [
    "a = [1, 2, 3, 4, 5]\n",
    "x = 1\n",
    "\n",
    "# p(a, 2) = 1 + 2 * 2 + 3 * 2^2\n",
    "poly_eval(a, x)"
   ]
  },
  {
   "cell_type": "markdown",
   "id": "427f14c5",
   "metadata": {},
   "source": [
    "Horner method  \n",
    "\n",
    "if the order is 0:\n",
    "$$\n",
    "p_0(x) = a_0\n",
    "$$\n",
    "\n",
    "if the order is 1:\n",
    "$$\n",
    "p_1(x) = a_1x + a_0\n",
    "$$\n",
    "\n",
    "if the order is 2:\n",
    "$$\n",
    "p_2(x) = a_2x^2 + a_1x + a_0 = x(a_2x + a_1) + a_0\n",
    "$$\n",
    "\n",
    "if the order is 3:\n",
    "$$\n",
    "p_3(x) = a_3x^3 + a_2x^2 + a_1x + a_0 = x(a_3x^2 + a_2x + a_1) + a_0 = x[x(a_3x + a_2) + a_1] + a_0\n",
    "$$\n",
    "\n",
    "if the order is 4:\n",
    "$$\n",
    "p_4(x) = a_4x^4 + a_3x^3 + \\cdots + a_1x + a_0 = x(a_4x^3 + a_3x^2 + \\cdots + a_1) + a_0 = x\\{x[x(a_4x + a_3) + a_2] + a_1 \\} + a_0\n",
    "$$\n",
    "\n",
    "if the order is n:\n",
    "$$\n",
    "p_n(x) = a_nx^n + a_{n-1}x^{n-1} + \\cdots + a_1x + a_0\n",
    "$$"
   ]
  },
  {
   "cell_type": "code",
   "execution_count": null,
   "id": "714e9093",
   "metadata": {},
   "outputs": [],
   "source": [
    "function horner(a, x)   \n",
    "    if length(a) == 0\n",
    "        error(\"a must not be empty\")\n",
    "    end\n",
    "    \n",
    "    p = a[end]\n",
    "    for i in length(a) - 1: -1: 1  # start:step: stop\n",
    "        p = p * x + a[i]\n",
    "    end\n",
    "    return p\n",
    "end"
   ]
  },
  {
   "cell_type": "code",
   "execution_count": null,
   "id": "bb1a331d",
   "metadata": {},
   "outputs": [],
   "source": [
    "a = [1, 2, 3, 4, 5]\n",
    "x = 3\n",
    "\n",
    "# p(a, 2) = 1 + 2 * 2 + 3 * 2^2 = 17\n",
    "# p(a, 1) = 1 + 2 * 1 + 3 * 1 = 6\n",
    "horner(a, x)"
   ]
  },
  {
   "cell_type": "markdown",
   "id": "96caec49",
   "metadata": {},
   "source": [
    "## Benchmark the two methods\n",
    "\n",
    "The target polynomial is shown as follows:\n",
    "$$\n",
    "p(x) = 1 + 2x + 3x^2 + \\cdots + 10x^{10}\n",
    "$$\n",
    "\n",
    "Which algorithm is more efﬁcient and by how much?\n",
    "\n",
    "1. random generate 1000 points\n",
    "2. plot the distance"
   ]
  },
  {
   "cell_type": "code",
   "execution_count": null,
   "id": "0e39bdce",
   "metadata": {},
   "outputs": [],
   "source": [
    "using Random\n",
    "Random.seed!(1234) # set the random seed for reproducibility"
   ]
  },
  {
   "cell_type": "code",
   "execution_count": null,
   "id": "88a2025d",
   "metadata": {},
   "outputs": [],
   "source": [
    "# make a test\n",
    "test_a = rand(10)\n",
    "for x in 1:10\n",
    "    @assert(abs(poly_eval(test_a, x) - horner(test_a, x)) < 1e-5)\n",
    "end"
   ]
  },
  {
   "cell_type": "code",
   "execution_count": null,
   "id": "cfe5397c",
   "metadata": {},
   "outputs": [],
   "source": [
    "a = 1:10"
   ]
  },
  {
   "cell_type": "code",
   "execution_count": null,
   "id": "287e2637",
   "metadata": {},
   "outputs": [],
   "source": [
    "@btime for i in 1:1000\n",
    "    poly_eval($a, 4)\n",
    "end"
   ]
  },
  {
   "cell_type": "code",
   "execution_count": null,
   "id": "4d063820",
   "metadata": {},
   "outputs": [],
   "source": [
    "@btime for i in 1:1000\n",
    "    horner($a, 4)\n",
    "end"
   ]
  }
 ],
 "metadata": {
  "kernelspec": {
   "display_name": "Julia 1.9.0",
   "language": "julia",
   "name": "julia-1.9"
  },
  "language_info": {
   "file_extension": ".jl",
   "mimetype": "application/julia",
   "name": "julia",
   "version": "1.9.0"
  }
 },
 "nbformat": 4,
 "nbformat_minor": 5
}
