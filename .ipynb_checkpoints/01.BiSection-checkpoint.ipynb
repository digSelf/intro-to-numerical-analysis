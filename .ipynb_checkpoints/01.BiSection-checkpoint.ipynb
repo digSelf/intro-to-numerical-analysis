{
 "cells": [
  {
   "cell_type": "markdown",
   "id": "7fefec25",
   "metadata": {},
   "source": [
    "# BiSection\n",
    "\n",
    "We want to solve the equation $f(x) = 0$."
   ]
  },
  {
   "cell_type": "code",
   "execution_count": 1,
   "id": "2eb61a4f",
   "metadata": {},
   "outputs": [
    {
     "data": {
      "text/plain": [
       "BiSection"
      ]
     },
     "execution_count": 1,
     "metadata": {},
     "output_type": "execute_result"
    }
   ],
   "source": [
    "\"\"\"\n",
    "Use BiSection algorithm to find the root of the function \\$f(x)\\$ between \\$(a, b)\\$.\n",
    "\"\"\"\n",
    "function BiSection(f, a, b)\n",
    "    \n",
    "end "
   ]
  },
  {
   "cell_type": "code",
   "execution_count": 2,
   "id": "f7764562",
   "metadata": {},
   "outputs": [
    {
     "data": {
      "text/latex": [
       "Use BiSection algorithm to find the root of the function $f(x)$ between $(a, b)$.\n",
       "\n"
      ],
      "text/markdown": [
       "Use BiSection algorithm to find the root of the function $f(x)$ between $(a, b)$.\n"
      ],
      "text/plain": [
       "  Use BiSection algorithm to find the root of the function \u001b[35mf(x)\u001b[39m between \u001b[35m(a,\n",
       "  b)\u001b[39m."
      ]
     },
     "execution_count": 2,
     "metadata": {},
     "output_type": "execute_result"
    }
   ],
   "source": [
    "@doc BiSection"
   ]
  },
  {
   "cell_type": "code",
   "execution_count": 3,
   "id": "4f18a9e5",
   "metadata": {},
   "outputs": [
    {
     "name": "stdout",
     "output_type": "stream",
     "text": [
      "search: \u001b[0m\u001b[1mB\u001b[22m\u001b[0m\u001b[1mi\u001b[22m\u001b[0m\u001b[1mS\u001b[22m\u001b[0m\u001b[1me\u001b[22m\u001b[0m\u001b[1mc\u001b[22m\u001b[0m\u001b[1mt\u001b[22m\u001b[0m\u001b[1mi\u001b[22m\u001b[0m\u001b[1mo\u001b[22m\u001b[0m\u001b[1mn\u001b[22m\n",
      "\n"
     ]
    },
    {
     "data": {
      "text/latex": [
       "Use BiSection algorithm to find the root of the function $f(x)$ between $(a, b)$.\n",
       "\n"
      ],
      "text/markdown": [
       "Use BiSection algorithm to find the root of the function $f(x)$ between $(a, b)$.\n"
      ],
      "text/plain": [
       "  Use BiSection algorithm to find the root of the function \u001b[35mf(x)\u001b[39m between \u001b[35m(a,\n",
       "  b)\u001b[39m."
      ]
     },
     "execution_count": 3,
     "metadata": {},
     "output_type": "execute_result"
    }
   ],
   "source": [
    "?BiSection"
   ]
  },
  {
   "cell_type": "code",
   "execution_count": 19,
   "id": "0d871572",
   "metadata": {},
   "outputs": [
    {
     "data": {
      "text/plain": [
       "binarySearch (generic function with 1 method)"
      ]
     },
     "execution_count": 19,
     "metadata": {},
     "output_type": "execute_result"
    }
   ],
   "source": [
    "function BiSection(f, a, b)\n",
    "    if sign(f(a)) == sign(f(b))\n",
    "        error(\"Must be different signs\")\n",
    "    end\n",
    "end "
   ]
  },
  {
   "cell_type": "code",
   "execution_count": 4,
   "id": "29f6bb98",
   "metadata": {},
   "outputs": [
    {
     "name": "stdout",
     "output_type": "stream",
     "text": [
      "search: \u001b[0m\u001b[1me\u001b[22m\u001b[0m\u001b[1mr\u001b[22m\u001b[0m\u001b[1mr\u001b[22m\u001b[0m\u001b[1mo\u001b[22m\u001b[0m\u001b[1mr\u001b[22m \u001b[0m\u001b[1me\u001b[22m\u001b[0m\u001b[1mr\u001b[22m\u001b[0m\u001b[1mr\u001b[22m\u001b[0m\u001b[1mo\u001b[22m\u001b[0m\u001b[1mr\u001b[22mmonitor \u001b[0m\u001b[1mE\u001b[22m\u001b[0m\u001b[1mr\u001b[22m\u001b[0m\u001b[1mr\u001b[22m\u001b[0m\u001b[1mo\u001b[22m\u001b[0m\u001b[1mr\u001b[22mException @\u001b[0m\u001b[1me\u001b[22m\u001b[0m\u001b[1mr\u001b[22m\u001b[0m\u001b[1mr\u001b[22m\u001b[0m\u001b[1mo\u001b[22m\u001b[0m\u001b[1mr\u001b[22m show\u001b[0m\u001b[1me\u001b[22m\u001b[0m\u001b[1mr\u001b[22m\u001b[0m\u001b[1mr\u001b[22m\u001b[0m\u001b[1mo\u001b[22m\u001b[0m\u001b[1mr\u001b[22m Load\u001b[0m\u001b[1mE\u001b[22m\u001b[0m\u001b[1mr\u001b[22m\u001b[0m\u001b[1mr\u001b[22m\u001b[0m\u001b[1mo\u001b[22m\u001b[0m\u001b[1mr\u001b[22m Init\u001b[0m\u001b[1mE\u001b[22m\u001b[0m\u001b[1mr\u001b[22m\u001b[0m\u001b[1mr\u001b[22m\u001b[0m\u001b[1mo\u001b[22m\u001b[0m\u001b[1mr\u001b[22m\n",
      "\n"
     ]
    },
    {
     "data": {
      "text/latex": [
       "\\begin{verbatim}\n",
       "error(message::AbstractString)\n",
       "\\end{verbatim}\n",
       "Raise an \\texttt{ErrorException} with the given message.\n",
       "\n",
       "\\rule{\\textwidth}{1pt}\n",
       "\\begin{verbatim}\n",
       "error(msg...)\n",
       "\\end{verbatim}\n",
       "Raise an \\texttt{ErrorException} with the given message.\n",
       "\n"
      ],
      "text/markdown": [
       "```\n",
       "error(message::AbstractString)\n",
       "```\n",
       "\n",
       "Raise an `ErrorException` with the given message.\n",
       "\n",
       "---\n",
       "\n",
       "```\n",
       "error(msg...)\n",
       "```\n",
       "\n",
       "Raise an `ErrorException` with the given message.\n"
      ],
      "text/plain": [
       "\u001b[36m  error(message::AbstractString)\u001b[39m\n",
       "\n",
       "  Raise an \u001b[36mErrorException\u001b[39m with the given message.\n",
       "\n",
       "  ────────────────────────────────────────────────────────────────────────────\n",
       "\n",
       "\u001b[36m  error(msg...)\u001b[39m\n",
       "\n",
       "  Raise an \u001b[36mErrorException\u001b[39m with the given message."
      ]
     },
     "execution_count": 4,
     "metadata": {},
     "output_type": "execute_result"
    }
   ],
   "source": [
    "?error"
   ]
  },
  {
   "cell_type": "code",
   "execution_count": 5,
   "id": "d39c9704",
   "metadata": {},
   "outputs": [
    {
     "name": "stdout",
     "output_type": "stream",
     "text": [
      "search: \u001b[0m\u001b[1ms\u001b[22m\u001b[0m\u001b[1mi\u001b[22m\u001b[0m\u001b[1mg\u001b[22m\u001b[0m\u001b[1mn\u001b[22m \u001b[0m\u001b[1ms\u001b[22m\u001b[0m\u001b[1mi\u001b[22m\u001b[0m\u001b[1mg\u001b[22m\u001b[0m\u001b[1mn\u001b[22med \u001b[0m\u001b[1mS\u001b[22m\u001b[0m\u001b[1mi\u001b[22m\u001b[0m\u001b[1mg\u001b[22m\u001b[0m\u001b[1mn\u001b[22med \u001b[0m\u001b[1ms\u001b[22m\u001b[0m\u001b[1mi\u001b[22m\u001b[0m\u001b[1mg\u001b[22m\u001b[0m\u001b[1mn\u001b[22mbit \u001b[0m\u001b[1ms\u001b[22m\u001b[0m\u001b[1mi\u001b[22m\u001b[0m\u001b[1mg\u001b[22m\u001b[0m\u001b[1mn\u001b[22mificand Un\u001b[0m\u001b[1ms\u001b[22m\u001b[0m\u001b[1mi\u001b[22m\u001b[0m\u001b[1mg\u001b[22m\u001b[0m\u001b[1mn\u001b[22med un\u001b[0m\u001b[1ms\u001b[22m\u001b[0m\u001b[1mi\u001b[22m\u001b[0m\u001b[1mg\u001b[22m\u001b[0m\u001b[1mn\u001b[22med flip\u001b[0m\u001b[1ms\u001b[22m\u001b[0m\u001b[1mi\u001b[22m\u001b[0m\u001b[1mg\u001b[22m\u001b[0m\u001b[1mn\u001b[22m\n",
      "\n"
     ]
    },
    {
     "data": {
      "text/latex": [
       "\\begin{verbatim}\n",
       "sign(x)\n",
       "\\end{verbatim}\n",
       "Return zero if \\texttt{x==0} and $x/|x|$ otherwise (i.e., ±1 for real \\texttt{x}).\n",
       "\n",
       "See also \\href{@ref}{\\texttt{signbit}}, \\href{@ref}{\\texttt{zero}}, \\href{@ref}{\\texttt{copysign}}, \\href{@ref}{\\texttt{flipsign}}.\n",
       "\n",
       "\\section{Examples}\n",
       "\\begin{verbatim}\n",
       "julia> sign(-4.0)\n",
       "-1.0\n",
       "\n",
       "julia> sign(99)\n",
       "1\n",
       "\n",
       "julia> sign(-0.0)\n",
       "-0.0\n",
       "\n",
       "julia> sign(0 + im)\n",
       "0.0 + 1.0im\n",
       "\\end{verbatim}\n"
      ],
      "text/markdown": [
       "```\n",
       "sign(x)\n",
       "```\n",
       "\n",
       "Return zero if `x==0` and $x/|x|$ otherwise (i.e., ±1 for real `x`).\n",
       "\n",
       "See also [`signbit`](@ref), [`zero`](@ref), [`copysign`](@ref), [`flipsign`](@ref).\n",
       "\n",
       "# Examples\n",
       "\n",
       "```jldoctest\n",
       "julia> sign(-4.0)\n",
       "-1.0\n",
       "\n",
       "julia> sign(99)\n",
       "1\n",
       "\n",
       "julia> sign(-0.0)\n",
       "-0.0\n",
       "\n",
       "julia> sign(0 + im)\n",
       "0.0 + 1.0im\n",
       "```\n"
      ],
      "text/plain": [
       "\u001b[36m  sign(x)\u001b[39m\n",
       "\n",
       "  Return zero if \u001b[36mx==0\u001b[39m and \u001b[35mx/|x|\u001b[39m otherwise (i.e., ±1 for real \u001b[36mx\u001b[39m).\n",
       "\n",
       "  See also \u001b[36msignbit\u001b[39m, \u001b[36mzero\u001b[39m, \u001b[36mcopysign\u001b[39m, \u001b[36mflipsign\u001b[39m.\n",
       "\n",
       "\u001b[1m  Examples\u001b[22m\n",
       "\u001b[1m  ≡≡≡≡≡≡≡≡≡≡\u001b[22m\n",
       "\n",
       "\u001b[36m  julia> sign(-4.0)\u001b[39m\n",
       "\u001b[36m  -1.0\u001b[39m\n",
       "\u001b[36m  \u001b[39m\n",
       "\u001b[36m  julia> sign(99)\u001b[39m\n",
       "\u001b[36m  1\u001b[39m\n",
       "\u001b[36m  \u001b[39m\n",
       "\u001b[36m  julia> sign(-0.0)\u001b[39m\n",
       "\u001b[36m  -0.0\u001b[39m\n",
       "\u001b[36m  \u001b[39m\n",
       "\u001b[36m  julia> sign(0 + im)\u001b[39m\n",
       "\u001b[36m  0.0 + 1.0im\u001b[39m"
      ]
     },
     "execution_count": 5,
     "metadata": {},
     "output_type": "execute_result"
    }
   ],
   "source": [
    "?sign"
   ]
  },
  {
   "cell_type": "code",
   "execution_count": 6,
   "id": "4f15fd82",
   "metadata": {},
   "outputs": [
    {
     "data": {
      "text/plain": [
       "f (generic function with 1 method)"
      ]
     },
     "execution_count": 6,
     "metadata": {},
     "output_type": "execute_result"
    }
   ],
   "source": [
    "f(x) = x^2 - 2"
   ]
  },
  {
   "cell_type": "code",
   "execution_count": 7,
   "id": "2bebbacb",
   "metadata": {},
   "outputs": [],
   "source": [
    "BiSection(f, 5, 6)"
   ]
  },
  {
   "cell_type": "code",
   "execution_count": 8,
   "id": "03e7e854",
   "metadata": {},
   "outputs": [
    {
     "data": {
      "text/plain": [
       "BiSection (generic function with 2 methods)"
      ]
     },
     "execution_count": 8,
     "metadata": {},
     "output_type": "execute_result"
    }
   ],
   "source": [
    "function BiSection(f, a, b, ϵ=1e-10)\n",
    "    if sign(f(a)) == sign(f(b))\n",
    "        error(\"Must be different signs\")\n",
    "    end\n",
    "    \n",
    "    m = a\n",
    "    while abs(b - a) > ϵ\n",
    "        m = 0.5 * (a + b)\n",
    "        if sign(f(m)) == sign(f(a))\n",
    "            (a, b) = (m, b)\n",
    "        else \n",
    "            (a, b) = (a, m)\n",
    "        end\n",
    "    end\n",
    "    \n",
    "    return m\n",
    "end "
   ]
  },
  {
   "cell_type": "code",
   "execution_count": 9,
   "id": "3776edcd",
   "metadata": {},
   "outputs": [
    {
     "data": {
      "text/plain": [
       "1.414213562373095048806139720394547953929986761067993938922882080078125"
      ]
     },
     "execution_count": 9,
     "metadata": {},
     "output_type": "execute_result"
    }
   ],
   "source": [
    "BiSection(f, big(-1.0), big(2.0), 1e-20)"
   ]
  },
  {
   "cell_type": "code",
   "execution_count": 10,
   "id": "c6878c01",
   "metadata": {},
   "outputs": [
    {
     "data": {
      "text/plain": [
       "1000"
      ]
     },
     "execution_count": 10,
     "metadata": {},
     "output_type": "execute_result"
    }
   ],
   "source": [
    "setprecision(BigFloat, 1000)"
   ]
  },
  {
   "cell_type": "code",
   "execution_count": 11,
   "id": "46a4b9fe",
   "metadata": {},
   "outputs": [
    {
     "data": {
      "text/plain": [
       "1.41421356237309504880168872420969807856967187537694807317667973799073247846210703885038753432764157267795170990300854578218647890023910068427390481676032154188358256812443168905840608224585193667954003334579866917245655143073866115489102598892879430546029609021895163691129241917762866307095017889827737"
      ]
     },
     "execution_count": 11,
     "metadata": {},
     "output_type": "execute_result"
    }
   ],
   "source": [
    "s = BiSection(f, big(-1.0), big(2.0), 1e-100)"
   ]
  },
  {
   "cell_type": "code",
   "execution_count": 13,
   "id": "52bff582",
   "metadata": {},
   "outputs": [
    {
     "data": {
      "text/plain": [
       "-5.70621363279037512427383571556116365283702166803396142895296400978030739036973938682553008453810314367637613024335137231038582008598374914297120948931492562390115326718030290316621339405570450725097122682278642629869025842781960462121906355527679988353654866560967496569760530368846833134756862129116287e-101"
      ]
     },
     "execution_count": 13,
     "metadata": {},
     "output_type": "execute_result"
    }
   ],
   "source": [
    "s - sqrt(big(2.0))"
   ]
  },
  {
   "cell_type": "code",
   "execution_count": null,
   "id": "0162f55d",
   "metadata": {},
   "outputs": [],
   "source": []
  }
 ],
 "metadata": {
  "kernelspec": {
   "display_name": "Julia 1.9.0",
   "language": "julia",
   "name": "julia-1.9"
  },
  "language_info": {
   "file_extension": ".jl",
   "mimetype": "application/julia",
   "name": "julia",
   "version": "1.9.0"
  }
 },
 "nbformat": 4,
 "nbformat_minor": 5
}
